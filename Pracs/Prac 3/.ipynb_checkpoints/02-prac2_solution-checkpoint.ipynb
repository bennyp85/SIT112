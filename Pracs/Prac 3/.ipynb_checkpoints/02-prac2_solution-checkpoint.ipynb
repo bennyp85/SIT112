{
 "cells": [
  {
   "cell_type": "markdown",
   "metadata": {},
   "source": [
    "# <span style=\"color:#0b486b\">SIT 112 - Data Science Concepts</span>\n",
    "\n",
    "---\n",
    "Lecturer: Duc Thanh Nguyen | duc.nguyen@deakin.edu.au<br />\n",
    "\n",
    "School of Information Technology, <br />\n",
    "Deakin University, VIC 3215, Australia.\n",
    "\n",
    "---"
   ]
  },
  {
   "cell_type": "markdown",
   "metadata": {},
   "source": [
    "## <span style=\"color:#0b486b\">Practical Session 2: Knowing your Data</span>\n",
    "\n",
    "**The purpose of this session is to teach you:**\n",
    "\n",
    "1. recognize different data formats, in particular: .csv, .xls, .xlsx, .json, .xml\n",
    "2. basic input/output operations\n",
    "3. how to load a specific package in python using 'import' statement\n",
    "---"
   ]
  },
  {
   "cell_type": "markdown",
   "metadata": {},
   "source": [
    "---\n",
    "## <span style=\"color:#0b486b\">1. Data file formats</span>"
   ]
  },
  {
   "cell_type": "markdown",
   "metadata": {},
   "source": [
    "In many cases the data you need to work with is stored in files. Real world data usually appears in a file of some type such as txt, csv, xml, json, or so."
   ]
  },
  {
   "cell_type": "markdown",
   "metadata": {},
   "source": [
    "### <span style=\"color:#0b486b\">1.1 TXT</span>\n",
    "A flat-file is the most simplistic way to store the data. The data appears as a list of entries that you can read one at a time. The least formatted and thereof easiest to read flat-file format is the text file format. However, a text file also treats all data as strings, so you often have to convert numeric data into other forms. The image below shows an example of some data saved in a txt file.\n",
    "\n",
    "<!-- <img src=\"files/images/txt_file_screenshot.png\" width=\"629\"> -->\n",
    "<img src=\"images/txt_file_screenshot.png\" width=\"629\">"
   ]
  },
  {
   "cell_type": "markdown",
   "metadata": {},
   "source": [
    "### <span style=\"color:#0b486b\">1.2 CSV</span>\n",
    "Comma-separated values (CSV) file type is similar to txt file type, but since the values are separated with commas, we can store tabular data in them. Each line of the file is a data record and each record consists of one or more fields, separated by commas. Sometimes instead of commas, other delimiters such as spaces or tabs are used. While these files contain tab-separated values or space-separated values,  they are usually saved with CSV extension.\n",
    "\n",
    "<!-- <img src=\"files/images/csv_file_screenshot.png\" width=\"629\"> -->\n",
    "<img src=\"images/csv_file_screenshot.png\" width=\"629\">"
   ]
  },
  {
   "cell_type": "markdown",
   "metadata": {},
   "source": [
    "### <span style=\"color:#0b486b\">1.3 XLS and XLSX</span>\n",
    "These are `Microsoft Excel` file formats to store tabular data. XLS is a binary file format and XLSX is XML based.\n",
    "\n",
    "<!-- <img src=\"files/images/xls_file_screenshot.png\" width=\"629\"> -->\n",
    "<img src=\"images/xls_file_screenshot.png\" width=\"629\">"
   ]
  },
  {
   "cell_type": "markdown",
   "metadata": {
    "collapsed": true
   },
   "source": [
    "### <span style=\"color:#0b486b\">1.4 XML</span>\n",
    "\n",
    "XML is an `Extensible Markup Language` file format that is used to create information formats and share both the format and the data using standard text. XML describes the content in terms of what data is being described. For example, the word \"phonenum\" placed within markup tags could indicate that the data that followed was a phone number. XML is considered extensible because unlike HTML, the markup tags are unlimited and self-defined. Most of the data you collects from the web is in XML or JSON format.\n",
    "\n",
    "<!-- <img src=\"files/images/xml_file_screenshot.png\" width=\"629\"> -->\n",
    "<img src=\"images/xml_file_screenshot.png\" width=\"629\">"
   ]
  },
  {
   "cell_type": "markdown",
   "metadata": {},
   "source": [
    "### <span style=\"color:#0b486b\">1.5 JSON</span>\n",
    "\n",
    "`JavaScript Object Notation` is a lightweight file format that is used for data interchanging. It uses human readable text to transmit data objects as pairs of attributes-values. It is an alternative to XML for transmitting data between a server and a web application and usually preferred to XML, since it is lighter. It was derived from JavaScript language, hence the name. But it is a language independent data format and code for parsing and generating JSON data is readily available in many languages.\n",
    "\n",
    "<!-- <img src=\"files/images/json_file_screenshot.png\" width=\"629\"> -->\n",
    "<img src=\"images/json_file_screenshot.png\" width=\"629\">"
   ]
  },
  {
   "cell_type": "markdown",
   "metadata": {},
   "source": [
    "**Exercise:**\n",
    "\n",
    "Go to http://data.gov.au and look for a dataset of your interest. Download it and browse the dataset. Can you make sense of the dataset by looking at the raw data? Think about what can you do to obtain a better insight of the dataset you have downloaded."
   ]
  },
  {
   "cell_type": "markdown",
   "metadata": {},
   "source": [
    "---\n",
    "## <span style=\"color:#0b486b\">2. Python packages</span>"
   ]
  },
  {
   "cell_type": "markdown",
   "metadata": {},
   "source": [
    "After completing [practical session 1](01-prac1.ipynb), you should know about the syntax and semantics of the Python language. But apart from that, you should also learn about Python libraries and its packages to be able to code efficiently. Python’s standard library is very extensive, offering a wide range of facilities as indicated [here](https://docs.python.org/2/library/). The library contains built-in modules (written in C) that provide access to system functionality such as file I/O that would otherwise be inaccessible to Python programmers, as well as modules written in Python that provide standardized solutions for many problems that occur in everyday programming. Look at the [Python Standard Library Manual](https://docs.python.org/2/library/) to read more.\n",
    "\n",
    "In addition to the standard library, there is a growing collection of several thousand components (from individual programs and modules to packages and entire application development frameworks), available from the [Python Package Index](https://pypi.python.org/pypi)."
   ]
  },
  {
   "cell_type": "markdown",
   "metadata": {},
   "source": [
    "### <span style=\"color:#0b486b\">2.1 Standard libraries</span>"
   ]
  },
  {
   "cell_type": "markdown",
   "metadata": {},
   "source": [
    "For a complete list of Python standard library and their documentation look at the [Python Manual.](https://docs.python.org/2/library/) A few to mention are:\n",
    "\n",
    "* ``math`` for numeric and math-related functions and data types\n",
    "* ``urllib`` for fetching data across the web\n",
    "* ``datetime`` for manipulating dates and times\n",
    "* ``pickle`` and ``cPickle`` for serializing and deserializing data structures enabling us to save our variables on the disk and load them from the disk\n",
    "* ``os`` for os dependent functions"
   ]
  },
  {
   "cell_type": "markdown",
   "metadata": {},
   "source": [
    "### <span style=\"color:#0b486b\">2.2 Third party packages</span>"
   ]
  },
  {
   "cell_type": "markdown",
   "metadata": {},
   "source": [
    "There are thousands of third party packages, each developed for a special task. Some of the useful libraries for data science are:\n",
    "\n",
    "* ``numpy`` is probably the most fundamental package for efficient scientific computing in Python\n",
    "* ``scipy`` is one of the core packages for scientific computations\n",
    "* ``pandas`` is a library for operating with table-like data structures called DataFrame object\n",
    "* ``matplotlib`` is a comprehensive plotting library\n",
    "* ``BeautifulSoup`` is an HTML and XML parser\n",
    "* ``scikit-learn`` is the most general machine learning library for Python\n",
    "* ``nltk`` is a toolkit for natural language processing"
   ]
  },
  {
   "cell_type": "markdown",
   "metadata": {},
   "source": [
    "### <span style=\"color:#0b486b\">2.3 How to install a package</span>"
   ]
  },
  {
   "cell_type": "markdown",
   "metadata": {},
   "source": [
    "The easiest way to install a package is using `conda` (if you are using Anaconda) or `pip` commands. Suppose you want to install the package `NLTK`. Either:\n",
    "    \n",
    "    > conda install nltk\n",
    "    \n",
    "or    \n",
    "    \n",
    "    > pip install nltk\n",
    "    \n",
    "    \n",
    "will install the package."
   ]
  },
  {
   "cell_type": "markdown",
   "metadata": {},
   "source": [
    "---\n",
    "## <span style=\"color:#0b486b\">3. Importing a module</span>"
   ]
  },
  {
   "cell_type": "markdown",
   "metadata": {},
   "source": [
    "To use a module, first you have to ``import`` it. There are different ways to import a module:\n",
    "\n",
    "* `import my_module`\n",
    "* `from my_module import my_function`\n",
    "* `from my_module import my_function as func`\n",
    "* `from my_module import submodule`\n",
    "* `from my_module import submodule as sub`\n",
    "* `from my_module import *`"
   ]
  },
  {
   "cell_type": "markdown",
   "metadata": {},
   "source": [
    "**`'import my_module'`** imports the module `'my_module'` and creates a reference to it in the namespace. For example `'import math'` imports the module `'math'` into the namespace. After importing the module this way, you can use the dot operator `(.)` to refer to the objects defined in the module. For example `'math.exp()'` refers to function `'exp()'` in module `'math'`."
   ]
  },
  {
   "cell_type": "code",
   "execution_count": 4,
   "metadata": {},
   "outputs": [
    {
     "name": "stdout",
     "output_type": "stream",
     "text": [
      "e^2 is 7.38905609893 and log(2) is 0.69314718056\n"
     ]
    }
   ],
   "source": [
    "import math\n",
    "\n",
    "x = 2\n",
    "y1 = math.exp(x)\n",
    "y2 = math.log(x)\n",
    "\n",
    "print \"e^{} is {} and log({}) is {}\".format(x, y1, x, y2)"
   ]
  },
  {
   "cell_type": "markdown",
   "metadata": {},
   "source": [
    "**`'from my_module import my_function'`** only imports the function `'my_function'` from the module `'my_module'` into the namespace. This way you won't have access to neither the module (since you have not imported the module), nor the other objects of the module. You can only have access to the object you have imported.\n",
    "\n",
    "You can use a comma to import multiple objects."
   ]
  },
  {
   "cell_type": "code",
   "execution_count": 5,
   "metadata": {},
   "outputs": [
    {
     "name": "stdout",
     "output_type": "stream",
     "text": [
      "e^2 is 7.38905609893\n"
     ]
    }
   ],
   "source": [
    "from math import exp\n",
    "\n",
    "x = 2\n",
    "y = exp(x)  # no need to math.exp()\n",
    "\n",
    "print \"e^{} is {}\".format(x, y)"
   ]
  },
  {
   "cell_type": "markdown",
   "metadata": {},
   "source": [
    "**`'from my_module import my_function as func'`** imports the function `'my_function'` from module `'my_module'` but its identifier in the namespace is changed into `'func'`. This syntax is used to import submodules of a module as well. For example later you will see that nowadays it is almost a convention to import matplotlib.pyplot as plt."
   ]
  },
  {
   "cell_type": "code",
   "execution_count": 6,
   "metadata": {},
   "outputs": [
    {
     "name": "stdout",
     "output_type": "stream",
     "text": [
      "e^2 is 7.38905609893\n"
     ]
    }
   ],
   "source": [
    "# you can change the name of the imported object\n",
    "from math import exp as myfun\n",
    "\n",
    "x = 2\n",
    "y = myfun(x)\n",
    "\n",
    "print \"e^{} is {}\".format(x, y)"
   ]
  },
  {
   "cell_type": "markdown",
   "metadata": {},
   "source": [
    "**`'from my_module import *'`** imports all the public objects defined in `'my_module'` into the namespace. Therefore after this statement you can simply use the plain name of the object to refer to it and there is no need to use the dot operator:"
   ]
  },
  {
   "cell_type": "code",
   "execution_count": 7,
   "metadata": {},
   "outputs": [
    {
     "name": "stdout",
     "output_type": "stream",
     "text": [
      "e^2 is 7.38905609893 and log(2) is 0.69314718056\n"
     ]
    }
   ],
   "source": [
    "from math import *\n",
    "\n",
    "x = 2\n",
    "y1 = exp(x)\n",
    "y2 = log(x)\n",
    "\n",
    "print \"e^{} is {} and log({}) is {}\".format(x, y1, x, y2)"
   ]
  },
  {
   "cell_type": "markdown",
   "metadata": {},
   "source": [
    "**Exercise1:** \n",
    "\n",
    "1. import the library `math` from standard Python libraries\n",
    "2. define a variable and assign an integer value to it (smaller than 20)\n",
    "3. use `factorial()` function (an object in `math` library) to calculate the factorial of the variable\n",
    "4. print its value"
   ]
  },
  {
   "cell_type": "code",
   "execution_count": 1,
   "metadata": {},
   "outputs": [
    {
     "name": "stdout",
     "output_type": "stream",
     "text": [
      "3628800\n"
     ]
    }
   ],
   "source": [
    "# your code here\n",
    "import math\n",
    "n = 10\n",
    "print math.factorial(n)"
   ]
  },
  {
   "cell_type": "markdown",
   "metadata": {},
   "source": [
    "**Exercise2:**\n",
    "\n",
    "1. write a function that takes an integer variable and returns its factorial\n",
    "2. use it to find the factorial of the variable defined in Exercise1\n",
    "3. do your answeres match?"
   ]
  },
  {
   "cell_type": "code",
   "execution_count": 14,
   "metadata": {},
   "outputs": [
    {
     "name": "stdout",
     "output_type": "stream",
     "text": [
      "3628800\n"
     ]
    }
   ],
   "source": [
    "# your code here\n",
    "def my_factorial(n):\n",
    "    if n==1:\n",
    "        return 1\n",
    "    else:\n",
    "        return n * my_factorial(n-1)\n",
    "    \n",
    "print my_factorial(10)"
   ]
  },
  {
   "cell_type": "markdown",
   "metadata": {},
   "source": [
    "---\n",
    "## <span style=\"color:#0b486b\">4. Python simple input/output</span>\n",
    "\n",
    "### <span style=\"color:#0b486b\">4.1 Input</span>\n",
    "\n",
    "`raw_input()` asks the user for a string of data (ended with a newline), and simply returns the string."
   ]
  },
  {
   "cell_type": "code",
   "execution_count": 2,
   "metadata": {},
   "outputs": [
    {
     "name": "stdout",
     "output_type": "stream",
     "text": [
      "What is your name? Adham\n",
      "x is of <type 'str'>\n",
      "Your name is Adham\n"
     ]
    }
   ],
   "source": [
    "x = raw_input('What is your name? ')\n",
    "\n",
    "print \"x is of {}\".format(type(x))\n",
    "print \"Your name is {}\".format(x)"
   ]
  },
  {
   "cell_type": "markdown",
   "metadata": {},
   "source": [
    "**Exercise3:**\n",
    "\n",
    "1. use `raw input()` to take a float value between -1 and 1 from the user\n",
    "2. use the function `acos()` from `math` to find the arc cosine of it\n",
    "3. print the value of the variable and its arc cosine"
   ]
  },
  {
   "cell_type": "code",
   "execution_count": 25,
   "metadata": {},
   "outputs": [
    {
     "name": "stdout",
     "output_type": "stream",
     "text": [
      "Enter a real number between -1 and 1: -1\n",
      "acos(-1) = 3.14159265359\n"
     ]
    }
   ],
   "source": [
    "# your code here\n",
    "x = raw_input('Enter a real number between -1 and 1: ')\n",
    "y = math.acos(float(x))\n",
    "print 'acos({}) = {}'.format(x,y)"
   ]
  },
  {
   "cell_type": "markdown",
   "metadata": {},
   "source": [
    "As we know the domain of [arc cosine function][acos] is [-1, 1]. So, what if the value entered by the user is not in the domain (the value is smaller than -1 or greater that 1)? What happens then? \n",
    "\n",
    "To avoid raising a ValueError exception, before passing the value to `acos()` function make sure it is in range and if not, display an appropriate message.\n",
    "\n",
    "[acos]: http://mathworld.wolfram.com/InverseCosine.html"
   ]
  },
  {
   "cell_type": "code",
   "execution_count": 26,
   "metadata": {},
   "outputs": [
    {
     "name": "stdout",
     "output_type": "stream",
     "text": [
      "Enter a real number between -1 and 1: 10\n",
      "Out of range\n"
     ]
    }
   ],
   "source": [
    "# your code here\n",
    "x = raw_input('Enter a real number between -1 and 1: ')\n",
    "x = float(x)\n",
    "if x>=-1 and x<=1:\n",
    "    y = math.acos(x)\n",
    "    print 'acos({}) = {}'.format(x,y)\n",
    "else:\n",
    "    print 'Out of range'"
   ]
  },
  {
   "cell_type": "markdown",
   "metadata": {},
   "source": [
    "### <span style=\"color:#0b486b\">4.2 output</span>"
   ]
  },
  {
   "cell_type": "markdown",
   "metadata": {},
   "source": [
    "The basic way to do output is the print statement. To print multiple things on the same line separated by spaces, use commas between them."
   ]
  },
  {
   "cell_type": "code",
   "execution_count": 27,
   "metadata": {},
   "outputs": [
    {
     "name": "stdout",
     "output_type": "stream",
     "text": [
      "Hello\n",
      "Hello John\n"
     ]
    }
   ],
   "source": [
    "name = \"John\"\n",
    "msg = \"Hello\"\n",
    "\n",
    "print msg\n",
    "print msg, name"
   ]
  },
  {
   "cell_type": "markdown",
   "metadata": {},
   "source": [
    "Objects can be printed on the same line without needing to be on the same line if one puts a comma at the end of a print statement:"
   ]
  },
  {
   "cell_type": "code",
   "execution_count": 28,
   "metadata": {},
   "outputs": [
    {
     "name": "stdout",
     "output_type": "stream",
     "text": [
      "0 1 2 3 4 5 6 7 8 9\n"
     ]
    }
   ],
   "source": [
    "for i in range(10):\n",
    "    print i,"
   ]
  },
  {
   "cell_type": "markdown",
   "metadata": {},
   "source": [
    "---\n",
    "## <span style=\"color:#0b486b\">5. datetime module</span>\n"
   ]
  },
  {
   "cell_type": "markdown",
   "metadata": {},
   "source": [
    "The datetime module includes functions and classes for date and time parsing, formatting, and arithmetic."
   ]
  },
  {
   "cell_type": "markdown",
   "metadata": {},
   "source": [
    "### <span style=\"color:#0b486b\">5.1 Time</span>\n",
    "\n",
    "Time values are represented with the time class. Times have attributes for hour, minute, second, and microsecond. They can also include time zone information."
   ]
  },
  {
   "cell_type": "code",
   "execution_count": 3,
   "metadata": {},
   "outputs": [
    {
     "name": "stdout",
     "output_type": "stream",
     "text": [
      "11:21:33\n",
      "hour  : 11\n",
      "minute: 21\n",
      "second: 33\n",
      "microsecond: 0\n",
      "tzinfo: None\n"
     ]
    }
   ],
   "source": [
    "import datetime\n",
    "\n",
    "t = datetime.time(11, 21, 33)\n",
    "print t\n",
    "print 'hour  :', t.hour\n",
    "print 'minute:', t.minute\n",
    "print 'second:', t.second\n",
    "print 'microsecond:', t.microsecond\n",
    "print 'tzinfo:', t.tzinfo"
   ]
  },
  {
   "cell_type": "markdown",
   "metadata": {},
   "source": [
    "### <span style=\"color:#0b486b\">5.2 Date</span>\n",
    "\n",
    "Calendar date values are represented with the date class. Instances have attributes for year, month, and day."
   ]
  },
  {
   "cell_type": "code",
   "execution_count": 1,
   "metadata": {},
   "outputs": [
    {
     "name": "stdout",
     "output_type": "stream",
     "text": [
      "2016-07-20\n",
      "ctime: Wed Jul 20 00:00:00 2016\n",
      "tuple: time.struct_time(tm_year=2016, tm_mon=7, tm_mday=20, tm_hour=0, tm_min=0, tm_sec=0, tm_wday=2, tm_yday=202, tm_isdst=-1)\n",
      "ordinal: 736165\n",
      "Year: 2016\n",
      "Mon : 7\n",
      "Day : 20\n"
     ]
    }
   ],
   "source": [
    "import datetime\n",
    "\n",
    "today = datetime.date.today()\n",
    "print today\n",
    "print 'ctime:', today.ctime()\n",
    "print 'tuple:', today.timetuple()\n",
    "print 'ordinal:', today.toordinal()\n",
    "print 'Year:', today.year\n",
    "print 'Mon :', today.month\n",
    "print 'Day :', today.day"
   ]
  },
  {
   "cell_type": "markdown",
   "metadata": {},
   "source": [
    "A way to create new date instances is using the `replace()` method of an existing date. For example, you can change the year, leaving the day and month alone."
   ]
  },
  {
   "cell_type": "code",
   "execution_count": 5,
   "metadata": {},
   "outputs": [
    {
     "name": "stdout",
     "output_type": "stream",
     "text": [
      "d1: 2013-03-12\n",
      "d2: 2015-03-12\n"
     ]
    }
   ],
   "source": [
    "import datetime\n",
    "\n",
    "d1 = datetime.date(2013, 3, 12)\n",
    "print 'd1:', d1\n",
    "\n",
    "d2 = d1.replace(year=2015)\n",
    "print 'd2:', d2"
   ]
  },
  {
   "cell_type": "markdown",
   "metadata": {},
   "source": [
    "**Exercise4:**\n",
    "\n",
    "1. Write a piece of code that gives you the day of the week that you were born.\n",
    "2. How about this year? Do you know what day of the week is it?"
   ]
  },
  {
   "cell_type": "code",
   "execution_count": 26,
   "metadata": {},
   "outputs": [
    {
     "name": "stdout",
     "output_type": "stream",
     "text": [
      "Today is Tuesday\n",
      "I was born on Friday\n",
      "and my birthday this year is on a Saturday\n"
     ]
    }
   ],
   "source": [
    "# your code here\n",
    "day_of_week = {0 : 'Monday',\n",
    "              1: 'Tuesday',\n",
    "              2: 'Wednesday',\n",
    "              3: 'Thursday',\n",
    "              4: 'Friday',\n",
    "              5: 'Saturday',\n",
    "              6: 'Sunday'}\n",
    "# you could also use a list to store the days o the week\n",
    "# and it would work just fine.\n",
    "# days_of_week = ['Mon', 'Tue', 'Wed', 'Thu', 'Fri', 'Sat', 'Sun']\n",
    "\n",
    "print 'Today is', day_of_week[datetime.date.today().weekday()]\n",
    "\n",
    "my_birthdate = datetime.date(1980,10,10)\n",
    "print 'I was born on', day_of_week[my_birthdate.weekday()]\n",
    "\n",
    "t2 = my_birthdate.replace(year=2015)\n",
    "print 'and my birthday this year is on a', day_of_week[t2.weekday()]\n"
   ]
  },
  {
   "cell_type": "markdown",
   "metadata": {},
   "source": [
    "### <span style=\"color:#0b486b\">5.3 timedelta</span>\n",
    "\n",
    "Using `replace()` is not the only way to calculate future/past dates. You can use datetime to perform basic arithmetic on date values via the timedelta class. "
   ]
  },
  {
   "cell_type": "code",
   "execution_count": 58,
   "metadata": {},
   "outputs": [
    {
     "name": "stdout",
     "output_type": "stream",
     "text": [
      "2015-07-30 17:30:33.309000\n",
      "2015-07-31 17:30:33.309000\n"
     ]
    }
   ],
   "source": [
    "today = datetime.datetime.today()\n",
    "print today\n",
    "\n",
    "tomorrow = today + datetime.timedelta(days=1)\n",
    "print tomorrow"
   ]
  },
  {
   "cell_type": "markdown",
   "metadata": {},
   "source": [
    "You can use comparison operators for datetime objects too. It makes sense right?"
   ]
  },
  {
   "cell_type": "code",
   "execution_count": 60,
   "metadata": {},
   "outputs": [
    {
     "data": {
      "text/plain": [
       "True"
      ]
     },
     "execution_count": 60,
     "metadata": {},
     "output_type": "execute_result"
    }
   ],
   "source": [
    "tomorrow > today"
   ]
  },
  {
   "cell_type": "markdown",
   "metadata": {},
   "source": [
    "### <span style=\"color:#0b486b\">5.4 Formatting and Parsing</span>\n",
    "\n",
    "The default string representation of a datetime object uses the ISO 8601 format (YYYY-MM-DDTHH:MM:SS.mmmmmm). Alternate formats can be generated using `strftime()`. Similarly, if your input data includes timestamp values parsable with `time.strptime()`, then `datetime.strptime()` is a convenient way to convert them to datetime instances."
   ]
  },
  {
   "cell_type": "code",
   "execution_count": 27,
   "metadata": {},
   "outputs": [
    {
     "name": "stdout",
     "output_type": "stream",
     "text": [
      "ISO     : 2015-08-04 16:53:16.072000\n"
     ]
    }
   ],
   "source": [
    "today = datetime.datetime.today()\n",
    "print 'ISO     :', today"
   ]
  },
  {
   "cell_type": "markdown",
   "metadata": {},
   "source": [
    "string from datetime object"
   ]
  },
  {
   "cell_type": "code",
   "execution_count": 28,
   "metadata": {},
   "outputs": [
    {
     "name": "stdout",
     "output_type": "stream",
     "text": [
      "strftime: Tue Aug 04 16:53:16 2015\n"
     ]
    }
   ],
   "source": [
    "str_format = \"%a %b %d %H:%M:%S %Y\"\n",
    "s = today.strftime(str_format)\n",
    "print 'strftime:', s"
   ]
  },
  {
   "cell_type": "markdown",
   "metadata": {},
   "source": [
    "datetime object from string"
   ]
  },
  {
   "cell_type": "code",
   "execution_count": 29,
   "metadata": {},
   "outputs": [
    {
     "name": "stdout",
     "output_type": "stream",
     "text": [
      "Tue Aug 04 16:53:16 2015\n",
      "2015-08-04 16:53:16\n",
      "strptime: Tue Aug 04 16:53:16 2015\n"
     ]
    }
   ],
   "source": [
    "print s\n",
    "\n",
    "d = datetime.datetime.strptime(s, str_format)\n",
    "print d\n",
    "print 'strptime:', d.strftime(str_format)"
   ]
  },
  {
   "cell_type": "code",
   "execution_count": 30,
   "metadata": {},
   "outputs": [
    {
     "name": "stdout",
     "output_type": "stream",
     "text": [
      "2015-07-30 00:00:00\n"
     ]
    }
   ],
   "source": [
    "s = \"07/30/2015\"\n",
    "str_format = \"%m/%d/%Y\"\n",
    "\n",
    "d = datetime.datetime.strptime(s, str_format)\n",
    "print d"
   ]
  },
  {
   "cell_type": "markdown",
   "metadata": {},
   "source": [
    "**Exercise6:**\n",
    "\n",
    "You have a string as \"7/30/2015 - 12:13\". How do you convert it into a datetime object?"
   ]
  },
  {
   "cell_type": "code",
   "execution_count": 31,
   "metadata": {},
   "outputs": [
    {
     "name": "stdout",
     "output_type": "stream",
     "text": [
      "2015-07-30 12:13:00\n"
     ]
    }
   ],
   "source": [
    "# your code here\n",
    "s = '7/30/2015 - 12:13'\n",
    "str_format = \"%m/%d/%Y - %H:%M\"\n",
    "t = datetime.datetime.strptime(s,str_format)\n",
    "print t"
   ]
  }
 ],
 "metadata": {
  "kernelspec": {
   "display_name": "Python 3",
   "language": "python",
   "name": "python3"
  },
  "language_info": {
   "codemirror_mode": {
    "name": "ipython",
    "version": 3
   },
   "file_extension": ".py",
   "mimetype": "text/x-python",
   "name": "python",
   "nbconvert_exporter": "python",
   "pygments_lexer": "ipython3",
   "version": "3.6.1"
  }
 },
 "nbformat": 4,
 "nbformat_minor": 1
}

{
 "cells": [
  {
   "cell_type": "markdown",
   "metadata": {},
   "source": [
    "# <span style=\"color:#0b486b\">SIT 112 - Data Science Concepts</span>\n",
    "# <span style=\"color:#0b486b\">Data Science Project</span>\n",
    "\n",
    "---\n",
    "Lecturer: Truyen Tran | truyen.tran@deakin.edu.au<br />\n",
    "\n",
    "School of Information Technology, <br />\n",
    "Deakin University, VIC 3215, Australia.\n",
    "\n",
    "### <span style=\"color:#0b486b\">Due: 5pm, 1st June 2018</span>\n",
    "---\n"
   ]
  },
  {
   "cell_type": "markdown",
   "metadata": {},
   "source": [
    "### <span style=\"color:#0b486b\">Instructions</span>\n",
    "\n",
    "This notebook has been prepared for you to complete the Data Science Project. Some sections have been pre-filled  to help you get started. **The total mark for this project is 100**.\n",
    "\n",
    "There are two parts in this notebook that require you to complete:\n",
    "\n",
    "* **Part 1**: *Linear Regression* (**50 marks**)\n",
    "* **Part 2**: *Classification* (**50 marks**)\n",
    "\n",
    "Each part includes three main components:\n",
    " * **A:** Load a dataset from sklearn and examine it.\n",
    " * **B:** Build a training model and make predictions.\n",
    " * **C:** Report the results and visualize the data.\n",
    "\n",
    "Before you start, read the entire notebook carefully to understand what you need to do. You should also refer to the main instructions in *Project_instructions.pdf*  to know what else you need to complete for this project.\n",
    "\n",
    "For each cell marked with **# YOU ARE REQUIRED TO INSERT YOUR CODES IN THIS CELL**, there will be places where you **must** supply your own codes when instructed. \n",
    "\n",
    "In the end, you must execute the entire notebook and submit two files:\n",
    "\n",
    " 1. The source of your solution notebook: **[YourID]_project_solution.ipynb**\n",
    " 2. And an exported version of your output: **[YourID]_project_output.html**\n",
    "       \n",
    "As you go through this notebook:\n",
    "\n",
    "* markdown cells marked with **Note** mean description sections.\n",
    "* markdown cells marked with **Instructions** mean the instructions given to you to complete the sections.\n",
    "\n",
    "Please proceed with the instructions for each part below to complete your programming tasks."
   ]
  },
  {
   "cell_type": "markdown",
   "metadata": {},
   "source": [
    "**Note**: The following packages will be required for this assignment. If you need to import more packages, you might append them to the end of the following cell. "
   ]
  },
  {
   "cell_type": "code",
   "execution_count": 38,
   "metadata": {
    "collapsed": true
   },
   "outputs": [],
   "source": [
    "'''\n",
    "Import packages needed for processing\n",
    "'''\n",
    "import numpy as np\n",
    "from sklearn import datasets\n",
    "import sklearn.metrics as metrics\n",
    "\n",
    "from sklearn import linear_model\n",
    "from sklearn import naive_bayes\n",
    "from sklearn.manifold import TSNE\n",
    "import matplotlib.pyplot as plt \n",
    "\n",
    "\n",
    "%matplotlib inline\n",
    "\n",
    "'''\n",
    "If you need add any additional packages, then add them below this line\n",
    "'''\n",
    "from sklearn.feature_extraction.text import CountVectorizer\n",
    "import seaborn as sns\n",
    "from sklearn.metrics import mean_absolute_error\n",
    "from sklearn.metrics import mean_squared_error\n",
    "from sklearn.naive_bayes import MultinomialNB\n",
    "from sklearn.metrics import accuracy_score\n",
    "from sklearn.metrics import precision_score\n",
    "from sklearn.metrics import recall_score\n",
    "from sklearn.metrics import f1_score\n",
    "import matplotlib.patches as mpatches"
   ]
  },
  {
   "cell_type": "markdown",
   "metadata": {},
   "source": [
    "# <span style=\"color:#0b486b\">Part 1: Linear Regression</span>\n",
    "\n",
    "In this part, you will be required to work on Linear Regression for the **diabetes** dataset from sklearn. More about the dataset can be found [here](http://scikit-learn.org/stable/modules/generated/sklearn.datasets.load_diabetes.html#sklearn.datasets.load_diabetes).\n"
   ]
  },
  {
   "cell_type": "markdown",
   "metadata": {},
   "source": [
    "## Part 1A: Load and examine the diabetes dataset"
   ]
  },
  {
   "cell_type": "markdown",
   "metadata": {},
   "source": [
    "**Instruction 1.1.** Write your code to load the **diabetes** dataset from sklearn and assign it to a variable called `diabetes`.\n",
    "\n",
    "[**Total mark: 3**]"
   ]
  },
  {
   "cell_type": "code",
   "execution_count": 2,
   "metadata": {},
   "outputs": [
    {
     "name": "stdout",
     "output_type": "stream",
     "text": [
      "dict_keys(['data', 'target'])\n"
     ]
    }
   ],
   "source": [
    "# YOU ARE REQUIRED TO INSERT YOUR CODES IN THIS CELL\n",
    "'''\n",
    "1. Write your code to load the **diabetes** dataset from sklearn \n",
    "    and assign it to a variable called `diabetes`.\n",
    "'''\n",
    "diabetes = datasets.load_diabetes()# INSERT YOUR CODE HERE\n",
    "\n",
    "print(diabetes.keys())"
   ]
  },
  {
   "cell_type": "markdown",
   "metadata": {},
   "source": [
    "**Note:** `diabetes` is a dictionary with two keys: *'data'* - a numpy 2D array containing the features and *'target'* containing the labels. The cell code below assigns the data to variable `X` and the labels to variable `Y`. Run the cell and use `X` and `Y` for later tasks."
   ]
  },
  {
   "cell_type": "code",
   "execution_count": 3,
   "metadata": {
    "collapsed": true
   },
   "outputs": [],
   "source": [
    "X = diabetes['data']\n",
    "Y = diabetes['target']"
   ]
  },
  {
   "cell_type": "markdown",
   "metadata": {},
   "source": [
    "**Instruction 1.2.** Now you need to examine the size of data. Write your code to find and print out the number of **samples** and the number of **features** in the dataset.\n",
    "\n",
    "[**Total mark: 2**]"
   ]
  },
  {
   "cell_type": "code",
   "execution_count": 4,
   "metadata": {},
   "outputs": [
    {
     "name": "stdout",
     "output_type": "stream",
     "text": [
      "The number of samples:\n",
      "442\n",
      "The number of features:\n",
      "10\n"
     ]
    }
   ],
   "source": [
    "# YOU ARE REQUIRED TO INSERT YOUR CODES IN THIS CELL\n",
    "'''\n",
    "2. Write your code to find and print out the number of **samples** \n",
    "    and the number of **features** in the dataset.\n",
    "    Using variable X.\n",
    "'''\n",
    "n_samples, n_features = diabetes.data.shape\n",
    "print('The number of samples:')\n",
    "# INSERT YOUR CODE HERE\n",
    "print(n_samples)\n",
    "\n",
    "print('The number of features:')\n",
    "# INSERT YOUR CODE HERE\n",
    "print(n_features)"
   ]
  },
  {
   "cell_type": "markdown",
   "metadata": {},
   "source": [
    "**Instruction 1.3.** We also need to get a brief understanding about the task by doing some statistics on the labels.\n",
    "\n",
    "**Your tasks are:**\n",
    "\n",
    "1. Write your code to print the **min**, **max** and **median** of the labels. (3 marks)\n",
    "2. Construct a **box-plot** for the labels. (2 marks)\n",
    "\n",
    "[**Total marks: 5**]"
   ]
  },
  {
   "cell_type": "code",
   "execution_count": 5,
   "metadata": {},
   "outputs": [
    {
     "name": "stdout",
     "output_type": "stream",
     "text": [
      "Min Label: 25.0\n",
      "Man Label: 346.0\n",
      "Median Label: 140.5\n"
     ]
    }
   ],
   "source": [
    "# YOU ARE REQUIRED TO INSERT YOUR CODES IN THIS CELL\n",
    "'''\n",
    "1. Write your code to print the min, max and median of the labels.\n",
    "    Using variable Y.\n",
    "'''\n",
    "\n",
    "# print the min, max and median for the labels Y.\n",
    "# INSERT YOUR CODE HERE\n",
    "minY = np.min(Y)\n",
    "print(\"Min Label: {}\".format(minY))\n",
    "\n",
    "maxY = np.max(Y)\n",
    "print(\"Man Label: {}\".format(maxY))\n",
    "\n",
    "medianY = np.median(Y)\n",
    "print(\"Median Label: {}\".format(medianY))"
   ]
  },
  {
   "cell_type": "code",
   "execution_count": 6,
   "metadata": {},
   "outputs": [
    {
     "data": {
      "text/plain": [
       "<matplotlib.text.Text at 0x11d8567f0>"
      ]
     },
     "execution_count": 6,
     "metadata": {},
     "output_type": "execute_result"
    },
    {
     "data": {
      "image/png": "[encoded data removed]",
      "text/plain": [
       "<matplotlib.figure.Figure at 0x11a4a7860>"
      ]
     },
     "metadata": {},
     "output_type": "display_data"
    }
   ],
   "source": [
    "# YOU ARE REQUIRED TO INSERT YOUR CODES IN THIS CELL\n",
    "'''\n",
    "2. Construct a box-plot for the labels.\n",
    "'''\n",
    "\n",
    "# construct a box-plot for the labels\n",
    "# INSERT YOUR CODE HERE\n",
    "data = (medianY, maxY, minY)\n",
    "\n",
    "fig, ax = plt.subplots(figsize=(3, 5))\n",
    "ax.boxplot(data, 0, labels=[''])\n",
    "ax.set_ylabel('Label Values', fontsize=16)\n",
    "ax.set_title('', fontsize=16)"
   ]
  },
  {
   "cell_type": "markdown",
   "metadata": {},
   "source": [
    "## Part 1B. Linear Regression\n",
    "\n",
    "You are required to apply Linear Regression to train and make predictions on the **diabetes** dataset."
   ]
  },
  {
   "cell_type": "markdown",
   "metadata": {},
   "source": [
    "**Note:** To perform a supervised learning task, we need to train the model on a training set of the input data and the correct labels, and predict the trained model on **unseen** data. Then, we use the correct labels of the **unseen** data to evaluate the performance of the model. The **unseen** dataset is called the **test set**."
   ]
  },
  {
   "cell_type": "markdown",
   "metadata": {},
   "source": [
    "**Instruction 1.4.** First you need to split the **diabetes** dataset into a training set and a test set. We will use 70% samples for training and 30% for testing. Print the number of samples in each set.\n",
    "\n",
    "[**Total marks: 5**]"
   ]
  },
  {
   "cell_type": "code",
   "execution_count": 7,
   "metadata": {},
   "outputs": [
    {
     "name": "stdout",
     "output_type": "stream",
     "text": [
      "The number of samples in the training set:\n",
      "309\n",
      "The number of samples in the test set:\n",
      "133\n"
     ]
    }
   ],
   "source": [
    "# YOU ARE REQUIRED TO INSERT YOUR CODES IN THIS CELL\n",
    "\n",
    "# first, compute the number of samples in the training set:\n",
    "n_train = int(len(Y) * 0.7)\n",
    "\n",
    "# The training set is the first n_train samples in the dataset\n",
    "X_train = X[: n_train]\n",
    "Y_train = Y[: n_train]# INSERT YOUR CODE HERE\n",
    "\n",
    "# The test set is the remaining samples in the dataset\n",
    "X_test = X[n_train:]# INSERT YOUR CODE HERE\n",
    "Y_test = Y[n_train:]# INSERT YOUR CODE HERE\n",
    "\n",
    "# Print the number of samples in the training set\n",
    "print('The number of samples in the training set:')\n",
    "# INSERT YOUR CODE HERE\n",
    "print(len(X_train))\n",
    "\n",
    "# Print the number of samples in the test set\n",
    "print('The number of samples in the test set:')\n",
    "# INSERT YOUR CODE HERE\n",
    "print(len(X_test))\n"
   ]
  },
  {
   "cell_type": "markdown",
   "metadata": {},
   "source": [
    "**Instruction 1.5.** Create a Linear Regression model called `lr`.\n",
    "\n",
    "[**Total marks: 5**]"
   ]
  },
  {
   "cell_type": "code",
   "execution_count": 8,
   "metadata": {
    "collapsed": true
   },
   "outputs": [],
   "source": [
    "# YOU ARE REQUIRED TO INSERT YOUR CODES IN THIS CELL\n",
    "\n",
    "lr = linear_model.LinearRegression()# INSERT YOUR CODE HERE"
   ]
  },
  {
   "cell_type": "markdown",
   "metadata": {},
   "source": [
    "**Instruction 1.6.** Fit the training data to the `lr` model.\n",
    "\n",
    "[**Total marks: 5**]"
   ]
  },
  {
   "cell_type": "code",
   "execution_count": 9,
   "metadata": {},
   "outputs": [
    {
     "data": {
      "text/plain": [
       "LinearRegression(copy_X=True, fit_intercept=True, n_jobs=1, normalize=False)"
      ]
     },
     "execution_count": 9,
     "metadata": {},
     "output_type": "execute_result"
    }
   ],
   "source": [
    "# YOU ARE REQUIRED TO INSERT YOUR CODES IN THIS CELL\n",
    "\n",
    "# INSERT YOUR CODE HERE\n",
    "lr.fit(X,Y)"
   ]
  },
  {
   "cell_type": "markdown",
   "metadata": {},
   "source": [
    "**Instruction 1.7** Predict the output of the test set.\n",
    "\n",
    "[**Total marks: 5**]"
   ]
  },
  {
   "cell_type": "code",
   "execution_count": 10,
   "metadata": {},
   "outputs": [
    {
     "name": "stdout",
     "output_type": "stream",
     "text": [
      "[ 138.95595037  203.86570118  172.55362727  122.95773416  213.92445645\n",
      "  174.88857841  110.07169487  198.36767241  173.24601643  162.64946177\n",
      "  193.31777358  191.53802295  284.13478714  279.30688474  216.0070265\n",
      "  210.08517801  216.22213925  157.01489819  224.06561179  189.05840605\n",
      "  103.56829281  178.70442926  111.81492124  290.99913121  182.64959461\n",
      "   79.33602602   86.33287509  249.15238929  174.51439576  122.10645431\n",
      "  146.27099383  170.6555544   183.50018707  163.36970989  157.03563376\n",
      "  144.42617093  125.30179325  177.50072942  104.57821235  132.1746674\n",
      "   95.06145678  249.9007786    86.24033937   62.00077469  156.81087903\n",
      "  192.3231713   133.85292727   93.67456315  202.49458467   52.53953733\n",
      "  174.82926235  196.9141296   118.06646574  235.3011088   165.09286707\n",
      "  160.41863314  162.37831419  254.05718804  257.23616403  197.50578991\n",
      "  184.06609359   58.62043851  194.3950396   110.77475548  142.20916765\n",
      "  128.82725506  180.12844365  211.26415225  169.59711427  164.34167693\n",
      "  136.2363478   174.50905908   74.67649224  246.29542114  114.14131338\n",
      "  111.54358708  140.02313284  109.99647408   91.37269237  163.01389345\n",
      "   75.16389857  254.05755095   53.47055785   98.48060512  100.66268306\n",
      "  258.58885744  170.67482041   61.91866052  182.3042492   171.26913027\n",
      "  189.19307553  187.18384852   87.12032949  148.37816611  251.35898288\n",
      "  199.69712357  283.63722409   50.85577124  172.14848891  204.06179478\n",
      "  174.16816194  157.93027543  150.50201654  232.9761832   121.5808709\n",
      "  164.54891787  172.67742636  226.78005938  149.46967223   99.14026374\n",
      "   80.43680779  140.15557121  191.90593837  199.27952034  153.63210613\n",
      "  171.80130949  112.11314588  162.60650576  129.8448476   258.02898298\n",
      "  100.70869427  115.87611124  122.53790409  218.17749233   60.94590955\n",
      "  131.09513588  119.48417359   52.60848094  193.01802803  101.05169913\n",
      "  121.22505534  211.8588945    53.44819015]\n"
     ]
    }
   ],
   "source": [
    "Y_pred = lr.predict(X_test)# INSERT YOUR CODE HERE\n",
    "print(Y_pred)"
   ]
  },
  {
   "cell_type": "markdown",
   "metadata": {
    "collapsed": true
   },
   "source": [
    "## Part 1C. Results and Visualization"
   ]
  },
  {
   "cell_type": "markdown",
   "metadata": {},
   "source": [
    "**Note:** To evaluate the performance of a Linear Regression model, two commonly used measures are **mean absolute error** and **root mean squared error**.\n",
    "\n",
    "**mean absolute error** is defined by:\n",
    "\n",
    "$$mean\\_absolute\\_error(Y_{test}, Y_{pred}) = \\frac{1}{n_{samples}}\\sum_{i=1}^{n_{samples}}|y_{test}^i - y_{pred}^i|$$\n",
    "\n",
    "**root mean squared error** is defined by:\n",
    "\n",
    "$$root\\_mean\\_squared\\_error(Y_{test}, Y_{pred}) = \\sqrt{\\frac{1}{n_{samples}}\\sum_{i=1}^{n_{samples}}(y_{test}^i - y_{pred}^i)^2}$$\n"
   ]
  },
  {
   "cell_type": "markdown",
   "metadata": {},
   "source": [
    "**Instruction 1.8.** Compute **mean absolute error** and **root mean squared error** between the correct labels and the predictions of the test set and print these two values.\n",
    "\n",
    "[**Total marks: 8**]\n",
    "\n",
    "**Hint:** You might need to use [Regression metrics](http://scikit-learn.org/stable/modules/model_evaluation.html#regression-metrics) from sklearn."
   ]
  },
  {
   "cell_type": "code",
   "execution_count": 11,
   "metadata": {},
   "outputs": [
    {
     "name": "stdout",
     "output_type": "stream",
     "text": [
      "Mean Absolute Error: 40.45449139747527\n",
      "Mean Squared Error: 2626.724102756806\n"
     ]
    }
   ],
   "source": [
    "# YOU ARE REQUIRED TO INSERT YOUR CODES IN THIS CELL\n",
    "\n",
    "# Compute the mean absolute error between Y_test and Y_pred\n",
    "# Then, print the value\n",
    "# INSERT YOUR CODE HERE\n",
    "mae = mean_absolute_error(Y_test, Y_pred)\n",
    "print(\"Mean Absolute Error: {}\".format(mae))\n",
    "\n",
    "# Compute the root mean squared error between Y_test and Y_pred\n",
    "# Then, print the value\n",
    "# INSERT YOUR CODE HERE\n",
    "mse = mean_squared_error(Y_test, Y_pred)\n",
    "print(\"Mean Squared Error: {}\".format(mse))"
   ]
  },
  {
   "cell_type": "markdown",
   "metadata": {},
   "source": [
    "**Note:** Visualisation is an important task. We want to see if two similar samples are predicted with two close labels. To evaluate how similar two samples are, we can compute their Euclidean distance and to evaluate how close the two labels are, we just need to compute their absolute difference.\n",
    "\n",
    "The function below returns a Euclidean distance matrix whose element (i, j) stores the Euclidean distance between X[i] and X[j]. **You will need this function for a subsequent task.**"
   ]
  },
  {
   "cell_type": "code",
   "execution_count": 12,
   "metadata": {
    "collapsed": true
   },
   "outputs": [],
   "source": [
    "def compute_euclidean_distance_matrix(X):\n",
    "    n_samples = X.shape[0]\n",
    "    \n",
    "    # initialise the distance matrix and set all value to 0\n",
    "    euclidean_distance_matrix = np.zeros([n_samples, n_samples], dtype=float)\n",
    "    \n",
    "    # compute the Euclidean distance matrix\n",
    "    for i in range(n_samples):\n",
    "        for j in range(n_samples):\n",
    "            euclidean_distance_matrix[i, j] = np.sqrt(np.sum((X[i] - X[j]) ** 2))\n",
    "            \n",
    "    return euclidean_distance_matrix"
   ]
  },
  {
   "cell_type": "markdown",
   "metadata": {},
   "source": [
    "**Instruction 1.9**. The following code segment is designed to visualise the Euclidean distances of the samples and the absolute differences of their predicted labels.\n",
    "\n",
    "**Your tasks are:**\n",
    "\n",
    "1. Construct a function that returns a matrix of absolute differences of the prediction **Y_pred** whose element (i, j) stores the absolute difference between Y_pred[i] and Y_pred[j]. (4 marks)\n",
    "\n",
    "2. Compute the absolute difference matrix for **Y_pred** and visualise the matrix. (4 marks)\n",
    "\n",
    "3. Compute the Euclidean distance matrix for **X_test** using compute_euclidean_distance_matrix() and visualise the matrix. (4 marks)\n",
    "\n",
    "[**Total mark: 12**]"
   ]
  },
  {
   "cell_type": "code",
   "execution_count": 13,
   "metadata": {
    "collapsed": true
   },
   "outputs": [],
   "source": [
    "# YOU ARE REQUIRED TO INSERT YOUR CODES IN THIS CELL\n",
    "'''\n",
    "1. Construct a function that returns a matrix of absolute difference of \n",
    "    the prediction **Y_pred** whose element (i, j) stores \n",
    "    the absolute difference between Y_pred[i] and Y_pred[j].\n",
    "'''\n",
    "def compute_abs_difference_matrix(Y):\n",
    "    # compute the absolute difference matrix\n",
    "    # and remember to return the matrix\n",
    "    # INSERT YOUR CODE HERE\n",
    "    n_samples = Y.shape[0]\n",
    "    abs_difference_matrix = np.zeros([n_samples, n_samples], dtype=float)\n",
    "    \n",
    "    for i in range(n_samples):\n",
    "        for j in range(n_samples):\n",
    "            abs_difference_matrix[i, j] = np.absolute(Y_pred[i] - Y_pred[j])\n",
    "    \n",
    "    return abs_difference_matrix"
   ]
  },
  {
   "cell_type": "code",
   "execution_count": 14,
   "metadata": {},
   "outputs": [
    {
     "data": {
      "text/plain": [
       "<matplotlib.image.AxesImage at 0x11a52d128>"
      ]
     },
     "execution_count": 14,
     "metadata": {},
     "output_type": "execute_result"
    },
    {
     "data": {
      "image/png": "[encoded data removed]",
      "text/plain": [
       "<matplotlib.figure.Figure at 0x11a52dc18>"
      ]
     },
     "metadata": {},
     "output_type": "display_data"
    }
   ],
   "source": [
    "# YOU ARE REQUIRED TO INSERT YOUR CODES IN THIS CELL\n",
    "'''\n",
    "2. Compute the absolute difference matrix for Y_pred and visualise the matrix\n",
    "Hint: You might want to use imshow function.\n",
    "'''\n",
    "\n",
    "# compute the absolute difference matrix\n",
    "abs_difference_matrix = compute_abs_difference_matrix(Y_pred)# INSERT YOUR CODE HERE\n",
    "\n",
    "# visualise the matrix\n",
    "# INSERT YOUR CODE HERE\n",
    "fig, ax = plt.subplots(figsize=(10, 5))\n",
    "ax.imshow(abs_difference_matrix)\n"
   ]
  },
  {
   "cell_type": "code",
   "execution_count": 15,
   "metadata": {},
   "outputs": [
    {
     "data": {
      "text/plain": [
       "<matplotlib.image.AxesImage at 0x11da01fd0>"
      ]
     },
     "execution_count": 15,
     "metadata": {},
     "output_type": "execute_result"
    },
    {
     "data": {
      "image/png": "[encoded data removed]",
      "text/plain": [
       "<matplotlib.figure.Figure at 0x11da016d8>"
      ]
     },
     "metadata": {},
     "output_type": "display_data"
    }
   ],
   "source": [
    "# YOU ARE REQUIRED TO INSERT YOUR CODES IN THIS CELL\n",
    "'''\n",
    "3. Compute the Euclidean distance matrix for X_test and visualise the matrix.\n",
    "Hint: You might want to use imshow function\n",
    "'''\n",
    "\n",
    "# compute the Euclidean distance matrix\n",
    "Euclidean_distance_matrix = compute_euclidean_distance_matrix(X_test)# INSERT YOUR CODE HERE\n",
    "\n",
    "# visualise the matrix\n",
    "# INSERT YOUR CODE HERE\n",
    "fig, ax = plt.subplots(figsize=(10, 5))\n",
    "ax.imshow(Euclidean_distance_matrix)\n"
   ]
  },
  {
   "cell_type": "markdown",
   "metadata": {},
   "source": [
    "# <span style=\"color:#0b486b\">Part 2: Classification</span>\n",
    "\n",
    "In this part, you will be required to apply Naive Bayes algorithm for the classification task on the **breast cancer** dataset from sklearn. More about the dataset can be found [here](http://scikit-learn.org/stable/modules/generated/sklearn.datasets.load_breast_cancer.html#sklearn.datasets.load_breast_cancer). \n",
    "\n",
    "Here, we apply Multinomial Naive Bayes for discrete features. We can construct a Multinomial Naive Bayes model by calling **naive_bayes.MultinomialNB()** from sklearn package. More about the model can be found [here](http://scikit-learn.org/stable/modules/generated/sklearn.naive_bayes.MultinomialNB.html#sklearn.naive_bayes.MultinomialNB)\n"
   ]
  },
  {
   "cell_type": "markdown",
   "metadata": {},
   "source": [
    "## Part 2A: Load and examine the dataset"
   ]
  },
  {
   "cell_type": "markdown",
   "metadata": {},
   "source": [
    "**Instruction 2.1.** Write your code to load the **breast cancer** dataset from sklearn and assign it to a variable called `cancer`.\n",
    "\n",
    "[**Total mark: 3**]"
   ]
  },
  {
   "cell_type": "code",
   "execution_count": 16,
   "metadata": {},
   "outputs": [
    {
     "name": "stdout",
     "output_type": "stream",
     "text": [
      "dict_keys(['data', 'target', 'target_names', 'DESCR', 'feature_names'])\n"
     ]
    }
   ],
   "source": [
    "# YOU ARE REQUIRED TO INSERT YOUR CODES IN THIS CELL\n",
    "'''\n",
    "1. Write your code to load the dataset from sklearn and assign it to a variable called `cancer`.\n",
    "'''\n",
    "cancer = datasets.load_breast_cancer()# INSERT YOUR CODE HERE\n",
    "\n",
    "print(cancer.keys())"
   ]
  },
  {
   "cell_type": "markdown",
   "metadata": {},
   "source": [
    "**Note:** The cell code below assigns the data to variable `X` and the labels to variable `Y`. Run the cell and use `X` and `Y` for later tasks."
   ]
  },
  {
   "cell_type": "code",
   "execution_count": 17,
   "metadata": {
    "collapsed": true
   },
   "outputs": [],
   "source": [
    "X = cancer['data']\n",
    "Y = cancer['target']"
   ]
  },
  {
   "cell_type": "markdown",
   "metadata": {},
   "source": [
    "**Instruction 2.2.** Now you need to examine the size of data. Write your code to find and print out the number of **samples** and the number of **features** in the dataset.\n",
    "\n",
    "[**Total mark: 2**]"
   ]
  },
  {
   "cell_type": "code",
   "execution_count": 18,
   "metadata": {},
   "outputs": [
    {
     "name": "stdout",
     "output_type": "stream",
     "text": [
      "The number of samples:\n",
      "569\n",
      "The number of features:\n",
      "30\n"
     ]
    }
   ],
   "source": [
    "# YOU ARE REQUIRED TO INSERT YOUR CODES IN THIS CELL\n",
    "'''\n",
    "2. Write your code to find and print out the number of **samples** \n",
    "    and the number of **features** in the dataset.\n",
    "    Using variable X.\n",
    "'''\n",
    "n_samples, n_features = cancer.data.shape\n",
    "print('The number of samples:')\n",
    "# INSERT YOUR CODE HERE\n",
    "print(n_samples)\n",
    "print('The number of features:')\n",
    "# INSERT YOUR CODE HERE\n",
    "print(n_features)"
   ]
  },
  {
   "cell_type": "markdown",
   "metadata": {},
   "source": [
    "**Instruction 2.3.** The following code segment is designed to do some statistics on the labels to get a brief understanding about the prediction task. This is a classication task, it is important to know the number of categories (or number of classes) in the dataset and their frequencies.\n",
    "\n",
    "**Your tasks are:**\n",
    "\n",
    "1. Write your code to compute and print the number of classes in the dataset. (2 marks)\n",
    "2. Write your code to compute and print the number of occurrences of each class. (3 marks)\n",
    "\n",
    "[**Total marks: 5**]"
   ]
  },
  {
   "cell_type": "code",
   "execution_count": 19,
   "metadata": {},
   "outputs": [
    {
     "name": "stdout",
     "output_type": "stream",
     "text": [
      "There are 2 classes in the Dataset\n",
      "malignant\n",
      "benign\n"
     ]
    }
   ],
   "source": [
    "# YOU ARE REQUIRED TO INSERT YOUR CODES IN THIS CELL\n",
    "'''\n",
    "1. Write your code to compute and print the number of classes in the dataset.\n",
    "    Using variable Y.\n",
    "'''\n",
    "\n",
    "# compute and print the number of classes.\n",
    "# INSERT YOUR CODE HERE\n",
    "print(\"There are {} classes in the Dataset\".format(len(cancer.target_names)))\n",
    "print(cancer.target_names[0])\n",
    "print(cancer.target_names[1])"
   ]
  },
  {
   "cell_type": "code",
   "execution_count": 20,
   "metadata": {},
   "outputs": [
    {
     "name": "stdout",
     "output_type": "stream",
     "text": [
      "There are 9 occurrences of the Malignant class\n",
      "There are 6 occurrences of the Benign class\n"
     ]
    }
   ],
   "source": [
    "# YOU ARE REQUIRED TO INSERT YOUR CODES IN THIS CELL\n",
    "'''\n",
    "2. Write your code to compute and print the number of occurrences of each class.\n",
    "'''\n",
    "\n",
    "# compute and print the number of occurrences of each class\n",
    "# INSERT YOUR CODE HERE\n",
    "\n",
    "print(\"There are {} occurrences of the Malignant class\".format(len(cancer.target_names[0])))\n",
    "print(\"There are {} occurrences of the Benign class\".format(len(cancer.target_names[1])))"
   ]
  },
  {
   "cell_type": "markdown",
   "metadata": {},
   "source": [
    "## Part 2B. Classification with Naive Bayes\n",
    "\n",
    "You are required to apply Naive Bayes to train and make predictions on the **breast cancer** dataset."
   ]
  },
  {
   "cell_type": "markdown",
   "metadata": {},
   "source": [
    "Multinomial Naive Bayes classifier is used for discrete data. The features of the breast cancer dataset are however real values. The function below discretise the features in to 0 (low), 1 (middle) and 2 (high). **Run the cell below.**"
   ]
  },
  {
   "cell_type": "code",
   "execution_count": 21,
   "metadata": {
    "collapsed": true
   },
   "outputs": [],
   "source": [
    "def discretise(X):\n",
    "    # for each feature, values smaller than 33% percentile are set by 0 (low), \n",
    "    # from 33% to 67% percentile are set by 1 (middle) and other are set by 2 (high).\n",
    "    \n",
    "    n_feats = X.shape[-1]\n",
    "    X_discrete = np.zeros(X.shape)\n",
    "    \n",
    "    for i in range(n_feats):\n",
    "        # compute val1 and val2 as the percentile of 33% and 67%, respectively of the column i\n",
    "        val1, val2 = np.percentile(X[:, i], 33), np.percentile(X[:, i], 67)   \n",
    "        \n",
    "        # increase all discrete values by 1 for all values in X that larger than val1\n",
    "        ids = np.where(X[:, i] > val1)[0]\n",
    "        X_discrete[ids, i] += 1\n",
    "        \n",
    "        # increase all discrete values by 1 for all values in X that larger than val2\n",
    "        ids = np.where(X[:, i] > val2)[0]\n",
    "        X_discrete[ids, i] += 1\n",
    "        \n",
    "    return X_discrete\n"
   ]
  },
  {
   "cell_type": "markdown",
   "metadata": {},
   "source": [
    "Then we call the discretise function for the feature X. **Run the cell below and your data are ready for classification.**"
   ]
  },
  {
   "cell_type": "code",
   "execution_count": 22,
   "metadata": {
    "collapsed": true
   },
   "outputs": [],
   "source": [
    "X = discretise(X)"
   ]
  },
  {
   "cell_type": "markdown",
   "metadata": {},
   "source": [
    "**Instruction 2.4.** Similar to **Part 1**, you need to split the dataset into a training set and a test set. We will use 70% samples for training and 30% for testing. Print the number of samples in each set.\n",
    "\n",
    "[**Total marks: 5**]"
   ]
  },
  {
   "cell_type": "code",
   "execution_count": 23,
   "metadata": {},
   "outputs": [
    {
     "name": "stdout",
     "output_type": "stream",
     "text": [
      "The number of samples in the training set:\n",
      "398\n",
      "The number of samples in the test set:\n",
      "171\n"
     ]
    }
   ],
   "source": [
    "# YOU ARE REQUIRED TO INSERT YOUR CODES IN THIS CELL\n",
    "\n",
    "# first, compute the number of samples in the training set:\n",
    "n_train = int(len(Y) * 0.7)\n",
    "\n",
    "# The training set is the first n_train samples in the dataset\n",
    "X_train = X[: n_train]# INSERT YOUR CODE HERE\n",
    "Y_train = Y[: n_train]# INSERT YOUR CODE HERE\n",
    "\n",
    "# The test set is the remaining samples in the dataset\n",
    "X_test = X[n_train:]# INSERT YOUR CODE HERE\n",
    "Y_test = Y[n_train:]# INSERT YOUR CODE HERE\n",
    "\n",
    "# Print the number of samples in the training set\n",
    "print('The number of samples in the training set:')\n",
    "# INSERT YOUR CODE HERE\n",
    "print(len(X_train))\n",
    "# Print the number of samples in the test set\n",
    "print('The number of samples in the test set:')\n",
    "# INSERT YOUR CODE HERE\n",
    "print(len(X_test))"
   ]
  },
  {
   "cell_type": "markdown",
   "metadata": {},
   "source": [
    "**Instruction 2.5.** Create a Multinomial Naive Bayes model called `mnb`.\n",
    "\n",
    "[**Total marks: 5**]"
   ]
  },
  {
   "cell_type": "code",
   "execution_count": 24,
   "metadata": {
    "collapsed": true
   },
   "outputs": [],
   "source": [
    "# YOU ARE REQUIRED TO INSERT YOUR CODES IN THIS CELL\n",
    "\n",
    "mnb = MultinomialNB()# INSERT YOUR CODE HERE"
   ]
  },
  {
   "cell_type": "markdown",
   "metadata": {},
   "source": [
    "**Instruction 2.6.** Fit the training data to the `mnb` model.\n",
    "\n",
    "[**Total marks: 5**]"
   ]
  },
  {
   "cell_type": "code",
   "execution_count": 25,
   "metadata": {},
   "outputs": [
    {
     "data": {
      "text/plain": [
       "MultinomialNB(alpha=1.0, class_prior=None, fit_prior=True)"
      ]
     },
     "execution_count": 25,
     "metadata": {},
     "output_type": "execute_result"
    }
   ],
   "source": [
    "# YOU ARE REQUIRED TO INSERT YOUR CODES IN THIS CELL\n",
    "\n",
    "# INSERT YOUR CODE HERE\n",
    "mnb.fit(X, Y)"
   ]
  },
  {
   "cell_type": "markdown",
   "metadata": {},
   "source": [
    "**Instruction 2.7** Predict the output of the test set.\n",
    "\n",
    "[**Total marks: 5**]"
   ]
  },
  {
   "cell_type": "code",
   "execution_count": 26,
   "metadata": {},
   "outputs": [
    {
     "name": "stdout",
     "output_type": "stream",
     "text": [
      "[1 1 0 1 1 0 1 1 0 1 0 1 1 1 1 0 0 1 1 0 1 1 1 1 1 0 1 1 1 1 1 0 0 1 0 0 0\n",
      " 0 1 1 1 0 1 0 0 1 0 1 0 0 0 0 1 0 1 1 0 1 1 0 0 1 0 0 0 1 0 0 0 1 0 1 1 1\n",
      " 0 1 1 0 0 0 1 0 1 0 1 0 0 1 0 0 1 0 1 0 0 1 1 0 1 0 0 0 0 1 1 0 1 1 1 1 0\n",
      " 0 1 0 0 0 0 1 0 0 1 1 1 0 1 1 1 1 0 0 1 1 1 1 0 0 1 0 1 1 1 1 1 1 0 0 1 1\n",
      " 1 1 1 1 1 1 1 1 1 1 1 1 0 1 1 1 0 0 0 0 0 0 1]\n"
     ]
    }
   ],
   "source": [
    "Y_pred = mnb.predict(X_test) # INSERT YOUR CODE HERE\n",
    "print(Y_pred)"
   ]
  },
  {
   "cell_type": "markdown",
   "metadata": {
    "collapsed": true
   },
   "source": [
    "## Part 2C. Results and Visualization"
   ]
  },
  {
   "cell_type": "markdown",
   "metadata": {},
   "source": [
    "**Note:** To evaluate the performance of a classification task, commonly used measures are **accuracy**, **precision**, **recall** and **f1-score**."
   ]
  },
  {
   "cell_type": "markdown",
   "metadata": {},
   "source": [
    "**Instruction 2.8.** Compute the **accuracy**, **precision**, **recall** and **f1-score** of the predictions on the test set and print these values.\n",
    "\n",
    "[**Total marks: 12**]\n",
    "\n",
    "**Hint:** You might need to see [Classification metrics](http://scikit-learn.org/stable/modules/model_evaluation.html#classification-metrics) from sklearn."
   ]
  },
  {
   "cell_type": "code",
   "execution_count": 27,
   "metadata": {},
   "outputs": [
    {
     "name": "stdout",
     "output_type": "stream",
     "text": [
      "The accuracy of the preditction is 0.7660818713450293\n",
      "The precision of the prediction is 0.9791666666666666\n",
      "The recall of the prediction is 0.7121212121212122\n",
      "The f1-score of the prediction is 0.8245614035087719\n"
     ]
    }
   ],
   "source": [
    "# YOU ARE REQUIRED TO INSERT YOUR CODES IN THIS CELL\n",
    "\n",
    "# Compute and print the accuracy of predictions on the test set\n",
    "# INSERT YOUR CODE HERE\n",
    "print(\"The accuracy of the preditction is {}\".format(accuracy_score(Y_test, Y_pred)))\n",
    "\n",
    "# Compute and print the precision of predictions on the test set\n",
    "# INSERT YOUR CODE HERE\n",
    "print(\"The precision of the prediction is {}\".format(precision_score(Y_test, Y_pred)))\n",
    "\n",
    "# Compute and print the recall of predictions on the test set\n",
    "# INSERT YOUR CODE HERE\n",
    "print(\"The recall of the prediction is {}\".format(recall_score(Y_test, Y_pred)))\n",
    "\n",
    "# Compute and print the f1-score of predictions on the test set\n",
    "# INSERT YOUR CODE HERE\n",
    "print(\"The f1-score of the prediction is {}\".format(f1_score(Y_test, Y_pred)))\n"
   ]
  },
  {
   "cell_type": "markdown",
   "metadata": {},
   "source": [
    "**Note:** We have evaluated the performance of the classification task by different measures. Now, we want to visualise the data as well as the predicted labels. [t-SNE](http://scikit-learn.org/stable/modules/generated/sklearn.manifold.TSNE.html) is a tool to convert high-dimensional data into low-dimensional ones. To visualise the data, we can use t-SNE to reduce the data dimension to 2D.\n",
    "\n",
    "The following function `reduce_to_2D` takes the matrix X of size (n_samples, n_features) and returns a matrix of size (n_samples, 2), which is a dimension-reduced version of X. **You will need this function for a subsequent task**."
   ]
  },
  {
   "cell_type": "code",
   "execution_count": 28,
   "metadata": {
    "collapsed": true
   },
   "outputs": [],
   "source": [
    "def reduce_to_2D(X):\n",
    "    tsne = TSNE(n_components=2, random_state=1)\n",
    "    new_X = tsne.fit_transform(X)\n",
    "    return new_X"
   ]
  },
  {
   "cell_type": "markdown",
   "metadata": {},
   "source": [
    "**Instruction 2.9**. Visualisation.\n",
    "\n",
    "**Your tasks are:**\n",
    "\n",
    "1. Create a variable named `X_test_2D` that is the dimension-reduced version of X_test using function `reduce_to_2D`. (4 marks)\n",
    "\n",
    "2. Visualise `X_test_2D` using scatter() with the colors being the corresponding predicted labels. (4 marks)\n",
    "\n",
    "\n",
    "[**Total mark: 8**]"
   ]
  },
  {
   "cell_type": "code",
   "execution_count": 29,
   "metadata": {
    "collapsed": true
   },
   "outputs": [],
   "source": [
    "# YOU ARE REQUIRED TO INSERT YOUR CODES IN THIS CELL\n",
    "'''\n",
    "1. Create a variable named `X_test_2D` \n",
    "    that is the dimension-reduced version of X_test using function `reduce_to_2D`.\n",
    "'''\n",
    "\n",
    "# INSERT YOUR CODE HERE\n",
    "X_test_2D = reduce_to_2D(X_test)\n",
    "\n"
   ]
  },
  {
   "cell_type": "code",
   "execution_count": 57,
   "metadata": {},
   "outputs": [
    {
     "data": {
      "text/plain": [
       "<matplotlib.legend.Legend at 0x11f5d9da0>"
      ]
     },
     "execution_count": 57,
     "metadata": {},
     "output_type": "execute_result"
    },
    {
     "data": {
      "image/png": "[encoded data removed]",
      "text/plain": [
       "<matplotlib.figure.Figure at 0x11f5fcd30>"
      ]
     },
     "metadata": {},
     "output_type": "display_data"
    }
   ],
   "source": [
    "# YOU ARE REQUIRED TO INSERT YOUR CODES IN THIS CELL\n",
    "'''\n",
    "2. Visualise `X_test_2D` by scatters with the colors being the corresponding predicted labels.\n",
    "'''\n",
    "\n",
    "# INSERT YOUR CODE HERE\n",
    "colour = 'red', 'blue'\n",
    "fig, ax = plt.subplots()\n",
    "ax.scatter(X_test_2D[:, 0], X_test_2D[:, 1], label='Malignant', s=50, c=colour)\n",
    "plotTitle = plt.title('Dimension Reduced Scatter Plot', fontsize = 15)\n",
    "x_axis_tick = plt.xticks([])\n",
    "y_axis_tick = plt.yticks([])\n",
    "red_patch = mpatches.Patch(color='red', label='Malignant')\n",
    "blue_patch = mpatches.Patch(color='blue', label='Benign')\n",
    "\n",
    "plt.legend(handles=[red_patch, blue_patch])"
   ]
  }
 ],
 "metadata": {
  "kernelspec": {
   "display_name": "Python 3",
   "language": "python",
   "name": "python3"
  },
  "language_info": {
   "codemirror_mode": {
    "name": "ipython",
    "version": 3
   },
   "file_extension": ".py",
   "mimetype": "text/x-python",
   "name": "python",
   "nbconvert_exporter": "python",
   "pygments_lexer": "ipython3",
   "version": "3.6.1"
  }
 },
 "nbformat": 4,
 "nbformat_minor": 1
}

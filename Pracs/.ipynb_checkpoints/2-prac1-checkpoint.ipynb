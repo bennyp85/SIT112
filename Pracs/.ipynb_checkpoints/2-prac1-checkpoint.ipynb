{
 "cells": [
  {
   "cell_type": "markdown",
   "metadata": {},
   "source": [
    "# <span style=\"color:#0b486b\">SIT 112 - Data Science Concepts</span>\n",
    "\n",
    "---\n",
    "Lecturer: Truyen Tran | truyen.tran@deakin.edu.au<br />\n",
    "Assistant: Trang Pham | phtra@deakin.edu.au<br />\n",
    "\n",
    "School of Information Technology, <br />\n",
    "Deakin University, VIC 3216, Australia.\n",
    "\n",
    "---\n",
    "\n",
    "## <span style=\"color:#0b486b\">Practical Session 1</span>\n",
    "\n",
    "**The purpose of this session is twofold:**\n",
    "\n",
    "1. to give you the instruction to install Anaconda and run Jupyter Notebooks\n",
    "2. to revise key features of Python language and allow you the time to practice basic coding in python\n",
    "\n",
    "**At the end of this practical session, you should be able to:**\n",
    "\n",
    "* know how to install Anaconda and start an Jupyter Notebook server \n",
    "* know how to create a Jupyter notebook in a web browser and execute the commands in the notebook\n",
    "* know how to use python to print out \"Hello World!\" message\n",
    "* know the basic features of python, including data types, control structure, and function declarations\n",
    "\n",
    "**Instructions** \n",
    "\n",
    "1. After you download this notebook, save it as another copy and rename it to `\"[yourstudentID]_prac1_sol.ipynb\"`\n",
    "2. As we walk through the notebook, you will be required to write your own code in the cells provided for you. Enter your own code in these cells.\n",
    "3. Although it is NOT marked, you are strongly recommended to keep these saved notebooks for your future reference.\n",
    "4. The solution notebook will be available for download within 4 days after the practical session ends.\n",
    "\n",
    "**Please note that**:\n",
    "* This unit is *not* about teaching you how to program in Python. You are responsible for developing your own programming skills. There are many excellent resources to learn python online as well as the recommended textbooks presented in the lecture. Developing skills in programming can take time, and let us remind ourselves:\n",
    "\n",
    ">\"... even though we can speak and write English, it does not necessarily mean we can write a best-selling novel\" -- Unknown.   \n",
    "    \n",
    "* You are assumed to have a basic knowledge of programming. \n",
    "* This session only recaps main features of python.\n",
    "\n",
    "---\n"
   ]
  },
  {
   "cell_type": "markdown",
   "metadata": {},
   "source": [
    "# <span style=\"color:#0b486b\">Part I: Anaconda and Installation, Jupyter Notebook</span>"
   ]
  },
  {
   "cell_type": "markdown",
   "metadata": {},
   "source": [
    "* [00-instructions notebook](00-instructions.ipynb) gives you the step by step instruction on how to install Anaconda on your machine and an introduction to Python interpreter.\n",
    "* [00-Jupyter-Notebook](00-IPython-Notebook.ipynb) gives you the step by step instructions on how to start Jupyter Notebook server and how use notebooks."
   ]
  },
  {
   "cell_type": "markdown",
   "metadata": {},
   "source": [
    "# <span style=\"color:#0b486b\">Part II: Review of Python Language</span>"
   ]
  },
  {
   "cell_type": "markdown",
   "metadata": {},
   "source": [
    "### <span style=\"color:#0b486b\">1. \"Hello World!\"</span>\n",
    "\n",
    "**Instruction: ** Select the cell below and click on the **Run** button (on the toolbar) or alternatively press **Ctrl+Enter** to execute the cell."
   ]
  },
  {
   "cell_type": "code",
   "execution_count": null,
   "metadata": {
    "collapsed": true
   },
   "outputs": [],
   "source": [
    "print(\"Hello World!!\")"
   ]
  },
  {
   "cell_type": "markdown",
   "metadata": {},
   "source": [
    "Note the difference in the syntax. Python 3.x uses a slightly different syntax from 2.x version. This course will use python 3.5.\n",
    "\n",
    "**Exercise:** Write a piece of code to print the string \"Wecome to SIT 112 Data Science Concepts\""
   ]
  },
  {
   "cell_type": "code",
   "execution_count": null,
   "metadata": {
    "collapsed": true
   },
   "outputs": [],
   "source": [
    "print(\"Welcome to SIT 112 Data Science Concepts\")"
   ]
  },
  {
   "cell_type": "markdown",
   "metadata": {},
   "source": [
    "---\n",
    "### <span style=\"color:#0b486b\">2. Commenting</span>"
   ]
  },
  {
   "cell_type": "code",
   "execution_count": null,
   "metadata": {
    "collapsed": true
   },
   "outputs": [],
   "source": [
    "# This is a one-line comment\n",
    "\n",
    "'''\n",
    "This is a \n",
    "multi-line comment\n",
    "'''\n",
    "\n",
    "\"\"\"\n",
    "This is also a\n",
    "multi-line comment\n",
    "\"\"\"\n",
    "\n",
    "print (\"Hello World!\")"
   ]
  },
  {
   "cell_type": "markdown",
   "metadata": {},
   "source": [
    "**Instruction:** Execute the cell above. What was displayed?\n",
    "\n",
    "**Exercise:** Add some comments to your \"Hello World!\" program."
   ]
  },
  {
   "cell_type": "code",
   "execution_count": null,
   "metadata": {
    "collapsed": true
   },
   "outputs": [],
   "source": [
    "# Your code here"
   ]
  },
  {
   "cell_type": "markdown",
   "metadata": {},
   "source": [
    "---\n",
    "### <span style=\"color:#0b486b\">3. Arithmetic operations</span>"
   ]
  },
  {
   "cell_type": "markdown",
   "metadata": {},
   "source": [
    "Let's work with numbers. You can try with different operators: +, -, \\*, /, // and \\*\\*. \\* is multiplication, / is division, // is interger division and \\*\\* is exponential operator.\n",
    "\n",
    "**Instruction:** Execute the cell below to see the output:"
   ]
  },
  {
   "cell_type": "code",
   "execution_count": null,
   "metadata": {
    "collapsed": true
   },
   "outputs": [],
   "source": [
    "print(3 + 1)\n",
    "print(3 + 2 * 5)\n",
    "print((3 + 2) * 5)\n",
    "print(3 / 2)\n",
    "print(3 // 2)\n",
    "print(3 ** 5)"
   ]
  },
  {
   "cell_type": "markdown",
   "metadata": {},
   "source": [
    "**Excercise:** Try out your own arithmetic operations with float numbers"
   ]
  },
  {
   "cell_type": "code",
   "execution_count": null,
   "metadata": {
    "collapsed": true
   },
   "outputs": [],
   "source": [
    "# Your code here"
   ]
  },
  {
   "cell_type": "markdown",
   "metadata": {},
   "source": [
    "---\n",
    "### <span style=\"color:#0b486b\">3. Variables and types</span>"
   ]
  },
  {
   "cell_type": "markdown",
   "metadata": {},
   "source": [
    "Variable names in Python can contain alphanumerical characters a-z, A-Z, 0-9 and some special characters such as _. Normal variable names must start with a letter.\n",
    "By convension, variable names start with a lower-case letter, and Class names start with a capital letter."
   ]
  },
  {
   "cell_type": "markdown",
   "metadata": {},
   "source": [
    "#### <span style=\"color:#0b486b\">3.1 Assignment</span>"
   ]
  },
  {
   "cell_type": "markdown",
   "metadata": {},
   "source": [
    "The assignment operator in Python is `'='`. Python is a dynamically typed language, so you do not need to specify the type of the variable while creating it.\n",
    "\n",
    "Assigning a value to a new variable creates the variable:\n",
    "\n",
    "**Instruction:** Execute the cell below to see the output. "
   ]
  },
  {
   "cell_type": "code",
   "execution_count": null,
   "metadata": {
    "collapsed": true
   },
   "outputs": [],
   "source": [
    "# variable assignment\n",
    "\n",
    "x = 10\n",
    "y = \"I am a string\"\n",
    "\n",
    "print \"x = \", x              # use a comma to print multiple statements\n",
    "print \"y = {}\".format(y)     # or use a string formatter"
   ]
  },
  {
   "cell_type": "markdown",
   "metadata": {},
   "source": [
    "Although not explicitly specified, a variable does have a type associated with it. The type is derived from the value that was assigned to it."
   ]
  },
  {
   "cell_type": "code",
   "execution_count": null,
   "metadata": {
    "collapsed": true
   },
   "outputs": [],
   "source": [
    "type(y)"
   ]
  },
  {
   "cell_type": "markdown",
   "metadata": {},
   "source": [
    "**Exercise:** Write a piece of code that declares a variable called `'my_var'` and assign the value 25 to it. Then print its value."
   ]
  },
  {
   "cell_type": "code",
   "execution_count": null,
   "metadata": {
    "collapsed": true
   },
   "outputs": [],
   "source": [
    "# Your code here"
   ]
  },
  {
   "cell_type": "markdown",
   "metadata": {},
   "source": [
    "#### <span style=\"color:#0b486b\">3.2 Fundamental types</span>"
   ]
  },
  {
   "cell_type": "code",
   "execution_count": null,
   "metadata": {
    "collapsed": true
   },
   "outputs": [],
   "source": [
    "# integers\n",
    "x = 1\n",
    "type(x)"
   ]
  },
  {
   "cell_type": "code",
   "execution_count": null,
   "metadata": {
    "collapsed": true
   },
   "outputs": [],
   "source": [
    "# float\n",
    "x = 1.0\n",
    "type(x)"
   ]
  },
  {
   "cell_type": "code",
   "execution_count": null,
   "metadata": {
    "collapsed": true
   },
   "outputs": [],
   "source": [
    "# boolean\n",
    "b1 = True\n",
    "b2 = False\n",
    "\n",
    "type(b1)"
   ]
  },
  {
   "cell_type": "code",
   "execution_count": null,
   "metadata": {
    "collapsed": true
   },
   "outputs": [],
   "source": [
    "# complex numbers: note the use of `j` to specify the imaginary part\n",
    "x = 1.0 - 1.0j\n",
    "type(x)"
   ]
  },
  {
   "cell_type": "markdown",
   "metadata": {},
   "source": [
    "**Exercise:** Write a piece of code that declares a variable called `'my_float'` and assign the value 25 to it. Then print its value and type. What is its type? What do you need to do to make it a float instead of int?"
   ]
  },
  {
   "cell_type": "code",
   "execution_count": null,
   "metadata": {
    "collapsed": true
   },
   "outputs": [],
   "source": [
    "# your code here"
   ]
  },
  {
   "cell_type": "markdown",
   "metadata": {},
   "source": [
    "---\n",
    "#### <span style=\"color:#0b486b\">3.3 Compound Types</span>"
   ]
  },
  {
   "cell_type": "markdown",
   "metadata": {},
   "source": [
    "##### 3.3.1 List"
   ]
  },
  {
   "cell_type": "markdown",
   "metadata": {},
   "source": [
    "List is the most versatile datatype available in Python which can be written as a sequence of comma-separated values (items) between square brackets. Important thing about a list is that items in a list need not be of the same type.\n",
    "\n",
    "The syntax for creating lists in Python is `my_list = [item_0, item_1, ..., item_n]`:"
   ]
  },
  {
   "cell_type": "code",
   "execution_count": null,
   "metadata": {
    "collapsed": true
   },
   "outputs": [],
   "source": [
    "l = [10, 2, 30, 4, 50, 6, 70, 8]\n",
    "print type(l)\n",
    "print l\n",
    "print len(l)"
   ]
  },
  {
   "cell_type": "markdown",
   "metadata": {},
   "source": [
    "Elements of a list do not have to be the same type."
   ]
  },
  {
   "cell_type": "code",
   "execution_count": null,
   "metadata": {
    "collapsed": true
   },
   "outputs": [],
   "source": [
    "l1 = [1, 'a', 1.0, 1-1j]\n",
    "l2 = [1, 2, [3, 4], 5]\n",
    "\n",
    "print(l1)\n",
    "print(l2)"
   ]
  },
  {
   "cell_type": "markdown",
   "metadata": {},
   "source": [
    "###### 3.3.3.1 List indexing \n",
    "\n",
    "You can index an item from a list using `[]` operator. `my_list[i]` returns the ith item of `my_list`:"
   ]
  },
  {
   "cell_type": "code",
   "execution_count": null,
   "metadata": {
    "collapsed": true
   },
   "outputs": [],
   "source": [
    "# indexing\n",
    "l = [1, 2, 3, 4, 5, 6, 7, 8]\n",
    "\n",
    "print l[0]\n",
    "print l[3]\n",
    "print l[-1]    # last element\n",
    "print l[-2]    # can you guess the result?"
   ]
  },
  {
   "cell_type": "markdown",
   "metadata": {},
   "source": [
    "**Heads up MATLAB users:** Indexing start at 0!\n",
    "\n",
    "**Exercise:** define a list with multiple items of different types. Let the last item be another list equal to `['apple', 'orange', 'banana', 'pear']`. How can you index `'banana'`? Use list indexing and print it."
   ]
  },
  {
   "cell_type": "code",
   "execution_count": null,
   "metadata": {
    "collapsed": true
   },
   "outputs": [],
   "source": [
    "# your code here"
   ]
  },
  {
   "cell_type": "markdown",
   "metadata": {},
   "source": [
    "---\n",
    "##### 3.3.2 String"
   ]
  },
  {
   "cell_type": "markdown",
   "metadata": {},
   "source": [
    "Strings are used for storing text messages. They are very similar to lists, lists of characters."
   ]
  },
  {
   "cell_type": "code",
   "execution_count": null,
   "metadata": {
    "collapsed": true
   },
   "outputs": [],
   "source": [
    "s = \"Hello world!\"\n",
    "print type(s)\n",
    "\n",
    "# length of the string: the number of characters\n",
    "print len(s)"
   ]
  },
  {
   "cell_type": "markdown",
   "metadata": {},
   "source": [
    "You can index a character in a string using `[]` similar to lists."
   ]
  },
  {
   "cell_type": "code",
   "execution_count": null,
   "metadata": {
    "collapsed": true
   },
   "outputs": [],
   "source": [
    "# indexing\n",
    "s = \"Hello world!\"\n",
    "\n",
    "print s[3]\n",
    "print s[0]"
   ]
  },
  {
   "cell_type": "markdown",
   "metadata": {},
   "source": [
    "**Exercise:** define a string with value equal to `\"Python is fun!\"`. How can you index the character `'s'`?"
   ]
  },
  {
   "cell_type": "code",
   "execution_count": null,
   "metadata": {
    "collapsed": true
   },
   "outputs": [],
   "source": [
    "# your code here"
   ]
  },
  {
   "cell_type": "markdown",
   "metadata": {},
   "source": [
    "###### 3.3.2.1 List/string slicing\n",
    "\n",
    "You can extract a part of a list/string using the syntax `[start:stop]`, which extracts characters between index `start` and `stop`."
   ]
  },
  {
   "cell_type": "code",
   "execution_count": null,
   "metadata": {
    "collapsed": true
   },
   "outputs": [],
   "source": [
    "# slicing\n",
    "l = [1, 2, 3, 4, 5, 6, 7, 8]\n",
    "s = \"This is a string.\"\n",
    "\n",
    "print l[2:5]\n",
    "print s[0:6]"
   ]
  },
  {
   "cell_type": "markdown",
   "metadata": {},
   "source": [
    "You can also define a step for slicing as in `[start:stop:step]`:"
   ]
  },
  {
   "cell_type": "code",
   "execution_count": null,
   "metadata": {
    "collapsed": true
   },
   "outputs": [],
   "source": [
    "# [start:stop:step]\n",
    "print s[2:10:1]\n",
    "print\n",
    "\n",
    "# These two are equal\n",
    "print s[0:10:2]\n",
    "print s[:10:2]"
   ]
  },
  {
   "cell_type": "markdown",
   "metadata": {},
   "source": [
    "`Slicing Step` can be a negative value as well:"
   ]
  },
  {
   "cell_type": "code",
   "execution_count": null,
   "metadata": {
    "collapsed": true
   },
   "outputs": [],
   "source": [
    "print s[10:2:-1]\n",
    "print\n",
    "\n",
    "# reversing a list or string\n",
    "print s[::-1]"
   ]
  },
  {
   "cell_type": "markdown",
   "metadata": {},
   "source": [
    "**Exercise:** define a string with value equal to `\"Python is fun!\"`. How can you print every third character of it?"
   ]
  },
  {
   "cell_type": "code",
   "execution_count": null,
   "metadata": {
    "collapsed": true
   },
   "outputs": [],
   "source": [
    "# your code here"
   ]
  },
  {
   "cell_type": "markdown",
   "metadata": {},
   "source": [
    "---\n",
    "##### 3.3.3 Tuples"
   ]
  },
  {
   "cell_type": "markdown",
   "metadata": {},
   "source": [
    "Tuples are like lists, except that they cannot be modified once created, that is they are *immutable*. \n",
    "\n",
    "In Python, tuples are created using the syntax `(..., ..., ...)`, or even `..., ...`:"
   ]
  },
  {
   "cell_type": "code",
   "execution_count": null,
   "metadata": {
    "collapsed": true
   },
   "outputs": [],
   "source": [
    "\"\"\"\n",
    "TUPLE\n",
    "A tuple is a *fixed* list. We can't change its values\n",
    "\"\"\"\n",
    "\n",
    "states = ('VIC', 'NSW', 'QLD', 'WA', 'ACT', 'NT', 'TAS', 'SA')\n",
    "print \"type of states: {}\".format(type(states))\n",
    "\n",
    "print \"Australian states\"\n",
    "for i in range(0,7):\n",
    "    print states[i]   "
   ]
  },
  {
   "cell_type": "markdown",
   "metadata": {},
   "source": [
    "**Exercise:** create a list with items as days of the week and call it `'my_list'`. Now create a tuple with items as days of the week and call it `'my_tuple'`. Alter values of `'my_list'` such that instead of Monday, you have 1. Can you do the same thing with `'my_tuple'`?"
   ]
  },
  {
   "cell_type": "code",
   "execution_count": null,
   "metadata": {
    "collapsed": true
   },
   "outputs": [],
   "source": [
    "# your code here"
   ]
  },
  {
   "cell_type": "markdown",
   "metadata": {},
   "source": [
    "---\n",
    "##### 3.3.4 Dictionaries"
   ]
  },
  {
   "cell_type": "markdown",
   "metadata": {},
   "source": [
    "Dictionaries are similar to lists, except that each element is a key-value pair. The syntax for dictionaries is `{key1 : value1, ...}`. Note that the values can be of any type, even another dictionary."
   ]
  },
  {
   "cell_type": "code",
   "execution_count": null,
   "metadata": {
    "collapsed": true
   },
   "outputs": [],
   "source": [
    "params = {\"parameter1\" : 1.0,\n",
    "          \"parameter2\" : \"a string\",\n",
    "          \"parameter3\" : [1,2,3]}\n",
    "\n",
    "print(type(params))\n",
    "print(params)"
   ]
  },
  {
   "cell_type": "markdown",
   "metadata": {},
   "source": [
    "You can access and manipulate the values of a dictionary using its keys."
   ]
  },
  {
   "cell_type": "code",
   "execution_count": null,
   "metadata": {
    "collapsed": true
   },
   "outputs": [],
   "source": [
    "my_dictionary = {\"a\":2, \n",
    "                 \"python\": \"a programming language\",\n",
    "                 \"phone\": \"a communication device\"}\n",
    "\n",
    "# access value of a dictionary dictionary['key']\n",
    "print \"python is\", my_dictionary[\"python\"]\n",
    "print \"phone is\", my_dictionary[\"phone\"]\n",
    "\n",
    "# remove an element\n",
    "del my_dictionary[\"phone\"]\n",
    "print my_dictionary\n",
    "\n",
    "# clear the dictionary\n",
    "my_dictionary.clear()\n",
    "print my_dictionary"
   ]
  },
  {
   "cell_type": "markdown",
   "metadata": {},
   "source": [
    "**Exercise:** create a dictionary called `'my_dict'` with keys `'first_name, last_name, age, favorite_singer'` and fill the values. Now alter the value of `'favorite_singer'` and change it to `'Justin Bieber'`! \n",
    "\n",
    "Can you add a key `'seriously'` and fill the value with a boolean?"
   ]
  },
  {
   "cell_type": "code",
   "execution_count": null,
   "metadata": {
    "collapsed": true
   },
   "outputs": [],
   "source": [
    "# your code here"
   ]
  },
  {
   "cell_type": "markdown",
   "metadata": {},
   "source": [
    "---\n",
    "### <span style=\"color:#0b486b\">4. Operators</span>"
   ]
  },
  {
   "cell_type": "markdown",
   "metadata": {},
   "source": [
    "#### <span style=\"color:#0b486b\">4.1 Arithmetic operators</span>"
   ]
  },
  {
   "cell_type": "markdown",
   "metadata": {},
   "source": [
    "* addition:         x + y\n",
    "* subtraction:      x - y\n",
    "* multiplication:   x*y\n",
    "* division:         x/y\n",
    "* floor division:   x//y  (round the answer to the near integer)\n",
    "* modulus:          x%y   (remainder of x divided by y)\n",
    "* exponent:         x**y  (raise x to the power of y)\n",
    "\n",
    "**Exercise**: use the cell below to enter at least one example for each operator. Write a comment before the example to explain which operator you are entering."
   ]
  },
  {
   "cell_type": "code",
   "execution_count": null,
   "metadata": {
    "collapsed": true
   },
   "outputs": [],
   "source": [
    "x = 23\n",
    "y = 4\n",
    "print 'x + y = ', x+y\n",
    "print 'x - y = ', x-y\n",
    "print 'x * y = ', x*y"
   ]
  },
  {
   "cell_type": "markdown",
   "metadata": {},
   "source": [
    "The result of division of two integers in Python is an integer number by default. Thus \n",
    "    \n",
    "    In: print 7/4\n",
    "        1\n",
    "\n",
    "If you want the result to be 1.75 you should use floats instead of integers. So you can recast the variables into float. Even recasting one of them is enough to tell Python to use the float division:\n",
    "\n",
    "    In: print float(7) / 4\n",
    "        1.75\n",
    "        \n",
    "    In: print (7+0.0)/4\n",
    "        1.75\n",
    "        \n",
    "Or you could:\n",
    "    \n",
    "    import division from __future__ library\n",
    "\n",
    "at the beginning to tell Python you want all divisions to be float divisions."
   ]
  },
  {
   "cell_type": "code",
   "execution_count": null,
   "metadata": {
    "collapsed": true
   },
   "outputs": [],
   "source": [
    "\"\"\"\n",
    "python default division for integers is integer division.\n",
    "# to perform a float division on integer variables, we have \n",
    "import division from __future__ library\n",
    "\"\"\"\n",
    "print 'x / y = ', x/y\n",
    "from __future__ import division\n",
    "print 'x / y = ', x/y\n",
    "print "
   ]
  },
  {
   "cell_type": "code",
   "execution_count": null,
   "metadata": {
    "collapsed": true
   },
   "outputs": [],
   "source": [
    "print 'x // y = ', x//y\n",
    "print 'x % y = ', x%y\n",
    "print 'x ^ y = ', x**y"
   ]
  },
  {
   "cell_type": "markdown",
   "metadata": {},
   "source": [
    "**Exercise:** use the cell below to practice arithmetic operations."
   ]
  },
  {
   "cell_type": "code",
   "execution_count": null,
   "metadata": {
    "collapsed": true
   },
   "outputs": [],
   "source": [
    "# your code here"
   ]
  },
  {
   "cell_type": "markdown",
   "metadata": {},
   "source": [
    "---\n",
    "#### <span style=\"color:#0b486b\">4.2 Boolean operators</span>\n",
    "The boolean operators are spelled out as words `and`, `not`, `or`. "
   ]
  },
  {
   "cell_type": "code",
   "execution_count": null,
   "metadata": {
    "collapsed": true
   },
   "outputs": [],
   "source": [
    "True and False"
   ]
  },
  {
   "cell_type": "code",
   "execution_count": null,
   "metadata": {
    "collapsed": true
   },
   "outputs": [],
   "source": [
    "not False"
   ]
  },
  {
   "cell_type": "code",
   "execution_count": null,
   "metadata": {
    "collapsed": true
   },
   "outputs": [],
   "source": [
    "True or False"
   ]
  },
  {
   "cell_type": "markdown",
   "metadata": {},
   "source": [
    "---\n",
    "#### <span style=\"color:#0b486b\">4.3 Comparison operators</span>\n",
    "Comparison operators >, <, >= (greater or equal), <= (less or equal), == equality, and is identical"
   ]
  },
  {
   "cell_type": "code",
   "execution_count": null,
   "metadata": {
    "collapsed": true
   },
   "outputs": [],
   "source": [
    "2 > 1, 2 < 1"
   ]
  },
  {
   "cell_type": "code",
   "execution_count": null,
   "metadata": {
    "collapsed": true
   },
   "outputs": [],
   "source": [
    "2 > 2, 2 < 2"
   ]
  },
  {
   "cell_type": "code",
   "execution_count": null,
   "metadata": {
    "collapsed": true
   },
   "outputs": [],
   "source": [
    "2 >= 2, 2 <= 2"
   ]
  },
  {
   "cell_type": "code",
   "execution_count": null,
   "metadata": {
    "collapsed": true
   },
   "outputs": [],
   "source": [
    "# equality\n",
    "[1,2] == [1,2]"
   ]
  },
  {
   "cell_type": "code",
   "execution_count": null,
   "metadata": {
    "collapsed": true
   },
   "outputs": [],
   "source": [
    "# objects identical?\n",
    "l1 = [1, 2]\n",
    "l2 = [1, 2]\n",
    "print l1 is l2, l1==l2\n",
    "\n",
    "l1 = l2 = [1,2]\n",
    "print l1 is l2, l1==l2"
   ]
  },
  {
   "cell_type": "markdown",
   "metadata": {},
   "source": [
    "**Exercise:** create a list and fill it with multiples of 3 from 1 to 10. Use comparison operators to see whether the second element of the list divisible by 2? "
   ]
  },
  {
   "cell_type": "code",
   "execution_count": null,
   "metadata": {
    "collapsed": true
   },
   "outputs": [],
   "source": [
    "# your code here"
   ]
  },
  {
   "cell_type": "markdown",
   "metadata": {},
   "source": [
    "---\n",
    "### <span style=\"color:#0b486b\">5 Control flow</span>"
   ]
  },
  {
   "cell_type": "markdown",
   "metadata": {},
   "source": [
    "#### <span style=\"color:#0b486b\">5.1 Conditional statements: if, elif, else</span>"
   ]
  },
  {
   "cell_type": "markdown",
   "metadata": {},
   "source": [
    "The Python syntax for conditional execution of code use the keywords `if`, `elif` (else if), `else`. Python code blocks are defined by their indentation level."
   ]
  },
  {
   "cell_type": "code",
   "execution_count": null,
   "metadata": {
    "collapsed": true
   },
   "outputs": [],
   "source": [
    "statement1 = False\n",
    "statement2 = False\n",
    "\n",
    "if statement1:\n",
    "    print \"statement1 is True\"\n",
    "    \n",
    "elif statement2:\n",
    "    print \"statement2 is True\"\n",
    "    \n",
    "else:\n",
    "    print \"statement1 and statement2 are False\""
   ]
  },
  {
   "cell_type": "code",
   "execution_count": null,
   "metadata": {
    "collapsed": true
   },
   "outputs": [],
   "source": [
    "# nothing happens\n",
    "statement1 = False \n",
    "\n",
    "if statement1:\n",
    "    print \"printed if statement1 is True\"\n",
    "    \n",
    "    print \"still inside the if block\""
   ]
  },
  {
   "cell_type": "code",
   "execution_count": null,
   "metadata": {
    "collapsed": true
   },
   "outputs": [],
   "source": [
    "if statement1:\n",
    "    print \"printed if statement1 is True\"\n",
    "    \n",
    "print \"now outside the if block\""
   ]
  },
  {
   "cell_type": "markdown",
   "metadata": {},
   "source": [
    "---\n",
    "### <span style=\"color:#0b486b\">6. Loops</span>"
   ]
  },
  {
   "cell_type": "markdown",
   "metadata": {},
   "source": [
    "In Python, loops can be programmed in a number of different ways. The most common is the `'for'` loop, which is used together with iterable objects like lists."
   ]
  },
  {
   "cell_type": "markdown",
   "metadata": {},
   "source": [
    "#### <span style=\"color:#0b486b\">6.1 For loops</span>"
   ]
  },
  {
   "cell_type": "markdown",
   "metadata": {},
   "source": [
    "The `for` loop has the ability to iterate over the items of any sequence, such as a list or a string."
   ]
  },
  {
   "cell_type": "code",
   "execution_count": null,
   "metadata": {
    "collapsed": true
   },
   "outputs": [],
   "source": [
    "l = [1, 2, 3, 4, 5]\n",
    "for item in l:\n",
    "    print item"
   ]
  },
  {
   "cell_type": "code",
   "execution_count": null,
   "metadata": {
    "collapsed": true
   },
   "outputs": [],
   "source": [
    "for x in range(4): # by default range start at 0\n",
    "    print x"
   ]
  },
  {
   "cell_type": "code",
   "execution_count": null,
   "metadata": {
    "collapsed": true
   },
   "outputs": [],
   "source": [
    "course = [\"an\", \"introduction\", \"to\", \"data\", \"science\"]\n",
    "for word in course:\n",
    "    print word"
   ]
  },
  {
   "cell_type": "code",
   "execution_count": null,
   "metadata": {
    "collapsed": true
   },
   "outputs": [],
   "source": [
    "# use enumerate to access a list items and their indices\n",
    "\n",
    "course = [\"an\", \"introduction\", \"to\", \"data\", \"science\"]\n",
    "for idx, x in enumerate(course):\n",
    "    print idx, x"
   ]
  },
  {
   "cell_type": "markdown",
   "metadata": {},
   "source": [
    "#### <span style=\"color:#0b486b\">6.2 List comprehension</span>\n",
    "A convenient and compact way to initialize lists:"
   ]
  },
  {
   "cell_type": "code",
   "execution_count": null,
   "metadata": {
    "collapsed": true
   },
   "outputs": [],
   "source": [
    "l1 = [x**2 for x in range(2, 6)]\n",
    "\n",
    "print l1 "
   ]
  },
  {
   "cell_type": "markdown",
   "metadata": {},
   "source": [
    "#### <span style=\"color:#0b486b\">6.3 While loops</span>"
   ]
  },
  {
   "cell_type": "code",
   "execution_count": null,
   "metadata": {
    "collapsed": true
   },
   "outputs": [],
   "source": [
    "i = 0\n",
    "\n",
    "while i < 5:\n",
    "    print i, \n",
    "    \n",
    "    i += 1\n",
    "    \n",
    "print \"done\""
   ]
  },
  {
   "cell_type": "markdown",
   "metadata": {},
   "source": [
    "Note that the `print(\"done\")` statement is a not part of the `while` loop body because of the difference in indentation."
   ]
  },
  {
   "cell_type": "markdown",
   "metadata": {},
   "source": [
    "**Exercise:** Create a alist and fill it with integers from 1 to 50. Now iterate over items of the list and if the item is divisible by 3 and not divisible by 2, print it on the screen."
   ]
  },
  {
   "cell_type": "code",
   "execution_count": null,
   "metadata": {
    "collapsed": true
   },
   "outputs": [],
   "source": [
    "# your code here"
   ]
  },
  {
   "cell_type": "markdown",
   "metadata": {},
   "source": [
    "---\n",
    "### <span style=\"color:#0b486b\">7. Functions</span>"
   ]
  },
  {
   "cell_type": "markdown",
   "metadata": {},
   "source": [
    "A function in Python is defined using the keyword `def`, followed by a function name, a signature within parentheses `()`, and a colon `:`. The following code, **with one additional level of indentation**, is the function body. It is recommended to use \"docstring\" for your functions."
   ]
  },
  {
   "cell_type": "code",
   "execution_count": null,
   "metadata": {
    "collapsed": true
   },
   "outputs": [],
   "source": [
    "def func1(s):\n",
    "    \"\"\"\n",
    "    THIS BIT IS CALLED DOCSTRING\n",
    "    Print a string 's' and tell how many characters it has    \n",
    "    \"\"\"\n",
    "    \n",
    "    print s + \" has \" + str(len(s)) + \" characters\""
   ]
  },
  {
   "cell_type": "code",
   "execution_count": null,
   "metadata": {
    "collapsed": true
   },
   "outputs": [],
   "source": [
    "func1(\"test\")"
   ]
  },
  {
   "cell_type": "markdown",
   "metadata": {},
   "source": [
    "Use the ``return`` keyword for functions that return a value. A function can also return multiple values using tuples."
   ]
  },
  {
   "cell_type": "code",
   "execution_count": null,
   "metadata": {
    "collapsed": true
   },
   "outputs": [],
   "source": [
    "def powers(x):\n",
    "    \"\"\"\n",
    "    Return a few powers of x.\n",
    "    \"\"\"\n",
    "    return x**2, x**3, x**4"
   ]
  },
  {
   "cell_type": "code",
   "execution_count": null,
   "metadata": {
    "collapsed": true
   },
   "outputs": [],
   "source": [
    "print powers(3)\n",
    "\n",
    "x1, x2, x3 = powers(3)\n",
    "print x2"
   ]
  },
  {
   "cell_type": "markdown",
   "metadata": {},
   "source": [
    "**Exercise:** \n",
    "\n",
    "1. Write a function that takes a list of numbers and prints elements of it that are divisible by 3 and not divisible by 2.\n",
    "3. Create a a list and fill it with integers from 1 to 50. Use the function you have written in the previous step to print out items of the list that are divisible by 3 and not divisible by 2."
   ]
  },
  {
   "cell_type": "code",
   "execution_count": null,
   "metadata": {
    "collapsed": true
   },
   "outputs": [],
   "source": [
    "# your code here"
   ]
  },
  {
   "cell_type": "markdown",
   "metadata": {},
   "source": [
    "### <span style=\"color:#0b486b\">7.1 Anonymous functions</span>"
   ]
  },
  {
   "cell_type": "markdown",
   "metadata": {},
   "source": [
    "Anonymous functions are defined by the keyword `'lambda'` in Python. Functions `'f'` and `'g'` in the cell below basically do the same thing but `'g'` is an anonymous function."
   ]
  },
  {
   "cell_type": "code",
   "execution_count": null,
   "metadata": {
    "collapsed": true
   },
   "outputs": [],
   "source": [
    "def f(x):\n",
    "    return x**2\n",
    "\n",
    "g = lambda x: x**2\n",
    "\n",
    "print f(8), g(8)"
   ]
  },
  {
   "cell_type": "markdown",
   "metadata": {},
   "source": [
    "Note how we used anonymous functions in the cell below to create the parametric function 'n_increment()'. Now We create new functions by passing 'n' to 'n_incremenet()'. For example 'f5' and 'f9' are functions that add 5 and 9 to their inputs respectively."
   ]
  },
  {
   "cell_type": "code",
   "execution_count": null,
   "metadata": {
    "collapsed": true
   },
   "outputs": [],
   "source": [
    "def n_increment(n): \n",
    "    return lambda x: x+n\n",
    "\n",
    "f5 = n_increment(5)\n",
    "f9 = n_increment(9)\n",
    "\n",
    "print f5(2), f9(2)"
   ]
  }
 ],
 "metadata": {
  "kernelspec": {
   "display_name": "Python 3",
   "language": "python",
   "name": "python3"
  },
  "language_info": {
   "codemirror_mode": {
    "name": "ipython",
    "version": 3
   },
   "file_extension": ".py",
   "mimetype": "text/x-python",
   "name": "python",
   "nbconvert_exporter": "python",
   "pygments_lexer": "ipython3",
   "version": "3.5.2"
  }
 },
 "nbformat": 4,
 "nbformat_minor": 1
}

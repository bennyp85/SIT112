{
 "cells": [
  {
   "cell_type": "markdown",
   "metadata": {},
   "source": [
    "# <span style=\"color:#0b486b\">SIT 112 - Data Science Concepts</span>\n",
    "\n",
    "---\n",
    "Lecturer: Truyen Tran | truyen.tran@deakin.edu.au<br />\n",
    "\n",
    "\n",
    "School of Information Technology, <br />\n",
    "Deakin University, VIC 3215, Australia.\n",
    "\n",
    "---"
   ]
  },
  {
   "cell_type": "markdown",
   "metadata": {},
   "source": [
    "## <span style=\"color:#0b486b\">Practical Session : Twitter API</span>\n",
    "\n",
    "**The purpose of this session is to teach you:**\n",
    "\n",
    "1. How to use Twitter API\n",
    "2. Distances\n",
    "3. Term-by-Document matrix\n"
   ]
  },
  {
   "cell_type": "markdown",
   "metadata": {},
   "source": [
    "---\n",
    "## <span style=\"color:#0b486b\">1. Twitter API</span>\n",
    "\n",
    "To work with Twitter API, we use a package called `TwitterAPI`. You can install it by executing the cell below if you don't have it on your machine."
   ]
  },
  {
   "cell_type": "code",
   "execution_count": 5,
   "metadata": {},
   "outputs": [
    {
     "name": "stdout",
     "output_type": "stream",
     "text": [
      "Requirement already satisfied: TwitterAPI in /Users/ben/anaconda/lib/python3.6/site-packages\n",
      "Requirement already satisfied: requests-oauthlib in /Users/ben/anaconda/lib/python3.6/site-packages (from TwitterAPI)\n",
      "Requirement already satisfied: requests in /Users/ben/anaconda/lib/python3.6/site-packages (from TwitterAPI)\n",
      "Requirement already satisfied: oauthlib>=0.6.2 in /Users/ben/anaconda/lib/python3.6/site-packages (from requests-oauthlib->TwitterAPI)\n",
      "\u001b[33mYou are using pip version 9.0.1, however version 10.0.0 is available.\n",
      "You should consider upgrading via the 'pip install --upgrade pip' command.\u001b[0m\n"
     ]
    }
   ],
   "source": [
    "!pip install TwitterAPI"
   ]
  },
  {
   "cell_type": "markdown",
   "metadata": {},
   "source": [
    "To be able to collect data from the Twitter API you need an Access token and secret. For now we have provided you with them, but to obtain yours you can go to https://apps.twitter.com/, click on 'Create New App', fill the form and then click on 'Create your Twitter Application'."
   ]
  },
  {
   "cell_type": "code",
   "execution_count": 6,
   "metadata": {
    "collapsed": true
   },
   "outputs": [],
   "source": [
    "from TwitterAPI import TwitterAPI\n",
    "\n",
    "CONSUMER_KEY = \"HLnOFAqRgkrJaaqMoy41a0nxj\"\n",
    "CONSUMER_SECRET = \"tz4GKwFn9dsqYv6Mnl9mzctSqV5LeOVGhAuvr1KW0c2LpLuprZ\"\n",
    "OAUTH_TOKEN = \"763929928219766784-AjLCTTzhDWx87EJxHpfeC7IPvFnQB1t\"\n",
    "OAUTH_TOKEN_SECRET = \"MTJThLdK6SkVzqnHEGvja2yUhIDSCZ8XCfNzjDTUgiXAu\"\n",
    "\n",
    "# Authonticating with your application credentials\n",
    "api = TwitterAPI(CONSUMER_KEY,\n",
    "                 CONSUMER_SECRET,\n",
    "                 OAUTH_TOKEN,\n",
    "                 OAUTH_TOKEN_SECRET)"
   ]
  },
  {
   "cell_type": "markdown",
   "metadata": {},
   "source": [
    "Now we have access to API. For a complete reference on what the API offers look at the [Twitter API documentation](https://dev.twitter.com/overview/api). For example we can [search for tweets](https://dev.twitter.com/rest/reference/get/search/tweets) that contain a specific keyword or collect tweets from the Twitter stream. Twitter responses are in JSON format which we can easily parse into Python dictionary object.\n",
    "\n",
    "### <span style=\"color:#0b486b\">1.1 Search Tweets</span>\n",
    "\n",
    "You can query Twitter with a keyword:"
   ]
  },
  {
   "cell_type": "code",
   "execution_count": 7,
   "metadata": {
    "collapsed": true
   },
   "outputs": [],
   "source": [
    "resp = api.request('search/tweets', {'q':'pizza'})"
   ]
  },
  {
   "cell_type": "code",
   "execution_count": 8,
   "metadata": {},
   "outputs": [
    {
     "data": {
      "text/plain": [
       "<TwitterAPI.TwitterAPI.TwitterResponse at 0x10a6a3cf8>"
      ]
     },
     "execution_count": 8,
     "metadata": {},
     "output_type": "execute_result"
    }
   ],
   "source": [
    "resp"
   ]
  },
  {
   "cell_type": "markdown",
   "metadata": {},
   "source": [
    "Iterate over the reponse to print the Twitter message:"
   ]
  },
  {
   "cell_type": "code",
   "execution_count": 9,
   "metadata": {
    "scrolled": true
   },
   "outputs": [
    {
     "name": "stdout",
     "output_type": "stream",
     "text": [
      "RT @souidhiota: vontade de ficar em casa hj a noite c uma companhia p assistir um netflix e pedir pizza\n",
      "RT @souidhiota: vontade de ficar em casa hj a noite c uma companhia p assistir um netflix e pedir pizza\n",
      "Ontem a gnt tava escolhendo os sabores de pizza ai a Dani falou: \"tem a gaúcha, vcs gostam?\" \n",
      "Ai eu disse: \"td que… https://t.co/QSLCuduV3N\n",
      "Vou destruir essa pizza já já 🍕🍕😍\n",
      "RT @souidhiota: vontade de ficar em casa hj a noite c uma companhia p assistir um netflix e pedir pizza\n",
      "RT @misstamerica30: Totally debated not ordering pizza because then I’d have to put on a bra and brush my hair.\n",
      "RT @krassenstein: BOYCOTT SEAN HANNITY ADVERTISERS.  \n",
      "\n",
      "Updated List after 2 removals!\n",
      "\n",
      "AT&amp;T\n",
      "Cigna\n",
      "ExxonMobil\n",
      "Geico\n",
      "IBM\n",
      "Jenny Craig\n",
      "Jos A Ba…\n",
      "RT @israelcs7: Quiero pizza y te quiero a ti.\n",
      "RT @TuiterPreguntas: —¿Quieres pizza, amor?\n",
      "—No, quiero un beso tuyo.\n",
      "—Ah bueno, más pizza para mí.\n",
      "Pedir uma pizza,Ficar com a família em casa sábado a noite compensa mais que qualquer balada, manoooo!!!\n",
      "😍😍😍\n",
      "RT @o5doc: 미야자키옹...오늘도 당신의 말씀을 가슴에 새깁니다ㅠㅠ.. https://t.co/TV4D9xdSIq\n",
      "Minha mãe agitou a pizza\n",
      "Pops a bunch of confetti over @TipsForTheThot and has balloons along the inside of the pizza place. He’s very happy… https://t.co/1iZyt2c1cH\n",
      "El fin de fiesta de mis 15 fueron tacos mexicanos, fue hace 3 años. Ustedes siguen poniendo pizza y cerveza todavía, que originales sonnn\n",
      "Ill take a Hawaiian... because pineapple belongs on pizza https://t.co/rPOeLb3BsW\n"
     ]
    }
   ],
   "source": [
    "for r in resp:\n",
    "    print(r['text'])"
   ]
  },
  {
   "cell_type": "markdown",
   "metadata": {},
   "source": [
    "**Exercise 1:**\n",
    "\n",
    "1. Select a keyword and crawl some tweets from Twitter containing that keyword and then print them.\n",
    "2. Crawl 100 tweets containing this keyword and print them. Maybe you want to check Twitter API documentation first."
   ]
  },
  {
   "cell_type": "code",
   "execution_count": 10,
   "metadata": {},
   "outputs": [
    {
     "name": "stdout",
     "output_type": "stream",
     "text": [
      "0 RT @mkraju: On the day the political world comes together to mourn a former First Lady, Trump falsely says he doesn’t speak to @maggieNYT a…\n",
      "1 Should the @Mets let @ynscspds play a round of golf to help him with his slump? #LGM #Mets \n",
      "\n",
      "Vote &amp; RT\n",
      "2 RT @BettyBowers: TODAY'S PRESIDENTS' SCHEDULES:\n",
      "\n",
      "Barack Obama: Barbara Bush's Funeral.\n",
      "\n",
      "George W. Bush: Barbara Bush's Funeral. \n",
      "\n",
      "Bill Clin…\n",
      "3 RT @TransySports: MEN'S GOLF: Jack Berger sits in third place on the individual leaderboard after round 1 of the Defiance Invitational! @Tr…\n",
      "4 RT @AGerberBaby: So it just dawned on me today as I was walking a golf course...My beautiful wife has now met Barbara Bush. How awesome is…\n",
      "5 @pherbert3 K we get it your prof pic is you at a golf course. YOU'RE SICK\n",
      "6 RT @bungdan: The Fox selective outrage machine ranted for days when Obama skipped Nancy Reagan's funeral to deliver a long-planned speech.…\n",
      "7 RT @pbump: We're inured to it, but the president publicly calling someone a drugged-up loser while heading to the golf course he owns as pa…\n",
      "8 Outrage from GOP over presidential golf outings are not on par https://t.co/nxIYJo11Bb via @yahoo\n",
      "9 “Well, Olaf...I lost but I only hit one person.” -Alexa confiding in her friend after mini golf\n",
      "10 Moriya Jutanugarn et Jin Young Ko en tête à Los Angeles https://t.co/K0jnmay67Q\n",
      "11 RT @BettyBowers: TODAY'S PRESIDENTS' SCHEDULES:\n",
      "\n",
      "Barack Obama: Barbara Bush's Funeral.\n",
      "\n",
      "George W. Bush: Barbara Bush's Funeral. \n",
      "\n",
      "Bill Clin…\n",
      "12 RT @BettyBowers: TODAY'S PRESIDENTS' SCHEDULES:\n",
      "\n",
      "Barack Obama: Barbara Bush's Funeral.\n",
      "\n",
      "George W. Bush: Barbara Bush's Funeral. \n",
      "\n",
      "Bill Clin…\n",
      "13 惚れ惚れする(洗車終わった) https://t.co/Lrsgyir05c\n",
      "14 RT @alliewen21: NEVER FORGET that not a single Republican member of Congress suggested cutting Trump's $3 million golf trips before cutting…\n",
      "15 RT @TeaPainUSA: FUN FACT: @realDonaldTrump is the only American President to play golf durin’ Barbara Bush’s funeral.\n",
      "16 RT @mmpadellan: Barack Obama\n",
      "George W. Bush\n",
      "Bill Clinton\n",
      "George H. W. Bush\n",
      "\n",
      "4 former Presidents will attend the #BarbaraBushFuneral.\n",
      "\n",
      "trump…\n",
      "17 RT @alliewen21: NEVER FORGET that not a single Republican member of Congress suggested cutting Trump's $3 million golf trips before cutting…\n",
      "18 EWAL TURNS 26 BIRTHDAY .\n",
      "Tarikh : 21/4/2018\n",
      "Time : 2 ptg hingga 6 ptg\n",
      "Lokasi : Monterez Golf &amp;… https://t.co/TkFw5kwBIk\n",
      "19 RT @mkraju: On the day the political world comes together to mourn a former First Lady, Trump falsely says he doesn’t speak to @maggieNYT a…\n",
      "20 RT @TeaPainUSA: FUN FACT: @realDonaldTrump is the only American President to play golf durin’ Barbara Bush’s funeral.\n",
      "21 RT @pbump: We're inured to it, but the president publicly calling someone a drugged-up loser while heading to the golf course he owns as pa…\n",
      "22 RT @FCGrizMGolf: Griz golf had rough day on the course today. Team shoots 306 and sit in 10th place. Individual scores are 76,76,77,77,78.…\n",
      "23 RT @NinaHarrelsonTV: The president skipped out on Barbara Bush's services today. Instead, he's playing golf for the 109th time since being…\n",
      "24 RT @andylassner: Hey @POTUS -\n",
      "\n",
      "How’s golf? https://t.co/fah0ik6cK0\n",
      "25 RT @BettyBowers: TODAY'S PRESIDENTS' SCHEDULES:\n",
      "\n",
      "Barack Obama: Barbara Bush's Funeral.\n",
      "\n",
      "George W. Bush: Barbara Bush's Funeral. \n",
      "\n",
      "Bill Clin…\n",
      "26 RT @mjfree: So I’m clear, @realDonaldTrump gaslighted a reputable reporter while en route to his golf course while past presidents paid res…\n",
      "27 RT @alliewen21: NEVER FORGET that not a single Republican member of Congress suggested cutting Trump's $3 million golf trips before cutting…\n",
      "28 RT @NinaHarrelsonTV: The president skipped out on Barbara Bush's services today. Instead, he's playing golf for the 109th time since being…\n",
      "29 RT @Pajjr2016: Trump went golfing during Barbara Bush's funeral -- here's just how much golf he's played compared to Obama https://t.co/FIc…\n",
      "30 RT @HelenKennedy: Ivana Trump says she pities Melania for being cheated on “because I know how bad I did feel. It hurts a lot.”\n",
      "She notes p…\n",
      "31 RT @elkpga: golf lives inside of these players.. as it does me... it's a passion https://t.co/FAfO4KzZ7C\n",
      "32 RT @NinaHarrelsonTV: The president skipped out on Barbara Bush's services today. Instead, he's playing golf for the 109th time since being…\n",
      "33 RT @mjfree: So I’m clear, @realDonaldTrump gaslighted a reputable reporter while en route to his golf course while past presidents paid res…\n",
      "34 RT @EdKrassen: Just a reminder to all of you people who criticized Obama for golfing too much.  Trump is spending his 109th day at a Trump…\n",
      "35 RT @mkraju: Trump, who is skipping Barbara Bush’s funeral today, arrives at his Florida golf club this morning - the 109th time he has spen…\n",
      "36 RT @TeriannMann: #IThinkICouldGetAwayWith playing golf 5 days a week, watching Fox News and Tweeting, no one will notice https://t.co/iueIW…\n",
      "37 RT @mkraju: Trump, who is skipping Barbara Bush’s funeral today, arrives at his Florida golf club this morning - the 109th time he has spen…\n",
      "38 RT @EagleValleyGC: ⛳️WEEK OF FREE GOLF CONTEST🏌🏻‍♂️\n",
      "\n",
      "Want a chance to win a WEEK OF FREE GOLF!? \n",
      "\n",
      "RT &amp; follow to be entered into the drawin…\n",
      "39 RT @BettyBowers: TODAY'S PRESIDENTS' SCHEDULES:\n",
      "\n",
      "Barack Obama: Barbara Bush's Funeral.\n",
      "\n",
      "George W. Bush: Barbara Bush's Funeral. \n",
      "\n",
      "Bill Clin…\n",
      "40 RT @HelenKennedy: Ivana Trump says she pities Melania for being cheated on “because I know how bad I did feel. It hurts a lot.”\n",
      "She notes p…\n",
      "41 RT @stealthygeek: As Barbara Bush is being laid to rest, Michelle and Barack Obama, and Hillary and Bill Clinton are in attendance.\n",
      "\n",
      "Donald…\n",
      "42 石川遼、スコア２つ伸ばし２アンダーで前半折り返し…パナソニックオープン最終日（スポーツ報知） https://t.co/ku2KUIh6bq\n",
      "43 RT @activist360: \"Moron of Mar-a-Lago\", Donald Trump went golfing during Barbara Bush’s funeral — here’s just how much golf the laziest pre…\n",
      "44 RT @mjfree: So I’m clear, @realDonaldTrump gaslighted a reputable reporter while en route to his golf course while past presidents paid res…\n",
      "45 RT @DonnaNoble10th: This is the “quality” and “class” of the awful person in OUR WH\n",
      "\n",
      "A former First Lady is being laid to rest, there are m…\n",
      "46 RT @EdKrassen: Just a reminder to all of you people who criticized Obama for golfing too much.  Trump is spending his 109th day at a Trump…\n",
      "47 Trump went golfing during Barbara Bush's funeral -- here's just how much golf he's played compared to Obama https://t.co/FIc45Sew6B\n",
      "48 RT @pbump: We're inured to it, but the president publicly calling someone a drugged-up loser while heading to the golf course he owns as pa…\n",
      "49 Get your Hyde Park Golf Course season pass now https://t.co/YR8evR7cUw\n",
      "50 RT @alliewen21: NEVER FORGET that not a single Republican member of Congress suggested cutting Trump's $3 million golf trips before cutting…\n",
      "51 RT @realDonaldTrump: Prime Minister @AbeShinzo of Japan and myself this morning building an even deeper and better relationship while playi…\n",
      "52 RT @sniktawhpesoj: This guy has no clue how to enjoy a Saturday morning on the golf course. Chill out bro, I’m sure you have nothing to wor…\n",
      "53 RT @bungdan: The Fox selective outrage machine ranted for days when Obama skipped Nancy Reagan's funeral to deliver a long-planned speech.…\n",
      "54 RT @MattOswaltVA: imagine NOT attending the funeral of a former first lady and instead playing golf being hailed as one of the most compass…\n",
      "55 🐎 🐎 amandaclark423 @ Guyan Golf and Country Club https://t.co/tDBnCxdNIA\n",
      "56 RT @EdKrassen: Just a reminder to all of you people who criticized Obama for golfing too much.  Trump is spending his 109th day at a Trump…\n",
      "57 @realDonaldTrump To play golf and waste more of our tax money\n",
      "58 RT @BettyBowers: TODAY'S PRESIDENTS' SCHEDULES:\n",
      "\n",
      "Barack Obama: Barbara Bush's Funeral.\n",
      "\n",
      "George W. Bush: Barbara Bush's Funeral. \n",
      "\n",
      "Bill Clin…\n",
      "59 RT @BettyBowers: TODAY'S PRESIDENTS' SCHEDULES:\n",
      "\n",
      "Barack Obama: Barbara Bush's Funeral.\n",
      "\n",
      "George W. Bush: Barbara Bush's Funeral. \n",
      "\n",
      "Bill Clin…\n",
      "60 RT @mkraju: On the day the political world comes together to mourn a former First Lady, Trump falsely says he doesn’t speak to @maggieNYT a…\n",
      "61 RT @cfisk22460: @realDonaldTrump @WhiteHouse No today your thoughts are \"Thank God they don't want me There. More Golf for Me. Oh and McDon…\n",
      "62 @waltshaub I think of it as trump's FL dacha where he goes to cheat at golf on the taxpayer's dime and hang with his oligarch comrades.\n",
      "63 RT @EdKrassen: Just a reminder to all of you people who criticized Obama for golfing too much.  Trump is spending his 109th day at a Trump…\n",
      "64 RT @EdKrassen: Just a reminder to all of you people who criticized Obama for golfing too much.  Trump is spending his 109th day at a Trump…\n",
      "65 RT @EdKrassen: Just a reminder to all of you people who criticized Obama for golfing too much.  Trump is spending his 109th day at a Trump…\n",
      "66 RT @mjfree: So I’m clear, @realDonaldTrump gaslighted a reputable reporter while en route to his golf course while past presidents paid res…\n",
      "67 @BVanScoyk @calvin_golf You think my fat ass was walking anywhere once I’m by the clubhouse?\n",
      "68 RT @TeaPainUSA: FUN FACT: @realDonaldTrump is the only American President to play golf durin’ Barbara Bush’s funeral.\n",
      "69 RT @pbump: We're inured to it, but the president publicly calling someone a drugged-up loser while heading to the golf course he owns as pa…\n",
      "70 There’s a lot of golf douches in here.\n",
      "71 RT @NinaHarrelsonTV: The president skipped out on Barbara Bush's services today. Instead, he's playing golf for the 109th time since being…\n",
      "72 RT @pbump: Trump has visited one of his own properties an average of every 3.1 days as president. He’s played golfed every 5.1 days. He’s v…\n",
      "73 RT @TeaPainUSA: FUN FACT: @realDonaldTrump is the only American President to play golf durin’ Barbara Bush’s funeral.\n",
      "74 RT @NinaHarrelsonTV: The president skipped out on Barbara Bush's services today. Instead, he's playing golf for the 109th time since being…\n",
      "75 RT @TeaPainUSA: FUN FACT: @realDonaldTrump is the only American President to play golf durin’ Barbara Bush’s funeral.\n",
      "76 Narrator voice: “His thoughts and prayers were not, in fact, with the entire Bush family; they were on the golf cou… https://t.co/cwKJSYWnTK\n",
      "77 RT @pbump: We're inured to it, but the president publicly calling someone a drugged-up loser while heading to the golf course he owns as pa…\n",
      "78 RT @pbump: Trump has visited one of his own properties an average of every 3.1 days as president. He’s played golfed every 5.1 days. He’s v…\n",
      "79 RT @MSNBC: \"I just want to stay in the White House and work my ass off.\"\n",
      "\n",
      "- Donald Trump (in 2016)\n",
      "\n",
      "https://t.co/wQW64s83zO\n",
      "80 RT @DannyZuker: .@realdonaldtrump So thoughtful! Have a great round of golf! https://t.co/E3mvIumrqK\n",
      "81 RT @mjfree: So I’m clear, @realDonaldTrump gaslighted a reputable reporter while en route to his golf course while past presidents paid res…\n",
      "82 RT @RVAwonk: Ivana Trump said she doesn't think Donald Trump should run for president again. She also said \"Putin is the toughest guy in th…\n",
      "83 RT @EdKrassen: Just a reminder to all of you people who criticized Obama for golfing too much.  Trump is spending his 109th day at a Trump…\n",
      "84 Brand New Converse Golf Wang One Star Size 9 $135 https://t.co/sJxvrAvGms\n",
      "85 RT @MSNBC: \"I just want to stay in the White House and work my ass off.\"\n",
      "\n",
      "- Donald Trump (in 2016)\n",
      "\n",
      "https://t.co/wQW64s83zO\n",
      "86 RT @pbump: We're inured to it, but the president publicly calling someone a drugged-up loser while heading to the golf course he owns as pa…\n",
      "87 RT @RocksGolf: @andrewlgolfer with the School record for Westfield Rocks golf with 63.  This young man is as good of a teammate and person…\n",
      "88 RT @Julesitter: Mueller should look at Trump’s 2014 purchase of Golf Course in Aberdeen Scotland. Trump bought it in CASH from Dubai gov—we…\n",
      "89 @realDonaldTrump The Southern White House = your private golf resort. Please don’t kid us. We know what you’re doing 🏌️\n",
      "90 RT @pbump: We're inured to it, but the president publicly calling someone a drugged-up loser while heading to the golf course he owns as pa…\n",
      "91 RT @pbump: We're inured to it, but the president publicly calling someone a drugged-up loser while heading to the golf course he owns as pa…\n",
      "92 RT @funder: Why the hell is @realDonaldTrump at Mar-a-Lago right now? He’s wasting millions of taxpayer dollars so he can golf, slurp on do…\n",
      "93 RT @N2shopinRose: @realDonaldTrump The Bush Family doesn’t want you there. It’s not about you!! I’m sure you are playing golf today at Mar…\n",
      "94 playing golf nude free hardcore tranny allintitle: short teens porn skinny www galery hot womens turke com  https://t.co/roTsnCNEEN\n",
      "95 RT @ConciergegolfIE: Playing his 2nd shot to the 4th hole at Old Head Golf Links #irelandgolf #bunkergear #irishgolftours #irishgolfvacatio…\n",
      "96 RT @NinaHarrelsonTV: The president skipped out on Barbara Bush's services today. Instead, he's playing golf for the 109th time since being…\n",
      "97 RT @mjfree: So I’m clear, @realDonaldTrump gaslighted a reputable reporter while en route to his golf course while past presidents paid res…\n",
      "98 @kanzentaicell Golf...?\n",
      "99 You stop pressing offensively and you're going to find yourself firmly planted in golf season.\n"
     ]
    }
   ],
   "source": [
    "# your code here\n",
    "my_resp1 = api.request('search/tweets', {'q': 'golf',\n",
    "                                    'count': '100'})\n",
    "\n",
    "for i, tweet in enumerate(my_resp1):\n",
    "    print(i, tweet['text'])"
   ]
  },
  {
   "cell_type": "markdown",
   "metadata": {},
   "source": [
    "There are other parameters that you can set to restrict the response. For example the language of the tweets, or geographical location."
   ]
  },
  {
   "cell_type": "code",
   "execution_count": 11,
   "metadata": {},
   "outputs": [
    {
     "name": "stdout",
     "output_type": "stream",
     "text": [
      "RT @MaveBHM: BLACK HOUSE MUSIC BABYYY! Only way is up https://t.co/lgRjSalz5C\n",
      "RT @BBCNews: Can you live in a plastic bottle house? https://t.co/PQNl7Dl3ae\n",
      "RT @Ruthlessisback: Do you want me throw a grenade into your house? https://t.co/4ifEcHENKe\n",
      "House Of Pain - \"Jump Around\" (Official Music Video) @nhlboston https://t.co/oGLofMJCkV\n",
      "RT @dezeen: Reader comment: \"Okay, this would get my \"Best Home\" award for the past year\" https://t.co/PLcW16rGcu\n",
      "RT @historylvrsclub: аn elderly Chinese couple refused to sign an agreement allowing their house to be demolished for a new road https://t.…\n",
      "RT @PrincePartyUK: When the #Prince DJ also plays piano! @TheDreZone in the house! #PrinceParty! #Prince4Ever #Prince2Me #PrinceDay #Prince…\n",
      "RT @historylvrsclub: аn elderly Chinese couple refused to sign an agreement allowing their house to be demolished for a new road https://t.…\n",
      "RT @2010LeeHurst: To summarise... The unelected House of Lords takes action on behalf of the unelected EU against the democratic vote of th…\n",
      "This 3d-printed house aims to end homelessness. could it work? https://t.co/iID5eW8qy5\n",
      "Explore More music &amp; Audio like #Soulmusic #OldSkool #StudioVibesTurnedUp #Garage #House #Reggaeton jungle Vibes… https://t.co/nKaJZRueKr\n",
      "RT @BBCNews: Can you live in a plastic bottle house? https://t.co/PQNl7Dl3ae\n",
      "RT @historylvrsclub: аn elderly Chinese couple refused to sign an agreement allowing their house to be demolished for a new road https://t.…\n",
      "RT @BBCNews: Can you live in a plastic bottle house? https://t.co/PQNl7Dl3ae\n",
      "RT @macewhu69: Anthony Joshua leaving Amir Khan's  house when he realises he might be home quicker than expected https://t.co/MGjrBcu2p3\n",
      "House of Fraser brings in advisers for restructuring plan https://t.co/BXrurX4mYB #London #RealEstate #Property https://t.co/lxjVMWvtK4\n",
      "RT @chrisinsilico: I have accepted invitations to testify next week at the US House Intelligence Committee and House Judiciary Committee. D…\n",
      "RT @2010LeeHurst: To summarise... The unelected House of Lords takes action on behalf of the unelected EU against the democratic vote of th…\n",
      "RT @horatio_cary: Countdown to the end of house Windsor https://t.co/IrR9989Fax\n",
      "RT @historylvrsclub: аn elderly Chinese couple refused to sign an agreement allowing their house to be demolished for a new road https://t.…\n",
      "RT @chrisinsilico: I have accepted invitations to testify next week at the US House Intelligence Committee and House Judiciary Committee. D…\n",
      "RT @HopeAnimation: Looks like the \"Strawinsky and the mysterious house \" animation has actually gone viral on YouTube over the last few day…\n",
      "RT @historylvrsclub: аn elderly Chinese couple refused to sign an agreement allowing their house to be demolished for a new road https://t.…\n",
      "#HOUSEHEADS CHECK OUT #NUGROOVIN U WON'T BE DISAPPOINTED! #LATEST SHOWS #ECLECTIC #SOULFUL #FUNKY HOUSE https://t.co/vjefhnxRjb\n",
      "Fuck you, dick head. It’s a resort that we pay for. It’s not the fucking annex White House. https://t.co/Fu8QuwRfnt\n",
      "RT @eddus: @Becca_DP Oh gawd I bet. It’s congealing like house paint. 🤢\n",
      "RT @danllywelynhall: ‘The Last Canadian Dambuster - In Youth’ unveiled in Rocky Mountain House tonight by the man himself 75 years after th…\n",
      "RT @historylvrsclub: аn elderly Chinese couple refused to sign an agreement allowing their house to be demolished for a new road https://t.…\n",
      "RT @historylvrsclub: аn elderly Chinese couple refused to sign an agreement allowing their house to be demolished for a new road https://t.…\n",
      "RT @Ruthlessisback: Do you want me throw a grenade into your house? https://t.co/4ifEcHENKe\n",
      "RT @BBCBusiness: Can you live in a plastic bottle house? https://t.co/G67C97xGMF\n",
      "RT @AbbeyLodge945: Brethren of Abbey Lodge 945 and St Edmund Lodge no 6451 please remember to attend Abbey Lodge of Instruction 945 on Tues…\n",
      "RT @TICcareers: The Ivy Tower Bridge, conveniently located on the riverside with views of the iconic Tower Bridge and the Tower of London,…\n",
      "RT @historylvrsclub: аn elderly Chinese couple refused to sign an agreement allowing their house to be demolished for a new road https://t.…\n",
      "RT @historylvrsclub: аn elderly Chinese couple refused to sign an agreement allowing their house to be demolished for a new road https://t.…\n",
      "RT @chrisinsilico: I have accepted invitations to testify next week at the US House Intelligence Committee and House Judiciary Committee. D…\n",
      "RT @PickleandPoppet: Looking for a secret getaway? https://t.co/EdM7iYtF77 @CloudHouseHols #YurtHoliday #YurtLife #Wanderlust #TravelBlogge…\n",
      "RT @HarrisJOfficial: It’s mad I haven’t even stepped out my house yet, but can already feel the hey fever creeping!\n",
      "Countdown to the end of house Windsor https://t.co/IrR9989Fax\n",
      "RT @UpsnDownsUK: Deadline to contribute is 14th June2014. The Committee’s new inquiry is intended to review the impact 2014 SEND reforms ar…\n",
      "Looking for a secret getaway? https://t.co/EdM7iYtF77 @CloudHouseHols #YurtHoliday #YurtLife #Wanderlust #TravelBlogger #PBlogger #MBlogger\n",
      "RT @Ruthlessisback: Do you want me throw a grenade into your house? https://t.co/4ifEcHENKe\n",
      "RT @zii_london: 'Get rid of it!' MASSIVE 96% of Express readers want House of Lords ABOLISHED 100% THE COUNTRY WANT THE MONEY SPENT ON EDUC…\n",
      "RT @BBCNews: Can you live in a plastic bottle house? https://t.co/PQNl7Dl3ae\n",
      "If you’re student and need accommodation or just looking to leave your parents house, got two rooms available. One… https://t.co/UPfdeo2SUa\n",
      "RT @historylvrsclub: аn elderly Chinese couple refused to sign an agreement allowing their house to be demolished for a new road https://t.…\n",
      "RT @BBCNews: Can you live in a plastic bottle house? https://t.co/PQNl7Dl3ae\n",
      "LIKE SOULFUL HOUSE ? Join Team Nugroovin' Friday 4pm - 6pm on https://t.co/g7DPfR5HK4 #SoulfulHouse - In The Mix #WSFR\n",
      "RT @macewhu69: Anthony Joshua leaving Amir Khan's  house when he realises he might be home quicker than expected https://t.co/MGjrBcu2p3\n",
      "RT @dezeen: Ghent house by Atelier Vens Vanbelle features arching spaces extruded into new white volume https://t.co/nTs8t0Bl3k https://t.c…\n",
      "RT @BBCNews: Can you live in a plastic bottle house? https://t.co/PQNl7Dl3ae\n",
      "RT @2010LeeHurst: To summarise... The unelected House of Lords takes action on behalf of the unelected EU against the democratic vote of th…\n",
      "RT @historylvrsclub: аn elderly Chinese couple refused to sign an agreement allowing their house to be demolished for a new road https://t.…\n",
      "RT @BBCNews: Can you live in a plastic bottle house? https://t.co/PQNl7Dl3ae\n",
      "RT @guardian: John Bercow, the Speaker of the House of Commons, tells off foreign secretary Boris Johnson for using 'inappropriate and sexi…\n",
      "RT @historylvrsclub: аn elderly Chinese couple refused to sign an agreement allowing their house to be demolished for a new road https://t.…\n",
      "Can you live in a plastic bottle house? https://t.co/EcYZEbpMHl\n",
      "RT @historylvrsclub: аn elderly Chinese couple refused to sign an agreement allowing their house to be demolished for a new road https://t.…\n",
      "RT @historylvrsclub: аn elderly Chinese couple refused to sign an agreement allowing their house to be demolished for a new road https://t.…\n",
      "RT @historylvrsclub: аn elderly Chinese couple refused to sign an agreement allowing their house to be demolished for a new road https://t.…\n",
      "RT @Lordlionelltd: Our latest blog entry showcases sliding door options for the home including pocket doors, Bifold doors and others \n",
      "https…\n",
      "RT @JRRDunlop: The house was silent, but I could feel the pressure building in the air. Then I saw it, first a shadow, then it took form an…\n",
      "RT @chrisinsilico: I have accepted invitations to testify next week at the US House Intelligence Committee and House Judiciary Committee. D…\n",
      "RT @chrisinsilico: I have accepted invitations to testify next week at the US House Intelligence Committee and House Judiciary Committee. D…\n",
      "RT @chrisinsilico: I have accepted invitations to testify next week at the US House Intelligence Committee and House Judiciary Committee. D…\n",
      "RT @macewhu69: Anthony Joshua leaving Amir Khan's  house when he realises he might be home quicker than expected https://t.co/MGjrBcu2p3\n",
      "@Furioustrainer I'm in my house, it's fine.\n",
      "As long as I'm sheltered.\n",
      "RT @ArtPicsChannel: Small House at River in Chartres (1902) by Henri le Sidaner https://t.co/yRam29ZzHT\n",
      "RT @knightfrank: Magnificent 7 bedroom #house for sale in #London benefiting from a west-facing rear garden and incredible views over #Rege…\n",
      "Bet every girl in the house would be slim and fit this year #eid2018\n",
      "RT @BBCNews: Can you live in a plastic bottle house? https://t.co/PQNl7Dl3ae\n",
      "RT @historylvrsclub: аn elderly Chinese couple refused to sign an agreement allowing their house to be demolished for a new road https://t.…\n",
      "RT @DrMarcusP: Here is my speech at the House of Lords, in which I discussed the current tension between the #US and #Russia: https://t.co/…\n",
      "RT @Ruthlessisback: Do you want me throw a grenade into your house? https://t.co/4ifEcHENKe\n",
      "RT @historylvrsclub: аn elderly Chinese couple refused to sign an agreement allowing their house to be demolished for a new road https://t.…\n",
      "RT @MariaBoedeker: Castle House Island,  Ireland https://t.co/5P16ylvaJx\n",
      "RT @knightfrank: Magnificent 7 bedroom #house for sale in #London benefiting from a west-facing rear garden and incredible views over #Rege…\n",
      "The Pentecostal Credit Union – Shaping Lives, Making a Difference BBCBusiness: Can you live in a plastic bottle hou… https://t.co/tWX670aJUJ\n",
      "RT @historylvrsclub: аn elderly Chinese couple refused to sign an agreement allowing their house to be demolished for a new road https://t.…\n",
      "RT @historylvrsclub: аn elderly Chinese couple refused to sign an agreement allowing their house to be demolished for a new road https://t.…\n",
      "RT @StephenLees4: I can understand the reasons for this petition, but I'm not signing it. The House of Lords should not be abolished, but p…\n",
      "RT @BBCNews: Can you live in a plastic bottle house? https://t.co/PQNl7Dl3ae\n",
      "RT @BBCBusiness: Can you live in a plastic bottle house? https://t.co/G67C97xGMF\n",
      "You know you are getting old when you go to a house party and the only intense eye contact you have is with a cat,… https://t.co/YjANOYcuLE\n",
      "RT @BBCNews: Can you live in a plastic bottle house? https://t.co/PQNl7Dl3ae\n",
      "RT @MariaBoedeker: Castle House Island,  Ireland https://t.co/5P16ylvaJx\n",
      "whole house, there was a feeling of awe at something important that was [20448/52163]\n",
      "RT @JRRDunlop: The house was silent, but I could feel the pressure building in the air. Then I saw it, first a shadow, then it took form an…\n",
      "RT @BBCBusiness: Can you live in a plastic bottle house? https://t.co/G67C97xGMF\n",
      "RT @BBCNews: Can you live in a plastic bottle house? https://t.co/PQNl7Dl3ae\n",
      "RT @chrisinsilico: I have accepted invitations to testify next week at the US House Intelligence Committee and House Judiciary Committee. D…\n",
      "18:31 House fire Westbury @Trow_Fire_Stn and #Warminster - https://t.co/9Uy7iO5JGP\n",
      "RT @ArtPicsChannel: Garden Behind a House, Vincent van Gogh, 1888. https://t.co/p7zIwyRt0d\n",
      "RT @ricky27704102: George Hilditch, ‘Richmond Bridge from Beneath the Railway Bridge’, c. 1846. On display in the Study Gallery at Orleans…\n",
      "RT @BBCNews: Can you live in a plastic bottle house? https://t.co/PQNl7Dl3ae\n",
      "RT @BBCNews: Can you live in a plastic bottle house? https://t.co/PQNl7Dl3ae\n",
      "Massive thunder and blue lightning happening over my house https://t.co/61lt8sE1RX\n",
      "why did this man take me to his ghetto ass granny house and introduce me to his whole family as his gf https://t.co/33BhgAZRXu\n",
      "News about Funky House https://t.co/bzZdktGeVm\n",
      "RT @BBCNews: Can you live in a plastic bottle house? https://t.co/PQNl7Dl3ae\n"
     ]
    }
   ],
   "source": [
    "# result_type: popular, recent, mixed\n",
    "# geocode: lat,long,radius\n",
    "\n",
    "# geo coordinations of the desired place\n",
    "my_lat = 51.5;\n",
    "my_long = 0.12;\n",
    "\n",
    "resp = api.request('search/tweets', {'q':'house', \n",
    "                                     'count':'100', \n",
    "                                     'lang':'en', \n",
    "                                     'result_type':'recent',\n",
    "                                     'geocode':'{},{},100mi'.format(my_lat, my_long)})\n",
    "for r in resp:\n",
    "    print(r['text'])"
   ]
  },
  {
   "cell_type": "markdown",
   "metadata": {},
   "source": [
    "**Exercise 2:**\n",
    "\n",
    "check out the API documentation and narrow down your search results for Exercise1 using parameters other that keyword."
   ]
  },
  {
   "cell_type": "code",
   "execution_count": 12,
   "metadata": {},
   "outputs": [
    {
     "name": "stdout",
     "output_type": "stream",
     "text": [
      "0 RT @BUNNYMYE0N: 21st April\n",
      "-Junmyeon and Chanyeol visited CBX during their Music Core pre-recording\n",
      "-Yixing landed at Gimpo Airport\n",
      "\n",
      "22nd A…\n",
      "1 RT @TheBritArmys_: We absolutely LOVE the Slave music video!!!!❤ #Slave4U https://t.co/NXzhuBMJ2A\n",
      "2 RT @tracey_thorn: This week's column, about being a woman in music, written about so much of the time by men. https://t.co/OZmS8FtlqA\n",
      "3 RT @AmyLee_thirty3: Music may be the greatest love of my life 🎵\n",
      "4 RT @jennycocaine__: I need to start wearing wigs b4 everyone starts asking why there's always a bald bitch as an extra in these music video…\n",
      "5 RT @MikeyPiff: #nowplaying new music from @Sugarlandmusic and @taylorswift13 with the songwriting assist from @patmonahan @train!!\n",
      "\n",
      "🎧 https…\n",
      "6 RT @MetroBoomin: and by whack I mean whack in spirit.. haven’t heard any music to come to that conclusion.\n",
      "7 RT @urstrulyMahesh: Enjoy the music of #BharatAneNenu :)\n",
      " https://t.co/9hPYAmv2Vz\n",
      "8 Losing my music library hurts more than heart break 😭\n",
      "9 RT @RylGospelRadio: #Music Never Fail (Radio Edit) by Enon Tabernacle #np https://t.co/hdRLGen6px #Gospel #God #Jesus #HolyGhost #RylGospel…\n",
      "10 RT @nikizefanya: I been in the studio every god dam day cookin for all of u. Making music is the ultimate privilege but its not all peaches…\n",
      "11 RT @etnow: New @BTS_twt music is on its way! The K-pop group announced their new album ‘LOVE YOURSELF: Tear’. https://t.co/zYuo9icUGL https…\n",
      "12 RT @_HeavenDelight_: #RedVelvet #Yeri's iconic wink in the #DumbDumb music video happened when Yeri decided to do something extra in front…\n",
      "13 RT @Ashton5SOS: This year feels special for music. \n",
      "I have seen many other artist’s releasing music &amp; attempting ideas that are brave. Many…\n",
      "14 RT @exo_schedules: DAILY SCHEDULE 🗓 180422 | 22nd April | #엑소 #EXO Schedule\n",
      "\n",
      "💿 Music Release [CBX]\n",
      "🕺 Music show pre rec [#CBX | #BloomingDa…\n",
      "15 RT @theBSOLZ: We’re finally going to hear good music after months of Tekashi69 and Lil Pump \n",
      "\n",
      "🙌🏽🙌🏽🙌🏽🙌🏽 https://t.co/m2RKNuSVZj\n",
      "16 RT @AZEALIAARCHIVED: But you’re complicit to and attached to those same entities. You call a Multi-Talented, Versatile, even Soulful Female…\n",
      "17 RT @_b_bh0506: [TRANS] 180422 CBX Music show pre-recording\n",
      "\n",
      "OP said Yixing came for today's prerecording while CBX doing their ment and sai…\n",
      "18 mmm usually their music is what starts it and then i’ll try to stan them https://t.co/v5YRT2XCaD\n",
      "19 RT @glamoursehun: \"[TRANS] 180422 CBX Music show pre-recording\n",
      "\n",
      "OP said Yixing came for today's prerecording while CBX doing their ment and…\n",
      "20 RT @MetroBoomin: and by whack I mean whack in spirit.. haven’t heard any music to come to that conclusion.\n",
      "21 RT @BUNNYMYE0N: 21st April\n",
      "-Junmyeon and Chanyeol visited CBX during their Music Core pre-recording\n",
      "-Yixing landed at Gimpo Airport\n",
      "\n",
      "22nd A…\n",
      "22 RT @outcastdre: I get J Cole or Wale might not be your preference in music, but how can you say they’re trash???\n",
      "23 RT @onlaymon: im so happy yixing went to see cbx’s last music show prerec 😭 so supportive, the love they have for each other is so real. no…\n",
      "24 RT @YSBHDAILY: Charlie Puth - Done For Me (Feat. Kehlani) Official Music Video  https://t.co/A3OX07CCG3\n",
      "25 RT @Ashton5SOS: This year feels special for music. \n",
      "I have seen many other artist’s releasing music &amp; attempting ideas that are brave. Many…\n",
      "26 Loved seeing all the Hodgson Studio of Music &amp; Drama students tonight at their Spring recital! I’ve watched these k… https://t.co/TCFyDBKBR5\n",
      "27 I liked a @YouTube video https://t.co/wpjrsspleX Sweetness by Jimmy Eat World (music and lyrics)\n",
      "28 RT @RealCandaceO: I’m freaking out. @kanyewest ....please take a meeting with me. I tell every single person that everything that I have be…\n",
      "29 RT @billboardhiphop: .@BhadBhabie talks about her @BBMAs nomination: \"By being nominated, I already won\" https://t.co/EuFEymNlvg https://t.…\n",
      "30 RT @etnow: New @BTS_twt music is on its way! The K-pop group announced their new album ‘LOVE YOURSELF: Tear’. https://t.co/zYuo9icUGL https…\n",
      "31 RT @RealCandaceO: I’m freaking out. @kanyewest ....please take a meeting with me. I tell every single person that everything that I have be…\n",
      "32 @thecinemasnob Me: Sorry Jerry but Baywatch was a better show. That's why I want to see Barbd Wire.\n",
      "\n",
      "*Laugh track* *Seinfield music plays*.\n",
      "33 RT @Stray_Kids: Stray Kids \"District 9\" Stage\n",
      "@ KBS Music Bank 2018.04.20\n",
      "\n",
      "Global: https://t.co/55yuFa3RSk\n",
      "\n",
      "#StrayKids #스트레이키즈\n",
      "#IamNOT #Dis…\n",
      "34 RT @LULSAVMAE: See she needs to stick to modeling. Music ain’t her speed. https://t.co/86LO7xFway\n",
      "35 RT @intexolteam: 180422 [Info] EXO-CBX x Hyundai KONA Electric CF. \n",
      "\n",
      "🚩22 April - Digital CF song release on MelOn\n",
      "(Profits donated to air p…\n",
      "36 RT @VENUSMANIFESTED: Bob the builder:\n",
      "- white middle class man \n",
      "- mistreats his vehicles, abusive\n",
      "- makes people uneasy\n",
      "- is racist \n",
      "- will…\n",
      "37 RT @BUNNYMYE0N: 21st April\n",
      "-Junmyeon and Chanyeol visited CBX during their Music Core pre-recording\n",
      "-Yixing landed at Gimpo Airport\n",
      "\n",
      "22nd A…\n",
      "38 It’s just music lol https://t.co/PJeznPj1bR\n",
      "39 RT @TrendingMAwards: ARMY! #BTS is nominated with 4 nominations at the #TrendingAwards!\n",
      "\n",
      "RT and vote here: https://t.co/dwanZjzSJZ https://…\n",
      "40 once wonho starts producing babymaking music its over for me\n",
      "41 songs from yesterday’s performance is available on QQ music  💓\n",
      "\n",
      "#创造101 #produce101china https://t.co/Ytk32NMjBV\n",
      "42 RT @onlaymon: im so happy yixing went to see cbx’s last music show prerec 😭 so supportive, the love they have for each other is so real. no…\n",
      "43 If you would like to join me, I’m going to find a cool spot and listen to music and think about life, hit me up\n",
      "44 now that's what i call music volume 53\n",
      "45 RT @MaveBHM: BLACK HOUSE MUSIC BABYYY! Only way is up https://t.co/lgRjSalz5C\n",
      "46 Hey, Twitter, Bot here. Why is music so far away?\n",
      "47 @DREAMYBMOC @MYLOVEMERGIO UGH I LOVE YALL AND LANY INTELLECTUALS W GREAT MUSIC TASTE LETS GO TO A LANY CONCERT\n",
      "48 RT @BSTforBTS: So agree. @BTS_twt has all the keys for success, ARMY just needs to pry open the door a little and help unleash them in the…\n",
      "49 Liked on YouTube: Sophie Pecora - Best Friends for Cheddar (Official Music Video) ft. Shane Dawson &amp; Friends https://t.co/GNcZRSo4fz\n",
      "50 RT @LULSAVMAE: See she needs to stick to modeling. Music ain’t her speed. https://t.co/86LO7xFway\n",
      "51 RT @curlyminseok: if EXOLs treated EXO CBX like a normal EXO comeback and didn’t just ignore them bc their bias isn’t in the subunit then m…\n",
      "52 RT @LULSAVMAE: See she needs to stick to modeling. Music ain’t her speed. https://t.co/86LO7xFway\n",
      "53 @JColeNC I listed to your album a few times and love it. My favorite song is “ Brackets”   Please keep making music… https://t.co/WRVWzrmrRj\n",
      "54 Ariana’s #NoTearsLeftToCry is currently at #18(+3) on U.S. Apple Music Top Charts keep streaming on this platform!… https://t.co/lx1YPTUrS7\n",
      "55 RT @irsyadizmi: So, I really really like this girl. But I didn't know how to tell her... so I asked my friends to help me make a music vide…\n",
      "56 RT @leetaevong: this news portal just turned nct 2018's music bank press time to an action film 😂so extra i love it https://t.co/xBMsYrjvMb\n",
      "57 RT @onlaymon: im so happy yixing went to see cbx’s last music show prerec 😭 so supportive, the love they have for each other is so real. no…\n",
      "58 I liked a @YouTube video https://t.co/E2vuBCe61z Alternate - Vibe Tracks (No Copyright Music)\n",
      "59 RT @TruWerdz: Just a little taste of some old Barz. Beat by @NYBangers #ListenToThis #Music #Beat #Beats #Dope #Fire #Lyrics #HipHop #TruMu…\n",
      "60 even though we beefing lmao, go support my brother's music, TRUST ME you won't regret it! https://t.co/iSkHWA7Plz\n",
      "61 Happening at Nana's now  Doug Warner playing some music for our beautiful spring night!\n",
      "62 RT @KlNGTAEYEON: why cant you weirdos like korean music and korean musicians without having to recreate your entire existence, personality…\n",
      "63 RT @StevanPalmer: J.cole ain’t trash y’all just can’t comprehend anything besides trap music\n",
      "64 RT @thegirlwnoname: I hope @delavinkisses gets to make music again in the future. I hope she tries her hand on doing acoustic. I loved her…\n",
      "65 RT @VENUSMANIFESTED: Bob the builder:\n",
      "- white middle class man \n",
      "- mistreats his vehicles, abusive\n",
      "- makes people uneasy\n",
      "- is racist \n",
      "- will…\n",
      "66 RT @outcastdre: I get J Cole or Wale might not be your preference in music, but how can you say they’re trash???\n",
      "67 RT @_b_bh0506: [TRANS] 180422 CBX Music show pre-recording\n",
      "\n",
      "OP said Yixing came for today's prerecording while CBX doing their ment and sai…\n",
      "68 RT @sagittarius647: #Sagittarius love music. They cannot function without it.\n",
      "69 RT @ScottyChams: Check my 83rd #dailyraps video on #Steemit for my song Just Watch dropping next month 🤩\n",
      "https://t.co/LdHqayvhlt\n",
      "70 RT @BUNNYMYE0N: 21st April\n",
      "-Junmyeon and Chanyeol visited CBX during their Music Core pre-recording\n",
      "-Yixing landed at Gimpo Airport\n",
      "\n",
      "22nd A…\n",
      "71 RT @cole_griffin7: if twitter pauses my music one.... more..... time....... https://t.co/S5LaRQ62bp\n",
      "72 RT @Frankensteined0: *opens Instagram*\n",
      "*New Lady Gaga post*\n",
      "*OMG NEW MUSIC!*\n",
      "* it's a mute video* https://t.co/SKNbXA1lfz\n",
      "73 RT @TrendingMAwards: ARMY! #BTS is nominated with 4 nominations at the #TrendingAwards!\n",
      "\n",
      "RT and vote here: https://t.co/dwanZjzSJZ https://…\n",
      "74 you know what is a mood? me crying to the music that plays when simon comes out to his family at 4 in the morning\n",
      "75 RT @goldenbluejeno: 180420 MUSIC BANK #JENO #제노 #NCT #NCT_DREAM https://t.co/p1hb1P5byb\n",
      "76 The way Altman embraces original music and music performance scenes in all of his movies, but especially in the dec… https://t.co/CgHwJqJ8Iw\n",
      "77 RT @MyDesert: Yoshiki, the co-founder, drummer, pianist and primary songwriter of X Japan, was excited about being the first Japanese band…\n",
      "78 RT @AllThatandMoore: Me listening to the same 3 songs from years ago while all this new music dropping https://t.co/Euy2ZDhnfY\n",
      "79 RT @BCFMONEYMAN1: NEW MUSIC OTW!!!! https://t.co/BVR7U6J72O\n",
      "80 RT @EXOVotingTeam: 180421 Show! Music Core score\n",
      "EXO-CBX #2 TOTAL 5,025\n",
      "EXO-L please STREAMING 🙏🙏\n",
      "\n",
      "#PremiosMTVMiaw #MTVBRKPOPEXO\n",
      "#BloomingD…\n",
      "81 @Ieowo @SynergyFocus_ His shots are fucking retarded, I don't even know what's going on for some of them but they'r… https://t.co/rn1oAemqTf\n",
      "82 @Will_Politeski @TWRRoman @clark_twremakes @OfficalETG248 @Crimson2091 I didn’t make you say it dude\n",
      "\n",
      "I was working… https://t.co/QMSd4tH849\n",
      "83 Hey @YouTube @YouTubeGaming @YTCreators if a rapper samples video game music, then hits my game stream of said game… https://t.co/msXi2qKiZs\n",
      "84 RT @btsanalytics: Love Yourself 轉 'Tear' (@BTS_twt) is currently the #5 best seller under the Music category on Target. \n",
      "\n",
      "Link ➭ https://t.…\n",
      "85 RT @BUNNYMYE0N: 21st April\n",
      "-Junmyeon and Chanyeol visited CBX during their Music Core pre-recording\n",
      "-Yixing landed at Gimpo Airport\n",
      "\n",
      "22nd A…\n",
      "86 RT @topnotupdates: Someone had to find the Blurryface link to come across that music back in 2015, “You’ll have to come and find me” now yo…\n",
      "87 RT @JasonIsbell: Happy #RecordStoreDay18 everybody! Support your local businesses and buy more music (if you can).\n",
      "88 RT @intanetz: ok, it's been like 3 years since we dropped anything lol \n",
      "\n",
      "who needs new INTERNET music?\n",
      "89 RT @PrettyDayjerous: LMAO MY PROFESSOR CAME TO CLASS FED UP WITH SCHOOL SO SHE HAD US SIGN IN AND DISMISSED US. SHE SAID SHE HAD TO LEAVE B…\n",
      "90 RT @BUNNYMYE0N: 21st April\n",
      "-Junmyeon and Chanyeol visited CBX during their Music Core pre-recording\n",
      "-Yixing landed at Gimpo Airport\n",
      "\n",
      "22nd A…\n",
      "91 The Queen's Birthday Party review: 'The strangest climax to a concert I have ever wit… https://t.co/VvNOb96QQQ ➜… https://t.co/2pp3youEg9\n",
      "92 I added a video to a @YouTube playlist https://t.co/WXRH01GmpC Lee Brice - Love Like Crazy (Official Music Video)\n",
      "93 If you mean the album that goes with the movie, I'll go with Lost Boys. I love those songs. If you mean general sou… https://t.co/FuutNhzdzO\n",
      "94 RT @RamenBomber: 2. wind waker imo has some of the worst boss fights in the series \n",
      "\n",
      "that being said it does have one of THE BEST fights in…\n",
      "95 RT @beau_angelnz: The #PhantomParagrapher: #Outcast #ReleaseBlitz with #DeniseJaden https://t.co/t0gzMIIl8G #RomanticSuspense #MentalHealth…\n",
      "96 RT @KygoMusic: Can’t believe this is true..my biggest inspiration and the reason why I started making electronic music. Thank you for all t…\n",
      "97 RT @AlexaKendaII: ☆ Faded Love ft. Zaid Empire\n",
      "\n",
      "☆ out now !\n",
      "\n",
      "☆ available on apple music, spotify, tidal &amp; more\n",
      "\n",
      "☆ fav and rt to stream &amp; pu…\n",
      "98 Look man im tired of people slandering young rappers for making music that people like\n",
      "99 RT @SpokenReasons: If you ain’t bumping slow music at night I don’t know what yo life on. Gotta slow it down sometimes 🤷🏽‍♂️⚡️\n"
     ]
    }
   ],
   "source": [
    "# your code here\n",
    "my_resp2 = api.request('search/tweets', {'q': 'music',\n",
    "                                    'count': '100',\n",
    "                                    'lang': 'en',\n",
    "                                    'result_type': 'recent'})\n",
    "\n",
    "\n",
    "for i, tweet in enumerate(my_resp2):\n",
    "    print(i, tweet['text'])"
   ]
  },
  {
   "cell_type": "markdown",
   "metadata": {},
   "source": [
    "Apart from the tweet text, you can retrieve other metadata from the Twitter response. For example the user who sent the tweet, whether the tweet is in reply to another user or is a retweet, how many times it is retweeted and so on. Since the response is parsed into a dictionary, use `keys()` function to see the fields that are available:"
   ]
  },
  {
   "cell_type": "code",
   "execution_count": 13,
   "metadata": {},
   "outputs": [],
   "source": [
    "response = resp.json()"
   ]
  },
  {
   "cell_type": "code",
   "execution_count": 14,
   "metadata": {},
   "outputs": [
    {
     "data": {
      "text/plain": [
       "{'contributors_enabled': False,\n",
       " 'created_at': 'Wed Apr 23 19:45:09 +0000 2014',\n",
       " 'default_profile': True,\n",
       " 'default_profile_image': False,\n",
       " 'description': 'Bookings/Enquires : contact@arisrepublicagency.com',\n",
       " 'entities': {'description': {'urls': []}},\n",
       " 'favourites_count': 2791,\n",
       " 'follow_request_sent': False,\n",
       " 'followers_count': 598,\n",
       " 'following': False,\n",
       " 'friends_count': 419,\n",
       " 'geo_enabled': True,\n",
       " 'has_extended_profile': True,\n",
       " 'id': 2460193891,\n",
       " 'id_str': '2460193891',\n",
       " 'is_translation_enabled': False,\n",
       " 'is_translator': False,\n",
       " 'lang': 'en',\n",
       " 'listed_count': 5,\n",
       " 'location': 'London, England',\n",
       " 'name': 'Young Tory',\n",
       " 'notifications': False,\n",
       " 'profile_background_color': 'C0DEED',\n",
       " 'profile_background_image_url': 'http://abs.twimg.com/images/themes/theme1/bg.png',\n",
       " 'profile_background_image_url_https': 'https://abs.twimg.com/images/themes/theme1/bg.png',\n",
       " 'profile_background_tile': False,\n",
       " 'profile_banner_url': 'https://pbs.twimg.com/profile_banners/2460193891/1517105793',\n",
       " 'profile_image_url': 'http://pbs.twimg.com/profile_images/939560340324483073/kYbgr0Z9_normal.jpg',\n",
       " 'profile_image_url_https': 'https://pbs.twimg.com/profile_images/939560340324483073/kYbgr0Z9_normal.jpg',\n",
       " 'profile_link_color': '1DA1F2',\n",
       " 'profile_sidebar_border_color': 'C0DEED',\n",
       " 'profile_sidebar_fill_color': 'DDEEF6',\n",
       " 'profile_text_color': '333333',\n",
       " 'profile_use_background_image': True,\n",
       " 'protected': False,\n",
       " 'screen_name': 'Tonz300',\n",
       " 'statuses_count': 8035,\n",
       " 'time_zone': None,\n",
       " 'translator_type': 'none',\n",
       " 'url': None,\n",
       " 'utc_offset': None,\n",
       " 'verified': False}"
      ]
     },
     "execution_count": 14,
     "metadata": {},
     "output_type": "execute_result"
    }
   ],
   "source": [
    "response['statuses'][0]['user']"
   ]
  },
  {
   "cell_type": "code",
   "execution_count": 15,
   "metadata": {},
   "outputs": [
    {
     "data": {
      "text/plain": [
       "dict_keys(['created_at', 'id', 'id_str', 'text', 'truncated', 'entities', 'extended_entities', 'metadata', 'source', 'in_reply_to_status_id', 'in_reply_to_status_id_str', 'in_reply_to_user_id', 'in_reply_to_user_id_str', 'in_reply_to_screen_name', 'user', 'geo', 'coordinates', 'place', 'contributors', 'retweeted_status', 'is_quote_status', 'retweet_count', 'favorite_count', 'favorited', 'retweeted', 'possibly_sensitive', 'lang'])"
      ]
     },
     "execution_count": 15,
     "metadata": {},
     "output_type": "execute_result"
    }
   ],
   "source": [
    "response['statuses'][0].keys()"
   ]
  },
  {
   "cell_type": "markdown",
   "metadata": {},
   "source": [
    "**Exercise 3:**\n",
    "\n",
    "print user, place, and geo locations of tweets you have collected."
   ]
  },
  {
   "cell_type": "code",
   "execution_count": 16,
   "metadata": {},
   "outputs": [
    {
     "name": "stdout",
     "output_type": "stream",
     "text": [
      "RT @BUNNYMYE0N: 21st April\n",
      "-Junmyeon and Chanyeol visited CBX during their Music Core pre-recording\n",
      "-Yixing landed at Gimpo Airport\n",
      "\n",
      "22nd A…\n",
      "RT @TheBritArmys_: We absolutely LOVE the Slave music video!!!!❤ #Slave4U https://t.co/NXzhuBMJ2A\n",
      "RT @tracey_thorn: This week's column, about being a woman in music, written about so much of the time by men. https://t.co/OZmS8FtlqA\n",
      "RT @AmyLee_thirty3: Music may be the greatest love of my life 🎵\n",
      "RT @jennycocaine__: I need to start wearing wigs b4 everyone starts asking why there's always a bald bitch as an extra in these music video…\n",
      "RT @MikeyPiff: #nowplaying new music from @Sugarlandmusic and @taylorswift13 with the songwriting assist from @patmonahan @train!!\n",
      "\n",
      "🎧 https…\n",
      "RT @MetroBoomin: and by whack I mean whack in spirit.. haven’t heard any music to come to that conclusion.\n",
      "RT @urstrulyMahesh: Enjoy the music of #BharatAneNenu :)\n",
      " https://t.co/9hPYAmv2Vz\n",
      "Losing my music library hurts more than heart break 😭\n",
      "RT @RylGospelRadio: #Music Never Fail (Radio Edit) by Enon Tabernacle #np https://t.co/hdRLGen6px #Gospel #God #Jesus #HolyGhost #RylGospel…\n",
      "RT @nikizefanya: I been in the studio every god dam day cookin for all of u. Making music is the ultimate privilege but its not all peaches…\n",
      "RT @etnow: New @BTS_twt music is on its way! The K-pop group announced their new album ‘LOVE YOURSELF: Tear’. https://t.co/zYuo9icUGL https…\n",
      "RT @_HeavenDelight_: #RedVelvet #Yeri's iconic wink in the #DumbDumb music video happened when Yeri decided to do something extra in front…\n",
      "RT @Ashton5SOS: This year feels special for music. \n",
      "I have seen many other artist’s releasing music &amp; attempting ideas that are brave. Many…\n",
      "RT @exo_schedules: DAILY SCHEDULE 🗓 180422 | 22nd April | #엑소 #EXO Schedule\n",
      "\n",
      "💿 Music Release [CBX]\n",
      "🕺 Music show pre rec [#CBX | #BloomingDa…\n",
      "RT @theBSOLZ: We’re finally going to hear good music after months of Tekashi69 and Lil Pump \n",
      "\n",
      "🙌🏽🙌🏽🙌🏽🙌🏽 https://t.co/m2RKNuSVZj\n",
      "RT @AZEALIAARCHIVED: But you’re complicit to and attached to those same entities. You call a Multi-Talented, Versatile, even Soulful Female…\n",
      "RT @_b_bh0506: [TRANS] 180422 CBX Music show pre-recording\n",
      "\n",
      "OP said Yixing came for today's prerecording while CBX doing their ment and sai…\n",
      "mmm usually their music is what starts it and then i’ll try to stan them https://t.co/v5YRT2XCaD\n",
      "RT @glamoursehun: \"[TRANS] 180422 CBX Music show pre-recording\n",
      "\n",
      "OP said Yixing came for today's prerecording while CBX doing their ment and…\n",
      "RT @MetroBoomin: and by whack I mean whack in spirit.. haven’t heard any music to come to that conclusion.\n",
      "RT @BUNNYMYE0N: 21st April\n",
      "-Junmyeon and Chanyeol visited CBX during their Music Core pre-recording\n",
      "-Yixing landed at Gimpo Airport\n",
      "\n",
      "22nd A…\n",
      "RT @outcastdre: I get J Cole or Wale might not be your preference in music, but how can you say they’re trash???\n",
      "RT @onlaymon: im so happy yixing went to see cbx’s last music show prerec 😭 so supportive, the love they have for each other is so real. no…\n",
      "RT @YSBHDAILY: Charlie Puth - Done For Me (Feat. Kehlani) Official Music Video  https://t.co/A3OX07CCG3\n",
      "RT @Ashton5SOS: This year feels special for music. \n",
      "I have seen many other artist’s releasing music &amp; attempting ideas that are brave. Many…\n",
      "Loved seeing all the Hodgson Studio of Music &amp; Drama students tonight at their Spring recital! I’ve watched these k… https://t.co/TCFyDBKBR5\n",
      "I liked a @YouTube video https://t.co/wpjrsspleX Sweetness by Jimmy Eat World (music and lyrics)\n",
      "RT @RealCandaceO: I’m freaking out. @kanyewest ....please take a meeting with me. I tell every single person that everything that I have be…\n",
      "RT @billboardhiphop: .@BhadBhabie talks about her @BBMAs nomination: \"By being nominated, I already won\" https://t.co/EuFEymNlvg https://t.…\n",
      "RT @etnow: New @BTS_twt music is on its way! The K-pop group announced their new album ‘LOVE YOURSELF: Tear’. https://t.co/zYuo9icUGL https…\n",
      "RT @RealCandaceO: I’m freaking out. @kanyewest ....please take a meeting with me. I tell every single person that everything that I have be…\n",
      "@thecinemasnob Me: Sorry Jerry but Baywatch was a better show. That's why I want to see Barbd Wire.\n",
      "\n",
      "*Laugh track* *Seinfield music plays*.\n",
      "RT @Stray_Kids: Stray Kids \"District 9\" Stage\n",
      "@ KBS Music Bank 2018.04.20\n",
      "\n",
      "Global: https://t.co/55yuFa3RSk\n",
      "\n",
      "#StrayKids #스트레이키즈\n",
      "#IamNOT #Dis…\n",
      "RT @LULSAVMAE: See she needs to stick to modeling. Music ain’t her speed. https://t.co/86LO7xFway\n",
      "RT @intexolteam: 180422 [Info] EXO-CBX x Hyundai KONA Electric CF. \n",
      "\n",
      "🚩22 April - Digital CF song release on MelOn\n",
      "(Profits donated to air p…\n",
      "RT @VENUSMANIFESTED: Bob the builder:\n",
      "- white middle class man \n",
      "- mistreats his vehicles, abusive\n",
      "- makes people uneasy\n",
      "- is racist \n",
      "- will…\n",
      "RT @BUNNYMYE0N: 21st April\n",
      "-Junmyeon and Chanyeol visited CBX during their Music Core pre-recording\n",
      "-Yixing landed at Gimpo Airport\n",
      "\n",
      "22nd A…\n",
      "It’s just music lol https://t.co/PJeznPj1bR\n",
      "RT @TrendingMAwards: ARMY! #BTS is nominated with 4 nominations at the #TrendingAwards!\n",
      "\n",
      "RT and vote here: https://t.co/dwanZjzSJZ https://…\n",
      "once wonho starts producing babymaking music its over for me\n",
      "songs from yesterday’s performance is available on QQ music  💓\n",
      "\n",
      "#创造101 #produce101china https://t.co/Ytk32NMjBV\n",
      "RT @onlaymon: im so happy yixing went to see cbx’s last music show prerec 😭 so supportive, the love they have for each other is so real. no…\n",
      "If you would like to join me, I’m going to find a cool spot and listen to music and think about life, hit me up\n",
      "now that's what i call music volume 53\n",
      "RT @MaveBHM: BLACK HOUSE MUSIC BABYYY! Only way is up https://t.co/lgRjSalz5C\n",
      "Hey, Twitter, Bot here. Why is music so far away?\n",
      "@DREAMYBMOC @MYLOVEMERGIO UGH I LOVE YALL AND LANY INTELLECTUALS W GREAT MUSIC TASTE LETS GO TO A LANY CONCERT\n",
      "RT @BSTforBTS: So agree. @BTS_twt has all the keys for success, ARMY just needs to pry open the door a little and help unleash them in the…\n",
      "Liked on YouTube: Sophie Pecora - Best Friends for Cheddar (Official Music Video) ft. Shane Dawson &amp; Friends https://t.co/GNcZRSo4fz\n",
      "RT @LULSAVMAE: See she needs to stick to modeling. Music ain’t her speed. https://t.co/86LO7xFway\n",
      "RT @curlyminseok: if EXOLs treated EXO CBX like a normal EXO comeback and didn’t just ignore them bc their bias isn’t in the subunit then m…\n",
      "RT @LULSAVMAE: See she needs to stick to modeling. Music ain’t her speed. https://t.co/86LO7xFway\n",
      "@JColeNC I listed to your album a few times and love it. My favorite song is “ Brackets”   Please keep making music… https://t.co/WRVWzrmrRj\n",
      "Ariana’s #NoTearsLeftToCry is currently at #18(+3) on U.S. Apple Music Top Charts keep streaming on this platform!… https://t.co/lx1YPTUrS7\n",
      "RT @irsyadizmi: So, I really really like this girl. But I didn't know how to tell her... so I asked my friends to help me make a music vide…\n",
      "RT @leetaevong: this news portal just turned nct 2018's music bank press time to an action film 😂so extra i love it https://t.co/xBMsYrjvMb\n",
      "RT @onlaymon: im so happy yixing went to see cbx’s last music show prerec 😭 so supportive, the love they have for each other is so real. no…\n",
      "I liked a @YouTube video https://t.co/E2vuBCe61z Alternate - Vibe Tracks (No Copyright Music)\n",
      "RT @TruWerdz: Just a little taste of some old Barz. Beat by @NYBangers #ListenToThis #Music #Beat #Beats #Dope #Fire #Lyrics #HipHop #TruMu…\n",
      "even though we beefing lmao, go support my brother's music, TRUST ME you won't regret it! https://t.co/iSkHWA7Plz\n",
      "Happening at Nana's now  Doug Warner playing some music for our beautiful spring night!\n",
      "RT @KlNGTAEYEON: why cant you weirdos like korean music and korean musicians without having to recreate your entire existence, personality…\n",
      "RT @StevanPalmer: J.cole ain’t trash y’all just can’t comprehend anything besides trap music\n",
      "RT @thegirlwnoname: I hope @delavinkisses gets to make music again in the future. I hope she tries her hand on doing acoustic. I loved her…\n",
      "RT @VENUSMANIFESTED: Bob the builder:\n",
      "- white middle class man \n",
      "- mistreats his vehicles, abusive\n",
      "- makes people uneasy\n",
      "- is racist \n",
      "- will…\n",
      "RT @outcastdre: I get J Cole or Wale might not be your preference in music, but how can you say they’re trash???\n",
      "RT @_b_bh0506: [TRANS] 180422 CBX Music show pre-recording\n",
      "\n",
      "OP said Yixing came for today's prerecording while CBX doing their ment and sai…\n",
      "RT @sagittarius647: #Sagittarius love music. They cannot function without it.\n",
      "RT @ScottyChams: Check my 83rd #dailyraps video on #Steemit for my song Just Watch dropping next month 🤩\n",
      "https://t.co/LdHqayvhlt\n",
      "RT @BUNNYMYE0N: 21st April\n",
      "-Junmyeon and Chanyeol visited CBX during their Music Core pre-recording\n",
      "-Yixing landed at Gimpo Airport\n",
      "\n",
      "22nd A…\n",
      "RT @cole_griffin7: if twitter pauses my music one.... more..... time....... https://t.co/S5LaRQ62bp\n",
      "RT @Frankensteined0: *opens Instagram*\n",
      "*New Lady Gaga post*\n",
      "*OMG NEW MUSIC!*\n",
      "* it's a mute video* https://t.co/SKNbXA1lfz\n",
      "RT @TrendingMAwards: ARMY! #BTS is nominated with 4 nominations at the #TrendingAwards!\n",
      "\n",
      "RT and vote here: https://t.co/dwanZjzSJZ https://…\n",
      "you know what is a mood? me crying to the music that plays when simon comes out to his family at 4 in the morning\n",
      "RT @goldenbluejeno: 180420 MUSIC BANK #JENO #제노 #NCT #NCT_DREAM https://t.co/p1hb1P5byb\n",
      "The way Altman embraces original music and music performance scenes in all of his movies, but especially in the dec… https://t.co/CgHwJqJ8Iw\n",
      "RT @MyDesert: Yoshiki, the co-founder, drummer, pianist and primary songwriter of X Japan, was excited about being the first Japanese band…\n",
      "RT @AllThatandMoore: Me listening to the same 3 songs from years ago while all this new music dropping https://t.co/Euy2ZDhnfY\n",
      "RT @BCFMONEYMAN1: NEW MUSIC OTW!!!! https://t.co/BVR7U6J72O\n",
      "RT @EXOVotingTeam: 180421 Show! Music Core score\n",
      "EXO-CBX #2 TOTAL 5,025\n",
      "EXO-L please STREAMING 🙏🙏\n",
      "\n",
      "#PremiosMTVMiaw #MTVBRKPOPEXO\n",
      "#BloomingD…\n",
      "@Ieowo @SynergyFocus_ His shots are fucking retarded, I don't even know what's going on for some of them but they'r… https://t.co/rn1oAemqTf\n",
      "@Will_Politeski @TWRRoman @clark_twremakes @OfficalETG248 @Crimson2091 I didn’t make you say it dude\n",
      "\n",
      "I was working… https://t.co/QMSd4tH849\n",
      "Hey @YouTube @YouTubeGaming @YTCreators if a rapper samples video game music, then hits my game stream of said game… https://t.co/msXi2qKiZs\n",
      "RT @btsanalytics: Love Yourself 轉 'Tear' (@BTS_twt) is currently the #5 best seller under the Music category on Target. \n",
      "\n",
      "Link ➭ https://t.…\n",
      "RT @BUNNYMYE0N: 21st April\n",
      "-Junmyeon and Chanyeol visited CBX during their Music Core pre-recording\n",
      "-Yixing landed at Gimpo Airport\n",
      "\n",
      "22nd A…\n",
      "RT @topnotupdates: Someone had to find the Blurryface link to come across that music back in 2015, “You’ll have to come and find me” now yo…\n",
      "RT @JasonIsbell: Happy #RecordStoreDay18 everybody! Support your local businesses and buy more music (if you can).\n",
      "RT @intanetz: ok, it's been like 3 years since we dropped anything lol \n",
      "\n",
      "who needs new INTERNET music?\n",
      "RT @PrettyDayjerous: LMAO MY PROFESSOR CAME TO CLASS FED UP WITH SCHOOL SO SHE HAD US SIGN IN AND DISMISSED US. SHE SAID SHE HAD TO LEAVE B…\n",
      "RT @BUNNYMYE0N: 21st April\n",
      "-Junmyeon and Chanyeol visited CBX during their Music Core pre-recording\n",
      "-Yixing landed at Gimpo Airport\n",
      "\n",
      "22nd A…\n",
      "The Queen's Birthday Party review: 'The strangest climax to a concert I have ever wit… https://t.co/VvNOb96QQQ ➜… https://t.co/2pp3youEg9\n",
      "I added a video to a @YouTube playlist https://t.co/WXRH01GmpC Lee Brice - Love Like Crazy (Official Music Video)\n",
      "If you mean the album that goes with the movie, I'll go with Lost Boys. I love those songs. If you mean general sou… https://t.co/FuutNhzdzO\n",
      "RT @RamenBomber: 2. wind waker imo has some of the worst boss fights in the series \n",
      "\n",
      "that being said it does have one of THE BEST fights in…\n",
      "RT @beau_angelnz: The #PhantomParagrapher: #Outcast #ReleaseBlitz with #DeniseJaden https://t.co/t0gzMIIl8G #RomanticSuspense #MentalHealth…\n",
      "RT @KygoMusic: Can’t believe this is true..my biggest inspiration and the reason why I started making electronic music. Thank you for all t…\n",
      "RT @AlexaKendaII: ☆ Faded Love ft. Zaid Empire\n",
      "\n",
      "☆ out now !\n",
      "\n",
      "☆ available on apple music, spotify, tidal &amp; more\n",
      "\n",
      "☆ fav and rt to stream &amp; pu…\n",
      "Look man im tired of people slandering young rappers for making music that people like\n",
      "RT @SpokenReasons: If you ain’t bumping slow music at night I don’t know what yo life on. Gotta slow it down sometimes 🤷🏽‍♂️⚡️\n"
     ]
    }
   ],
   "source": [
    "# Your code here\n",
    "for i, tweet in enumerate(my_resp2):\n",
    "    #print('Information for tweet {}'.format(i))\n",
    "    #print('user:', tweet['user'])\n",
    "    #print('place:', tweet['place'], ', geo:', tweet['geo'], '\\n')\n",
    "    print(tweet['text'])"
   ]
  },
  {
   "cell_type": "markdown",
   "metadata": {},
   "source": [
    "---\n",
    "## <span style=\"color:#0b486b\">2. Distances</span>\n",
    "\n",
    "`Distance` is a numerical description of how far apart objects are. It is a concrete way of describing what it means for elements of some space to be close or far away from each other, for example the distance between two vectors in an 2-dimensional space.\n",
    "\n",
    "Now that you have know how to represent an n-dimensional vector in Python with NumPy arrays, we will write a function as a metric to measure the distance between two vectors. There are multiple ways to measure the distance between two vectors. We will discuss Euclidean distance and cosine distance."
   ]
  },
  {
   "cell_type": "markdown",
   "metadata": {
    "collapsed": true
   },
   "source": [
    "### <span style=\"color:#0b486b\">2.1 Euclidean Distance</span>\n",
    "\n",
    "Euclidean distance comes from Geometry. If we assume $\\mathbf{x}_{1}=\\left[x_{11},x_{12},\\ldots,x_{1n}\\right]$ and $\\mathbf{x}_{2}=\\left[x_{21},x_{22},\\ldots,x_{2n}\\right]$, then the Euclidean distance between $\\mathbf{x}_{1}$ and $\\mathbf{x}_{2}$ is defined as:\n",
    "\n",
    "$$d\\left(\\mathbf{x}_{1},\\mathbf{x}_{2}\\right)=\\sqrt{\\left(x_{11}-x_{21}\\right)^{2}+\\left(x_{12}-x_{22}\\right)^{2}+\\ldots+\\left(x_{1n}-x_{2n}\\right)^{2}}\n",
    "$$\n",
    "\n",
    "We can use array operators for this task."
   ]
  },
  {
   "cell_type": "code",
   "execution_count": 13,
   "metadata": {
    "collapsed": true
   },
   "outputs": [],
   "source": [
    "import numpy as np"
   ]
  },
  {
   "cell_type": "code",
   "execution_count": 14,
   "metadata": {},
   "outputs": [
    {
     "name": "stdout",
     "output_type": "stream",
     "text": [
      "[-1  0 -2 -2  2]\n",
      "[1 0 4 4 4]\n",
      "3.60555127546\n"
     ]
    }
   ],
   "source": [
    "x1 = np.array([2, 5, 4, 6, 8])\n",
    "x2 = np.array([3, 5, 6, 8, 6])\n",
    "\n",
    "print(x1 - x2)\n",
    "print((x1 - x2) ** 2)\n",
    "print(np.sqrt(np.sum((x1 - x2) ** 2)))"
   ]
  },
  {
   "cell_type": "code",
   "execution_count": 15,
   "metadata": {
    "collapsed": true
   },
   "outputs": [],
   "source": [
    "def euclidean_distance1(x1, x2):\n",
    "    d = x1 - x2\n",
    "    d = d ** 2\n",
    "    return np.sqrt(d.sum())"
   ]
  },
  {
   "cell_type": "code",
   "execution_count": 16,
   "metadata": {},
   "outputs": [
    {
     "name": "stdout",
     "output_type": "stream",
     "text": [
      "7.14142842854\n"
     ]
    }
   ],
   "source": [
    "x1 = np.array([-1, 2, 0, 5])\n",
    "x2 = np.array([4, 2, 1, 0])\n",
    "\n",
    "print(euclidean_distance1(x1, x2))"
   ]
  },
  {
   "cell_type": "markdown",
   "metadata": {},
   "source": [
    "Since two vectors passed to the function should be the same size, it is better to perform a sanity check before applying the subtraction. Otherwise it will raise an error. We can do this by using `if - elif` statement or as a better practice by using `try - except`."
   ]
  },
  {
   "cell_type": "code",
   "execution_count": 17,
   "metadata": {
    "collapsed": true
   },
   "outputs": [],
   "source": [
    "import sys\n",
    "\n",
    "def euclidean_distance2(x1, x2):\n",
    "    if x1.shape[0] != x2.shape[0]:\n",
    "        sys.exit('x1 and x2 are not the same size')\n",
    "    else:\n",
    "        d = x1 - x2\n",
    "        d = d ** 2\n",
    "        return np.sqrt(d.sum())"
   ]
  },
  {
   "cell_type": "markdown",
   "metadata": {},
   "source": [
    "**Exercise 4:** Run the cell below fix the code so that the two array are the same size."
   ]
  },
  {
   "cell_type": "code",
   "execution_count": 18,
   "metadata": {},
   "outputs": [
    {
     "data": {
      "text/plain": [
       "9.3273790530888157"
      ]
     },
     "execution_count": 18,
     "metadata": {},
     "output_type": "execute_result"
    }
   ],
   "source": [
    "# After run this cell, fix it\n",
    "\n",
    "x1 = np.array([-1, 2, 0, 5, 9])\n",
    "x2 = np.array([4, 2, 1, 0, 3])\n",
    "euclidean_distance2(x1, x2)"
   ]
  },
  {
   "cell_type": "code",
   "execution_count": 19,
   "metadata": {
    "collapsed": true
   },
   "outputs": [],
   "source": [
    "def euclidean_distance3(x1, x2):\n",
    "    try:\n",
    "        d = x1 - x2\n",
    "        d = np.power(d, 2)\n",
    "        return np.sqrt(d.sum())\n",
    "    except ValueError as e:\n",
    "        print(\"Vectors passed to the function are not the same size\")\n",
    "        # you can return a default value\n",
    "        return None"
   ]
  },
  {
   "cell_type": "markdown",
   "metadata": {},
   "source": [
    "**Exercise 5:** Run the cell below and then fix it to prevent an exception."
   ]
  },
  {
   "cell_type": "code",
   "execution_count": 20,
   "metadata": {
    "collapsed": true
   },
   "outputs": [],
   "source": [
    "# fix this cell\n",
    "\n",
    "x1 = np.array([-1, 2, 0, 5])\n",
    "x2 = np.array([4, 2, 1, 2])\n",
    "a = euclidean_distance3(x1, x2)"
   ]
  },
  {
   "cell_type": "markdown",
   "metadata": {},
   "source": [
    "### <span style=\"color:#0b486b\">2.2 cosine similarity and distance</span>\n",
    "\n",
    "Cosine similarity is a measure of similarity between two vectors based on the angle between them. Cosine similarity is widely used in information retrieval and text mining as a measure of similarity between documents and is defined as:\n",
    "\n",
    "$$S_{c}\\left(\\mathbf{x}_{1},\\mathbf{x_{2}}\\right)=\\frac{\\mathbf{x}_{1}.\\mathbf{x_{2}}}{\\parallel\\mathbf{x}_{1}\\parallel^{2}+\\parallel\\mathbf{x}_{2}\\parallel^{2}-\\mathbf{x}_{1}.\\mathbf{x_{2}}}$$\n",
    "\n",
    "\n",
    "Cosine similarity is particularly used in positive space where the outcome is bounded in [0, 1]. The cosine distance is defined as the complement to cosine similarity in positive space that is $D_{c}\\left(x_{1},x_{2}\\right)=1-S_{c}\\left(x_1,x_2\\right)$ where $D_c$ is the cosine distance and $S_c$ is the cosine similarity."
   ]
  },
  {
   "cell_type": "code",
   "execution_count": 21,
   "metadata": {},
   "outputs": [
    {
     "data": {
      "text/plain": [
       "array([1, 4, 9])"
      ]
     },
     "execution_count": 21,
     "metadata": {},
     "output_type": "execute_result"
    }
   ],
   "source": [
    "x1 = np.array([1,2,3])\n",
    "x2 = np.array([3,4,6])\n",
    "\n",
    "x1 * x1"
   ]
  },
  {
   "cell_type": "code",
   "execution_count": 22,
   "metadata": {
    "collapsed": true
   },
   "outputs": [],
   "source": [
    "def cosine_distance(x1, x2):\n",
    "    try:\n",
    "        num = (x1*x2).sum()\n",
    "        denom = (x1*x1).sum() + (x2*x2).sum() - (x1*x2).sum()\n",
    "        num += 0.0    # or use np.astype(float) to make sure of float division\n",
    "        return 1 - num/denom\n",
    "    except ValueError as e:\n",
    "        print(\"Vectors passed to the function are not the same size\")\n",
    "        return None\n",
    "    "
   ]
  },
  {
   "cell_type": "code",
   "execution_count": 23,
   "metadata": {},
   "outputs": [
    {
     "data": {
      "text/plain": [
       "0.88983050847457623"
      ]
     },
     "execution_count": 23,
     "metadata": {},
     "output_type": "execute_result"
    }
   ],
   "source": [
    "x1 = np.array([2, 0, 5, 9])\n",
    "x2 = np.array([4, 2, 1, 0])\n",
    "cosine_distance(x1, x2)"
   ]
  },
  {
   "cell_type": "markdown",
   "metadata": {},
   "source": [
    "### <span style=\"color:#0b486b\">2.3 Term-by-Document matrix</span>\n",
    "\n",
    "A term-by-document matrix is a mathematical representation of a text corpus. It describes the frequency of terms that occur in the document collection. Each row corresponds to a document and each column correspond to a term. Thus the value that appears in row $j$ and column $i$ represents the frequency of appearing term $i$ in document $j$.\n",
    "\n",
    "We will represent two datasets with term-by-document matrix:\n",
    "\n",
    "* a collection of 100 Twitter messages about Geelong\n",
    "* a collection of 6 news articles (5 about Apple and 1 about politics)\n",
    "\n",
    "The data is already collected and stores in text files. Thus you will need to:\n",
    "\n",
    "* read the text files\n",
    "    * using file object\n",
    "* perform pre-processing\n",
    "    * using string methods\n",
    "    * using re package\n",
    "* construct the term-by-document matrix\n",
    "    * using numpy arrays and operations\n",
    "    "
   ]
  },
  {
   "cell_type": "markdown",
   "metadata": {},
   "source": [
    "### Twitter dataset\n",
    "First read the data:"
   ]
  },
  {
   "cell_type": "code",
   "execution_count": 24,
   "metadata": {},
   "outputs": [
    {
     "name": "stdout",
     "output_type": "stream",
     "text": [
      "GEELONG and beyond is the perfect FB page to keep you up to date on that area. Pop over and give them a LIKE too:\n",
      "\n",
      "https://t.co/hKvjPDsZKT\n",
      "\n",
      "CPSU members hungry for action at geelong trades hall http://t.co/gPAveTuSaV\n",
      "\n",
      "Club member Sharnee McIntosh and PT Anna Vines featured in this week's issue of the Geelong News.… https://t.co/ddIuHsOwJv\n",
      "\n",
      "RONE Melbourne, Geelong, Australia. http://t.co/zrXyw7pvZu\n",
      "\n",
      "RT @CPSUnion: Geelong to be hit by fed PS strike today. #cpsusafeguard http://t.co/bgWEDw9zCa http://t.co/FBMh8rKaKQ\n",
      "\n",
      "RT @Tradeshallglg: CPSU members meetingin geelong.  Standing room only http://t.co/SHUrGhixtJ\n",
      "\n",
      "RT @geelongaddy: Shire to test water over pool cost: http://t.co/mgYg1O4j2b http://t.co/bAsid1QEXl\n",
      "\n",
      "Hey pool champions of @surfcoastnotes did you not know when you ran for election? Disgraceful! #surfcoastpool http://t.co/UohzWEsWaP\n",
      "\n",
      "Geelong Social is out! http://t.co/vsHhsHezgR Stories via @MarkBeyerle @M_Wills_Avenue @Himekami64\n",
      "\n",
      "Disgraceful work @surfcoastnotes stop this, make a commitment to your community and get on with it! http://t.co/m1tWeZWQ76\n",
      "\n",
      "RT @Tradeshallglg: CPSU members meetingin geelong.  Standing room only http://t.co/SHUrGhixtJ\n",
      "\n",
      "RT @AustMarConsSoc: Outrageous. How many more dolphins is the Geelong Star allowed to kill before it's banned from fishing in Australia? ht…\n",
      "\n",
      "@angusbooker Hopefully Geelong. Imagine being short high speed boat ride from dingy Docklands to a sweet bayside workplace in Geelong.\n",
      "\n",
      "newtownblonde large pom poms have landed at urbanstalker_geelong and #celine approves! #pompoms… https://t.co/i9eOspkFzj\n",
      "\n",
      "#3Novices : ACCC eases GrainCorp, Emerald port rules http://t.co/cqc48x0siY Consumer watchdog reduces regulation on Melbourne, Geelong wh…\n",
      "\n",
      "RT @Tradeshallglg: CPSU members meetingin geelong.  Standing room only http://t.co/SHUrGhixtJ\n",
      "\n",
      "Last night was the second time I popped into the #BlueNote piano bar in downtown #Geelong - here is a… https://t.co/FI66suyUJz\n",
      "\n",
      "Tammy painting Kevin's face from City of Greater Geelong before information forum. http://t.co/Cr6lBd3aCC\n",
      "\n",
      "RT @Tradeshallglg: CPSU members meetingin geelong.  Standing room only http://t.co/SHUrGhixtJ\n",
      "\n",
      "RT @Tradeshallglg: CPSU members meetingin geelong.  Standing room only http://t.co/SHUrGhixtJ\n",
      "\n",
      "RT @geelongaddy: Shire to test water over pool cost: http://t.co/mgYg1O4j2b http://t.co/bAsid1QEXl\n",
      "\n",
      "RT @Dr_Mel_Thomson: Thinking of Women in leadership in Geelong, I think of @comm4geelong Pls come to our event,  Key note: @Vic_LeadSci htt…\n",
      "\n",
      "AFL Round 12 - Melbourne defeats Geelong by 24 points[QUOTE=\"Partridge, post: 39260902, mem... http://t.co/SHF73oZ7CL\n",
      "\n",
      "RT @geelongaddy: LIVE FROM 10AM: Geelong public workers go on strike http://t.co/O7LHyH29Af http://t.co/w5uFrnDKEY\n",
      "\n",
      "Factory trawler Geelong Star operators Seafish Tasmania in workshop on how to ...   http://t.co/zCC4TJvXDN\n",
      "\n",
      "@AFL@Hungryforsport swans trade restrictions 2015 are a joke yet Geelong and Hwks can trade in and out who they like despite their success\n",
      "\n",
      "CPSU members meetingin geelong.  Standing room only http://t.co/SHUrGhixtJ\n",
      "\n",
      "Bryon (left) &amp; Tammy (right) with attendees of Wadawurrung information forum Geelong. @AusLandcare http://t.co/cOWVvsJomT\n",
      "\n",
      "RT @cassiezervos: CSIRO protesters strike at Trades Hall Geelong, demanding for their rights @geelongaddy http://t.co/bs8JxOHHIS\n",
      "\n",
      "@CottonOn it went from Lara to Sunshine to come back to Geelong. @auspost is so efficient.... 😐\n",
      "\n",
      "RT @GeelongBTigers: Bookings are open for the Geelong Tigers bus for the game Richmond V's GWS Giants at the MCG on Saturday 4th of... http…\n",
      "\n",
      "Walk for the Dogs – Melbourne to Geelong 100kms | Sweet Shepherd Rescue Australia Inc http://t.co/DQpPanSSft\n",
      "\n",
      "RT @s_elliott79: @GreenestGreg @vline_geelong Regional Network Development Plan- book yourself into the Barwon South West session. http://t…\n",
      "\n",
      "RT @GreenestGreg: @s_elliott79 7:38 from Geelong was a 4 car N-set. 40% full at Lara, 95% full at Tarneit. 8min late @vline_geelong (grumbl…\n",
      "\n",
      "@JNorbs Disappointed to hear of you late arrivals. Expected better from #RRL @vline_geelong\n",
      "\n",
      "Rayban_Wholesale_52,Click_27 http://t.co/fjTChbmbY9 http://t.co/AtdZlXOalr @HOGGOLFBLOG @HOG_Geelong @HOLLYAMITCHELL @HOLLYCHICK1\n",
      "\n",
      "Trawler Geelong Star's practices under spotlight after dolphin deaths - via @abcnews http://t.co/u7zKmiglIp\n",
      "\n",
      "@vline_geelong you've been operating for four days and you've already managed to cancel trains 😑\n",
      "\n",
      "@GreenestGreg @vline_geelong Regional Network Development Plan- book yourself into the Barwon South West session. http://t.co/8WSFDP1UHu\n",
      "\n",
      "@vline_geelong 2/4 morning trains I've caught this week have been cancelled. Unacceptable. People have places to be. #regionalfaillink\n",
      "\n",
      "Attend the free seminar WOMEN IN LEADERSHIP at our Geelong Waterfront Campus 12.30pm Fri 10th July #women #leaders http://t.co/VxUr6XWknM …\n",
      "\n",
      "RT @GrowG21: #GROW will implement strategies to promote learning, engagement &amp; inclusion #GROWeducation #GROWrespect http://t.co/s34QSkk0RI\n",
      "\n",
      "Looking for a rewarding, flexible career move? We're expanding our service across greater Melbourne and Geelong!... http://t.co/EB6NTNBU9e\n",
      "\n",
      "RT @abcnewsAdelaide: Super trawler might breach SA fishing catch quota, Govt warns http://t.co/okMC4MwWfP #saparli #Adelaide http://t.co/D3…\n",
      "\n",
      "RT @Museontheloose: Geelong Social is out! http://t.co/RuSFxQSKdD Stories via @BellaGuria @LeButtery @Dulcerengel\n",
      "\n",
      "@s_elliott79 7:38 from Geelong was a 4 car N-set. 40% full at Lara, 95% full at Tarneit. 8min late @vline_geelong (grumble grumble)\n",
      "\n",
      "RT @TWRGeelong: In this week's edition catch up with the face of Brand Power, Sally Williams. http://t.co/SK7UW12YBP http://t.co/LBNiNXmeKQ\n",
      "\n",
      "RT @CPSUnion: Geelong to be hit by fed PS strike today. #cpsusafeguard http://t.co/bgWEDw9zCa http://t.co/FBMh8rKaKQ\n",
      "\n",
      "RT @CPSUnion: Geelong to be hit by fed PS strike today. #cpsusafeguard http://t.co/bgWEDw9zCa http://t.co/FBMh8rKaKQ\n",
      "\n",
      "Geelong day of action #cpsunion http://t.co/Ct7qlOx47m\n",
      "\n",
      "Trawler Geelong Star's practices under spotlight after dolphin deaths http://t.co/WkzqZE1vYS\n",
      "\n",
      "In this week's edition catch up with the face of Brand Power, Sally Williams. http://t.co/SK7UW12YBP http://t.co/LBNiNXmeKQ\n",
      "\n",
      "@vline_geelong RRL not working well,buses replacing trains #cantorganiseacrumbinabakery\n",
      "\n",
      "@LMBR_50 Trawler Geelong Star's practices under spotlight after dolphin deaths: The operators of the controversial fishing trawler Ge...\n",
      "\n",
      "Just in: Trawler Geelong Star's practices under spotlight after dolphin deaths http://t.co/NgwRgYfUvV #news\n",
      "\n",
      "RT @CPSUnion: Geelong to be hit by fed PS strike today. #cpsusafeguard http://t.co/bgWEDw9zCa http://t.co/FBMh8rKaKQ\n",
      "\n",
      "Lulay to play; could Lions QB be CFL’s most outstanding player? http://t.co/WencMWCXhE http://t.co/yGOjtZOGvV\n",
      "\n",
      "Trawler Geelong Star's practices under spotlight after dolphin deaths: The operators of the controversial fishing… http://t.co/V79Uuzzc40\n",
      "\n",
      "RT @geelongaddy: Rhys Stanley out for the season: http://t.co/Kh4S9m3wMK http://t.co/6vuUz2HaNv\n",
      "\n",
      "Rhys Stanley out for the season: http://t.co/Kh4S9m3wMK http://t.co/6vuUz2HaNv\n",
      "\n",
      "Trawler Geelong Star's practices under spotlight after dolphin deaths http://t.co/dMZdeaMtZJ\n",
      "\n",
      "Trawler Geelong Star's practices under spotlight after dolphin deaths http://t.co/CEfIFZjtj8\n",
      "\n",
      "RT @RichardMBaines: Trawler Geelong Star's practices under spotlight after dolphin deaths http://t.co/PfBFoQLNg0 via @ABCNews #politas #aus…\n",
      "\n",
      "@Luke5SOS COME TO TORQUAY OR MY SCHOOL GEELONG LUTHERAN COLLEGE TODAY!!! ITS 1 &amp; 1/2 AWAY FROM MELBOURNE!!!! PRETTY PRETTY PLEASE!?!?!?\n",
      "\n",
      "Top geelong cats articles from last 48 hrs http://t.co/WunvbbEpzV\n",
      "\n",
      "Bookings are open for the Geelong Tigers bus for the game Richmond V's GWS Giants at the MCG on Saturday 4th of... http://t.co/Z9rlWVP7i2\n",
      "\n",
      "RT @Comm4Geelong: Interesting piece on CfG member @LtCreatures #Geelong in @TWRGeelong http://t.co/C0hcj8cDIi #Beer #BuyLocal http://t.co/X…\n",
      "\n",
      "CSIRO protesters strike at Trades Hall Geelong, demanding for their rights @geelongaddy http://t.co/bs8JxOHHIS\n",
      "\n",
      "Trawler Geelong Star's practices under spotlight after dolphin deaths http://t.co/9znsrBYe4u\n",
      "\n",
      "Geelong Mission seeks to expand welcome to seafarers http://t.co/LwIpb6g2wR\n",
      "\n",
      "Interesting piece on CfG member @LtCreatures #Geelong in @TWRGeelong http://t.co/C0hcj8cDIi #Beer #BuyLocal http://t.co/XUL12OFrNA\n",
      "\n",
      "#AU Trawler Geelong Star's practices under spotlight after dolphin deaths http://t.co/ED8krZ4KNK #abcnews\n",
      "\n",
      "#AU Trawler Geelong Star's practices under spotlight after dolphin deaths http://t.co/Nplk1PeSGb #abcnews\n",
      "\n",
      "RT @geelongaddy: LIVE FROM 10AM: Geelong public workers go on strike http://t.co/O7LHyH29Af http://t.co/w5uFrnDKEY\n",
      "\n",
      "Commissions passage the sights but sounds pertinent to geelong, victoria: odAwed\n",
      "\n",
      "Trawler Geelong Star's practices under spotlight after dolphin deaths http://t.co/PfBFoQLNg0 via @ABCNews #politas #auspol\n",
      "\n",
      "Geelong Organic is out! http://t.co/rGIXOqtRTM Stories via @vicenvironment @gogreen_natural @MylenePillot\n",
      "\n",
      "LIVE FROM 10AM: Geelong public workers go on strike http://t.co/O7LHyH29Af http://t.co/w5uFrnDKEY\n",
      "\n",
      "Centrelink, Medicare and child support services affected as Geelong public sector strike today @geelongaddy http://t.co/LfaeCgHmV6\n",
      "\n",
      "#Melbourne, #Geelong public sector workers protesting govt cuts with #cpsusafeguard actions. Help tell the story -&gt; http://t.co/JHcnsCPi4Y\n",
      "\n",
      "Trawler Geelong Star's practices under spotlight after dolphin deaths http://t.co/WRmiIf9fdN\n",
      "\n",
      "Trawler Geelong Star's practices under spotlight after dolphin deaths http://t.co/a7FMTHdGtb #abcnews\n",
      "\n",
      "#ABCNewsAus: Trawler Geelong Star's practices under spotlight after dolphin deaths http://t.co/kLvzy4xyWS #News_Monsta\n",
      "\n",
      "RT @CPSUnion: Geelong to be hit by fed PS strike today. #cpsusafeguard http://t.co/bgWEDw9zCa http://t.co/FBMh8rKaKQ\n",
      "\n",
      "Geelong Star operators to take workshop on how to avoid killing sea mammals http://t.co/96gCD9kKjm #geelongstar http://t.co/n1GHVpawyP\n",
      "\n",
      "@LMBR_50 Trawler Geelong Star's practices under spotlight after dolphin deaths: The operators of the controversial fishing trawler Ge...\n",
      "\n",
      "#Geelong, Australia: The Scarf Festival 2015 is now on at the National Wool Museum. http://t.co/5jaTTaYKl8 http://t.co/GYHYJACMOZ\n",
      "\n",
      "ABC: The operators of the controversial fishing trawler Geelong Star are having their practices scrutinised in... http://t.co/4CBzwROHMO\n",
      "\n",
      "And yet another nothing story from the Geelong addy on Land 400 and Sarah Henderson MP . http://t.co/ONOo34Jrzx\n",
      "\n",
      "Repost: I look at the happenings with Little Creatures Geelong, including White Rabbit and Furphy http://t.co/HHjDPxLLAr\n",
      "\n",
      "Centrelink, Medicare and child support services affected as Geelong public sector workers strike today: http://t.co/O7LHyGKyIH\n",
      "\n",
      "@MattyHeraldSun Geelong not available too?\n",
      "\n",
      "#TodayInHistory 26 June1857 Australias 1st country railway #Melbourne #Geelong opened to great fanfare http://t.co/Q3olNd31wW #history #rail\n",
      "\n",
      "How desperate for a page filler is the Geelong Addy with this drivel . http://t.co/gaiiJCgVoF\n",
      "\n",
      "Do you practice #yoga? http://t.co/Zf67ZGtksV #SeaireYoga offer private classes to get you started #Geelong #nourish #mindbodysoul\n",
      "\n",
      "Chicken processor Turi Foods drops labour-hire company over exploited worker claims at Geelong processing plant http://t.co/N2xvupsE5M\n",
      "\n",
      "Flying circus cabaret all set for Lyons’ 50th bash ... http://t.co/YuKa0oftzc … http://t.co/1qpCfgaL3U\n",
      "\n",
      "RT @CLAN_AU: @manderson1944 Thanks heaps Margaret sent 20more #CLAN beanies #Geelong makes total160 woolenhats #Knitters http://t.co/xwz6P9…\n",
      "\n",
      "@nutwals Hi Peter, there was a track fault at Southern Cross and the train could not depart, and that formed the next train into Melbourne\n",
      "\n",
      "Geelong Star Factory Trawler Australian factory trawler kills nine dolphins - Echonetdaily: http://t.co/W2dDTf5wbW http://t.co/6heBQo1GjE\n"
     ]
    }
   ],
   "source": [
    "import os\n",
    "\n",
    "# get current working directory\n",
    "cwd = os.getcwd()   \n",
    "\n",
    "# join the subdirectory of the data and data file name\n",
    "file_path = os.path.join(cwd, \"data/prac06/tweets.txt\")\n",
    "\n",
    "# read the contents of the file and store it in a list\n",
    "i = 0\n",
    "tweets = []\n",
    "fp = open(file_path, encoding='utf8')\n",
    "tweets = fp.readlines()\n",
    "for tweet in tweets:\n",
    "    print(tweet)"
   ]
  },
  {
   "cell_type": "markdown",
   "metadata": {},
   "source": [
    "Mostly when dealing with data, we have to perform some sort of data pre-processing. Data collection is often loosely controlled, resulting in out of the range values, missing values, and etc. Thus quality of the data is first and formost before running an analysis. This step is specific to the nature of the data. For example for text data it may consist of cleaning, normalization, tokenization, and etc. \n",
    "\n",
    "In this case, our pre-processing consists of:\n",
    "\n",
    "* converting all the words into lower case to remove the effect of the letter case\n",
    "* replacing the URLs with a simple string such as 'url'. From the previous cell, you should be able to see that many of the tweets contain a URL. Since we are not using them now, we can remove them or replace them.\n",
    "* Removing the punctuations"
   ]
  },
  {
   "cell_type": "code",
   "execution_count": 25,
   "metadata": {
    "collapsed": true
   },
   "outputs": [],
   "source": [
    "import numpy as np\n",
    "import re\n",
    "import string\n",
    "from collections import Counter\n",
    "\n",
    "def pre_process(doc):\n",
    "    \"\"\"\n",
    "    pre-processes a doc\n",
    "      * Converts the tweet into lower case,\n",
    "      * removes the URLs,\n",
    "      * removes the punctuations\n",
    "      * tokenizes the tweet\n",
    "    \"\"\"\n",
    "    \n",
    "    doc = doc.lower()\n",
    "    # gettign rid of non ascii codes\n",
    "    try:\n",
    "        doc = doc.decode('ascii', 'ignore')\n",
    "    except:\n",
    "        'It is already decode'\n",
    "    \n",
    "    # repalcing URLs\n",
    "    url_pattern = \"http://[^\\s]+|https://[^\\s]+|www.[^\\s]+|[^\\s]+\\.com|bit.ly/[^\\s]+\"\n",
    "    doc = re.sub(url_pattern, 'url', doc) \n",
    "\n",
    "    punctuation = r\"\\(|\\)|#|\\'|\\\"|-|:|\\\\|\\/|!|_|,|=|;|>|<|\\.\"\n",
    "    doc = re.sub(punctuation, ' ', doc)\n",
    "    \n",
    "    return doc.split()"
   ]
  },
  {
   "cell_type": "code",
   "execution_count": 26,
   "metadata": {},
   "outputs": [
    {
     "name": "stdout",
     "output_type": "stream",
     "text": [
      "RT @robdelaney: Since you're aware that the White House is populated by several white supremacists, maybe Monday would be a good day to beg…\n"
     ]
    },
    {
     "data": {
      "text/plain": [
       "['rt',\n",
       " '@robdelaney',\n",
       " 'since',\n",
       " 'you',\n",
       " 're',\n",
       " 'aware',\n",
       " 'that',\n",
       " 'the',\n",
       " 'white',\n",
       " 'house',\n",
       " 'is',\n",
       " 'populated',\n",
       " 'by',\n",
       " 'several',\n",
       " 'white',\n",
       " 'supremacists',\n",
       " 'maybe',\n",
       " 'monday',\n",
       " 'would',\n",
       " 'be',\n",
       " 'a',\n",
       " 'good',\n",
       " 'day',\n",
       " 'to',\n",
       " 'beg…']"
      ]
     },
     "execution_count": 26,
     "metadata": {},
     "output_type": "execute_result"
    }
   ],
   "source": [
    "print(r['text'])\n",
    "pre_process(r['text'])"
   ]
  },
  {
   "cell_type": "markdown",
   "metadata": {},
   "source": [
    "**Exercise:**\n",
    "\n",
    "Use the function provided to pre-process one of the tweets."
   ]
  },
  {
   "cell_type": "code",
   "execution_count": 27,
   "metadata": {},
   "outputs": [
    {
     "name": "stdout",
     "output_type": "stream",
     "text": [
      "GEELONG and beyond is the perfect FB page to keep you up to date on that area. Pop over and give them a LIKE too:\n",
      "\n",
      "['geelong', 'and', 'beyond', 'is', 'the', 'perfect', 'fb', 'page', 'to', 'keep', 'you', 'up', 'to', 'date', 'on', 'that', 'area', 'pop', 'over', 'and', 'give', 'them', 'a', 'like', 'too']\n"
     ]
    }
   ],
   "source": [
    "# code here\n",
    "print(tweets[0])\n",
    "print(pre_process(tweets[0]))"
   ]
  },
  {
   "cell_type": "code",
   "execution_count": 28,
   "metadata": {
    "collapsed": true
   },
   "outputs": [],
   "source": [
    "def termdoc(docs):\n",
    "    \"\"\"\n",
    "    returns the term-by-document matrix and the vocabulary of the passed corpus\n",
    "    \"\"\"\n",
    "    \n",
    "    vocab = set()   \n",
    "    termdoc_sparse = []\n",
    "\n",
    "    for doc in docs:\n",
    "        # pre-process the doc\n",
    "        doc_tokens = pre_process(doc)\n",
    "        # computes the frequencies for doc\n",
    "        doc_sparse = Counter(doc_tokens)    \n",
    "\n",
    "        termdoc_sparse.append(doc_sparse)\n",
    "\n",
    "        # update the vocab\n",
    "        vocab.update(doc_sparse.keys())  \n",
    "\n",
    "    vocab = list(vocab)\n",
    "    vocab.sort()\n",
    "\n",
    "    n_docs = len(docs)\n",
    "    n_vocab = len(vocab)\n",
    "    termdoc_dense = np.zeros((n_docs, n_vocab), dtype=int)\n",
    "\n",
    "    for j, doc_sparse in enumerate(termdoc_sparse):\n",
    "        for term, freq in doc_sparse.items():\n",
    "            termdoc_dense[j, vocab.index(term)] = freq\n",
    "            \n",
    "    return termdoc_dense, vocab"
   ]
  },
  {
   "cell_type": "code",
   "execution_count": 29,
   "metadata": {},
   "outputs": [
    {
     "data": {
      "text/plain": [
       "(101, 590)"
      ]
     },
     "execution_count": 29,
     "metadata": {},
     "output_type": "execute_result"
    }
   ],
   "source": [
    "tweets_termdoc, tweets_vocab = termdoc(tweets)\n",
    "tweets_termdoc.shape"
   ]
  },
  {
   "cell_type": "markdown",
   "metadata": {},
   "source": [
    "Lets look at the vocabulary:"
   ]
  },
  {
   "cell_type": "markdown",
   "metadata": {
    "collapsed": true
   },
   "source": [
    "Lets look at one of tweets:"
   ]
  },
  {
   "cell_type": "code",
   "execution_count": 30,
   "metadata": {},
   "outputs": [
    {
     "name": "stdout",
     "output_type": "stream",
     "text": [
      "GEELONG and beyond is the perfect FB page to keep you up to date on that area. Pop over and give them a LIKE too:\n",
      "\n",
      "[0 0 0 0 0 0 0 0 0 0 0 0 0 0 0 0 0 0 0 0 0 0 0 0 0 0 0 0 0 0 0 0 0 0 0 0 0\n",
      " 0 0 0 0 0 0 0 0 0 0 0 0 0 0 0 0 0 0 0 0 0 0 0 0 0 0 0 0 0 0 0 0 0 0 0 0 0\n",
      " 0 1 0 0 0 0 0 0 0 0 0 0 0 0 0 0 0 2 0 0 0 0 1 0 0 0 0 0 0 0 0 0 0 0 0 0 0\n",
      " 0 0 0 0 0 0 0 0 0 0 0 0 0 0 0 0 0 1 0 0 0 0 0 0 0 0 0 0 0 0 0 0 0 0 0 0 0\n",
      " 0 0 0 0 0 0 0 0 0 0 0 0 0 0 0 0 0 0 0 0 0 0 0 0 0 0 0 0 0 0 0 0 0 0 0 0 1\n",
      " 0 0 0 0 0 0 0 0 0 0 0 0 0 0 0 0 0 0 0 0 0 0 0 0 0 0 0 0 0 0 0 0 0 0 0 0 0\n",
      " 0 1 0 0 0 0 0 0 0 0 0 0 0 0 0 0 0 0 0 0 0 0 1 0 0 0 1 0 0 0 0 0 0 0 0 0 0\n",
      " 0 0 0 0 0 0 0 0 0 0 0 0 0 0 0 0 0 0 0 0 0 0 0 0 0 0 0 0 0 0 0 0 0 0 1 0 0\n",
      " 0 0 0 0 0 1 0 0 0 0 0 0 0 0 0 0 0 0 0 0 0 0 0 0 0 1 0 0 0 0 0 0 0 0 0 0 0\n",
      " 0 0 0 0 0 0 0 0 0 0 0 0 0 0 0 0 0 0 0 0 0 0 0 0 0 0 0 0 0 0 0 0 0 0 0 0 0\n",
      " 0 0 0 1 0 0 0 0 0 0 0 0 0 0 0 1 1 0 0 0 0 1 0 0 0 0 0 0 0 0 0 0 0 0 0 0 0\n",
      " 0 0 1 0 0 0 0 0 0 0 0 0 0 0 0 0 0 0 0 0 0 0 0 0 0 0 0 0 0 0 0 0 0 0 0 0 0\n",
      " 0 0 0 0 0 0 0 0 0 0 0 0 0 0 0 0 0 0 0 0 0 0 0 0 0 0 0 0 0 0 0 0 0 0 0 0 0\n",
      " 0 0 0 0 0 0 0 0 0 0 0 0 0 0 0 0 0 0 0 0 0 0 0 0 0 0 0 0 0 0 0 1 1 0 1 0 0\n",
      " 0 0 0 0 0 0 2 0 0 1 0 0 0 0 0 0 0 0 0 0 0 0 0 1 0 0 0 0 0 0 0 0 0 0 0 0 0\n",
      " 0 0 0 0 0 0 0 0 0 0 0 0 0 0 0 0 0 0 0 0 0 0 0 0 0 0 0 1 0 0 0 0 0 0 0]\n"
     ]
    }
   ],
   "source": [
    "j = 0\n",
    "print(tweets[j])\n",
    "print(tweets_termdoc[j])"
   ]
  },
  {
   "cell_type": "code",
   "execution_count": 31,
   "metadata": {},
   "outputs": [
    {
     "data": {
      "text/plain": [
       "128"
      ]
     },
     "execution_count": 31,
     "metadata": {},
     "output_type": "execute_result"
    }
   ],
   "source": [
    "tweets_vocab.index('beyond')"
   ]
  },
  {
   "cell_type": "code",
   "execution_count": 32,
   "metadata": {},
   "outputs": [
    {
     "data": {
      "text/plain": [
       "0"
      ]
     },
     "execution_count": 32,
     "metadata": {},
     "output_type": "execute_result"
    }
   ],
   "source": [
    "tweets_termdoc[j][127]"
   ]
  },
  {
   "cell_type": "markdown",
   "metadata": {},
   "source": [
    "So basically, now each tweet is represented by a vector of size `len(tweets_vocab)`."
   ]
  },
  {
   "cell_type": "markdown",
   "metadata": {},
   "source": [
    "### News dataset\n",
    "Similar to previous sections, the data is stored in text files names as'news1.txt', ..., 'news5.txt'. All we have to do is read the files, construct the corpus and send it to `termdoc()` function."
   ]
  },
  {
   "cell_type": "code",
   "execution_count": 33,
   "metadata": {
    "collapsed": true
   },
   "outputs": [],
   "source": [
    "n_docs = 6\n",
    "cwd = os.getcwd()   \n",
    "news = []\n",
    "\n",
    "for j in range(1, n_docs+1):\n",
    "    filename = \"news{}.txt\".format(j)\n",
    "    file_path = os.path.join(cwd, \"data/prac06/{}\".format(filename))\n",
    "    fp = open(file_path, encoding='utf8')\n",
    "    news.append(fp.read())\n",
    "\n",
    "news_termdoc, news_vocab = termdoc(news)"
   ]
  },
  {
   "cell_type": "markdown",
   "metadata": {},
   "source": [
    "So now each news article is represented with a large vector of size `len(news_vocab)`. We can do many things with this representation. For example measuring the distance between two documents. The first 5 news articles are tech news and about Apple, but the 6th one is about politics. We expect that tech news be more similar to each other rather than to the politics news. In other words the distance between two articles from tech news should be less than the distance between a tech news article and a news article about politics. This is shown below:"
   ]
  },
  {
   "cell_type": "code",
   "execution_count": 34,
   "metadata": {},
   "outputs": [
    {
     "name": "stdout",
     "output_type": "stream",
     "text": [
      "0.380914826498\n",
      "0.415450236967\n"
     ]
    }
   ],
   "source": [
    "print(cosine_distance(news_termdoc[1], news_termdoc[2]))   # both about Apple\n",
    "print(cosine_distance(news_termdoc[1], news_termdoc[4]))   # one from tech world, the other from politics"
   ]
  }
 ],
 "metadata": {
  "kernelspec": {
   "display_name": "Python 3",
   "language": "python",
   "name": "python3"
  },
  "language_info": {
   "codemirror_mode": {
    "name": "ipython",
    "version": 3
   },
   "file_extension": ".py",
   "mimetype": "text/x-python",
   "name": "python",
   "nbconvert_exporter": "python",
   "pygments_lexer": "ipython3",
   "version": "3.6.1"
  }
 },
 "nbformat": 4,
 "nbformat_minor": 1
}

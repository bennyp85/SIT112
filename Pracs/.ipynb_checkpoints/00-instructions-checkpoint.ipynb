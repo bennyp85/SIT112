{
 "cells": [
  {
   "cell_type": "markdown",
   "metadata": {},
   "source": [
    "# <span style=\"color:#0b486b\">SIT 112 - Data Science Concepts</span>\n",
    "\n",
    "---\n",
    "Lecturer: Truyen Tran | truyen.tran@deakin.edu.au<br />\n",
    "Assistant: Trang Pham | phtra@deakin.edu.au<br />\n",
    "\n",
    "School of Information Technology, <br />\n",
    "Deakin University, VIC 3216, Australia.\n",
    "\n",
    "---\n",
    "\n",
    "## <span style=\"color:#0b486b\">Practical Session 0: Python Primer and Installation Instructions</span>\n",
    "\n",
    "**The purpose of this session is:**\n",
    "\n",
    "1. giving you a very short introduction to Python and different ways you can use it\n",
    "2. guiding you step by step to install Python"
   ]
  },
  {
   "cell_type": "markdown",
   "metadata": {},
   "source": [
    "---\n",
    "# <span style=\"color:#0b486b\">1. What is Python?</span>"
   ]
  },
  {
   "cell_type": "markdown",
   "metadata": {},
   "source": [
    "[Python](http://www.python.org/) is a modern, general-purpose, object-oriented, high-level programming language.\n",
    "\n",
    "**General characteristics of Python**:\n",
    "\n",
    "* **clean and simple language:** Easy-to-read and intuitive code, easy-to-learn minimalistic syntax, maintainability scales well with size of projects.\n",
    "* **expressive language:** Fewer lines of code, fewer bugs, easier to maintain.\n",
    "\n",
    "**Technical details**:\n",
    "\n",
    "* **dynamically typed:** No need to define the type of variables, function arguments or return types.\n",
    "* **automatic memory management:** No need to explicitly allocate and deallocate memory for variables and data arrays. No memory leak bugs. \n",
    "* **interpreted:** No need to compile the code. The Python interpreter reads and executes the python code directly.\n",
    "\n",
    "**Advantages**:\n",
    "\n",
    "* The main advantage is ease of programming, minimizing the time required to develop, debug and maintain the code.\n",
    "* Well designed language that encourage many good programming practices:\n",
    " * Modular and object-oriented programming, good system for packaging and re-use of code. This often results in more transparent, maintainable and bug-free code.\n",
    " * Documentation tightly integrated with the code.\n",
    "* A large standard library, and a large collection of add-on packages.\n",
    "\n",
    "**Disadvantages**:\n",
    "\n",
    "* Since Python is an interpreted and dynamically typed programming language, the execution of python code can be slow compared to compiled statically typed programming languages, such as C and Fortran. \n",
    "* Somewhat decentralized, with different environment, packages and documentation spread out at different places. Can make it harder to get started."
   ]
  },
  {
   "cell_type": "markdown",
   "metadata": {},
   "source": [
    "---\n",
    "# <span style=\"color:#0b486b\">2. Versions of Python</span>\n",
    "\n",
    "There are two versions of Python that are being used by the community: Python 2 and Python 3. Python 3 will eventually supercede Python 2, and it is not backward-compatible with Python 2.\n",
    "\n",
    "**We will be using Python 3 (3.5 to be more specific) in this course.**"
   ]
  },
  {
   "cell_type": "markdown",
   "metadata": {},
   "source": [
    "---\n",
    "# <span style=\"color:#0b486b\">3. Installing Python</span>\n"
   ]
  },
  {
   "cell_type": "markdown",
   "metadata": {},
   "source": [
    "There are many ways to install Python and necessary modules for this course but the most straightforward way is using a scientific distribution such as [Anaconda Scientific Distribution](https://store.continuum.io/cshop/anaconda/). We highly recommend you to use **anaconda** because it comes with most of the modules you need for the course, e.g IPython, Jupyter, numpy, matplotlib, and Spyder and you don't need to install them individually..  Follow these steps to install anaconda:\n",
    "\n",
    "1. Download Anaconda with Python 3.5 compatible with your OS from http://continuum.io/downloads.\n",
    "2. Double click on the downloaded file.\n",
    "3. Click on Next\n",
    "<br />\n",
    "<!-- <img src=\"files/images/anaconda_installation_1.png\" width=\"400\"> -->\n",
    "<img src=\"images/anaconda_installation_1.png\" width=\"400\">\n",
    "<br />\n",
    "4. Click on I Agree\n",
    "<!-- <img src=\"files/images/anaconda_installation_2.png\" width=\"400\"> -->\n",
    "<img src=\"images/anaconda_installation_2.png\" width=\"400\">\n",
    "<br />\n",
    "5. Click on Next\n",
    "<!-- <img src=\"files/images/anaconda_installation_3.png\" width=\"400\"> -->\n",
    "<img src=\"images/anaconda_installation_3.png\" width=\"400\">\n",
    "<br />\n",
    "5. Click on Next\n",
    "<!-- <img src=\"files/images/anaconda_installation_4.png\" width=\"400\"> -->\n",
    "<img src=\"images/anaconda_installation_4.png\" width=\"400\">\n",
    "<br />\n",
    "6. Check both boxes and Click on Install\n",
    "<!-- <img src=\"files/images/anaconda_installation_5.png\" width=\"400\"> -->\n",
    "<img src=\"images/anaconda_installation_5.png\" width=\"400\">\n",
    "<br />\n",
    "7. Click on Next and complete the installation.\n",
    "<br />\n",
    "<!-- <img src=\"files/images/anaconda_installation_6.png\" width=\"400\"> -->\n",
    "<img src=\"images/anaconda_installation_6.png\" width=\"400\">\n",
    "<br />\n",
    "8. Check out the [Continuum documentation](http://docs.continuum.io/anaconda/install.html) if there is a problem with installation. "
   ]
  },
  {
   "cell_type": "markdown",
   "metadata": {},
   "source": [
    "---\n",
    "# <span style=\"color:#0b486b\">4. Windows command prompts/Mac OS terminals</span>"
   ]
  },
  {
   "cell_type": "markdown",
   "metadata": {},
   "source": [
    "We can start using python from command prompts (on Windows) or terminals (on Mac OS). A terminal (Mac) or a command prompt (Windows) can be launched in different ways:\n",
    "\n",
    "* Windows:\n",
    "    - Click the Start. In the search box, type cmd.\n",
    "    - Or you can launch a command prompt in a specific folder by clicking on the address bar and typing cmd\n",
    "\n",
    "\n",
    "* Mac OS:\n",
    "    - Open a new Finder window. From a sidebar, choose Applications and then go to Utilities. Double click on the Terminal.\n",
    "    - Or search Terminal on the Splotlight.\n",
    "    - Or launch a terminal in a specific folder:\n",
    "        + Head into System Preferences and select Keyboard > Shortcuts > Services.\n",
    "        + Find “New Terminal at Folder” in the settings and click the box.\n",
    "        + When you are in Finder, just right-click a folder and select “open Terminal”.\n",
    "\n",
    "\n",
    "* **Note**: For all practicals in Room LP1.400 with Mac, you need to start a virtual environment for python3. Just type \"source activate jupyter\" in your terminal. You do not need to do this with your own computer if you already installed anaconda for python3."
   ]
  },
  {
   "cell_type": "markdown",
   "metadata": {},
   "source": [
    "---\n",
    "# <span style=\"color:#0b486b\">5. Python interpreter</span>"
   ]
  },
  {
   "cell_type": "markdown",
   "metadata": {},
   "source": [
    "The standard way to use the Python programming language is to use the Python interpreter to run python code. It reads and executes the file that is passed to it. Use the command <kbd>python</kbd> in a terminal to invoke the Python interpreter.\n",
    "\n",
    "For example, suppose the file `'my-program.py'` contains some Python code. To run it, execute the following command in a terminal window: \n",
    "\n",
    "<kbd>> python my-program.py</kbd>\n",
    "\n",
    "We can also start the interpreter by simply typing ``python`` at the command line, and interactively type python code into the interpreter:\n",
    "\n",
    "<!-- <img src=\"files/images/python_screenshot.png\" width=\"604\"> -->\n",
    "<img src=\"images/python_screenshot.png\" width=\"604\">\n",
    "\n",
    "\n",
    "This is often how we want to work when developing scientific applications, or when doing small calculations. But the standard python interpreter is not very convenient for this kind of work, due to a number of limitations."
   ]
  },
  {
   "cell_type": "markdown",
   "metadata": {},
   "source": [
    "---\n",
    "# <span style=\"color:#0b486b\">6. IPython: Interactive Python</span>"
   ]
  },
  {
   "cell_type": "markdown",
   "metadata": {},
   "source": [
    "IPython is an interactive shell that addresses the limitation of the standard python interpreter, and it is a work-horse for scientific use of python. It provides an interactive prompt to the python interpreter with a greatly improved user-friendliness. You can start IPython by running the command <kbd>ipython</kbd> in your terminal.\n",
    "\n",
    "<!-- <img src=\"files/images/ipython_screenshot.png\" width=\"600\"> -->\n",
    "<img src=\"images/ipython_screenshot.png\" width=\"600\">\n",
    "\n",
    "Some of the many useful features of IPython includes:\n",
    "\n",
    "* Command history, which can be browsed with the up and down arrows on the keyboard.\n",
    "* Tab auto-completion.\n",
    "* In-line editing of code.\n",
    "* Object introspection, and automatic extract of documentation strings from python objects like classes and functions.\n",
    "* Good interaction with operating system shell.\n",
    "* Support for multiple parallel back-end processes, that can run on computing clusters or cloud services like Amazon EE2.\n",
    "\n"
   ]
  },
  {
   "cell_type": "markdown",
   "metadata": {},
   "source": [
    "---\n",
    "# <span style=\"color:#0b486b\">7. Jupyter Notebook</span>"
   ]
  },
  {
   "cell_type": "markdown",
   "metadata": {},
   "source": [
    "[Jupyter notebook](https://jupyter.org/) (formerly known as IPython notebook) is an HTML-based notebook environment for Python, similar to Mathematica or Maple. It is based on the IPython shell, but provides a cell-based web-based environment with great interactivity, where calculations can be organized and documented in a structured way.\n",
    "\n",
    "Although Jupyter notebooks use a web browser as graphical interface and can be set up to be accessed remotely, they are usually run locally from the same computer that runs the browser. To start a new Jupyter notebook session, run the following command in your terminal:\n",
    "\n",
    "<kbd>> jupyter notebook</kbd>\n",
    "    \n",
    "<!-- <img src=\"files/images/jupyter_screenshot.png\"> -->\n",
    "<img src=\"images/jupyter_screenshot.png\">\n",
    "\n",
    "This will open a new browser window (or a new tab in an existing window) with an index page where existing files and folders are shown. The information printed on the screen says that:\n",
    "\n",
    "    Jupyter Notebook is running at: http://localhost:8888/\n",
    "    \n",
    "\n",
    "Therefore if a new tab or page was not opened automatically or you closed it, type this address into your browser and hit Enter to navigate to the index page.\n",
    "\n",
    "<!-- <img src=\"files/images/ipython_notebook_screenshot_1.png\" width=\"800\"> -->\n",
    "<img src=\"images/ipython_notebook_screenshot_1.png\" width=\"800\">\n",
    "\n",
    "You can navigate to where your Jupyter notebooks are stored (with \\*.ipynb extension) and open the exisiting notebooks or create new ones.\n",
    "\n",
    "<!-- <img src=\"files/images/ipython_notebook_screenshot_2.png\" width=\"800\"> -->\n",
    "<img src=\"images/ipython_notebook_screenshot_2.png\" width=\"800\">\n",
    "\n",
    "\n",
    "Or use the following command to start Jupyter notebook from a specific directory:\n",
    "\n",
    "\n",
    "<kbd>> jupyter notebook DIR</kbd>"
   ]
  },
  {
   "cell_type": "markdown",
   "metadata": {},
   "source": [
    "## <span style=\"color:#0b486b\"> 7.1 Using Jupyter Notebook</span>"
   ]
  },
  {
   "cell_type": "markdown",
   "metadata": {},
   "source": [
    "Since all the tutorials and practical sessions of this course are delivered in Jupyter notebook format, make sure you know how to use them. [This tutorial](00-Jupyter-Notebook.ipynb) describes how to start, create and use Jupyter Notebook in details. "
   ]
  },
  {
   "cell_type": "markdown",
   "metadata": {},
   "source": [
    " ---\n",
    "# <span style=\"color:#0b486b\">8. Spyder</span>"
   ]
  },
  {
   "cell_type": "markdown",
   "metadata": {},
   "source": [
    "[Spyder](http://code.google.com/p/spyderlib/) is a MATLAB-like IDE for scientific computing with python. It has the many advantages of a traditional IDE environment, for example that everything from code editing, execution and debugging is carried out in a single environment, and work on different calculations can be organized as projects in the IDE environment. Start Spyder by running the command ``spyder``.\n",
    "\n",
    "<kbd>> spyder</kbd>\n",
    "    \n",
    "<!-- <img src=\"files/images/spyder_screenshot.png\" width=\"800\"> -->\n",
    "<img src=\"images/spyder_screenshot.png\" width=\"800\">\n",
    "\n",
    "Some advantages of Spyder:\n",
    "\n",
    "* Powerful code editor, with syntax high-lighting, dynamic code inspection and integration with the python debugger.\n",
    "* Variable explorer, IPython command prompt.\n",
    "* Integrated documentation and help."
   ]
  },
  {
   "cell_type": "markdown",
   "metadata": {},
   "source": [
    " ---\n",
    "# <span style=\"color:#0b486b\">9. Read further</span>"
   ]
  },
  {
   "cell_type": "markdown",
   "metadata": {},
   "source": [
    " * [Python](http://www.python.org) The official Python web site\n",
    " * [Python tutorials](http://docs.python.org/2/tutorial) The official Python tutorials\n",
    " * [Introduction to Python Programming](https://classroom.udacity.com/courses/ud1110) A Udacity course\n",
    " * [Think Python](http://www.greenteapress.com/thinkpython) A free book on Python\n",
    " * [Google's Python Class](https://developers.google.com/edu/python/) Google's Python class\n",
    " * [Code Academy Python](http://www.codecademy.com/tracks/python). Learn Python on Code Academy "
   ]
  }
 ],
 "metadata": {
  "kernelspec": {
   "display_name": "Python 3",
   "language": "python",
   "name": "python3"
  },
  "language_info": {
   "codemirror_mode": {
    "name": "ipython",
    "version": 3
   },
   "file_extension": ".py",
   "mimetype": "text/x-python",
   "name": "python",
   "nbconvert_exporter": "python",
   "pygments_lexer": "ipython3",
   "version": "3.6.1"
  }
 },
 "nbformat": 4,
 "nbformat_minor": 1
}

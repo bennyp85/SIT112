{
 "cells": [
  {
   "cell_type": "markdown",
   "metadata": {},
   "source": [
    "# <span style=\"color:#0b486b\">SIT 112 - Data Science Concepts</span>\n",
    "\n",
    "---\n",
    "Lecturer: Truyen Tran | truyen.tran@deakin.edu.au<br />\n",
    "\n",
    "\n",
    "School of Information Technology, <br />\n",
    "Deakin University, VIC 3215, Australia.\n",
    "\n",
    "---"
   ]
  },
  {
   "cell_type": "markdown",
   "metadata": {},
   "source": [
    "## <span style=\"color:#0b486b\">Practical Session : Twitter API</span>\n",
    "\n",
    "**The purpose of this session is to teach you:**\n",
    "\n",
    "1. How to use Twitter API\n",
    "2. Distances\n",
    "3. Term-by-Document matrix\n"
   ]
  },
  {
   "cell_type": "markdown",
   "metadata": {},
   "source": [
    "---\n",
    "## <span style=\"color:#0b486b\">1. Twitter API</span>\n",
    "\n",
    "To work with Twitter API, we use a package called `TwitterAPI`. You can install it by executing the cell below if you don't have it on your machine."
   ]
  },
  {
   "cell_type": "code",
   "execution_count": 1,
   "metadata": {},
   "outputs": [
    {
     "name": "stdout",
     "output_type": "stream",
     "text": [
      "Requirement already satisfied: TwitterAPI in /Users/ben/anaconda/lib/python3.6/site-packages\n",
      "Requirement already satisfied: requests-oauthlib in /Users/ben/anaconda/lib/python3.6/site-packages (from TwitterAPI)\n",
      "Requirement already satisfied: requests in /Users/ben/anaconda/lib/python3.6/site-packages (from TwitterAPI)\n",
      "Requirement already satisfied: oauthlib>=0.6.2 in /Users/ben/anaconda/lib/python3.6/site-packages (from requests-oauthlib->TwitterAPI)\n",
      "\u001b[33mYou are using pip version 9.0.1, however version 10.0.1 is available.\n",
      "You should consider upgrading via the 'pip install --upgrade pip' command.\u001b[0m\n"
     ]
    }
   ],
   "source": [
    "!pip install TwitterAPI"
   ]
  },
  {
   "cell_type": "markdown",
   "metadata": {},
   "source": [
    "To be able to collect data from the Twitter API you need an Access token and secret. For now we have provided you with them, but to obtain yours you can go to https://apps.twitter.com/, click on 'Create New App', fill the form and then click on 'Create your Twitter Application'."
   ]
  },
  {
   "cell_type": "code",
   "execution_count": 2,
   "metadata": {
    "collapsed": true
   },
   "outputs": [],
   "source": [
    "from TwitterAPI import TwitterAPI\n",
    "\n",
    "CONSUMER_KEY = \"HLnOFAqRgkrJaaqMoy41a0nxj\"\n",
    "CONSUMER_SECRET = \"tz4GKwFn9dsqYv6Mnl9mzctSqV5LeOVGhAuvr1KW0c2LpLuprZ\"\n",
    "OAUTH_TOKEN = \"763929928219766784-AjLCTTzhDWx87EJxHpfeC7IPvFnQB1t\"\n",
    "OAUTH_TOKEN_SECRET = \"MTJThLdK6SkVzqnHEGvja2yUhIDSCZ8XCfNzjDTUgiXAu\"\n",
    "\n",
    "# Authonticating with your application credentials\n",
    "api = TwitterAPI(CONSUMER_KEY,\n",
    "                 CONSUMER_SECRET,\n",
    "                 OAUTH_TOKEN,\n",
    "                 OAUTH_TOKEN_SECRET)"
   ]
  },
  {
   "cell_type": "markdown",
   "metadata": {},
   "source": [
    "Now we have access to API. For a complete reference on what the API offers look at the [Twitter API documentation](https://dev.twitter.com/overview/api). For example we can [search for tweets](https://dev.twitter.com/rest/reference/get/search/tweets) that contain a specific keyword or collect tweets from the Twitter stream. Twitter responses are in JSON format which we can easily parse into Python dictionary object.\n",
    "\n",
    "### <span style=\"color:#0b486b\">1.1 Search Tweets</span>\n",
    "\n",
    "You can query Twitter with a keyword:"
   ]
  },
  {
   "cell_type": "code",
   "execution_count": 3,
   "metadata": {
    "collapsed": true
   },
   "outputs": [],
   "source": [
    "resp = api.request('search/tweets', {'q':'pizza'})"
   ]
  },
  {
   "cell_type": "code",
   "execution_count": 4,
   "metadata": {},
   "outputs": [
    {
     "data": {
      "text/plain": [
       "<TwitterAPI.TwitterAPI.TwitterResponse at 0x10c4f7128>"
      ]
     },
     "execution_count": 4,
     "metadata": {},
     "output_type": "execute_result"
    }
   ],
   "source": [
    "resp"
   ]
  },
  {
   "cell_type": "markdown",
   "metadata": {},
   "source": [
    "Iterate over the reponse to print the Twitter message:"
   ]
  },
  {
   "cell_type": "code",
   "execution_count": 5,
   "metadata": {
    "scrolled": true
   },
   "outputs": [
    {
     "name": "stdout",
     "output_type": "stream",
     "text": [
      "Estudantes de medicina que falam p pacientes se alimentarem bem mas que só comem pizza e tomam 5l de café em dias de prova\n",
      "RT @voltsvallejo: Yung ang dami daming pagkain sa set. After ng pasta, meron pizza, tapos chicken, tapos may sopdrenk pa, tapos biglang may…\n",
      "If you heard it was national pretzel day today... you're in luck! We have some delicious  pretzels calling your nam… https://t.co/ms1iY9RVh8\n",
      "Pizza ❤️\n",
      "SI PONGO LA PIZZA EN EL ENVASE EN LUGAR DE EN PLATO SOY ABURGUESADO PERO NO ME GUSTA FREGAR, NO JUZGUÉIS.\n",
      "Vão punir dessa vez o dono do helicóptero? Dono da Cocaína ou vai acaba em pizza no congresso de novo? https://t.co/gm2MnLh9wi\n",
      "@blackrosesyn @cybrsmoothie I work at a pizza delivery place... I've seen it all\n",
      "RT @young__L0UD: Ima need everybody to RT this, I need this year of free pizza and pizza will be on me!!! https://t.co/qYxdhcUQUq\n",
      "RT @DarronEats: Matt Stonie vs Geoff Esper! World Pizza-Eating Championship Review!: https://t.co/VOtZK77NP0 via @YouTube\n",
      "RT @BuffaloFood: There are lots of excellent Buffalo burgers, but few that make me marvel at the audaciousness of our burger architects - a…\n",
      "Popcorn•Brownies•Pizza \n",
      "\n",
      "Rn\n",
      "RT @yuyacst: Quiero pizza y tacos.\n",
      "Is edible glitter going to become the ultimate #foodtrend of 2018? 🍕🍕🍕\n",
      "https://t.co/MQ9D9k4kBJ\n",
      "Só penso na pizza\n",
      "Jungkook is not in my team cause:\n",
      "1- He dislikes pineapple on pizza.\n",
      "2- He fucking chose margherita OUT OF ALL THE… https://t.co/n6CIoZ8vQw\n"
     ]
    }
   ],
   "source": [
    "for r in resp:\n",
    "    print(r['text'])"
   ]
  },
  {
   "cell_type": "markdown",
   "metadata": {},
   "source": [
    "**Exercise 1:**\n",
    "\n",
    "1. Select a keyword and crawl some tweets from Twitter containing that keyword and then print them.\n",
    "2. Crawl 100 tweets containing this keyword and print them. Maybe you want to check Twitter API documentation first."
   ]
  },
  {
   "cell_type": "code",
   "execution_count": 6,
   "metadata": {},
   "outputs": [
    {
     "name": "stdout",
     "output_type": "stream",
     "text": [
      "0 New Tyler The Creator x Converse collection dropped\n",
      "------&gt; https://t.co/ROfVlxfU1t https://t.co/RLAAF6tOpS\n",
      "1 RT @Cwpeebles15: No one that I know.\n",
      "An extra 60k goes a long way. \n",
      "Especially over the weekend when I’m driving a nicer car to a nicer gol…\n",
      "2 RT @YassEncore: Trouver un noir bridé roux fan de golf et de cricket est plus simple que de trouver le téléphone crée par Rohff entre les m…\n",
      "3 RT @YassEncore: Trouver un noir bridé roux fan de golf et de cricket est plus simple que de trouver le téléphone crée par Rohff entre les m…\n",
      "4 I’ll *definitely* be watching this when it debuts this summer:\n",
      "\n",
      "“Aaron Rodgers, Chris Paul to host NFL vs. NBA Ryde… https://t.co/ayazVfCuE1\n",
      "5 I want those blue golf’s 🙃\n",
      "6 Ooooweeeee can't wait to disc golf\n",
      "7 @KassyDillon @JClyde21 Yes they should. They should also be paid based on the amount of funding they generate. Sorr… https://t.co/31jQMMKgzA\n",
      "8 Se sändningen av @PGAofAustralia: Craig Parry at the launch of the Presidents Cup and World Cup of Golf https://t.co/6BWChnapX1\n",
      "9 Get Your Brand on #Golf Products @webrand4you #Sport #Business https://t.co/Lgcdc8bfqA Visit",
      " https://t.co/IYplJ5jHno\n",
      "10 RT @nikestore: The @converse GOLF le FLEUR* One Star Suede Collection\n",
      "\n",
      "Shop 🇺🇸 https://t.co/5bGeivCTPl https://t.co/hxKpEfnad3\n",
      "11 Much nicer day out today, still a little windy, but the sun is out, at The Rawls where the @GoCooperCougars girls g… https://t.co/gIseUNDL6U\n",
      "12 RT @angrealtorwv: Just listed in time for golf season!  On the 11th fairway this oversized deluxe villa offers enough space for multiple ge…\n",
      "13 RT @IUTCreteilVitry: Félicitations à Aurélien Douce, étudiant en DUT Techniques de Commercialisation à l'@IUTCreteilVitry et golfeur de hau…\n",
      "14 * JUST RELEASED *\n",
      "Limited Time Only This item is NOT available in stores. Guaranteed safe checkout: PAYPAL… https://t.co/18MUKUn4aM\n",
      "15 Someone be my sugar daddy and get me the red golf le fleurs in a 8.5💕\n",
      "16 #golf Our six-man squad for the French amateur has just been announced.\n",
      "All the details here:… https://t.co/sBYRkozSr9\n",
      "17 INFO R. TMP: 8. WND: VRB 5 KTS, MAX TAILWIND 5 KTS BOTH RUNWAYS. CLD: FEW044. EXP ILS APCH. RWY 16 FOR ARR. RWY 27… https://t.co/i5NyEdLklv\n",
      "18 RT @YassEncore: Trouver un noir bridé roux fan de golf et de cricket est plus simple que de trouver le téléphone crée par Rohff entre les m…\n",
      "19 GOLF 4  Match 1,6 Essence Boîte Auto  via @handioccasion : https://t.co/IFJmPfKfXe\n",
      "20 RT @nikestore: The @converse GOLF le FLEUR* One Star Suede Collection\n",
      "\n",
      "Shop 🇺🇸 https://t.co/5bGeivCTPl https://t.co/hxKpEfnad3\n",
      "21 RT @nikestore: The @converse GOLF le FLEUR* One Star Suede Collection\n",
      "\n",
      "Shop 🇺🇸 https://t.co/5bGeivCTPl https://t.co/hxKpEfnad3\n",
      "22 why do the GOLF le FLEUR* One's start at size 5 fuck OFF man\n",
      "23 Tune into The @SportsDocRadio Show, Paul Calloway Physical Therapist, &amp; Director of Golf #FitnessTraining… https://t.co/dSs4A4fOuM\n",
      "24 RT @g_cumberbatch: Felicito a @rossanatabares y a todo su equipo de profesionales de la estética por su nueva sucursal en Brisas del Golf.…\n",
      "25 RT @YassEncore: Trouver un noir bridé roux fan de golf et de cricket est plus simple que de trouver le téléphone crée par Rohff entre les m…\n",
      "26 RT @YassEncore: Trouver un noir bridé roux fan de golf et de cricket est plus simple que de trouver le téléphone crée par Rohff entre les m…\n",
      "27 RT @nikestore: The @converse GOLF le FLEUR* One Star Suede Collection\n",
      "\n",
      "Shop 🇺🇸 https://t.co/5bGeivCTPl https://t.co/hxKpEfnad3\n",
      "28 Tired of having to tie your laces, or just want something more fun? Why not make your favourite pair of golf shoes… https://t.co/EXeKlDuXSa\n",
      "29 RT @YassEncore: Trouver un noir bridé roux fan de golf et de cricket est plus simple que de trouver le téléphone crée par Rohff entre les m…\n",
      "30 8/ CNN’ers like @Acosta @jaketapper @brianstelter love to preach how they are doing God’s work; work to save the co… https://t.co/M6N9Uek11X\n",
      "31 RT @chambleebrandel: This column was either “spot on” or a “load of rubbish” depending on whether one was a lover of golf or a lover of gol…\n",
      "32 @KevinDaughert18 @PeterAlexander No. When he actually DOES anything, it’s BAD!  But he thinks his job is to rant, t… https://t.co/q8socS1G2G\n",
      "33 @matthewamiller I bet Pres Obama had time to recognize Michelle's birthday. And Obama actually worked everyday as P… https://t.co/tf2Kima0ex\n",
      "34 RT @nikestore: The @converse GOLF le FLEUR* One Star Suede Collection\n",
      "\n",
      "Shop 🇺🇸 https://t.co/5bGeivCTPl https://t.co/hxKpEfnad3\n",
      "35 RT @Molly3186: \"I'm going to be working for you. I'm not going to have time to go play golf.\" \n",
      "Trump, Aug. '16\n",
      "\n",
      "453 days in office\n",
      "102 days…\n",
      "36 Apple stocks are as low as my golf score (that's GOOD) after my son-in-law Jared was WRONGLY said to be colluding with them! No WH chaos!\n",
      "37 im so sad they dont have the golf le fleur’s in a small enough size for me :((((. I️ really wanted these\n",
      "38 RT @YassEncore: Trouver un noir bridé roux fan de golf et de cricket est plus simple que de trouver le téléphone crée par Rohff entre les m…\n",
      "39 I just bought 'GOLF Le FLEUR* OX ONE STAR SUEDE - BLACK' on Golf Le Fleur https://t.co/V0FcTbXI9l\n",
      "40 RT @chrisonorato: A lost and almost-forgotten family treasure is improbably found &amp; returned to a @SienaCollege golfer. @amazing_ggracee @m…\n",
      "41 RT @tylerthecreator: GOLF le FLEUR* / april 26th/ https://t.co/56yIKOLITg / https://t.co/vJkGDOHQje only https://t.co/sWVPlwrUKT\n",
      "42 RT @YassEncore: Trouver un noir bridé roux fan de golf et de cricket est plus simple que de trouver le téléphone crée par Rohff entre les m…\n",
      "43 @AmandaWGME @WGME Nothing will stop a golf game!!! #FORE\n",
      "44 @TouringTastebud @jpcacho @suziday123 @GalsWander @HHLifestyleTrav @iZogAdventure @RickGriffin @pip_says… https://t.co/AvrOy2I6E4\n",
      "45 The video speaks for itself, which is why I am asking for the Pennsylvania Human Relations Commission to investigat… https://t.co/HMlRRUbvOZ\n",
      "46 RT @YassEncore: Trouver un noir bridé roux fan de golf et de cricket est plus simple que de trouver le téléphone crée par Rohff entre les m…\n",
      "47 RT @YassEncore: Trouver un noir bridé roux fan de golf et de cricket est plus simple que de trouver le téléphone crée par Rohff entre les m…\n",
      "48 RT @davesbargains: Check out MENS IZOD SANDY BAY SEERSUCKER GOLF SHORTS KHAKI &amp; WHT PIN STRIPE SIZE: 40 #IZOD https://t.co/5WknNQQlLE via @…\n",
      "49 RT @wcuatclub: REMINDER: Come join us this Sunday for our annual golf outing! Registration will be available on site! https://t.co/3GZ1KQjo…\n",
      "50 RT @YassEncore: Trouver un noir bridé roux fan de golf et de cricket est plus simple que de trouver le téléphone crée par Rohff entre les m…\n",
      "51 Attending services today for my precious Aunt Jean + 100% chance of rain = a new Bama golf umbrella. When in Rome,… https://t.co/ZyZeCHVEyp\n",
      "52 RT @Converse: Ain't a game. Golf le Fleur* x Converse available now on https://t.co/faUtwUMZvC &amp; https://t.co/6b4HHEHXm7 https://t.co/CcHPR…\n",
      "53 @Browns - Draft day for me represents the same hope I have as I walk up to the first tee on the golf course.  I jus… https://t.co/q6F9bhYshL\n",
      "54 RT @YassEncore: Trouver un noir bridé roux fan de golf et de cricket est plus simple que de trouver le téléphone crée par Rohff entre les m…\n",
      "55 @mamemame_golf 毎度、睡魔千円（╹◡╹）\n",
      "56 RT @EdinaMN: Opening Day is coming! The Driving Range and Academy 9 Golf Course will open Friday, April 27, for the season.\n",
      "\n",
      "Hours for the…\n",
      "57 Diet Coke. Twitter from Shitter. Ignore his Family. Nap. Golf.  #TrumpMorningRoutine\n",
      "58 RT @TrevorMooreInc: Have you been to my “Clubhouse” yet?  Sharing thoughts on mentoring, coaching, golf, business, practice...and a whole h…\n",
      "59 See you all at the WAA Golf Tournnment today!\n",
      "\n",
      "https://t.co/dKvfuF0KSw https://t.co/nFb40QLaBC\n",
      "60 The 15th Annual @DoorControlServ &amp; #DCUSA Charity Golf Tournament for @TxScottishRite was the most successful tourn… https://t.co/7HVRbqDo5q\n",
      "61 2018 @OfficialGHSA \n",
      "Class AAA Golf Areas \n",
      "Highland Walk GC - Royston,GA\n",
      "#TribePride\n",
      "@isabeldavo2 \n",
      "@lumpkincosports… https://t.co/aABnHQs2Ce\n",
      "62 NOW is the time to sign-up for upcoming golf tournaments in June. The Community Golf Classic will be June 4 at Arro… https://t.co/lIryrw0tPL\n",
      "63 RT @YassEncore: Trouver un noir bridé roux fan de golf et de cricket est plus simple que de trouver le téléphone crée par Rohff entre les m…\n",
      "64 RT @USFSaints: The CCAC Women's Golf Championship begins today at Ravisloe Country Club in Homewood. #USFSaints https://t.co/wX0NsQcOVp\n",
      "65 RT @YassEncore: Trouver un noir bridé roux fan de golf et de cricket est plus simple que de trouver le téléphone crée par Rohff entre les m…\n",
      "66 Lovely day playing golf with @baleo1986 @JohnBal18642023 &amp; @Cellan_Michael6 at Earlswood golf club, Jersey Marine.… https://t.co/GQ9jgIuUDm\n",
      "67 RT @nikestore: The @converse GOLF le FLEUR* One Star Suede Collection\n",
      "\n",
      "Shop 🇺🇸 https://t.co/5bGeivCTPl https://t.co/hxKpEfnad3\n",
      "68 RT @Princesand_0425: คือเรื่องนี้ต้องถึงหูมาเวลอ่ะ อยากให้เขารับรู้ว่ากระแสตอบรับที่ไทยดีมากๆ อยากให้นักแสดงมาโปรโมทที่ไทยมากๆ อยากเจอป๋า บ…\n",
      "69 ir trabalhar com roupas da golf wang\n",
      "70 RT @YassEncore: Trouver un noir bridé roux fan de golf et de cricket est plus simple que de trouver le téléphone crée par Rohff entre les m…\n",
      "71 Mrs. Hearn’s class exercised their “flossing” skills along with their golf skills yesterday! They had some target s… https://t.co/161Jref8Ak\n",
      "72 Executive Golf Putter Set #gift #love #monogram #unique #trending #shopping #style #personalized #etsy\n",
      "$58.00\n",
      "➤… https://t.co/87bRgRHElt\n",
      "73 RT @rimasbywell: Queria arrumar uns problemas tipo, \"nossa não vou poder ir no golf amanhã porque o yorkshire da minha esposa não está acei…\n",
      "74 RT @YassEncore: Trouver un noir bridé roux fan de golf et de cricket est plus simple que de trouver le téléphone crée par Rohff entre les m…\n",
      "75 Blessed, got the black golf unos\n",
      "76 @CHIZMAGA @PiesPeggy Playing golf in Hawaii😉\n",
      "77 Jababeka Residence Mulai Bangun Kawana Golf Residence https://t.co/y5rNltJKuN https://t.co/Ls4UWDmZYV\n",
      "78 RT @WIEagles: JV/Varsity Thur. 4/26:\n",
      "3: V @IrondequoitGolf v @McQuaidJesuit at Lakeshore; JV Golf v @SchroederSports at Lakeshore\n",
      "4:30: JV/…\n",
      "79 Jababeka Residence Mulai Bangun Kawana Golf Residence https://t.co/HBOw2b6mty\n",
      "80 Το Volkswagen Golf 8 θα προσφέρεται με ήπιο υβριδικό σύστημα \n",
      "https://t.co/ho1JRjbucQ https://t.co/ho1JRjbucQ\n",
      "81 RT @VictorAndresGB: Pésima noticia. La pobreza subió después de 12 años pero Qali Warma opera en lujosas oficinas en el Golf Los Incas dond…\n",
      "82 So @realDonaldTrump has been too busy playing golf to buy @FLOTUS a birthday gift..\n",
      "\n",
      "Not that he's got a team of pe… https://t.co/gQswYx2qHG\n",
      "83 @974RockFM All welcome ⚽️⛳️ the course is ready &amp; raring to go!\n",
      "84 Another great BNI breakfast meeting this morning at Camberley Heath Golf Club. Here we see Jim Moore receiving a bo… https://t.co/wz5MnOgBdw\n",
      "85 RT @GolfDigest: Aaron Rodgers and Chris Paul will host an NFL vs. NBA Ryder Cup-style golf event: https://t.co/kg2igB6DYr https://t.co/Wmhl…\n",
      "86 @sophielamb97 Huge Congratulations from all of us @goodwood_golf \n",
      "\n",
      "#curtiscup\n",
      "87 RT @LONGballinc: Last call! Sign up for exclusive sales, product updates, and news and get FLAT 15% off your first order. https://t.co/DLFA…\n",
      "88 RT @YassEncore: Trouver un noir bridé roux fan de golf et de cricket est plus simple que de trouver le téléphone crée par Rohff entre les m…\n",
      "89 RT @davesbargains: Check out MENS IZOD NEWPORT OXFORD GOLF SHORTS SIZE: 40 COLOR: SIMPLY GREEN FLAT FRONT #IZOD https://t.co/blBT8GcERI via…\n",
      "90 Huge \n",
      "Kudos @TigerWoods \n",
      "Great @PratimaSherpa \n",
      "#Golf #Master #Nepal https://t.co/OK4x2KRr4V\n",
      "91 ATHLETE OF THE WEEK: Zak Kulka, Beaver Dam https://t.co/rnhQrahQi6\n",
      "92 RT @nowthisnews: A group of Black women were told to leave a golf course — and even had the police called on them — because they were appar…\n",
      "93 Yoenis Cespedes blames about lack of golf for early season slump https://t.co/4X79JWLhtm\n",
      "94 RT @SneakerShouts: Dropping at 10am EST. \n",
      "Tyler the Creator x Golf Le Fleur x Converse One Star \"Mono Collection\"\n",
      "\n",
      "BUY HERE: https://t.co/D…\n",
      "95 RT @CommonManKFAN: Stoneridge Golf course \"Common Man Special\":  $69 with cart anytime this weekend....you MUST mention either Common Man,…\n",
      "96 APR. 26TH EVENTS\n",
      "\n",
      "2:00 SB vs Northside Christian (at Admiral Farragut, District Semis)\n",
      "3:00 BTNS @ ODA (Reg. Final)… https://t.co/PKgozkQUMR\n",
      "97 golf le fleur \n",
      "https://t.co/6YOtZmc2vO\n",
      "98 #TrumpMorningRoutine\n",
      "Watch Fox\n",
      "Read FORBES, roll it up for later\n",
      "Dump on Twitter\n",
      "Self affirmation (I'm rich enough,… https://t.co/B8KrdvNnIj\n",
      "99 Frisbee golf 🏌️‍♂️ 🏌️‍♀️ ⛳️ #palatinateontour #purplepower #colomendy https://t.co/pCbmnO3BJN\n"
     ]
    }
   ],
   "source": [
    "# your code here\n",
    "my_resp1 = api.request('search/tweets', {'q': 'golf',\n",
    "                                    'count': '100'})\n",
    "\n",
    "for i, tweet in enumerate(my_resp1):\n",
    "    print(i, tweet['text'])"
   ]
  },
  {
   "cell_type": "markdown",
   "metadata": {},
   "source": [
    "There are other parameters that you can set to restrict the response. For example the language of the tweets, or geographical location."
   ]
  },
  {
   "cell_type": "code",
   "execution_count": 7,
   "metadata": {},
   "outputs": [
    {
     "name": "stdout",
     "output_type": "stream",
     "text": [
      "Making cities #smarter. According to @MaceGroup, based on current growth, #London is set to house a further million… https://t.co/8BWLLf251i\n",
      "Could today get any better? Sun's out, 80s Monkey House nostalgia thanks to @StuartMaconie, and discovered possibly… https://t.co/5ut0UNXAw4\n",
      "See this is why I don’t leave the house\n",
      "RT @KimmiJMoo: ************STOLEN************\n",
      "\n",
      "30 x 5ft round straw bales stolen from kings farm, bank house, Moulton Seas End. Lincs. \n",
      "\n",
      "If…\n",
      "RT @ReutersUK: Facebook CTO Mike Schroepfer appears before the House of Commons committee https://t.co/epZuTvWYEf\n",
      "Just a little bumble bee that was dazed and confused in our house. A little sugar water and off he flew...… https://t.co/TxutTZuWIR\n",
      "bush house is garbage https://t.co/EeEjioRAXo\n",
      "I almost left the house for uni this morning without my headphones. Haven’t yet fully recovered from the trauma caused by the thought. 😰\n",
      "Now on: More Ivasions by Mike More https://t.co/vsBPVMJVxg #techno #music #house #housemusic #technomusic\n",
      "RT @IanDunt: Umunna: \"He has served in this House for 48 years. Can he think of a government that has taken a decision of this gravity that…\n",
      "RT @hideawaylive: @Mudibu &amp; @jezebelsextet return @hideawaylive to present the world’s funkiest celebration of the legendary #soulman Miste…\n",
      "RT @ChemistryWorld: The House of Commons environmental audit committee has called on the UK government to slash emissions of fluorinated ga…\n",
      "Glad I left the house at the exact moment a freak downpour started\n",
      "RT @vesperhomes: Don't you just love Wysteria? Makes any house a beautiful home. To make your home more gorgeous, follow and retweet us in…\n",
      "RT @theindustryfash: Osman Yousefsada opens his new townhouse retail concept House of Osman in London's Fitzrovia and marks the occasion wi…\n",
      "RT @radiobiafralive: Thousands of #Igbo #Biafra travel to Washington to protest against @MBuhari during meeting with @realDonaldTrump \n",
      "#Our…\n",
      "Apollo at the flaying of Marsyas, some of the marvellous mid-4th-century Roman mosaics in the House of Aion in Paph… https://t.co/GOAmxjhYj1\n",
      "RT @vesperhomes: Don't you just love Wysteria? Makes any house a beautiful home. To make your home more gorgeous, follow and retweet us in…\n",
      "RT @OxfordStays: With @mikegalsworthy  of @Scientists4EU -   @LibDems MEP @catherinemep  - House of Commons Brexit health advisor Dr Nick F…\n",
      "RT @Eurekavideo: You can’t call yourself a horror fan until you’ve seen this 1930s chiller.\n",
      "\n",
      "THE OLD DARK HOUSE returns to the @BFI Southba…\n",
      "RT @mastersofcinema: You can’t call yourself a horror fan until you’ve seen this 1930s chiller.\n",
      "\n",
      "THE OLD DARK HOUSE returns to the @BFI Sou…\n",
      "RT @UK_Revolution17: What if the foreign country that discussed assassinating Trump was the same country who helped spy on him?\n",
      "\n",
      "Who's coat…\n",
      "RT @chrisinsilico: Whew! Just finished a 5 hour session with the US House Intelligence Committee. Very thorough questions from @RepAdamSchi…\n",
      "There are lots of different professions within our museum...Leah is our Collections Officer - until she leaves us o… https://t.co/Il07834Xnm\n",
      "RT @damocrat: Macron played his US visit perfectly:\n",
      "\n",
      "Day 1: Be charming and pleasant to Trump at White House.\n",
      "Day 2: Kick the shit out of T…\n",
      "RT @standupmaths: Had just enough time in Vienna to visit Gödel’s house. At least, one place he lived. For any self-consistent directions s…\n",
      "I just ordered earn grey with coconut milk. Shame ai wasnt as picky about the chocolate brazils, strawberry laces a… https://t.co/7UitNmPGAs\n",
      "RT @WarnerBrosUK: \"Check all the closets and cupboards, look under all the beds, 'cause you never can tell there just might be a gremlin in…\n",
      "RT @DailyMirror: Inside Josef Fritzl's dungeon 10 years on: House of Horrors cellar where daughter was kept as sex slave for decades\n",
      "https:…\n",
      "RT @standupmaths: Had just enough time in Vienna to visit Gödel’s house. At least, one place he lived. For any self-consistent directions s…\n",
      "RT @howellshetweets: Candles are often used to avert evil,spells and bad magic.\n",
      "During weddings the Jews of Hamadan three candles would be…\n",
      "RT @IanDunt: Umunna: \"He has served in this House for 48 years. Can he think of a government that has taken a decision of this gravity that…\n",
      "RT @ataraxia_edits: @EvanEdinger I live in a semi detached house and last night my neighbour was snoring so loud we could hear them through…\n",
      "RT @DJmag: 🔊 Feel the bass with the dopest tech house tracks of the month featuring @ARTDEPTMUSIC , @C_A_R_music  and more 👉  https://t.co/…\n",
      "RT @UK_Revolution17: What if the foreign country that discussed assassinating Trump was the same country who helped spy on him?\n",
      "\n",
      "Who's coat…\n",
      "RT @WarnerBrosUK: \"Check all the closets and cupboards, look under all the beds, 'cause you never can tell there just might be a gremlin in…\n",
      "RT @_JackHunter: Oxford students are shouting down ‘TERFs’ outside Quakers Meeting House with ‘trans rights are not a debate’. https://t.co…\n",
      "RT @coatmaker: SB 1butt with slanting side pocs ready for a press and finish in the stylish Steed house cloth #bespoke #savilerow #tailor #…\n",
      "RT @libertyhq: Today Conservative MP Andrew Mitchell is visiting Brook House IRC to see the brutality of indefinite immigration detention f…\n",
      "RT @WomensBudgetGrp: We need continued focus on ensuring that women in all their diversity, including BAME, disabled &amp; LGBT women, are repr…\n",
      "Inside Josef Fritzl's dungeon 10 years on: House of Horrors cellar where daughter was kept as sex slave for decades… https://t.co/6hvhkwJ0m6\n",
      "RT @LinkedSupply: Quality Beach Hut Bird House Dark Blue: https://t.co/JA9oNGk5Kz: Garden &amp; Outdoors https://t.co/h0Txi0T4qs\n",
      " \n",
      "#Birdhouse #…\n",
      "Aliens land in #Tooting! The latest news from @FintonHouseSch: https://t.co/WckvBQBoVf https://t.co/hv04DImgQj\n",
      "RT @UK_Revolution17: What if the foreign country that discussed assassinating Trump was the same country who helped spy on him?\n",
      "\n",
      "Who's coat…\n",
      "RT @Princeroyal99: RT @RoyaleVision: #royal #flashback April 26, 1961 - Katharine Worsley, fiancée of the Duke of K… https://t.co/oWESGA965z\n",
      "RT @RoyaleVision: #royal #flashback April 26, 1961 - Katharine Worsley, fiancée of the Duke of Kent, attends a ball… https://t.co/1KAbnLZX3S\n",
      "RT @_JackHunter: Oxford students are shouting down ‘TERFs’ outside Quakers Meeting House with ‘trans rights are not a debate’. https://t.co…\n",
      "RT @louise_candlish: If you'd like to hear more about the dark thoughts behind OUR HOUSE, I'll be appearing In Public at the following even…\n",
      "🔊 Feel the bass with the dopest tech house tracks of the month featuring @ARTDEPTMUSIC , @C_A_R_music  and more 👉… https://t.co/7rcsgScXd8\n",
      "RT @damocrat: Macron played his US visit perfectly:\n",
      "\n",
      "Day 1: Be charming and pleasant to Trump at White House.\n",
      "Day 2: Kick the shit out of T…\n",
      "“I do contracted work as if I was building my own house. People say I work hard. We women have become the first cho… https://t.co/iBvj0S0hpH\n",
      "#ThrowbackThursday Last year, Losberger De Boer created the transforMOTION Bosch Pavilion at Somerset House. The fr… https://t.co/esD7rvapD0\n",
      "“Splendour in the House”, an entrancing new shoot by #photographer Allessia Laudoni, embraces statement styling and… https://t.co/XRtT7nU6Os\n",
      "SAOTA completes \"challenging\" restoration of Gilbert Colyn's modernist Cape Town home https://t.co/ZCyaIrQzTO via… https://t.co/aQInM5SJtV\n",
      "The criminal Hillary clinton who is adored by morons and illegal criminals would have been the worst person ever to grace the white house.\n",
      "Or maybe just don’t invite men you don’t know back to your house, on a first date, when you’re already feeling dodg… https://t.co/ooSyTwEpbE\n",
      "RT @raaleh: I hate when the nanny state comes in and tells me I’m not allowed to live in a dog house and slurp Kombucha out of a bowl. http…\n",
      "RT @EnglishHeritage: You can explore the house and garden where Charles Darwin made many of his discoveries!  @HomeofDarwin  #heritageMW ht…\n",
      "RT @TheConnectOne: Our very own Minister @DanBosi_ gave us an incredible Spoken Word \n",
      "\n",
      "“...the devil wears Prada, but he doesn’t walk in fa…\n",
      "Good luck to Property Programme of the Year shortlister 'Grand Designs' &amp; 'Grand Designs House of the Year'… https://t.co/C9AtaotXW0\n",
      "How to make your property stand out with bright colours \n",
      " https://t.co/GhFk81OOYx\n",
      "      #colour #property #standout… https://t.co/YJmqOERL9x\n",
      "How close did the Vanderbilts come to perishing on the Titanic? Read our blog post on Biltmore: America's largest p… https://t.co/ysHVAQiL43\n",
      "RT @MicrobioSoc: Today the House of Lords Science and Technology Committee published a report calling for the Government to clarify the ove…\n",
      "RT @EnglishHeritage: Visitors to Kenwood House, can discover a world-class art collection, admire the stunning interiors or simply explore…\n",
      "RT @TheConnectOne: We stand together and build up our most holy faith, so that every life that enters the House, they will be equipped to b…\n",
      "If you won £5k worth of @madedotcom furniture, which room would you remodel first? Our #bigopenhouse event could be… https://t.co/q69b5cJHse\n",
      "If you won £5k worth of @madedotcom furniture, which room would you remodel first? Our #bigopenhouse event could be… https://t.co/aYUQFFxbVB\n",
      "If you won £5k worth of @madedotcom furniture, which room would you remodel first? Our #bigopenhouse event could be… https://t.co/fTH6Gbg2WT\n",
      "Thinking about #downsizing? If you’ve got a house full of belongings and you’re not sure where to begin, use this s… https://t.co/Icq3DpMG6g\n",
      "This house, with it's very own lake, is for sale now through @Savills https://t.co/lGslGknvUZ\n",
      "It’s hard enough renovating your house without getting agro from neighbours too. Read our latest blog post to read… https://t.co/lUytjTh3ku\n",
      "It's #ThirstyThursday @ZebranoBars tonight which also means live magic at your table. Amazing magic performed inche… https://t.co/pI2puVKzEy\n",
      "RT @holland_tom: “That women should stay at home is indicated by how they were created: for they have broad hips and a wide arse, the bette…\n",
      "RT @WomensBudgetGrp: Join us and the APPG on Responsible Taxation to discuss: Why does tax matter for equality between women and men? 12 Ju…\n",
      "Our Aubergine Curry House Combo is a great option for any Veggie/Vegan eaters. Better still, if you order it to col… https://t.co/bfDWmpc5ml\n",
      "FACEBOOK LIVE with @mattd.sax\n",
      "#mairfairhotel #london #edwardian #sunphilips #music #remix #mix #dj #thursdaythings… https://t.co/xmOrMa2gET\n",
      "How to spot signs of mice at home. https://t.co/ri1SKqYz9F #SUPERPROOF #London #Mice #Signs https://t.co/m9pzscgN6z\n",
      "RT @CamberwellGrove: #Karaoke lovers ATTENTION! Enjoy some karaoke fun #tonight at Grove House 8pm\n",
      "\n",
      "PLUS #live #EuropaLeague #football as #…\n",
      "Pray for Launde Abbey Diocesan Retreat House and also\n",
      "Warden: David Newman \n",
      "Deputy Warden: Chris Webb\n",
      "Assistant War… https://t.co/5IbywReWc6\n",
      "For the 4th time in the last 5 years JP McManus is the champion owner, with more than £1.77m from this 80 winners -… https://t.co/U83BMZ1EUj\n",
      "RT @dezeen: The house, named Brillhart Residence, was designed by husband-and-wife duo Jacob and Melissa Brillhart for themselves to live i…\n",
      "A leading software house and Microsoft Gold Partner require an experienced .Net #Developer with strong #Microsoft d… https://t.co/58ravuCzXu\n",
      "RT @vesperhomes: Don't you just love Wysteria? Makes any house a beautiful home. To make your home more gorgeous, follow and retweet us in…\n",
      "RT @dezeen: Each unit hosts a different function, including a bed, a work space, lounge seats, a kitchen, bathroom, closet storage and dini…\n",
      "RT @eclipsemyg_: #NamjoonWeLoveYou\n",
      "\n",
      "┏┓  \n",
      "┃┃╱╲ in this\n",
      "┃╱╱╲╲  house\n",
      "╱╱╭╮╲╲ we\n",
      "▔▏┗┛▕▔   \n",
      "╱▔▔▔▔▔▔▔▔▔▔╲                  \n",
      "     Love and support…\n",
      "RT @DJDanAuty: BIG 12 hour #BankHoliday #House #event happening at @solsticepub in #Peterborough on 6th May. \n",
      " Catch me on #decks from 4pm…\n",
      "RT @DesignYourHouse: The latest The Design Your House Daily! https://t.co/R2775pgh8s #cardiffbay #lbloggers\n",
      "RT @DesignYourHouse: The latest The Design Your House Daily! https://t.co/R2775pgh8s #cardiffbay #lbloggers\n",
      "Rediscover a dynasty that was instrumental in shaping the Tudor age: the Beaufort family!\n",
      "Nathen Amin discusses his… https://t.co/8PVkKFJaPF\n",
      "RT @Oniropolis: Zaha Hadid's only house finally completes in Russian forest https://t.co/SbN3KF96UB via @dezeen\n",
      "RT @djkeshchandra: Listen back to my Sunday live recording 3 hours of house music on .@platinumradio15\n",
      "https://t.co/uNdJIBjnoP\n",
      "RT @GOTY_Edition: Stay in school kids.\n",
      "\n",
      "Your parents don't want you round the house.\n",
      "RT @TonyMaudsley1: You won't want to miss the @BenidormTVshow Series X Finale this coming Wednesday. Not if you don't want to miss the man…\n",
      "RT @CCCUEducation: Tomorrow! Join us for our Postgraduate Open Evening 6-8pm in Augustine House. Speak to our expert tutors and discover ou…\n",
      "RT @uygarr: Today’s teleportation @WeWorkUK Aldwych House 😂🙈\n",
      "#myWeWorkLife\n",
      "\n",
      "#London #startup #freelance #socialmedia #coworking #officespac…\n",
      "RT @CambridgeIndy: People power helps save another Cambridge family house from becoming a new development of flats...\n",
      "\n",
      " https://t.co/XlULKp…\n",
      "RT @libertyhq: Andrew Mitchell is at Brook House right now. He's seeing for himself that it's #Time4aTimeLimit for immigration detention. T…\n",
      "RT @ReutersUK: Facebook CTO Mike Schroepfer appears before the House of Commons committee https://t.co/OIcIxPq3DH\n",
      "RT @WomensBudgetGrp: Join us and the APPG on Responsible Taxation to discuss: Why does tax matter for equality between women and men? 12 Ju…\n",
      "RT @ReutersUK: Facebook CTO Mike Schroepfer appears before the House of Commons committee https://t.co/epZuTvWYEf\n"
     ]
    }
   ],
   "source": [
    "# result_type: popular, recent, mixed\n",
    "# geocode: lat,long,radius\n",
    "\n",
    "# geo coordinations of the desired place\n",
    "my_lat = 51.5;\n",
    "my_long = 0.12;\n",
    "\n",
    "resp = api.request('search/tweets', {'q':'house', \n",
    "                                     'count':'100', \n",
    "                                     'lang':'en', \n",
    "                                     'result_type':'recent',\n",
    "                                     'geocode':'{},{},100mi'.format(my_lat, my_long)})\n",
    "for r in resp:\n",
    "    print(r['text'])"
   ]
  },
  {
   "cell_type": "markdown",
   "metadata": {},
   "source": [
    "**Exercise 2:**\n",
    "\n",
    "check out the API documentation and narrow down your search results for Exercise1 using parameters other that keyword."
   ]
  },
  {
   "cell_type": "code",
   "execution_count": 8,
   "metadata": {},
   "outputs": [
    {
     "name": "stdout",
     "output_type": "stream",
     "text": [
      "0 RT @lipgIosse: blossom, bubbles and buttercup have dedicated their lives to saving the music industry https://t.co/9r009g8GDK\n",
      "1 RT @PaulCantor: A couple years ago, I met someone unlike anyone I had ever known. Over time, we had many deep conversations. About life, mu…\n",
      "2 RT @SubjectKpop2: TWICE \"What is Love\" Music Video\n",
      "\n",
      "68 Million Views 😋\n",
      "\n",
      "#TWICE #트와이스 https://t.co/1NERj3P0x3\n",
      "3 RT @niqqitee: What am i gonna do when i graduate and Apple Music finds out? Lmao\n",
      "4 RT @lipgIosse: blossom, bubbles and buttercup have dedicated their lives to saving the music industry https://t.co/9r009g8GDK\n",
      "5 RT @QGotNoRings: I am a:\n",
      "\n",
      "⚪️male\n",
      "⚪️female\n",
      "🔘music listener\n",
      "\n",
      " seeking:\n",
      "\n",
      "⚪️male\n",
      "⚪️female\n",
      "🔘artist that doesn't abuse women, vote for white supr…\n",
      "6 RT @lipgIosse: blossom, bubbles and buttercup have dedicated their lives to saving the music industry https://t.co/9r009g8GDK\n",
      "7 RT @LeanandCuisine: Damn Kanye... as a fan I gotta say this is pretty upsetting. You’re one of my favorite rappers but after seeing where y…\n",
      "8 RT @DEXTAERITY: imagine having a talk with joon about ur fave books and his fave books, cooking with jin, writing &amp; making music w yoongi,…\n",
      "9 RT @ComplexMusic: J. Cole on apparent \"1985\" diss: \"It's really a 'shoe fits' situation.\" https://t.co/NSmDml2O6Y https://t.co/2wuPaQMoOE\n",
      "10 RT @oxyfaded: Come support ya boy for his 1st paid gig on June 1st at Taps Live Indy on south Meridian street! There will be a lot of great…\n",
      "11 RT @prdscyjs: youngjae's laugh is a music to ears that you cant even stop listening to it https://t.co/YLHeYL6cSq\n",
      "12 RT @DipsoMermaid: @DanielCaesar You can’t be serious. Why would you try to understand someone who invalidates your humanity? Why do you wan…\n",
      "13 RT @accessonline: The #Army is going to lose it at the #BBMAs. Our boys @BTS_twt are set to premiere a new single from #LoveYourselfTear wi…\n",
      "14 RT @lipgIosse: blossom, bubbles and buttercup have dedicated their lives to saving the music industry https://t.co/9r009g8GDK\n",
      "15 Daily reminder! \n",
      "iTunes https://t.co/ggck63vUiB \n",
      "YouTube https://t.co/SZwECJ8r0j \n",
      "Spotify https://t.co/B1vodL50VW… https://t.co/dVsqz06tCY\n",
      "16 Legends that help people a lot with their music https://t.co/J1d5SoOYB1\n",
      "17 Trudi Lalor for Premier Country ( Tipp FM ) presenting Ryan Tubridy with his country music award which we supplied… https://t.co/Ywxij45aI5\n",
      "18 RT @elizettezamora: Home is where Alexa is .. \n",
      "\n",
      "Alexa: Now playing “Home” by Phillip Phillips \n",
      "\n",
      "Me: No Alexa! Stop the music \n",
      "\n",
      "**music stop…\n",
      "19 RT @SRKCHENNAIFC: Video -4: Shah Rukh Khan (@iamsrk) In Dubai for @KalyanJewellers stores launch.\n",
      "\n",
      "When SRK made a stylish entry at the eve…\n",
      "20 RT @BTS_Billboard: [YouTube📊]\n",
      "\n",
      "“DOPE” by @BTS_twt is less than 1.5M views away from becoming their 3rd music video to hit 300M views on You…\n",
      "21 RT @lipgIosse: blossom, bubbles and buttercup have dedicated their lives to saving the music industry https://t.co/9r009g8GDK\n",
      "22 @arionnee She has good music!!\n",
      "23 RT @BTS_Billboard: [YouTube📊]\n",
      "\n",
      "“DOPE” by @BTS_twt is less than 1.5M views away from becoming their 3rd music video to hit 300M views on You…\n",
      "24 RT @billboard: .@BTS_twt's \"DNA\" is officially the most viewed music video by a K-pop group on Youtube https://t.co/xM1rspXEjO https://t.co…\n",
      "25 I'm going to @3doorsdown at Rose City Music Center  in Dayton, OH - Aug 8 https://t.co/GDXZN7ygVf\n",
      "26 RT @TupacShakurLC: When they hang up and your music starts playing again https://t.co/aALlRYt1IM\n",
      "27 RT @Ariana_Chile: #BuyNoTearsLeftToCryOniTunes #StreamingNTLTC \n",
      "\n",
      "- YouTube: https://t.co/pgS7dNtTPG…\n",
      "- Spotify: https://t.co/VaPLY0VASt\n",
      "- A…\n",
      "28 RT @EXOLegende: People will love Korean music because of their uniqueness and they will leave Korean music because of hype.\n",
      "\n",
      "@weareoneEXO\n",
      "#…\n",
      "29 RT @BangBangtan_Esp: [Info] @BTS_twt \n",
      "\n",
      "KBS News 9\n",
      "BTS, primer grupo coreano en tener escenario en los Billboard Music Award\n",
      "\n",
      "@BTS_twt #Prem…\n",
      "30 @welcomeOVO @OlivierElkhatib to your music every day and I have been a fan and supporter for 9 years. You're absolu… https://t.co/mlOMKWPVua\n",
      "31 RT @MelvinDunksOnYa: Y’all remember when McDonald’s did this R&amp;B music video themed commercial in 2008? The end of this had me dying. 😂😂😂…\n",
      "32 RT @lipgIosse: blossom, bubbles and buttercup have dedicated their lives to saving the music industry https://t.co/9r009g8GDK\n",
      "33 RT @lipgIosse: blossom, bubbles and buttercup have dedicated their lives to saving the music industry https://t.co/9r009g8GDK\n",
      "34 More than 150 people registered for Path to Fame open call auditions in Nashville https://t.co/DQA65dwwRE\n",
      "35 RT @LeanandCuisine: Damn Kanye... as a fan I gotta say this is pretty upsetting. You’re one of my favorite rappers but after seeing where y…\n",
      "36 The music in Skyrim is mediocre at best and the map is too large for game. https://t.co/AqOpdhVhNo\n",
      "37 RT @harleivy: me in 2013: looked up new bands/artists, downloaded their discographies, organized my music library w flawless naming + album…\n",
      "38 RT @YourFavvBaddie: Jhene Aiko music so therapeutic, inspiring, relaxing yet so freaky all at the same time.\n",
      "39 RT @iamSRKsYodha: #ZERO #MUSIC \n",
      "\n",
      "Lyrics :- Irshad Kaamil , Amitabh Bhattacharya\n",
      "\n",
      "Music :- Pritam , JAM8 , Ajay-Atul\n",
      "\n",
      "Singer :- Arijit , Shu…\n",
      "40 Im trying to listen to music and this dude won’t stop talking to me\n",
      "41 RT @DPtheMC: ATTN #WSSU RAMILY...\n",
      "\n",
      "#StateRunnerz x #DreamsOfHarlem x @WSSUJuiceKrew x @JasCityEnt  bringing you...\n",
      "\n",
      "#LDOCCOOKOUT\n",
      "\n",
      "FREE FOOD…\n",
      "42 RT @marie_brownsuga: Niggas with good music taste are the best. Don’t nobody wanna hear trap music all fucking day\n",
      "43 RT @ulltbyun: Jongin is so shy when someone in a variety show ask him to dance, but once the music starts his facial expressions transform…\n",
      "44 Experience everything from world class motorsports &amp; @cotakarting to live music &amp; food festivals @COTA. Learn more… https://t.co/xA9OwsuTaJ\n",
      "45 RT @b_ourlight: I got into Kpop because of its music. But It isn't the same anymore. Kmusic shows prioritizing social media points more tha…\n",
      "46 RT @mtnug: Pulsers, the big Free gaming day is here again. Download any of these games &amp; enjoy free gaming only on MTN Pulse.\n",
      "\n",
      "3D Motto\n",
      "Cit…\n",
      "47 RT @lipgIosse: blossom, bubbles and buttercup have dedicated their lives to saving the music industry https://t.co/9r009g8GDK\n",
      "48 @jenovakitty @realdaisysnow @jaymariedd @brookejsweet @PoisonxBlossom @Animegamergrl @persephone_girl anytime ! alw… https://t.co/1AvPo0lau9\n",
      "49 My kids are being dry right now during music time 🤦🏽‍♀️ https://t.co/HFT9OvHttt\n",
      "50 RT @Skratch: When walk-up music goes wrong... https://t.co/raQCxggbhl\n",
      "51 RT @lipgIosse: blossom, bubbles and buttercup have dedicated their lives to saving the music industry https://t.co/9r009g8GDK\n",
      "52 I liked a @YouTube video https://t.co/C7zHFBCqFx Original Trey - Freestyle (Music Video)\n",
      "53 RT @Folkeezy: Teddy A is doing jollof music, we know e se. If you want deep, Rico Swavey released Emotions for you. E no reach? Look up Joh…\n",
      "54 RT @VINNYGUADAGNINO: You all are so gullible. Kanye does crazy shit every time he’s about to release music to get you talking , then disapp…\n",
      "55 RT @IoadingError: listen to music, and overthink shit\n",
      "56 Best Gaming Music Mix 2018 ✪ 1H Ultimate Gaming Mix: https://t.co/hbReiPQseu via @YouTube\n",
      "57 RT @BUNNYMYE0N: This was when Junmyeon visited CBX during their Music Core pre-recording~ Junmyeon went up to the stage from the side and h…\n",
      "58 RT @luco_zain: Zayn : has 87 platinum certifications within 2years of his solo career\n",
      "\n",
      "Y'all : \"no one cares about his music now!!\" https:/…\n",
      "59 RT @raplinetae: american interviewer: so, where are your girlfriends?? are you guys dating anyone right now?\n",
      "yoongi: tell these white bitch…\n",
      "60 RT @marie_brownsuga: Niggas with good music taste are the best. Don’t nobody wanna hear trap music all fucking day\n",
      "61 Catcher Gianna Carideo moved nine times in her life. Music followed her along the whole journey:… https://t.co/QEP0ybvwpI\n",
      "62 RT @ShadyFansite: I see people complaining about Eminem's yet again bad selfie. Do we just ingore the fact that it's another pic from the S…\n",
      "63 RT @lipgIosse: blossom, bubbles and buttercup have dedicated their lives to saving the music industry https://t.co/9r009g8GDK\n",
      "64 RT @QuavoDaPromoter: SUMTER! MOCO! TONIGHT @ CLUB CREAM! #AllBlack 🎓 PARTY FOR @LayWilliams ✊🏾 &amp; @ravenayannaa MUSIC BY @DJ_Nas3 &amp; ひCHIEBOY…\n",
      "65 RT @survansix: Should background music fade subtly, or cut abruptly? Check out our proof of concept prototype for Liminality, and see if yo…\n",
      "66 Michel Gondry - Music sounds better with you - Stardust (Partizan Classics 1998) 26.04.18 15:05 https://t.co/hTNjFNdGTc\n",
      "67 A festival about the love story between poetry, music and lyrics is hitting #KingsCross this summer!… https://t.co/NOiWpx0ZbC\n",
      "68 RT @lipgIosse: blossom, bubbles and buttercup have dedicated their lives to saving the music industry https://t.co/9r009g8GDK\n",
      "69 RT @MindsConsole: Sometimes the best therapy is a long drive and music.\n",
      "70 Downtown AC Hotel by Marriott Celebrates Local Musicians with Launch of Live Music Series: https://t.co/4IByvg9p78\n",
      "71 RT @DEXTAERITY: imagine having a talk with joon about ur fave books and his fave books, cooking with jin, writing &amp; making music w yoongi,…\n",
      "72 RT @ploychayaa: Diplo - Wish (feat. Trippie Redd) (Official Music Video) https://t.co/IQ5TEceLHt via @YouTube\n",
      "73 OWN IT IS OUT NOW ON APPLE MUSIC !!!! https://t.co/NhRthRbI0y\n",
      "74 should I try music vox\n",
      "75 Artist send us your music onscenestv@gmail.com\n",
      "76 Music: @Ogydemall - #GiveMeANod download here: https://t.co/dWE30DeYsU\n",
      "77 RT @lipgIosse: blossom, bubbles and buttercup have dedicated their lives to saving the music industry https://t.co/9r009g8GDK\n",
      "78 Diplo - Wish (feat. Trippie Redd) (Official Music Video) https://t.co/IQ5TEceLHt via @YouTube\n",
      "79 RT @lipgIosse: blossom, bubbles and buttercup have dedicated their lives to saving the music industry https://t.co/9r009g8GDK\n",
      "80 Take a look inside Prince’s underground bank vault full of unreleased music https://t.co/1AGjcOplVm\n",
      "81 RT @lipgIosse: blossom, bubbles and buttercup have dedicated their lives to saving the music industry https://t.co/9r009g8GDK\n",
      "82 RT @lipgIosse: blossom, bubbles and buttercup have dedicated their lives to saving the music industry https://t.co/9r009g8GDK\n",
      "83 RT @LiveNationProds: Congratulations to @ladygaga and “Gaga: Five Foot Two” on winning two People’s Voice #WebbyAwards for “Film &amp; Video -…\n",
      "84 RT @angeliccurlss: my kink is seeing people discovering @Louis_Tomlinson music and jamming to his songs like there’s no tomorrow @LTHQOffic…\n",
      "85 RT @accessonline: The #Army is going to lose it at the #BBMAs. Our boys @BTS_twt are set to premiere a new single from #LoveYourselfTear wi…\n",
      "86 RT @topaz_fire: The @BBMAs line up is starting to show the globalization of music through social media: Canadian @ShawnMendes , Cuban-Ameri…\n",
      "87 RT @_ArtistRack: #ArtistRack brings to you the visuals for 'Time Bomb' by #NewJersey natives 18th &amp; Addison\n",
      "\n",
      "https://t.co/O8cLQI1J3n\n",
      "\n",
      "#Rock…\n",
      "88 RT @xoxo_AdornAngel: soooo you mean to tell me there was a whole music video to this? It’s 2018 and this is my first time seeing this 🤯😂 ht…\n",
      "89 RT @billboard: BTS' \"DNA\" surpasses BIGBANG's \"Fantastic Baby\" as most-viewed music video by a K-pop group on YouTube https://t.co/xEhNRuXp…\n",
      "90 More than 150 people registered for Path to Fame open call auditions in Nashville https://t.co/ehG7X2Crz1\n",
      "91 &lt;a href='https://t.co/B5dNPPypqe' rel='nofollow'&gt;&lt;img width='125px' alt='Listen on Google Play Music' src='https://t.co/3N6C3euwTG&gt;&lt;/a&gt;\n",
      "92 RT @AteSushii: Called it an Asian music awards but China, the second largest country in Asia is excluded. Just hand over the trophy to your…\n",
      "93 RT @skpblive: [LIVE STREAM] KBS Music Bank\n",
      "• 🗓️ Apr 27, 2018\n",
      "• 🕔 5:00PM KST\n",
      "\n",
      "● Line-Up:\n",
      "VIXX\n",
      "TWICE\n",
      "Lovelyz\n",
      "Stray Kids\n",
      "SAMUEL\n",
      "PENTAGON\n",
      "Hwasa…\n",
      "94 @Galea430 I've been a fan of his music for a long time... Goldigger &amp; Jesus walks are two of my favorites. But I'm… https://t.co/1LfzBXj5Tv\n",
      "95 RT @12celsius: SNS Points over album sales &amp; Digital? Wtf that doesn't make sense at all. MCD Music show is cancelled MNET Channel is cance…\n",
      "96 I liked a @YouTube video https://t.co/zUddSOFaku Marshmello &amp; Anne-Marie - FRIENDS (Music Video) *OFFICIAL FRIENDZONE ANTHEM*\n",
      "97 RT @vlissful: [NEWS] @BTS_twt, will go to ‘Billboard Music Awards’ as the first Koreans to rise on the stage \n",
      "#PremiosMTVMiaw #MTVBRKPOPBTS…\n",
      "98 @EXObeing_ Hahah,I like you sis,we both focus more on BTS,than ekso,i think eksoare really trash,from their music t… https://t.co/aUaIB8lWjQ\n",
      "99 RT @CassperNyovest: Sooooo excited about the Ksazobalit music video dropping this Friday!!! Woooooza!!! https://t.co/CzTQWtlbBl\n"
     ]
    }
   ],
   "source": [
    "# your code here\n",
    "my_resp2 = api.request('search/tweets', {'q': 'music',\n",
    "                                    'count': '100',\n",
    "                                    'lang': 'en',\n",
    "                                    'result_type': 'recent'})\n",
    "\n",
    "\n",
    "for i, tweet in enumerate(my_resp2):\n",
    "    print(i, tweet['text'])"
   ]
  },
  {
   "cell_type": "markdown",
   "metadata": {},
   "source": [
    "Apart from the tweet text, you can retrieve other metadata from the Twitter response. For example the user who sent the tweet, whether the tweet is in reply to another user or is a retweet, how many times it is retweeted and so on. Since the response is parsed into a dictionary, use `keys()` function to see the fields that are available:"
   ]
  },
  {
   "cell_type": "code",
   "execution_count": 9,
   "metadata": {
    "collapsed": true
   },
   "outputs": [],
   "source": [
    "response = resp.json()"
   ]
  },
  {
   "cell_type": "code",
   "execution_count": 10,
   "metadata": {},
   "outputs": [
    {
     "data": {
      "text/plain": [
       "{'contributors_enabled': False,\n",
       " 'created_at': 'Thu Jul 13 17:08:54 +0000 2017',\n",
       " 'default_profile': False,\n",
       " 'default_profile_image': False,\n",
       " 'description': 'We are a #property, #engineering and #construction #recruitment #consultancy, focused on people and not just CVs.',\n",
       " 'entities': {'description': {'urls': []},\n",
       "  'url': {'urls': [{'display_url': 'aylinwhite.com',\n",
       "     'expanded_url': 'http://www.aylinwhite.com',\n",
       "     'indices': [0, 23],\n",
       "     'url': 'https://t.co/AxsFIuYYMC'}]}},\n",
       " 'favourites_count': 946,\n",
       " 'follow_request_sent': False,\n",
       " 'followers_count': 148,\n",
       " 'following': False,\n",
       " 'friends_count': 399,\n",
       " 'geo_enabled': False,\n",
       " 'has_extended_profile': False,\n",
       " 'id': 885546590471106561,\n",
       " 'id_str': '885546590471106561',\n",
       " 'is_translation_enabled': False,\n",
       " 'is_translator': False,\n",
       " 'lang': 'en',\n",
       " 'listed_count': 3,\n",
       " 'location': 'London, England',\n",
       " 'name': 'Aylin White',\n",
       " 'notifications': False,\n",
       " 'profile_background_color': '000000',\n",
       " 'profile_background_image_url': 'http://abs.twimg.com/images/themes/theme1/bg.png',\n",
       " 'profile_background_image_url_https': 'https://abs.twimg.com/images/themes/theme1/bg.png',\n",
       " 'profile_background_tile': False,\n",
       " 'profile_banner_url': 'https://pbs.twimg.com/profile_banners/885546590471106561/1500372661',\n",
       " 'profile_image_url': 'http://pbs.twimg.com/profile_images/885548081684590592/NgqG-9Xg_normal.jpg',\n",
       " 'profile_image_url_https': 'https://pbs.twimg.com/profile_images/885548081684590592/NgqG-9Xg_normal.jpg',\n",
       " 'profile_link_color': 'F06969',\n",
       " 'profile_sidebar_border_color': '000000',\n",
       " 'profile_sidebar_fill_color': '000000',\n",
       " 'profile_text_color': '000000',\n",
       " 'profile_use_background_image': False,\n",
       " 'protected': False,\n",
       " 'screen_name': 'AylinWhiteLtd',\n",
       " 'statuses_count': 439,\n",
       " 'time_zone': None,\n",
       " 'translator_type': 'none',\n",
       " 'url': 'https://t.co/AxsFIuYYMC',\n",
       " 'utc_offset': None,\n",
       " 'verified': False}"
      ]
     },
     "execution_count": 10,
     "metadata": {},
     "output_type": "execute_result"
    }
   ],
   "source": [
    "response['statuses'][0]['user']"
   ]
  },
  {
   "cell_type": "code",
   "execution_count": 11,
   "metadata": {},
   "outputs": [
    {
     "data": {
      "text/plain": [
       "dict_keys(['created_at', 'id', 'id_str', 'text', 'truncated', 'entities', 'metadata', 'source', 'in_reply_to_status_id', 'in_reply_to_status_id_str', 'in_reply_to_user_id', 'in_reply_to_user_id_str', 'in_reply_to_screen_name', 'user', 'geo', 'coordinates', 'place', 'contributors', 'is_quote_status', 'retweet_count', 'favorite_count', 'favorited', 'retweeted', 'possibly_sensitive', 'lang'])"
      ]
     },
     "execution_count": 11,
     "metadata": {},
     "output_type": "execute_result"
    }
   ],
   "source": [
    "response['statuses'][0].keys()"
   ]
  },
  {
   "cell_type": "markdown",
   "metadata": {},
   "source": [
    "**Exercise 3:**\n",
    "\n",
    "print user, place, and geo locations of tweets you have collected."
   ]
  },
  {
   "cell_type": "code",
   "execution_count": 12,
   "metadata": {},
   "outputs": [
    {
     "name": "stdout",
     "output_type": "stream",
     "text": [
      "RT @lipgIosse: blossom, bubbles and buttercup have dedicated their lives to saving the music industry https://t.co/9r009g8GDK\n",
      "RT @PaulCantor: A couple years ago, I met someone unlike anyone I had ever known. Over time, we had many deep conversations. About life, mu…\n",
      "RT @SubjectKpop2: TWICE \"What is Love\" Music Video\n",
      "\n",
      "68 Million Views 😋\n",
      "\n",
      "#TWICE #트와이스 https://t.co/1NERj3P0x3\n",
      "RT @niqqitee: What am i gonna do when i graduate and Apple Music finds out? Lmao\n",
      "RT @lipgIosse: blossom, bubbles and buttercup have dedicated their lives to saving the music industry https://t.co/9r009g8GDK\n",
      "RT @QGotNoRings: I am a:\n",
      "\n",
      "⚪️male\n",
      "⚪️female\n",
      "🔘music listener\n",
      "\n",
      " seeking:\n",
      "\n",
      "⚪️male\n",
      "⚪️female\n",
      "🔘artist that doesn't abuse women, vote for white supr…\n",
      "RT @lipgIosse: blossom, bubbles and buttercup have dedicated their lives to saving the music industry https://t.co/9r009g8GDK\n",
      "RT @LeanandCuisine: Damn Kanye... as a fan I gotta say this is pretty upsetting. You’re one of my favorite rappers but after seeing where y…\n",
      "RT @DEXTAERITY: imagine having a talk with joon about ur fave books and his fave books, cooking with jin, writing &amp; making music w yoongi,…\n",
      "RT @ComplexMusic: J. Cole on apparent \"1985\" diss: \"It's really a 'shoe fits' situation.\" https://t.co/NSmDml2O6Y https://t.co/2wuPaQMoOE\n",
      "RT @oxyfaded: Come support ya boy for his 1st paid gig on June 1st at Taps Live Indy on south Meridian street! There will be a lot of great…\n",
      "RT @prdscyjs: youngjae's laugh is a music to ears that you cant even stop listening to it https://t.co/YLHeYL6cSq\n",
      "RT @DipsoMermaid: @DanielCaesar You can’t be serious. Why would you try to understand someone who invalidates your humanity? Why do you wan…\n",
      "RT @accessonline: The #Army is going to lose it at the #BBMAs. Our boys @BTS_twt are set to premiere a new single from #LoveYourselfTear wi…\n",
      "RT @lipgIosse: blossom, bubbles and buttercup have dedicated their lives to saving the music industry https://t.co/9r009g8GDK\n",
      "Daily reminder! \n",
      "iTunes https://t.co/ggck63vUiB \n",
      "YouTube https://t.co/SZwECJ8r0j \n",
      "Spotify https://t.co/B1vodL50VW… https://t.co/dVsqz06tCY\n",
      "Legends that help people a lot with their music https://t.co/J1d5SoOYB1\n",
      "Trudi Lalor for Premier Country ( Tipp FM ) presenting Ryan Tubridy with his country music award which we supplied… https://t.co/Ywxij45aI5\n",
      "RT @elizettezamora: Home is where Alexa is .. \n",
      "\n",
      "Alexa: Now playing “Home” by Phillip Phillips \n",
      "\n",
      "Me: No Alexa! Stop the music \n",
      "\n",
      "**music stop…\n",
      "RT @SRKCHENNAIFC: Video -4: Shah Rukh Khan (@iamsrk) In Dubai for @KalyanJewellers stores launch.\n",
      "\n",
      "When SRK made a stylish entry at the eve…\n",
      "RT @BTS_Billboard: [YouTube📊]\n",
      "\n",
      "“DOPE” by @BTS_twt is less than 1.5M views away from becoming their 3rd music video to hit 300M views on You…\n",
      "RT @lipgIosse: blossom, bubbles and buttercup have dedicated their lives to saving the music industry https://t.co/9r009g8GDK\n",
      "@arionnee She has good music!!\n",
      "RT @BTS_Billboard: [YouTube📊]\n",
      "\n",
      "“DOPE” by @BTS_twt is less than 1.5M views away from becoming their 3rd music video to hit 300M views on You…\n",
      "RT @billboard: .@BTS_twt's \"DNA\" is officially the most viewed music video by a K-pop group on Youtube https://t.co/xM1rspXEjO https://t.co…\n",
      "I'm going to @3doorsdown at Rose City Music Center  in Dayton, OH - Aug 8 https://t.co/GDXZN7ygVf\n",
      "RT @TupacShakurLC: When they hang up and your music starts playing again https://t.co/aALlRYt1IM\n",
      "RT @Ariana_Chile: #BuyNoTearsLeftToCryOniTunes #StreamingNTLTC \n",
      "\n",
      "- YouTube: https://t.co/pgS7dNtTPG…\n",
      "- Spotify: https://t.co/VaPLY0VASt\n",
      "- A…\n",
      "RT @EXOLegende: People will love Korean music because of their uniqueness and they will leave Korean music because of hype.\n",
      "\n",
      "@weareoneEXO\n",
      "#…\n",
      "RT @BangBangtan_Esp: [Info] @BTS_twt \n",
      "\n",
      "KBS News 9\n",
      "BTS, primer grupo coreano en tener escenario en los Billboard Music Award\n",
      "\n",
      "@BTS_twt #Prem…\n",
      "@welcomeOVO @OlivierElkhatib to your music every day and I have been a fan and supporter for 9 years. You're absolu… https://t.co/mlOMKWPVua\n",
      "RT @MelvinDunksOnYa: Y’all remember when McDonald’s did this R&amp;B music video themed commercial in 2008? The end of this had me dying. 😂😂😂…\n",
      "RT @lipgIosse: blossom, bubbles and buttercup have dedicated their lives to saving the music industry https://t.co/9r009g8GDK\n",
      "RT @lipgIosse: blossom, bubbles and buttercup have dedicated their lives to saving the music industry https://t.co/9r009g8GDK\n",
      "More than 150 people registered for Path to Fame open call auditions in Nashville https://t.co/DQA65dwwRE\n",
      "RT @LeanandCuisine: Damn Kanye... as a fan I gotta say this is pretty upsetting. You’re one of my favorite rappers but after seeing where y…\n",
      "The music in Skyrim is mediocre at best and the map is too large for game. https://t.co/AqOpdhVhNo\n",
      "RT @harleivy: me in 2013: looked up new bands/artists, downloaded their discographies, organized my music library w flawless naming + album…\n",
      "RT @YourFavvBaddie: Jhene Aiko music so therapeutic, inspiring, relaxing yet so freaky all at the same time.\n",
      "RT @iamSRKsYodha: #ZERO #MUSIC \n",
      "\n",
      "Lyrics :- Irshad Kaamil , Amitabh Bhattacharya\n",
      "\n",
      "Music :- Pritam , JAM8 , Ajay-Atul\n",
      "\n",
      "Singer :- Arijit , Shu…\n",
      "Im trying to listen to music and this dude won’t stop talking to me\n",
      "RT @DPtheMC: ATTN #WSSU RAMILY...\n",
      "\n",
      "#StateRunnerz x #DreamsOfHarlem x @WSSUJuiceKrew x @JasCityEnt  bringing you...\n",
      "\n",
      "#LDOCCOOKOUT\n",
      "\n",
      "FREE FOOD…\n",
      "RT @marie_brownsuga: Niggas with good music taste are the best. Don’t nobody wanna hear trap music all fucking day\n",
      "RT @ulltbyun: Jongin is so shy when someone in a variety show ask him to dance, but once the music starts his facial expressions transform…\n",
      "Experience everything from world class motorsports &amp; @cotakarting to live music &amp; food festivals @COTA. Learn more… https://t.co/xA9OwsuTaJ\n",
      "RT @b_ourlight: I got into Kpop because of its music. But It isn't the same anymore. Kmusic shows prioritizing social media points more tha…\n",
      "RT @mtnug: Pulsers, the big Free gaming day is here again. Download any of these games &amp; enjoy free gaming only on MTN Pulse.\n",
      "\n",
      "3D Motto\n",
      "Cit…\n",
      "RT @lipgIosse: blossom, bubbles and buttercup have dedicated their lives to saving the music industry https://t.co/9r009g8GDK\n",
      "@jenovakitty @realdaisysnow @jaymariedd @brookejsweet @PoisonxBlossom @Animegamergrl @persephone_girl anytime ! alw… https://t.co/1AvPo0lau9\n",
      "My kids are being dry right now during music time 🤦🏽‍♀️ https://t.co/HFT9OvHttt\n",
      "RT @Skratch: When walk-up music goes wrong... https://t.co/raQCxggbhl\n",
      "RT @lipgIosse: blossom, bubbles and buttercup have dedicated their lives to saving the music industry https://t.co/9r009g8GDK\n",
      "I liked a @YouTube video https://t.co/C7zHFBCqFx Original Trey - Freestyle (Music Video)\n",
      "RT @Folkeezy: Teddy A is doing jollof music, we know e se. If you want deep, Rico Swavey released Emotions for you. E no reach? Look up Joh…\n",
      "RT @VINNYGUADAGNINO: You all are so gullible. Kanye does crazy shit every time he’s about to release music to get you talking , then disapp…\n",
      "RT @IoadingError: listen to music, and overthink shit\n",
      "Best Gaming Music Mix 2018 ✪ 1H Ultimate Gaming Mix: https://t.co/hbReiPQseu via @YouTube\n",
      "RT @BUNNYMYE0N: This was when Junmyeon visited CBX during their Music Core pre-recording~ Junmyeon went up to the stage from the side and h…\n",
      "RT @luco_zain: Zayn : has 87 platinum certifications within 2years of his solo career\n",
      "\n",
      "Y'all : \"no one cares about his music now!!\" https:/…\n",
      "RT @raplinetae: american interviewer: so, where are your girlfriends?? are you guys dating anyone right now?\n",
      "yoongi: tell these white bitch…\n",
      "RT @marie_brownsuga: Niggas with good music taste are the best. Don’t nobody wanna hear trap music all fucking day\n",
      "Catcher Gianna Carideo moved nine times in her life. Music followed her along the whole journey:… https://t.co/QEP0ybvwpI\n",
      "RT @ShadyFansite: I see people complaining about Eminem's yet again bad selfie. Do we just ingore the fact that it's another pic from the S…\n",
      "RT @lipgIosse: blossom, bubbles and buttercup have dedicated their lives to saving the music industry https://t.co/9r009g8GDK\n",
      "RT @QuavoDaPromoter: SUMTER! MOCO! TONIGHT @ CLUB CREAM! #AllBlack 🎓 PARTY FOR @LayWilliams ✊🏾 &amp; @ravenayannaa MUSIC BY @DJ_Nas3 &amp; ひCHIEBOY…\n",
      "RT @survansix: Should background music fade subtly, or cut abruptly? Check out our proof of concept prototype for Liminality, and see if yo…\n",
      "Michel Gondry - Music sounds better with you - Stardust (Partizan Classics 1998) 26.04.18 15:05 https://t.co/hTNjFNdGTc\n",
      "A festival about the love story between poetry, music and lyrics is hitting #KingsCross this summer!… https://t.co/NOiWpx0ZbC\n",
      "RT @lipgIosse: blossom, bubbles and buttercup have dedicated their lives to saving the music industry https://t.co/9r009g8GDK\n",
      "RT @MindsConsole: Sometimes the best therapy is a long drive and music.\n",
      "Downtown AC Hotel by Marriott Celebrates Local Musicians with Launch of Live Music Series: https://t.co/4IByvg9p78\n",
      "RT @DEXTAERITY: imagine having a talk with joon about ur fave books and his fave books, cooking with jin, writing &amp; making music w yoongi,…\n",
      "RT @ploychayaa: Diplo - Wish (feat. Trippie Redd) (Official Music Video) https://t.co/IQ5TEceLHt via @YouTube\n",
      "OWN IT IS OUT NOW ON APPLE MUSIC !!!! https://t.co/NhRthRbI0y\n",
      "should I try music vox\n",
      "Artist send us your music onscenestv@gmail.com\n",
      "Music: @Ogydemall - #GiveMeANod download here: https://t.co/dWE30DeYsU\n",
      "RT @lipgIosse: blossom, bubbles and buttercup have dedicated their lives to saving the music industry https://t.co/9r009g8GDK\n",
      "Diplo - Wish (feat. Trippie Redd) (Official Music Video) https://t.co/IQ5TEceLHt via @YouTube\n",
      "RT @lipgIosse: blossom, bubbles and buttercup have dedicated their lives to saving the music industry https://t.co/9r009g8GDK\n",
      "Take a look inside Prince’s underground bank vault full of unreleased music https://t.co/1AGjcOplVm\n",
      "RT @lipgIosse: blossom, bubbles and buttercup have dedicated their lives to saving the music industry https://t.co/9r009g8GDK\n",
      "RT @lipgIosse: blossom, bubbles and buttercup have dedicated their lives to saving the music industry https://t.co/9r009g8GDK\n",
      "RT @LiveNationProds: Congratulations to @ladygaga and “Gaga: Five Foot Two” on winning two People’s Voice #WebbyAwards for “Film &amp; Video -…\n",
      "RT @angeliccurlss: my kink is seeing people discovering @Louis_Tomlinson music and jamming to his songs like there’s no tomorrow @LTHQOffic…\n",
      "RT @accessonline: The #Army is going to lose it at the #BBMAs. Our boys @BTS_twt are set to premiere a new single from #LoveYourselfTear wi…\n",
      "RT @topaz_fire: The @BBMAs line up is starting to show the globalization of music through social media: Canadian @ShawnMendes , Cuban-Ameri…\n",
      "RT @_ArtistRack: #ArtistRack brings to you the visuals for 'Time Bomb' by #NewJersey natives 18th &amp; Addison\n",
      "\n",
      "https://t.co/O8cLQI1J3n\n",
      "\n",
      "#Rock…\n",
      "RT @xoxo_AdornAngel: soooo you mean to tell me there was a whole music video to this? It’s 2018 and this is my first time seeing this 🤯😂 ht…\n",
      "RT @billboard: BTS' \"DNA\" surpasses BIGBANG's \"Fantastic Baby\" as most-viewed music video by a K-pop group on YouTube https://t.co/xEhNRuXp…\n",
      "More than 150 people registered for Path to Fame open call auditions in Nashville https://t.co/ehG7X2Crz1\n",
      "&lt;a href='https://t.co/B5dNPPypqe' rel='nofollow'&gt;&lt;img width='125px' alt='Listen on Google Play Music' src='https://t.co/3N6C3euwTG&gt;&lt;/a&gt;\n",
      "RT @AteSushii: Called it an Asian music awards but China, the second largest country in Asia is excluded. Just hand over the trophy to your…\n",
      "RT @skpblive: [LIVE STREAM] KBS Music Bank\n",
      "• 🗓️ Apr 27, 2018\n",
      "• 🕔 5:00PM KST\n",
      "\n",
      "● Line-Up:\n",
      "VIXX\n",
      "TWICE\n",
      "Lovelyz\n",
      "Stray Kids\n",
      "SAMUEL\n",
      "PENTAGON\n",
      "Hwasa…\n",
      "@Galea430 I've been a fan of his music for a long time... Goldigger &amp; Jesus walks are two of my favorites. But I'm… https://t.co/1LfzBXj5Tv\n",
      "RT @12celsius: SNS Points over album sales &amp; Digital? Wtf that doesn't make sense at all. MCD Music show is cancelled MNET Channel is cance…\n",
      "I liked a @YouTube video https://t.co/zUddSOFaku Marshmello &amp; Anne-Marie - FRIENDS (Music Video) *OFFICIAL FRIENDZONE ANTHEM*\n",
      "RT @vlissful: [NEWS] @BTS_twt, will go to ‘Billboard Music Awards’ as the first Koreans to rise on the stage \n",
      "#PremiosMTVMiaw #MTVBRKPOPBTS…\n",
      "@EXObeing_ Hahah,I like you sis,we both focus more on BTS,than ekso,i think eksoare really trash,from their music t… https://t.co/aUaIB8lWjQ\n",
      "RT @CassperNyovest: Sooooo excited about the Ksazobalit music video dropping this Friday!!! Woooooza!!! https://t.co/CzTQWtlbBl\n"
     ]
    }
   ],
   "source": [
    "# Your code here\n",
    "for i, tweet in enumerate(my_resp2):\n",
    "    #print('Information for tweet {}'.format(i))\n",
    "    #print('user:', tweet['user'])\n",
    "    #print('place:', tweet['place'], ', geo:', tweet['geo'], '\\n')\n",
    "    print(tweet['text'])"
   ]
  },
  {
   "cell_type": "markdown",
   "metadata": {},
   "source": [
    "---\n",
    "## <span style=\"color:#0b486b\">2. Distances</span>\n",
    "\n",
    "`Distance` is a numerical description of how far apart objects are. It is a concrete way of describing what it means for elements of some space to be close or far away from each other, for example the distance between two vectors in an 2-dimensional space.\n",
    "\n",
    "Now that you have know how to represent an n-dimensional vector in Python with NumPy arrays, we will write a function as a metric to measure the distance between two vectors. There are multiple ways to measure the distance between two vectors. We will discuss Euclidean distance and cosine distance."
   ]
  },
  {
   "cell_type": "markdown",
   "metadata": {
    "collapsed": true
   },
   "source": [
    "### <span style=\"color:#0b486b\">2.1 Euclidean Distance</span>\n",
    "\n",
    "Euclidean distance comes from Geometry. If we assume $\\mathbf{x}_{1}=\\left[x_{11},x_{12},\\ldots,x_{1n}\\right]$ and $\\mathbf{x}_{2}=\\left[x_{21},x_{22},\\ldots,x_{2n}\\right]$, then the Euclidean distance between $\\mathbf{x}_{1}$ and $\\mathbf{x}_{2}$ is defined as:\n",
    "\n",
    "$$d\\left(\\mathbf{x}_{1},\\mathbf{x}_{2}\\right)=\\sqrt{\\left(x_{11}-x_{21}\\right)^{2}+\\left(x_{12}-x_{22}\\right)^{2}+\\ldots+\\left(x_{1n}-x_{2n}\\right)^{2}}\n",
    "$$\n",
    "\n",
    "We can use array operators for this task."
   ]
  },
  {
   "cell_type": "code",
   "execution_count": 13,
   "metadata": {
    "collapsed": true
   },
   "outputs": [],
   "source": [
    "import numpy as np"
   ]
  },
  {
   "cell_type": "code",
   "execution_count": 48,
   "metadata": {},
   "outputs": [
    {
     "name": "stdout",
     "output_type": "stream",
     "text": [
      "[-1  0 -2 -2  2]\n",
      "[1 0 4 4 4]\n",
      "3.60555127546\n"
     ]
    }
   ],
   "source": [
    "x1 = np.array([2, 5, 4, 6, 8])\n",
    "x2 = np.array([3, 5, 6, 8, 6])\n",
    "\n",
    "print(x1 - x2)\n",
    "print((x1 - x2) ** 2)\n",
    "print(np.sqrt(np.sum((x1 - x2) ** 2)))"
   ]
  },
  {
   "cell_type": "code",
   "execution_count": 15,
   "metadata": {
    "collapsed": true
   },
   "outputs": [],
   "source": [
    "def euclidean_distance1(x1, x2):\n",
    "    d = x1 - x2\n",
    "    d = d ** 2\n",
    "    return np.sqrt(d.sum())"
   ]
  },
  {
   "cell_type": "code",
   "execution_count": 16,
   "metadata": {},
   "outputs": [
    {
     "name": "stdout",
     "output_type": "stream",
     "text": [
      "7.14142842854\n"
     ]
    }
   ],
   "source": [
    "x1 = np.array([-1, 2, 0, 5])\n",
    "x2 = np.array([4, 2, 1, 0])\n",
    "\n",
    "print(euclidean_distance1(x1, x2))"
   ]
  },
  {
   "cell_type": "markdown",
   "metadata": {},
   "source": [
    "Since two vectors passed to the function should be the same size, it is better to perform a sanity check before applying the subtraction. Otherwise it will raise an error. We can do this by using `if - elif` statement or as a better practice by using `try - except`."
   ]
  },
  {
   "cell_type": "code",
   "execution_count": 17,
   "metadata": {
    "collapsed": true
   },
   "outputs": [],
   "source": [
    "import sys\n",
    "\n",
    "def euclidean_distance2(x1, x2):\n",
    "    if x1.shape[0] != x2.shape[0]:\n",
    "        sys.exit('x1 and x2 are not the same size')\n",
    "    else:\n",
    "        d = x1 - x2\n",
    "        d = d ** 2\n",
    "        return np.sqrt(d.sum())"
   ]
  },
  {
   "cell_type": "markdown",
   "metadata": {},
   "source": [
    "**Exercise 4:** Run the cell below fix the code so that the two array are the same size."
   ]
  },
  {
   "cell_type": "code",
   "execution_count": 18,
   "metadata": {},
   "outputs": [
    {
     "data": {
      "text/plain": [
       "7.2111025509279782"
      ]
     },
     "execution_count": 18,
     "metadata": {},
     "output_type": "execute_result"
    }
   ],
   "source": [
    "# After run this cell, fix it\n",
    "\n",
    "x1 = np.array([-1, 2, 0, 5, 9])\n",
    "x2 = np.array([4, 2, 1, 0, 8])\n",
    "euclidean_distance2(x1, x2)"
   ]
  },
  {
   "cell_type": "code",
   "execution_count": 19,
   "metadata": {
    "collapsed": true
   },
   "outputs": [],
   "source": [
    "def euclidean_distance3(x1, x2):\n",
    "    try:\n",
    "        d = x1 - x2\n",
    "        d = np.power(d, 2)\n",
    "        return np.sqrt(d.sum())\n",
    "    except ValueError as e:\n",
    "        print(\"Vectors passed to the function are not the same size\")\n",
    "        # you can return a default value\n",
    "        return None"
   ]
  },
  {
   "cell_type": "markdown",
   "metadata": {},
   "source": [
    "**Exercise 5:** Run the cell below and then fix it to prevent an exception."
   ]
  },
  {
   "cell_type": "code",
   "execution_count": 20,
   "metadata": {
    "collapsed": true
   },
   "outputs": [],
   "source": [
    "# fix this cell\n",
    "\n",
    "x1 = np.array([-1, 2, 0, 5])\n",
    "x2 = np.array([4, 2, 1, 2])\n",
    "a = euclidean_distance3(x1, x2)"
   ]
  },
  {
   "cell_type": "markdown",
   "metadata": {},
   "source": [
    "### <span style=\"color:#0b486b\">2.2 cosine similarity and distance</span>\n",
    "\n",
    "Cosine similarity is a measure of similarity between two vectors based on the angle between them. Cosine similarity is widely used in information retrieval and text mining as a measure of similarity between documents and is defined as:\n",
    "\n",
    "$$S_{c}\\left(\\mathbf{x}_{1},\\mathbf{x_{2}}\\right)=\\frac{\\mathbf{x}_{1}.\\mathbf{x_{2}}}{\\parallel\\mathbf{x}_{1}\\parallel^{2}+\\parallel\\mathbf{x}_{2}\\parallel^{2}-\\mathbf{x}_{1}.\\mathbf{x_{2}}}$$\n",
    "\n",
    "\n",
    "Cosine similarity is particularly used in positive space where the outcome is bounded in [0, 1]. The cosine distance is defined as the complement to cosine similarity in positive space that is $D_{c}\\left(x_{1},x_{2}\\right)=1-S_{c}\\left(x_1,x_2\\right)$ where $D_c$ is the cosine distance and $S_c$ is the cosine similarity."
   ]
  },
  {
   "cell_type": "code",
   "execution_count": 21,
   "metadata": {},
   "outputs": [
    {
     "data": {
      "text/plain": [
       "array([1, 4, 9])"
      ]
     },
     "execution_count": 21,
     "metadata": {},
     "output_type": "execute_result"
    }
   ],
   "source": [
    "x1 = np.array([1,2,3])\n",
    "x2 = np.array([3,4,6])\n",
    "\n",
    "x1 * x1"
   ]
  },
  {
   "cell_type": "code",
   "execution_count": 22,
   "metadata": {
    "collapsed": true
   },
   "outputs": [],
   "source": [
    "def cosine_distance(x1, x2):\n",
    "    try:\n",
    "        num = (x1*x2).sum()\n",
    "        denom = (x1*x1).sum() + (x2*x2).sum() - (x1*x2).sum()\n",
    "        num += 0.0    # or use np.astype(float) to make sure of float division\n",
    "        return 1 - num/denom\n",
    "    except ValueError as e:\n",
    "        print(\"Vectors passed to the function are not the same size\")\n",
    "        return None\n",
    "    "
   ]
  },
  {
   "cell_type": "code",
   "execution_count": 23,
   "metadata": {},
   "outputs": [
    {
     "data": {
      "text/plain": [
       "0.88983050847457623"
      ]
     },
     "execution_count": 23,
     "metadata": {},
     "output_type": "execute_result"
    }
   ],
   "source": [
    "x1 = np.array([2, 0, 5, 9])\n",
    "x2 = np.array([4, 2, 1, 0])\n",
    "cosine_distance(x1, x2)"
   ]
  },
  {
   "cell_type": "markdown",
   "metadata": {},
   "source": [
    "### <span style=\"color:#0b486b\">2.3 Term-by-Document matrix</span>\n",
    "\n",
    "A term-by-document matrix is a mathematical representation of a text corpus. It describes the frequency of terms that occur in the document collection. Each row corresponds to a document and each column correspond to a term. Thus the value that appears in row $j$ and column $i$ represents the frequency of appearing term $i$ in document $j$.\n",
    "\n",
    "We will represent two datasets with term-by-document matrix:\n",
    "\n",
    "* a collection of 100 Twitter messages about Geelong\n",
    "* a collection of 6 news articles (5 about Apple and 1 about politics)\n",
    "\n",
    "The data is already collected and stores in text files. Thus you will need to:\n",
    "\n",
    "* read the text files\n",
    "    * using file object\n",
    "* perform pre-processing\n",
    "    * using string methods\n",
    "    * using re package\n",
    "* construct the term-by-document matrix\n",
    "    * using numpy arrays and operations\n",
    "    "
   ]
  },
  {
   "cell_type": "markdown",
   "metadata": {},
   "source": [
    "### Twitter dataset\n",
    "First read the data:"
   ]
  },
  {
   "cell_type": "code",
   "execution_count": 24,
   "metadata": {},
   "outputs": [
    {
     "name": "stdout",
     "output_type": "stream",
     "text": [
      "GEELONG and beyond is the perfect FB page to keep you up to date on that area. Pop over and give them a LIKE too:\n",
      "\n",
      "https://t.co/hKvjPDsZKT\n",
      "\n",
      "CPSU members hungry for action at geelong trades hall http://t.co/gPAveTuSaV\n",
      "\n",
      "Club member Sharnee McIntosh and PT Anna Vines featured in this week's issue of the Geelong News.… https://t.co/ddIuHsOwJv\n",
      "\n",
      "RONE Melbourne, Geelong, Australia. http://t.co/zrXyw7pvZu\n",
      "\n",
      "RT @CPSUnion: Geelong to be hit by fed PS strike today. #cpsusafeguard http://t.co/bgWEDw9zCa http://t.co/FBMh8rKaKQ\n",
      "\n",
      "RT @Tradeshallglg: CPSU members meetingin geelong.  Standing room only http://t.co/SHUrGhixtJ\n",
      "\n",
      "RT @geelongaddy: Shire to test water over pool cost: http://t.co/mgYg1O4j2b http://t.co/bAsid1QEXl\n",
      "\n",
      "Hey pool champions of @surfcoastnotes did you not know when you ran for election? Disgraceful! #surfcoastpool http://t.co/UohzWEsWaP\n",
      "\n",
      "Geelong Social is out! http://t.co/vsHhsHezgR Stories via @MarkBeyerle @M_Wills_Avenue @Himekami64\n",
      "\n",
      "Disgraceful work @surfcoastnotes stop this, make a commitment to your community and get on with it! http://t.co/m1tWeZWQ76\n",
      "\n",
      "RT @Tradeshallglg: CPSU members meetingin geelong.  Standing room only http://t.co/SHUrGhixtJ\n",
      "\n",
      "RT @AustMarConsSoc: Outrageous. How many more dolphins is the Geelong Star allowed to kill before it's banned from fishing in Australia? ht…\n",
      "\n",
      "@angusbooker Hopefully Geelong. Imagine being short high speed boat ride from dingy Docklands to a sweet bayside workplace in Geelong.\n",
      "\n",
      "newtownblonde large pom poms have landed at urbanstalker_geelong and #celine approves! #pompoms… https://t.co/i9eOspkFzj\n",
      "\n",
      "#3Novices : ACCC eases GrainCorp, Emerald port rules http://t.co/cqc48x0siY Consumer watchdog reduces regulation on Melbourne, Geelong wh…\n",
      "\n",
      "RT @Tradeshallglg: CPSU members meetingin geelong.  Standing room only http://t.co/SHUrGhixtJ\n",
      "\n",
      "Last night was the second time I popped into the #BlueNote piano bar in downtown #Geelong - here is a… https://t.co/FI66suyUJz\n",
      "\n",
      "Tammy painting Kevin's face from City of Greater Geelong before information forum. http://t.co/Cr6lBd3aCC\n",
      "\n",
      "RT @Tradeshallglg: CPSU members meetingin geelong.  Standing room only http://t.co/SHUrGhixtJ\n",
      "\n",
      "RT @Tradeshallglg: CPSU members meetingin geelong.  Standing room only http://t.co/SHUrGhixtJ\n",
      "\n",
      "RT @geelongaddy: Shire to test water over pool cost: http://t.co/mgYg1O4j2b http://t.co/bAsid1QEXl\n",
      "\n",
      "RT @Dr_Mel_Thomson: Thinking of Women in leadership in Geelong, I think of @comm4geelong Pls come to our event,  Key note: @Vic_LeadSci htt…\n",
      "\n",
      "AFL Round 12 - Melbourne defeats Geelong by 24 points[QUOTE=\"Partridge, post: 39260902, mem... http://t.co/SHF73oZ7CL\n",
      "\n",
      "RT @geelongaddy: LIVE FROM 10AM: Geelong public workers go on strike http://t.co/O7LHyH29Af http://t.co/w5uFrnDKEY\n",
      "\n",
      "Factory trawler Geelong Star operators Seafish Tasmania in workshop on how to ...   http://t.co/zCC4TJvXDN\n",
      "\n",
      "@AFL@Hungryforsport swans trade restrictions 2015 are a joke yet Geelong and Hwks can trade in and out who they like despite their success\n",
      "\n",
      "CPSU members meetingin geelong.  Standing room only http://t.co/SHUrGhixtJ\n",
      "\n",
      "Bryon (left) &amp; Tammy (right) with attendees of Wadawurrung information forum Geelong. @AusLandcare http://t.co/cOWVvsJomT\n",
      "\n",
      "RT @cassiezervos: CSIRO protesters strike at Trades Hall Geelong, demanding for their rights @geelongaddy http://t.co/bs8JxOHHIS\n",
      "\n",
      "@CottonOn it went from Lara to Sunshine to come back to Geelong. @auspost is so efficient.... 😐\n",
      "\n",
      "RT @GeelongBTigers: Bookings are open for the Geelong Tigers bus for the game Richmond V's GWS Giants at the MCG on Saturday 4th of... http…\n",
      "\n",
      "Walk for the Dogs – Melbourne to Geelong 100kms | Sweet Shepherd Rescue Australia Inc http://t.co/DQpPanSSft\n",
      "\n",
      "RT @s_elliott79: @GreenestGreg @vline_geelong Regional Network Development Plan- book yourself into the Barwon South West session. http://t…\n",
      "\n",
      "RT @GreenestGreg: @s_elliott79 7:38 from Geelong was a 4 car N-set. 40% full at Lara, 95% full at Tarneit. 8min late @vline_geelong (grumbl…\n",
      "\n",
      "@JNorbs Disappointed to hear of you late arrivals. Expected better from #RRL @vline_geelong\n",
      "\n",
      "Rayban_Wholesale_52,Click_27 http://t.co/fjTChbmbY9 http://t.co/AtdZlXOalr @HOGGOLFBLOG @HOG_Geelong @HOLLYAMITCHELL @HOLLYCHICK1\n",
      "\n",
      "Trawler Geelong Star's practices under spotlight after dolphin deaths - via @abcnews http://t.co/u7zKmiglIp\n",
      "\n",
      "@vline_geelong you've been operating for four days and you've already managed to cancel trains 😑\n",
      "\n",
      "@GreenestGreg @vline_geelong Regional Network Development Plan- book yourself into the Barwon South West session. http://t.co/8WSFDP1UHu\n",
      "\n",
      "@vline_geelong 2/4 morning trains I've caught this week have been cancelled. Unacceptable. People have places to be. #regionalfaillink\n",
      "\n",
      "Attend the free seminar WOMEN IN LEADERSHIP at our Geelong Waterfront Campus 12.30pm Fri 10th July #women #leaders http://t.co/VxUr6XWknM …\n",
      "\n",
      "RT @GrowG21: #GROW will implement strategies to promote learning, engagement &amp; inclusion #GROWeducation #GROWrespect http://t.co/s34QSkk0RI\n",
      "\n",
      "Looking for a rewarding, flexible career move? We're expanding our service across greater Melbourne and Geelong!... http://t.co/EB6NTNBU9e\n",
      "\n",
      "RT @abcnewsAdelaide: Super trawler might breach SA fishing catch quota, Govt warns http://t.co/okMC4MwWfP #saparli #Adelaide http://t.co/D3…\n",
      "\n",
      "RT @Museontheloose: Geelong Social is out! http://t.co/RuSFxQSKdD Stories via @BellaGuria @LeButtery @Dulcerengel\n",
      "\n",
      "@s_elliott79 7:38 from Geelong was a 4 car N-set. 40% full at Lara, 95% full at Tarneit. 8min late @vline_geelong (grumble grumble)\n",
      "\n",
      "RT @TWRGeelong: In this week's edition catch up with the face of Brand Power, Sally Williams. http://t.co/SK7UW12YBP http://t.co/LBNiNXmeKQ\n",
      "\n",
      "RT @CPSUnion: Geelong to be hit by fed PS strike today. #cpsusafeguard http://t.co/bgWEDw9zCa http://t.co/FBMh8rKaKQ\n",
      "\n",
      "RT @CPSUnion: Geelong to be hit by fed PS strike today. #cpsusafeguard http://t.co/bgWEDw9zCa http://t.co/FBMh8rKaKQ\n",
      "\n",
      "Geelong day of action #cpsunion http://t.co/Ct7qlOx47m\n",
      "\n",
      "Trawler Geelong Star's practices under spotlight after dolphin deaths http://t.co/WkzqZE1vYS\n",
      "\n",
      "In this week's edition catch up with the face of Brand Power, Sally Williams. http://t.co/SK7UW12YBP http://t.co/LBNiNXmeKQ\n",
      "\n",
      "@vline_geelong RRL not working well,buses replacing trains #cantorganiseacrumbinabakery\n",
      "\n",
      "@LMBR_50 Trawler Geelong Star's practices under spotlight after dolphin deaths: The operators of the controversial fishing trawler Ge...\n",
      "\n",
      "Just in: Trawler Geelong Star's practices under spotlight after dolphin deaths http://t.co/NgwRgYfUvV #news\n",
      "\n",
      "RT @CPSUnion: Geelong to be hit by fed PS strike today. #cpsusafeguard http://t.co/bgWEDw9zCa http://t.co/FBMh8rKaKQ\n",
      "\n",
      "Lulay to play; could Lions QB be CFL’s most outstanding player? http://t.co/WencMWCXhE http://t.co/yGOjtZOGvV\n",
      "\n",
      "Trawler Geelong Star's practices under spotlight after dolphin deaths: The operators of the controversial fishing… http://t.co/V79Uuzzc40\n",
      "\n",
      "RT @geelongaddy: Rhys Stanley out for the season: http://t.co/Kh4S9m3wMK http://t.co/6vuUz2HaNv\n",
      "\n",
      "Rhys Stanley out for the season: http://t.co/Kh4S9m3wMK http://t.co/6vuUz2HaNv\n",
      "\n",
      "Trawler Geelong Star's practices under spotlight after dolphin deaths http://t.co/dMZdeaMtZJ\n",
      "\n",
      "Trawler Geelong Star's practices under spotlight after dolphin deaths http://t.co/CEfIFZjtj8\n",
      "\n",
      "RT @RichardMBaines: Trawler Geelong Star's practices under spotlight after dolphin deaths http://t.co/PfBFoQLNg0 via @ABCNews #politas #aus…\n",
      "\n",
      "@Luke5SOS COME TO TORQUAY OR MY SCHOOL GEELONG LUTHERAN COLLEGE TODAY!!! ITS 1 &amp; 1/2 AWAY FROM MELBOURNE!!!! PRETTY PRETTY PLEASE!?!?!?\n",
      "\n",
      "Top geelong cats articles from last 48 hrs http://t.co/WunvbbEpzV\n",
      "\n",
      "Bookings are open for the Geelong Tigers bus for the game Richmond V's GWS Giants at the MCG on Saturday 4th of... http://t.co/Z9rlWVP7i2\n",
      "\n",
      "RT @Comm4Geelong: Interesting piece on CfG member @LtCreatures #Geelong in @TWRGeelong http://t.co/C0hcj8cDIi #Beer #BuyLocal http://t.co/X…\n",
      "\n",
      "CSIRO protesters strike at Trades Hall Geelong, demanding for their rights @geelongaddy http://t.co/bs8JxOHHIS\n",
      "\n",
      "Trawler Geelong Star's practices under spotlight after dolphin deaths http://t.co/9znsrBYe4u\n",
      "\n",
      "Geelong Mission seeks to expand welcome to seafarers http://t.co/LwIpb6g2wR\n",
      "\n",
      "Interesting piece on CfG member @LtCreatures #Geelong in @TWRGeelong http://t.co/C0hcj8cDIi #Beer #BuyLocal http://t.co/XUL12OFrNA\n",
      "\n",
      "#AU Trawler Geelong Star's practices under spotlight after dolphin deaths http://t.co/ED8krZ4KNK #abcnews\n",
      "\n",
      "#AU Trawler Geelong Star's practices under spotlight after dolphin deaths http://t.co/Nplk1PeSGb #abcnews\n",
      "\n",
      "RT @geelongaddy: LIVE FROM 10AM: Geelong public workers go on strike http://t.co/O7LHyH29Af http://t.co/w5uFrnDKEY\n",
      "\n",
      "Commissions passage the sights but sounds pertinent to geelong, victoria: odAwed\n",
      "\n",
      "Trawler Geelong Star's practices under spotlight after dolphin deaths http://t.co/PfBFoQLNg0 via @ABCNews #politas #auspol\n",
      "\n",
      "Geelong Organic is out! http://t.co/rGIXOqtRTM Stories via @vicenvironment @gogreen_natural @MylenePillot\n",
      "\n",
      "LIVE FROM 10AM: Geelong public workers go on strike http://t.co/O7LHyH29Af http://t.co/w5uFrnDKEY\n",
      "\n",
      "Centrelink, Medicare and child support services affected as Geelong public sector strike today @geelongaddy http://t.co/LfaeCgHmV6\n",
      "\n",
      "#Melbourne, #Geelong public sector workers protesting govt cuts with #cpsusafeguard actions. Help tell the story -&gt; http://t.co/JHcnsCPi4Y\n",
      "\n",
      "Trawler Geelong Star's practices under spotlight after dolphin deaths http://t.co/WRmiIf9fdN\n",
      "\n",
      "Trawler Geelong Star's practices under spotlight after dolphin deaths http://t.co/a7FMTHdGtb #abcnews\n",
      "\n",
      "#ABCNewsAus: Trawler Geelong Star's practices under spotlight after dolphin deaths http://t.co/kLvzy4xyWS #News_Monsta\n",
      "\n",
      "RT @CPSUnion: Geelong to be hit by fed PS strike today. #cpsusafeguard http://t.co/bgWEDw9zCa http://t.co/FBMh8rKaKQ\n",
      "\n",
      "Geelong Star operators to take workshop on how to avoid killing sea mammals http://t.co/96gCD9kKjm #geelongstar http://t.co/n1GHVpawyP\n",
      "\n",
      "@LMBR_50 Trawler Geelong Star's practices under spotlight after dolphin deaths: The operators of the controversial fishing trawler Ge...\n",
      "\n",
      "#Geelong, Australia: The Scarf Festival 2015 is now on at the National Wool Museum. http://t.co/5jaTTaYKl8 http://t.co/GYHYJACMOZ\n",
      "\n",
      "ABC: The operators of the controversial fishing trawler Geelong Star are having their practices scrutinised in... http://t.co/4CBzwROHMO\n",
      "\n",
      "And yet another nothing story from the Geelong addy on Land 400 and Sarah Henderson MP . http://t.co/ONOo34Jrzx\n",
      "\n",
      "Repost: I look at the happenings with Little Creatures Geelong, including White Rabbit and Furphy http://t.co/HHjDPxLLAr\n",
      "\n",
      "Centrelink, Medicare and child support services affected as Geelong public sector workers strike today: http://t.co/O7LHyGKyIH\n",
      "\n",
      "@MattyHeraldSun Geelong not available too?\n",
      "\n",
      "#TodayInHistory 26 June1857 Australias 1st country railway #Melbourne #Geelong opened to great fanfare http://t.co/Q3olNd31wW #history #rail\n",
      "\n",
      "How desperate for a page filler is the Geelong Addy with this drivel . http://t.co/gaiiJCgVoF\n",
      "\n",
      "Do you practice #yoga? http://t.co/Zf67ZGtksV #SeaireYoga offer private classes to get you started #Geelong #nourish #mindbodysoul\n",
      "\n",
      "Chicken processor Turi Foods drops labour-hire company over exploited worker claims at Geelong processing plant http://t.co/N2xvupsE5M\n",
      "\n",
      "Flying circus cabaret all set for Lyons’ 50th bash ... http://t.co/YuKa0oftzc … http://t.co/1qpCfgaL3U\n",
      "\n",
      "RT @CLAN_AU: @manderson1944 Thanks heaps Margaret sent 20more #CLAN beanies #Geelong makes total160 woolenhats #Knitters http://t.co/xwz6P9…\n",
      "\n",
      "@nutwals Hi Peter, there was a track fault at Southern Cross and the train could not depart, and that formed the next train into Melbourne\n",
      "\n",
      "Geelong Star Factory Trawler Australian factory trawler kills nine dolphins - Echonetdaily: http://t.co/W2dDTf5wbW http://t.co/6heBQo1GjE\n"
     ]
    }
   ],
   "source": [
    "import os\n",
    "\n",
    "# get current working directory\n",
    "cwd = os.getcwd()   \n",
    "\n",
    "# join the subdirectory of the data and data file name\n",
    "file_path = os.path.join(cwd, \"data/prac06/tweets.txt\")\n",
    "\n",
    "# read the contents of the file and store it in a list\n",
    "i = 0\n",
    "tweets = []\n",
    "fp = open(file_path, encoding='utf8')\n",
    "tweets = fp.readlines()\n",
    "for tweet in tweets:\n",
    "    print(tweet)"
   ]
  },
  {
   "cell_type": "markdown",
   "metadata": {},
   "source": [
    "Mostly when dealing with data, we have to perform some sort of data pre-processing. Data collection is often loosely controlled, resulting in out of the range values, missing values, and etc. Thus quality of the data is first and formost before running an analysis. This step is specific to the nature of the data. For example for text data it may consist of cleaning, normalization, tokenization, and etc. \n",
    "\n",
    "In this case, our pre-processing consists of:\n",
    "\n",
    "* converting all the words into lower case to remove the effect of the letter case\n",
    "* replacing the URLs with a simple string such as 'url'. From the previous cell, you should be able to see that many of the tweets contain a URL. Since we are not using them now, we can remove them or replace them.\n",
    "* Removing the punctuations"
   ]
  },
  {
   "cell_type": "code",
   "execution_count": 25,
   "metadata": {
    "collapsed": true
   },
   "outputs": [],
   "source": [
    "import numpy as np\n",
    "import re\n",
    "import string\n",
    "from collections import Counter\n",
    "\n",
    "def pre_process(doc):\n",
    "    \"\"\"\n",
    "    pre-processes a doc\n",
    "      * Converts the tweet into lower case,\n",
    "      * removes the URLs,\n",
    "      * removes the punctuations\n",
    "      * tokenizes the tweet\n",
    "    \"\"\"\n",
    "    \n",
    "    doc = doc.lower()\n",
    "    # gettign rid of non ascii codes\n",
    "    try:\n",
    "        doc = doc.decode('ascii', 'ignore')\n",
    "    except:\n",
    "        'It is already decode'\n",
    "    \n",
    "    # repalcing URLs\n",
    "    url_pattern = \"http://[^\\s]+|https://[^\\s]+|www.[^\\s]+|[^\\s]+\\.com|bit.ly/[^\\s]+\"\n",
    "    doc = re.sub(url_pattern, 'url', doc) \n",
    "\n",
    "    punctuation = r\"\\(|\\)|#|\\'|\\\"|-|:|\\\\|\\/|!|_|,|=|;|>|<|\\.\"\n",
    "    doc = re.sub(punctuation, ' ', doc)\n",
    "    \n",
    "    return doc.split()"
   ]
  },
  {
   "cell_type": "code",
   "execution_count": 26,
   "metadata": {},
   "outputs": [
    {
     "name": "stdout",
     "output_type": "stream",
     "text": [
      "RT @ReutersUK: Facebook CTO Mike Schroepfer appears before the House of Commons committee https://t.co/epZuTvWYEf\n"
     ]
    },
    {
     "data": {
      "text/plain": [
       "['rt',\n",
       " '@reutersuk',\n",
       " 'facebook',\n",
       " 'cto',\n",
       " 'mike',\n",
       " 'schroepfer',\n",
       " 'appears',\n",
       " 'before',\n",
       " 'the',\n",
       " 'house',\n",
       " 'of',\n",
       " 'commons',\n",
       " 'committee',\n",
       " 'url']"
      ]
     },
     "execution_count": 26,
     "metadata": {},
     "output_type": "execute_result"
    }
   ],
   "source": [
    "print(r['text'])\n",
    "pre_process(r['text'])"
   ]
  },
  {
   "cell_type": "markdown",
   "metadata": {},
   "source": [
    "**Exercise:**\n",
    "\n",
    "Use the function provided to pre-process one of the tweets."
   ]
  },
  {
   "cell_type": "code",
   "execution_count": 41,
   "metadata": {},
   "outputs": [
    {
     "name": "stdout",
     "output_type": "stream",
     "text": [
      "GEELONG and beyond is the perfect FB page to keep you up to date on that area. Pop over and give them a LIKE too:\n",
      "\n",
      "['geelong', 'and', 'beyond', 'is', 'the', 'perfect', 'fb', 'page', 'to', 'keep', 'you', 'up', 'to', 'date', 'on', 'that', 'area', 'pop', 'over', 'and', 'give', 'them', 'a', 'like', 'too']\n"
     ]
    }
   ],
   "source": [
    "# code here\n",
    "print(tweets[0])\n",
    "print(pre_process(tweets[0]))"
   ]
  },
  {
   "cell_type": "code",
   "execution_count": 28,
   "metadata": {
    "collapsed": true
   },
   "outputs": [],
   "source": [
    "def termdoc(docs):\n",
    "    \"\"\"\n",
    "    returns the term-by-document matrix and the vocabulary of the passed corpus\n",
    "    \"\"\"\n",
    "    \n",
    "    vocab = set()   \n",
    "    termdoc_sparse = []\n",
    "\n",
    "    for doc in docs:\n",
    "        # pre-process the doc\n",
    "        doc_tokens = pre_process(doc)\n",
    "        # computes the frequencies for doc\n",
    "        doc_sparse = Counter(doc_tokens)    \n",
    "\n",
    "        termdoc_sparse.append(doc_sparse)\n",
    "\n",
    "        # update the vocab\n",
    "        vocab.update(doc_sparse.keys())  \n",
    "\n",
    "    vocab = list(vocab)\n",
    "    vocab.sort()\n",
    "\n",
    "    n_docs = len(docs)\n",
    "    n_vocab = len(vocab)\n",
    "    termdoc_dense = np.zeros((n_docs, n_vocab), dtype=int)\n",
    "\n",
    "    for j, doc_sparse in enumerate(termdoc_sparse):\n",
    "        for term, freq in doc_sparse.items():\n",
    "            termdoc_dense[j, vocab.index(term)] = freq\n",
    "            \n",
    "    return termdoc_dense, vocab"
   ]
  },
  {
   "cell_type": "code",
   "execution_count": 29,
   "metadata": {},
   "outputs": [
    {
     "data": {
      "text/plain": [
       "(101, 590)"
      ]
     },
     "execution_count": 29,
     "metadata": {},
     "output_type": "execute_result"
    }
   ],
   "source": [
    "tweets_termdoc, tweets_vocab = termdoc(tweets)\n",
    "tweets_termdoc.shape"
   ]
  },
  {
   "cell_type": "markdown",
   "metadata": {},
   "source": [
    "Lets look at the vocabulary:"
   ]
  },
  {
   "cell_type": "markdown",
   "metadata": {
    "collapsed": true
   },
   "source": [
    "Lets look at one of tweets:"
   ]
  },
  {
   "cell_type": "code",
   "execution_count": 46,
   "metadata": {},
   "outputs": [
    {
     "name": "stdout",
     "output_type": "stream",
     "text": [
      "101\n",
      "['&amp', '&gt', '1', '100kms', '10am', '10th', '12', '1st', '2', '2015', '20more', '24', '26', '27', '30pm', '38', '39260902', '3novices', '4', '40%', '400', '48', '4th', '50', '50th', '52', '7', '8min', '95%', '?', '@abcnews', '@abcnewsadelaide', '@afl@hungryforsport', '@angusbooker', '@auslandcare', '@auspost', '@austmarconssoc', '@bellaguria', '@cassiezervos', '@clan', '@comm4geelong', '@cottonon', '@cpsunion', '@dr', '@dulcerengel', '@geelongaddy', '@geelongbtigers', '@gogreen', '@greenestgreg', '@growg21', '@himekami64', '@hog', '@hoggolfblog', '@hollyamitchell', '@hollychick1', '@jnorbs', '@lebuttery', '@lmbr', '@ltcreatures', '@luke5sos', '@m', '@manderson1944', '@markbeyerle', '@mattyheraldsun', '@museontheloose', '@mylenepillot', '@nutwals', '@richardmbaines', '@s', '@surfcoastnotes', '@tradeshallglg', '@twrgeelong', '@vic', '@vicenvironment', '@vline', 'a', 'abc', 'abcnews', 'abcnewsaus', 'accc', 'across', 'action', 'actions', 'addy', 'adelaide', 'affected', 'afl', 'after', 'all', 'allowed', 'already', 'and', 'anna', 'another', 'approves', 'are', 'area', 'arrivals', 'articles', 'as', 'at', 'attend', 'attendees', 'au', 'auspol', 'australia', 'australia?', 'australian', 'australias', 'aus…', 'available', 'avenue', 'avoid', 'away', 'a…', 'back', 'banned', 'bar', 'barwon', 'bash', 'bayside', 'be', 'beanies', 'been', 'beer', 'before', 'being', 'better', 'beyond', 'bluenote', 'boat', 'book', 'bookings', 'brand', 'breach', 'bryon', 'bus', 'buses', 'but', 'buylocal', 'by', 'cabaret', 'campus', 'can', 'cancel', 'cancelled', 'cantorganiseacrumbinabakery', 'car', 'career', 'catch', 'cats', 'caught', 'celine', 'centrelink', 'cfg', 'cfl’s', 'champions', 'chicken', 'child', 'circus', 'city', 'claims', 'clan', 'classes', 'click', 'club', 'college', 'come', 'commissions', 'commitment', 'community', 'company', 'consumer', 'controversial', 'cost', 'could', 'country', 'cpsu', 'cpsunion', 'cpsusafeguard', 'creatures', 'cross', 'csiro', 'cuts', 'date', 'day', 'days', 'deaths', 'defeats', 'demanding', 'depart', 'desperate', 'despite', 'development', 'did', 'dingy', 'disappointed', 'disgraceful', 'do', 'docklands', 'dogs', 'dolphin', 'dolphins', 'downtown', 'drivel', 'drops', 'eases', 'echonetdaily', 'edition', 'efficient', 'election?', 'elliott79', 'emerald', 'engagement', 'event', 'expand', 'expanding', 'expected', 'exploited', 'face', 'factory', 'fanfare', 'fault', 'fb', 'featured', 'fed', 'festival', 'filler', 'fishing', 'fishing…', 'flexible', 'flying', 'foods', 'for', 'formed', 'forum', 'four', 'free', 'fri', 'from', 'full', 'furphy', 'game', 'ge', 'geelong', 'geelongstar', 'get', 'giants', 'give', 'go', 'govt', 'graincorp', 'great', 'greater', 'grow', 'groweducation', 'growrespect', 'grumble', 'grumbl…', 'gws', 'hall', 'happenings', 'have', 'having', 'heaps', 'hear', 'help', 'henderson', 'here', 'hey', 'hi', 'high', 'hire', 'history', 'hit', 'hopefully', 'how', 'hrs', 'http…', 'htt…', 'ht…', 'hungry', 'hwks', 'i', 'imagine', 'implement', 'in', 'inc', 'including', 'inclusion', 'information', 'interesting', 'into', 'is', 'issue', 'it', 'its', 'joke', 'july', 'june1857', 'just', 'keep', 'kevin', 'key', 'kill', 'killing', 'kills', 'knitters', 'know', 'labour', 'land', 'landed', 'lara', 'large', 'last', 'late', 'leaders', 'leadership', 'leadsci', 'learning', 'left', 'like', 'lions', 'little', 'live', 'look', 'looking', 'lulay', 'lutheran', 'lyons’', 'make', 'makes', 'mammals', 'managed', 'many', 'margaret', 'mcg', 'mcintosh', 'medicare', 'meetingin', 'mel', 'melbourne', 'mem', 'member', 'members', 'might', 'mindbodysoul', 'mission', 'monsta', 'more', 'morning', 'most', 'move?', 'mp', 'museum', 'my', 'n', 'national', 'natural', 'network', 'news', 'newtownblonde', 'next', 'night', 'nine', 'not', 'note', 'nothing', 'nourish', 'now', 'odawed', 'of', 'offer', 'on', 'only', 'open', 'opened', 'operating', 'operators', 'or', 'organic', 'our', 'out', 'outrageous', 'outstanding', 'over', 'page', 'painting', 'partridge', 'passage', 'people', 'perfect', 'pertinent', 'peter', 'piano', 'piece', 'places', 'plan', 'plant', 'play', 'player?', 'please', 'pls', 'points[quote', 'politas', 'pom', 'pompoms…', 'poms', 'pool', 'pop', 'popped', 'port', 'post', 'power', 'practice', 'practices', 'pretty', 'private', 'processing', 'processor', 'promote', 'protesters', 'protesting', 'ps', 'pt', 'public', 'qb', 'quota', 'rabbit', 'rail', 'railway', 'ran', 'rayban', 're', 'reduces', 'regional', 'regionalfaillink', 'regulation', 'replacing', 'repost', 'rescue', 'restrictions', 'rewarding', 'rhys', 'richmond', 'ride', 'right', 'rights', 'rone', 'room', 'round', 'rrl', 'rt', 'rules', 's', 'sa', 'sally', 'saparli', 'sarah', 'saturday', 'scarf', 'school', 'scrutinised', 'sea', 'seafarers', 'seafish', 'seaireyoga', 'season', 'second', 'sector', 'seeks', 'seminar', 'sent', 'service', 'services', 'session', 'set', 'sharnee', 'shepherd', 'shire', 'short', 'sights', 'so', 'social', 'sounds', 'south', 'southern', 'speed', 'spotlight', 'standing', 'stanley', 'star', 'started', 'stop', 'stories', 'story', 'strategies', 'strike', 'success', 'sunshine', 'super', 'support', 'surfcoastpool', 'swans', 'sweet', 'take', 'tammy', 'tarneit', 'tasmania', 'tell', 'test', 'thanks', 'that', 'the', 'their', 'them', 'there', 'they', 'think', 'thinking', 'this', 'thomson', 'tigers', 'time', 'to', 'today', 'todayinhistory', 'too', 'too?', 'top', 'torquay', 'total160', 'track', 'trade', 'trades', 'train', 'trains', 'trawler', 'turi', 'unacceptable', 'under', 'up', 'urbanstalker', 'url', 'v', 've', 'via', 'victoria', 'vines', 'wadawurrung', 'walk', 'warns', 'was', 'watchdog', 'water', 'waterfront', 'we', 'week', 'welcome', 'well', 'went', 'west', 'when', 'white', 'who', 'wholesale', 'wh…', 'will', 'williams', 'wills', 'with', 'women', 'wool', 'woolenhats', 'work', 'worker', 'workers', 'working', 'workplace', 'workshop', 'yet', 'yoga?', 'you', 'your', 'yourself', '|', '–', '…', '😐', '😑']\n",
      "GEELONG and beyond is the perfect FB page to keep you up to date on that area. Pop over and give them a LIKE too:\n",
      "\n",
      "[0 0 0 0 0 0 0 0 0 0 0 0 0 0 0 0 0 0 0 0 0 0 0 0 0 0 0 0 0 0 0 0 0 0 0 0 0\n",
      " 0 0 0 0 0 0 0 0 0 0 0 0 0 0 0 0 0 0 0 0 0 0 0 0 0 0 0 0 0 0 0 0 0 0 0 0 0\n",
      " 0 1 0 0 0 0 0 0 0 0 0 0 0 0 0 0 0 2 0 0 0 0 1 0 0 0 0 0 0 0 0 0 0 0 0 0 0\n",
      " 0 0 0 0 0 0 0 0 0 0 0 0 0 0 0 0 0 1 0 0 0 0 0 0 0 0 0 0 0 0 0 0 0 0 0 0 0\n",
      " 0 0 0 0 0 0 0 0 0 0 0 0 0 0 0 0 0 0 0 0 0 0 0 0 0 0 0 0 0 0 0 0 0 0 0 0 1\n",
      " 0 0 0 0 0 0 0 0 0 0 0 0 0 0 0 0 0 0 0 0 0 0 0 0 0 0 0 0 0 0 0 0 0 0 0 0 0\n",
      " 0 1 0 0 0 0 0 0 0 0 0 0 0 0 0 0 0 0 0 0 0 0 1 0 0 0 1 0 0 0 0 0 0 0 0 0 0\n",
      " 0 0 0 0 0 0 0 0 0 0 0 0 0 0 0 0 0 0 0 0 0 0 0 0 0 0 0 0 0 0 0 0 0 0 1 0 0\n",
      " 0 0 0 0 0 1 0 0 0 0 0 0 0 0 0 0 0 0 0 0 0 0 0 0 0 1 0 0 0 0 0 0 0 0 0 0 0\n",
      " 0 0 0 0 0 0 0 0 0 0 0 0 0 0 0 0 0 0 0 0 0 0 0 0 0 0 0 0 0 0 0 0 0 0 0 0 0\n",
      " 0 0 0 1 0 0 0 0 0 0 0 0 0 0 0 1 1 0 0 0 0 1 0 0 0 0 0 0 0 0 0 0 0 0 0 0 0\n",
      " 0 0 1 0 0 0 0 0 0 0 0 0 0 0 0 0 0 0 0 0 0 0 0 0 0 0 0 0 0 0 0 0 0 0 0 0 0\n",
      " 0 0 0 0 0 0 0 0 0 0 0 0 0 0 0 0 0 0 0 0 0 0 0 0 0 0 0 0 0 0 0 0 0 0 0 0 0\n",
      " 0 0 0 0 0 0 0 0 0 0 0 0 0 0 0 0 0 0 0 0 0 0 0 0 0 0 0 0 0 0 0 1 1 0 1 0 0\n",
      " 0 0 0 0 0 0 2 0 0 1 0 0 0 0 0 0 0 0 0 0 0 0 0 1 0 0 0 0 0 0 0 0 0 0 0 0 0\n",
      " 0 0 0 0 0 0 0 0 0 0 0 0 0 0 0 0 0 0 0 0 0 0 0 0 0 0 0 1 0 0 0 0 0 0 0]\n"
     ]
    }
   ],
   "source": [
    "j = 0\n",
    "print(len(tweets_termdoc))\n",
    "print(tweets_vocab)\n",
    "print(tweets[j])\n",
    "print(tweets_termdoc[j])"
   ]
  },
  {
   "cell_type": "code",
   "execution_count": 43,
   "metadata": {},
   "outputs": [
    {
     "data": {
      "text/plain": [
       "0"
      ]
     },
     "execution_count": 43,
     "metadata": {},
     "output_type": "execute_result"
    }
   ],
   "source": [
    "tweets_termdoc[j][127]"
   ]
  },
  {
   "cell_type": "markdown",
   "metadata": {},
   "source": [
    "So basically, now each tweet is represented by a vector of size `len(tweets_vocab)`."
   ]
  },
  {
   "cell_type": "markdown",
   "metadata": {},
   "source": [
    "### News dataset\n",
    "Similar to previous sections, the data is stored in text files names as'news1.txt', ..., 'news5.txt'. All we have to do is read the files, construct the corpus and send it to `termdoc()` function."
   ]
  },
  {
   "cell_type": "code",
   "execution_count": 33,
   "metadata": {
    "collapsed": true
   },
   "outputs": [],
   "source": [
    "n_docs = 6\n",
    "cwd = os.getcwd()   \n",
    "news = []\n",
    "\n",
    "for j in range(1, n_docs+1):\n",
    "    filename = \"news{}.txt\".format(j)\n",
    "    file_path = os.path.join(cwd, \"data/prac06/{}\".format(filename))\n",
    "    fp = open(file_path, encoding='utf8')\n",
    "    news.append(fp.read())\n",
    "\n",
    "news_termdoc, news_vocab = termdoc(news)"
   ]
  },
  {
   "cell_type": "markdown",
   "metadata": {},
   "source": [
    "So now each news article is represented with a large vector of size `len(news_vocab)`. We can do many things with this representation. For example measuring the distance between two documents. The first 5 news articles are tech news and about Apple, but the 6th one is about politics. We expect that tech news be more similar to each other rather than to the politics news. In other words the distance between two articles from tech news should be less than the distance between a tech news article and a news article about politics. This is shown below:"
   ]
  },
  {
   "cell_type": "code",
   "execution_count": 34,
   "metadata": {},
   "outputs": [
    {
     "name": "stdout",
     "output_type": "stream",
     "text": [
      "0.380914826498\n",
      "0.415450236967\n"
     ]
    }
   ],
   "source": [
    "print(cosine_distance(news_termdoc[1], news_termdoc[2]))   # both about Apple\n",
    "print(cosine_distance(news_termdoc[1], news_termdoc[4]))   # one from tech world, the other from politics"
   ]
  }
 ],
 "metadata": {
  "kernelspec": {
   "display_name": "Python 3",
   "language": "python",
   "name": "python3"
  },
  "language_info": {
   "codemirror_mode": {
    "name": "ipython",
    "version": 3
   },
   "file_extension": ".py",
   "mimetype": "text/x-python",
   "name": "python",
   "nbconvert_exporter": "python",
   "pygments_lexer": "ipython3",
   "version": "3.6.1"
  }
 },
 "nbformat": 4,
 "nbformat_minor": 1
}

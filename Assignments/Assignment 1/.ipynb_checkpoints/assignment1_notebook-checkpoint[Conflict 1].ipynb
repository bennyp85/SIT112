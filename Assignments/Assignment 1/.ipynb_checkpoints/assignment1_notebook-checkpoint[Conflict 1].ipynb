{
 "cells": [
  {
   "cell_type": "markdown",
   "metadata": {},
   "source": [
    "# <span style=\"color:#0b486b\">SIT 112 - Data Science Concepts - Assignment 1</span>\n",
    "\n",
    "---\n",
    "Lecturer: Truyen Tran | truyen.tran@deakin.edu.au<br />\n",
    "\n",
    "School of Information Technology, <br />\n",
    "Deakin University, VIC 3215, Australia.\n",
    "\n",
    "### <span style=\"color:#0b486b\">Due: 5pm, Friday 13th April 2018</span>\n",
    "\n",
    "---"
   ]
  },
  {
   "cell_type": "markdown",
   "metadata": {},
   "source": [
    "### <span style=\"color:#0b486b\">Instructions</span>\n",
    "\n",
    "This notebook has been prepared for you to complete Assignment 1. Some sections have been pre-filled  to help you get started. **The total mark for this programming task is 65**.\n",
    "\n",
    "1. Before you start, read the entire notebook carefully to understand what you need to do. You should also refer to the main instructions in *Assignment1_instructions.pdf*  to know what else you need to complete for this assignment.\n",
    "2. For each cell marked with *#INSERT YOUR CODE HERE*, you must write your own code in this cell.\n",
    "3. At the end, you must run the entire notebook and submit two files:\n",
    " 1. The source of your solution notebook: [YourID]_assignment1_solution.ipynb\n",
    " 2. And an exported version of your output: [YourID]_assignment1_output.html  \n",
    "       \n",
    "For example, if your student ID is 123456, then you need submit two files:\n",
    "\n",
    "1. **123456_assignment1_solution.ipynb**\n",
    "2. and **123456_assignment1_output.html**\n",
    "\n",
    "As you go through this notebook:\n",
    "\n",
    "* markdown cells marked with **Note** mean description sections.\n",
    "* markdown cells marked with **Instructions** mean the instructions given to you to complete the sections."
   ]
  },
  {
   "cell_type": "code",
   "execution_count": 1,
   "metadata": {
    "collapsed": true
   },
   "outputs": [],
   "source": [
    "\"\"\"\n",
    "Import packages needed for processing\n",
    "\"\"\"\n",
    "import numpy as np   # import the numpy package\n",
    "import csv           # this package needed for processing csv file\n",
    "from collections import Counter  # this is for dictionary construction with counting functionality\n",
    "import matplotlib.pyplot as plt  # this is for plotting and other descriptive statistics\n",
    "from datetime import datetime     # this package is for handling time\n",
    "\n",
    "\"\"\"\n",
    "If you need add any additional packages, then add them below this line\n",
    "\"\"\"\n",
    "from statistics import median\n",
    "%matplotlib inline"
   ]
  },
  {
   "cell_type": "markdown",
   "metadata": {},
   "source": [
    "**Note**: you must place your data file in the same folder with your python notebook."
   ]
  },
  {
   "cell_type": "code",
   "execution_count": 2,
   "metadata": {
    "collapsed": true
   },
   "outputs": [],
   "source": [
    "# Declare the path to the data file\n",
    "DATA_FILE = \"medicare-office_locations.csv\""
   ]
  },
  {
   "cell_type": "markdown",
   "metadata": {},
   "source": [
    "**Note**. The following segment of codes is to load the data from the .csv file using csv package. It has been provided for you to get started. Please **do not** change this piece of code as well the variable names as we will need these variables to complete subsequent tasks. "
   ]
  },
  {
   "cell_type": "code",
   "execution_count": 3,
   "metadata": {},
   "outputs": [
    {
     "name": "stdout",
     "output_type": "stream",
     "text": [
      "dict_keys(['No.', 'OFFICE TYPE', 'SITE NAME', 'ADDRESS', 'SUBURB', 'STATE', 'POSTCODE', 'LATITUDE', 'LONGITUDE', 'Open', 'Close', 'Closed for lunch'])\n"
     ]
    }
   ],
   "source": [
    "# Load CSV file using DictReader\n",
    "input_file = csv.DictReader(open(DATA_FILE))\n",
    "fieldnames = input_file.fieldnames\n",
    "data_dict = {fn: [] for fn in fieldnames}\n",
    "print(data_dict.keys())\n",
    "for line in input_file:\n",
    "    for k, v in line.items():\n",
    "        try:\n",
    "            data_dict[k].append(int(v))\n",
    "        except ValueError:\n",
    "            try:\n",
    "                data_dict[k].append(float(v))\n",
    "            except ValueError:\n",
    "                data_dict[k].append(v)\n",
    "                \n",
    "for k, v in data_dict.items():\n",
    "    data_dict[k] = np.array(v)"
   ]
  },
  {
   "cell_type": "markdown",
   "metadata": {},
   "source": [
    "---\n",
    "## **Instruction 1**\n",
    "We first examine the variables and the overall data size. The tasks:\n",
    "\n",
    "1. Write your code to print the type for the following variables (**4 marks**):\n",
    "    * input_file\n",
    "    * data_dict\n",
    "    * data_dict['SUBURB']\n",
    "    * data_dict['STATE']\n",
    "    \n",
    "2. Write your code to print out the number of data records. (**1 mark**)\n",
    "\n",
    "[**Total mark: 5**]"
   ]
  },
  {
   "cell_type": "code",
   "execution_count": 4,
   "metadata": {},
   "outputs": [
    {
     "name": "stdout",
     "output_type": "stream",
     "text": [
      "List of the variable types:\n",
      "--------------------------\n",
      "input_file is of type <class 'csv.DictReader'>\n",
      "data_dict is of type <class 'dict'>\n",
      "data_dict[\"SUBURB\"] is of type <class 'numpy.ndarray'>\n",
      "data_dict[\"STATE\"] is of type <class 'numpy.ndarray'>\n"
     ]
    }
   ],
   "source": [
    "# INSERT YOUR CODE HERE\n",
    "'''\n",
    "1. Write you code to print the type for the following variables:\n",
    "    * input_file\n",
    "    * data_dict\n",
    "    * data_dict['SUBURB']\n",
    "    * data_dict['STATE']\n",
    "'''\n",
    "varList = [input_file, data_dict, data_dict['SUBURB'], data_dict['STATE']]\n",
    "varNameList = ['input_file', 'data_dict', 'data_dict[\"SUBURB\"]', 'data_dict[\"STATE\"]']\n",
    "\n",
    "\n",
    "\n",
    "print(\"List of the variable types:\")\n",
    "print(\"--------------------------\")\n",
    "\n",
    "j = 0\n",
    "\n",
    "for i in varList:\n",
    "    print(varNameList[j] + \" is of type \" + str(type(i)))\n",
    "    j += 1"
   ]
  },
  {
   "cell_type": "code",
   "execution_count": 51,
   "metadata": {},
   "outputs": [
    {
     "name": "stdout",
     "output_type": "stream",
     "text": [
      "There are 239 records in the CSV\n"
     ]
    }
   ],
   "source": [
    "# INSERT YOUR CODE HERE\n",
    "'''\n",
    "2. Write your code to print out the number of data records\n",
    "'''\n",
    "\n",
    "for key,value in data_dict.items():\n",
    "        records = len(list(filter(bool, value)))\n",
    "        \n",
    "print(\"There are \" +str(records)+ \" records in the CSV\")"
   ]
  },
  {
   "cell_type": "markdown",
   "metadata": {},
   "source": [
    "---\n",
    "## Instruction 2\n",
    "The following code segment is designed to calculate some basic statistics from the data. \n",
    "\n",
    "**Your task:**\n",
    "1. Write your code to find and print the minimum and the maximum values in the **LATITUDE** column. (**1 mark**)\n",
    "2. Write your code to find and print the minimum and maximum values of the **LONGITUDE** column. (**1 marks**)\n",
    "3. Write your code to find and print the central point of all the locations. This point is a pair of the average of latitudes *(the **LATITUDE** column)* and the average of longitudes *(the **LONGITUDE** column)*. (**3 marks**)\n",
    "\n",
    "**[Total mark: 5]**"
   ]
  },
  {
   "cell_type": "code",
   "execution_count": 6,
   "metadata": {},
   "outputs": [
    {
     "name": "stdout",
     "output_type": "stream",
     "text": [
      "The maximum latitude value is -12.37187\n",
      "The minimum latitude value is -42.97638\n"
     ]
    }
   ],
   "source": [
    "# INSERT YOUR CODE HERE\n",
    "\"\"\"\n",
    "1. Write your code to find and print the minimum and the maximum values in the **LATITUDE** column.\n",
    "\"\"\"\n",
    "maxLat = np.max(data_dict['LATITUDE'])\n",
    "minLat = np.amin(data_dict['LATITUDE'])\n",
    "print(\"The maximum latitude value is \" + str(maxLat))\n",
    "print(\"The minimum latitude value is \" + str(minLat))"
   ]
  },
  {
   "cell_type": "code",
   "execution_count": 7,
   "metadata": {},
   "outputs": [
    {
     "name": "stdout",
     "output_type": "stream",
     "text": [
      "The maximum longitude value is 153.55671\n",
      "The minimum longitude value is 114.61273\n"
     ]
    }
   ],
   "source": [
    "# INSERT YOUR CODE HERE\n",
    "\"\"\"\n",
    "2. Write your code to find and print the minimum and maximum values of the **LONGITUDE** column.\n",
    "\"\"\"\n",
    "maxLong = np.amax(data_dict['LONGITUDE'])\n",
    "minLong = np.amin(data_dict['LONGITUDE'])\n",
    "print(\"The maximum longitude value is \" + str(maxLong))\n",
    "print(\"The minimum longitude value is \" + str(minLong))"
   ]
  },
  {
   "cell_type": "code",
   "execution_count": 8,
   "metadata": {},
   "outputs": [
    {
     "name": "stdout",
     "output_type": "stream",
     "text": [
      "The central point is at Latitude(-32.4765017992) Longitude(145.580256151)\n"
     ]
    }
   ],
   "source": [
    "# INSERT YOUR CODE HERE\n",
    "\"\"\"\n",
    "3. Write your code to find and print the central point of all the locations. \n",
    "This point is a pair of the average of latitudes *(the **LATITUDE** column)* \n",
    "    and the average of longitudes *(the **LONGITUDE** column)*\n",
    "\"\"\"\n",
    "avLat = np.average(data_dict['LATITUDE'])\n",
    "avLong = np.average(data_dict['LONGITUDE'])\n",
    "print(\"The central point is at Latitude(\"+ str(avLat) + \") Longitude(\" + str(avLong) +\")\")"
   ]
  },
  {
   "cell_type": "markdown",
   "metadata": {},
   "source": [
    "---\n",
    "## **Instruction 3**\n",
    "The following code segment is designed to examine data from the **STATE** column. This column provides information about the states of medical centers.\n",
    "\n",
    "\n",
    "**Your tasks**:\n",
    "\n",
    "1. Write your code to find and print out the number of **unique** states. (**3 marks**)\n",
    "2. Write your code to find and print out the list of states that appears more than **ten** times in the dataset. (**3 marks**)\n",
    "3. Write your code to find and print out the state with highest frequency. Both the state name and frequency need to be printed out (**3 marks**)\n",
    "4. Write your code to construct a dictionary variable: ***state_popularity*** whose keys are unique states and values are the corresponding counts computed from the dataset. Print the dictionary. (**3 marks**)\n",
    "5. Plot a bar chart for ***state_popularity*** sorted in descending order of values. (**3 marks**)\n",
    "\n",
    "[**Total mark: 15**]"
   ]
  },
  {
   "cell_type": "code",
   "execution_count": 9,
   "metadata": {},
   "outputs": [
    {
     "name": "stdout",
     "output_type": "stream",
     "text": [
      "There are 8 unique states\n"
     ]
    }
   ],
   "source": [
    "# INSERT YOUR CODE HERE \n",
    "\"\"\"\n",
    "1. Write your code to find and print out the number of **unique** states.\n",
    "Hint: you might want to use np.unique\n",
    "\"\"\"\n",
    "#get unique state names\n",
    "uniqueStates = np.unique(data_dict['STATE'])\n",
    "print(\"There are \" +str(len(uniqueStates))+ \" unique states\")\n"
   ]
  },
  {
   "cell_type": "code",
   "execution_count": 10,
   "metadata": {},
   "outputs": [
    {
     "name": "stdout",
     "output_type": "stream",
     "text": [
      "States with more than 10 locations\n",
      "----------------------------------\n",
      "There are 87 locations in NSW\n",
      "There are 49 locations in QLD\n",
      "There are 14 locations in SA\n",
      "There are 54 locations in VIC\n",
      "There are 19 locations in WA\n"
     ]
    }
   ],
   "source": [
    "# INSERT YOUR CODE HERE \n",
    "\"\"\"\n",
    "2. Write your code to find and print out the list of states \n",
    "    that appears more than **ten** times in the dataset.\n",
    "\n",
    "Hint: read the documention for function numpy.unique carefully and examine what does it return.\n",
    "\"\"\"\n",
    "#put state column into np array\n",
    "stateArray = np.array(data_dict[\"STATE\"])\n",
    "print(\"States with more than 10 locations\")\n",
    "print(\"----------------------------------\")\n",
    "\n",
    "for i in uniqueStates:\n",
    "    #check if the number of times a state appears is more than 10\n",
    "    count = (stateArray == i).sum()\n",
    "    if count > 10:\n",
    "        print(\"There are \" +str(count)+ \" locations in \" + str(i))\n",
    "\n",
    "        "
   ]
  },
  {
   "cell_type": "code",
   "execution_count": 11,
   "metadata": {},
   "outputs": [
    {
     "name": "stdout",
     "output_type": "stream",
     "text": [
      "NSW has the highest frequency with 87 locations\n"
     ]
    }
   ],
   "source": [
    "# INSERT YOUR CODE HERE \n",
    "\"\"\"\n",
    "3. Write your code to find and print out the state with highest frequency. \n",
    "Both the state name and frequency need to be printed out\n",
    "\"\"\"\n",
    "maxFrequency = 0\n",
    "stateName = None\n",
    "for i in uniqueStates:\n",
    "    #sum up frequency of state name occurrence\n",
    "    count = (stateArray == i).sum()\n",
    "    #find highest value\n",
    "    if count > maxFrequency:\n",
    "        maxFrequency = count\n",
    "        stateName = i\n",
    "print(str(stateName) + \" has the highest frequency with \" + str(maxFrequency) + \" locations\")"
   ]
  },
  {
   "cell_type": "code",
   "execution_count": 12,
   "metadata": {},
   "outputs": [
    {
     "name": "stdout",
     "output_type": "stream",
     "text": [
      "NSW 87\n",
      "VIC 54\n",
      "QLD 49\n",
      "WA 19\n",
      "SA 14\n",
      "TAS 7\n",
      "ACT 5\n",
      "NT 4\n"
     ]
    }
   ],
   "source": [
    "# INSERT YOUR CODE HERE \n",
    "\"\"\"\n",
    "4. Write your code to construct a dictionary variable: ***state_popularity*** \n",
    "    whose keys are unique states and values are the corresponding counts computed from the dataset.\n",
    "Print the dictionary.\n",
    "\"\"\"\n",
    "#put stateArray in counter() format\n",
    "state_popularity = Counter(stateArray)\n",
    "\n",
    "for state, count in state_popularity.most_common():\n",
    "    print(state, count)\n"
   ]
  },
  {
   "cell_type": "code",
   "execution_count": 13,
   "metadata": {},
   "outputs": [
    {
     "data": {
      "image/png": "[encoded data removed]",
      "text/plain": [
       "<matplotlib.figure.Figure at 0x116e4e550>"
      ]
     },
     "metadata": {},
     "output_type": "display_data"
    }
   ],
   "source": [
    "# INSERT YOUR CODE HERE \n",
    "'''\n",
    "5. Plot a bar chart for state_popularity sorted in descending order of values.\n",
    "'''\n",
    "#make descending list of state\n",
    "descState = state_popularity.most_common()\n",
    "\n",
    "#use first element of tuples in descState list\n",
    "stateName = [x[0] for x in descState]\n",
    "values = list(state_popularity.values())\n",
    "\n",
    "#put values in descending order\n",
    "values.sort(reverse=True)\n",
    "\n",
    "# assigned to variable to stop output of function type/address printing\n",
    "statePop = plt.bar(range(len(state_popularity)), values, tick_label = stateName)\n",
    "plotTitle = plt.title('State Popularity')"
   ]
  },
  {
   "cell_type": "markdown",
   "metadata": {},
   "source": [
    "---\n",
    "## **Instruction 4**\n",
    "We shall examine the opening hours of the medicare offices. The time is a string in the format: **'Hour:Minute:Second'**. If the time is not in the correct form, the opening duration of the office is **invalid**. Run the cell below:"
   ]
  },
  {
   "cell_type": "code",
   "execution_count": 14,
   "metadata": {},
   "outputs": [
    {
     "name": "stdout",
     "output_type": "stream",
     "text": [
      "8:30:00\n",
      "16:30:00\n"
     ]
    }
   ],
   "source": [
    "# print the opening time and closing time of the first medicare office.\n",
    "\n",
    "print(data_dict['Open'][0])\n",
    "print(data_dict['Close'][0])"
   ]
  },
  {
   "cell_type": "markdown",
   "metadata": {},
   "source": [
    "**Your tasks**:\n",
    "\n",
    "1. Define a function called `compute_opening_duration` that takes two strings: the opening time and the closing time as the inputs and return the opening duration in hours. If the opening time or the closing time are not in the correct form, the function returns -1. (**7 marks**)\n",
    "2. Write your code to calculate an array called **opening_duration_list** that stores the opening duration of all medicare offices. Store the array as a numpy array. Print the first 10 entries in the array. (**3 mark**)\n",
    "3. Construct a new array called **valid_opening_duration_list** to store only valid opening duration entries and then print out the number of elements in the array. (**3 marks**)\n",
    "4. Print the min, max, median and construct a box-plot for variable **valid_opening_duration_list**. (**5 marks**)\n",
    "\n",
    "[**Total mark: 18**]"
   ]
  },
  {
   "cell_type": "code",
   "execution_count": 15,
   "metadata": {
    "collapsed": true
   },
   "outputs": [],
   "source": [
    "'''\n",
    "1. Define a function called `compute_opening_duration` to calculate the duration of the opening time. \n",
    "The function takes two strings: the opening time and the closing time as the inputs and return the opening duration in hours.\n",
    "The opening time and the closing time are in the form 'Hour:Minute:Second'.\n",
    "If the opening time or the closing time are not in the correct form, the function returns -1.\n",
    "\n",
    "Example: \n",
    "    opening time: '8:30:00', closing time: '16:00:00', return 7.5\n",
    "    opening time: '9:00:00', closing time: '16:15:00', return 7.25\n",
    "    opening time: '8:30:00', closing time: 'evening', return -1\n",
    "    \n",
    "Hint: you might want to use datetime package\n",
    "'''\n",
    "from datetime import timedelta\n",
    "\n",
    "def compute_opening_duration(opening_time, closing_time):\n",
    "    '''\n",
    "    Input: two string: opening_time and closing_time\n",
    "    Output: the opening duration in hours\n",
    "    Return -1 if any time is in incorrect form.\n",
    "    '''\n",
    "    # INSERT YOUR CODE HERE\n",
    "    \n",
    "    # set date format\n",
    "    datetimeFormat = '%H:%M:%S' \n",
    "    \n",
    "    #try-catch checks for correct format\n",
    "    try:\n",
    "        timedelta = datetime.strptime(closing_time, datetimeFormat) - datetime.strptime(opening_time, datetimeFormat)\n",
    "        # get absolute value of time difference\n",
    "        difference = abs(timedelta)\n",
    "        # get total seconds and then change to hours\n",
    "        total_hours = difference.total_seconds() / 3600.0\n",
    "        return total_hours\n",
    "    except ValueError:\n",
    "        return(\"-1\")\n",
    "    \n",
    "\n"
   ]
  },
  {
   "cell_type": "code",
   "execution_count": 16,
   "metadata": {},
   "outputs": [
    {
     "name": "stdout",
     "output_type": "stream",
     "text": [
      "Armadale (WA) is open for 8.0 hours\n",
      "Armidale (NSW) is open for 8.5 hours\n",
      "Newport is open for 6.5 hours\n",
      "Townsville Jobseekers is open for 7.5 hours\n",
      "Albany is open for 6.5 hours\n",
      "Atherton is open for 6.5 hours\n",
      "Alice Springs is open for 8.5 hours\n",
      "Ayr is open for 6.5 hours\n",
      "Ararat is open for 7.5 hours\n",
      "Airport West is open for 6.5 hours\n"
     ]
    }
   ],
   "source": [
    "# INSERT YOUR CODE HERE\n",
    "\"\"\"\n",
    "2. Write your code to calculate an array called **opening_duration_list** \n",
    "    that stores the opening duration of all medicare offices.\n",
    "Store the array as a numpy array.\n",
    "Print the first 10 entries in the array. \n",
    "\"\"\"\n",
    "#create empty list to append values to\n",
    "hours_list = []\n",
    "\n",
    "#iterate over the first 10 rows\n",
    "for i in range(len(data_dict['No.'])):\n",
    "    openTime = (data_dict['Open'][i])\n",
    "    closeTime = (data_dict['Close'][i])\n",
    "    hours_list.append(compute_opening_duration(openTime, closeTime))\n",
    "\n",
    "#index for SITE NAME\n",
    "j = 0\n",
    "#make numpy array from hours_list\n",
    "opening_duration_list = np.array(hours_list)\n",
    "for i in opening_duration_list[0:10]:\n",
    "    print(str(data_dict['SITE NAME'][j]) + \" is open for \" +str(i)+ \" hours\")\n",
    "    j += 1\n"
   ]
  },
  {
   "cell_type": "code",
   "execution_count": 17,
   "metadata": {},
   "outputs": [
    {
     "name": "stdout",
     "output_type": "stream",
     "text": [
      "There are 235 locations with valid open hours\n"
     ]
    }
   ],
   "source": [
    "# INSERT YOUR CODE HERE \n",
    "\"\"\"\n",
    "3. Construct a new array called **valid_opening_duration_list** to store only valid opening duration entries and \n",
    "then print out the number of elements in the array.\n",
    "\"\"\"\n",
    "j = 0\n",
    "count = 0\n",
    "valid_opening_duration_list = []\n",
    "for i in opening_duration_list:\n",
    "    # check for value of '-1'\n",
    "    if opening_duration_list[j] != '-1':\n",
    "        valid_opening_duration_list.append(i)\n",
    "        count += 1\n",
    "    j += 1\n",
    "    \n",
    "print(\"There are \" +str(count) + \" locations with valid open hours\")"
   ]
  },
  {
   "cell_type": "code",
   "execution_count": 18,
   "metadata": {},
   "outputs": [
    {
     "name": "stdout",
     "output_type": "stream",
     "text": [
      "Minimum hours open: 6.5\n",
      "Maximum hours open: 9.0\n",
      "Median hours open: 8.0\n"
     ]
    },
    {
     "data": {
      "image/png": "[encoded data removed]",
      "text/plain": [
       "<matplotlib.figure.Figure at 0x11a35deb8>"
      ]
     },
     "metadata": {},
     "output_type": "display_data"
    }
   ],
   "source": [
    "# INSERT YOUR CODE HERE\n",
    "\"\"\"\n",
    "4. Print the min, max, median and construct a box-plot for variable **valid_opening_duration_list**\n",
    "\"\"\"\n",
    "minHours = min(valid_opening_duration_list)\n",
    "maxHours = max(valid_opening_duration_list)\n",
    "medianHours = median(valid_opening_duration_list)\n",
    "\n",
    "print(\"Minimum hours open: \" +str(minHours))\n",
    "print(\"Maximum hours open: \" +str(maxHours))\n",
    "print(\"Median hours open: \" +str(medianHours))\n",
    "\n",
    "validHours = []\n",
    "for i in valid_opening_duration_list:\n",
    "    validHours.append(float(i))\n",
    "    \n",
    "fig, ax = plt.subplots(figsize=(5, 5))\n",
    "boxPlot = ax.boxplot(validHours)\n",
    "y_axis_Label = ax.set_ylabel('Hours', fontsize = 15)\n",
    "plot_title = ax.set_title('Open Hours Box Plot', fontsize = 15)\n",
    "x_axis_tick = plt.xticks([])\n"
   ]
  },
  {
   "cell_type": "markdown",
   "metadata": {},
   "source": [
    "---\n",
    "## **Instruction 5**\n",
    "Continue from the previous steps, **your tasks are:**\n",
    "\n",
    "1. Write your code to find and print all the invalid entry indices. An entry is invalid when its opening duration is invalid. (**5 marks**).\n",
    "2. Write your code to filter out all invalid entries and store your data into a new variable **data_dict_cleaned** and print out the number of data records after being cleaned. (**5 marks**)\n",
    "\n",
    "[**Total mark: 10**]"
   ]
  },
  {
   "cell_type": "code",
   "execution_count": 49,
   "metadata": {},
   "outputs": [
    {
     "name": "stdout",
     "output_type": "stream",
     "text": [
      "(array([ 15,  35, 127, 220]),)\n"
     ]
    }
   ],
   "source": [
    "# INSERT YOUR CODE HERE\n",
    "\"\"\"\n",
    "1. Write your code to find and print all the invalid entry indices.\n",
    " You might want to use np.where function.\n",
    "\"\"\"\n",
    "index = np.where(opening_duration_list == '-1')\n",
    "print(index)\n"
   ]
  },
  {
   "cell_type": "code",
   "execution_count": 20,
   "metadata": {},
   "outputs": [
    {
     "data": {
      "text/plain": [
       "'\\n2. Write your code to filter out all invalid entries \\nand store your data into a new variable data_dict_cleaned\\nand print out the number of data records after being cleaned.\\n'"
      ]
     },
     "execution_count": 20,
     "metadata": {},
     "output_type": "execute_result"
    }
   ],
   "source": [
    "# INSERT YOUR CODE HERE\n",
    "\"\"\"\n",
    "2. Write your code to filter out all invalid entries \n",
    "and store your data into a new variable data_dict_cleaned\n",
    "and print out the number of data records after being cleaned.\n",
    "\"\"\"\n"
   ]
  },
  {
   "cell_type": "markdown",
   "metadata": {
    "collapsed": true
   },
   "source": [
    "---\n",
    "## **Instruction 6**\n",
    "The following code segment is designed to examine data from **ADDRESS** column.\n",
    "\n",
    "We say that an address is **valid** if it contains the number and the name of the street, which are separated by spaces. The formats for a valid street name is **\"stNumber stName\"** or **\"stNumber1-stNumber2 stName\"**, where **stNumber**, **stNumber1** and **stNumber2** are positive numbers and **stName** is any non-empty string. For example, **20 St Kilda Road** and **100-104 Elliott Avenue** are valid addresses while **St Kilda Road** and **0 Elliott Avenue** are invalid addresses.\n",
    "\n",
    "**Your tasks**:\n",
    "\n",
    "1. Define a function called `valid_address` that takes a string `address` and returns `True` if `address` is valid and `False` otherwise. (**7 marks**)\n",
    "2. Write your code to **further** filter out all entries with invalid addresses, and store your cleaned data into the new variable named ***data_dict_cleaned2*** and print out the number of data records after being cleaned. (**5 marks**)\n",
    "\n",
    "**Note:** \n",
    "1. All street numbers if exist in an address are integers. There is at most a hyphen in an address to connect two street numbers.\n",
    "2. In reality, an address can be \"Shop 3, 10 St Kilda Road\". However, for simplicity, we only consider the valid address contains street numbers and a street name.\n",
    "\n",
    "[**Total mark: 12**]"
   ]
  },
  {
   "cell_type": "code",
   "execution_count": 21,
   "metadata": {},
   "outputs": [
    {
     "data": {
      "text/plain": [
       "'\\n1. Define a function called valid_address that takes a string address and\\nreturns True if address is valid and False otherwise.\\n'"
      ]
     },
     "execution_count": 21,
     "metadata": {},
     "output_type": "execute_result"
    }
   ],
   "source": [
    "# INSERT YOUR CODE HERE\n",
    "'''\n",
    "1. Define a function called valid_address that takes a string address and\n",
    "returns True if address is valid and False otherwise.\n",
    "'''\n"
   ]
  },
  {
   "cell_type": "code",
   "execution_count": 22,
   "metadata": {},
   "outputs": [
    {
     "data": {
      "text/plain": [
       "'\\n2. Write your code to further filter out all entries with invalid addresses, and store your cleaned data \\n    into the new variable named data_dict_cleaned2 and print out the number of data records \\n    after being cleaned.\\n'"
      ]
     },
     "execution_count": 22,
     "metadata": {},
     "output_type": "execute_result"
    }
   ],
   "source": [
    "# INSERT YOUR CODE HERE\n",
    "\"\"\"\n",
    "2. Write your code to further filter out all entries with invalid addresses, and store your cleaned data \n",
    "    into the new variable named data_dict_cleaned2 and print out the number of data records \n",
    "    after being cleaned.\n",
    "\"\"\"\n"
   ]
  }
 ],
 "metadata": {
  "kernelspec": {
   "display_name": "Python 3",
   "language": "python",
   "name": "python3"
  },
  "language_info": {
   "codemirror_mode": {
    "name": "ipython",
    "version": 3
   },
   "file_extension": ".py",
   "mimetype": "text/x-python",
   "name": "python",
   "nbconvert_exporter": "python",
   "pygments_lexer": "ipython3",
   "version": "3.6.1"
  }
 },
 "nbformat": 4,
 "nbformat_minor": 1
}

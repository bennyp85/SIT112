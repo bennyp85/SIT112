{
 "cells": [
  {
   "cell_type": "markdown",
   "metadata": {},
   "source": [
    "# <span style=\"color:#0b486b\">SIT 112 - Data Science Concepts</span>\n",
    "\n",
    "---\n",
    "Lecturer: Truyen Tran | truyen.tran@deakin.edu.au<br />\n",
    "\n",
    "\n",
    "School of Information Technology, <br />\n",
    "Deakin University, VIC 3215, Australia.\n",
    "\n",
    "---"
   ]
  },
  {
   "cell_type": "markdown",
   "metadata": {},
   "source": [
    "## <span style=\"color:#0b486b\">Practical Session : Twitter API</span>\n",
    "\n",
    "**The purpose of this session is to teach you:**\n",
    "\n",
    "1. How to use Twitter API\n",
    "2. Distances\n",
    "3. Term-by-Document matrix\n"
   ]
  },
  {
   "cell_type": "markdown",
   "metadata": {},
   "source": [
    "---\n",
    "## <span style=\"color:#0b486b\">1. Twitter API</span>\n",
    "\n",
    "To work with Twitter API, we use a package called `TwitterAPI`. You can install it by executing the cell below if you don't have it on your machine."
   ]
  },
  {
   "cell_type": "code",
   "execution_count": 1,
   "metadata": {},
   "outputs": [
    {
     "name": "stdout",
     "output_type": "stream",
     "text": [
      "Requirement already satisfied: TwitterAPI in /Users/ben/anaconda/lib/python3.6/site-packages\n",
      "Requirement already satisfied: requests in /Users/ben/anaconda/lib/python3.6/site-packages (from TwitterAPI)\n",
      "Requirement already satisfied: requests-oauthlib in /Users/ben/anaconda/lib/python3.6/site-packages (from TwitterAPI)\n",
      "Requirement already satisfied: oauthlib>=0.6.2 in /Users/ben/anaconda/lib/python3.6/site-packages (from requests-oauthlib->TwitterAPI)\n",
      "\u001b[33mYou are using pip version 9.0.1, however version 10.0.1 is available.\n",
      "You should consider upgrading via the 'pip install --upgrade pip' command.\u001b[0m\n"
     ]
    }
   ],
   "source": [
    "!pip install TwitterAPI"
   ]
  },
  {
   "cell_type": "markdown",
   "metadata": {},
   "source": [
    "To be able to collect data from the Twitter API you need an Access token and secret. For now we have provided you with them, but to obtain yours you can go to https://apps.twitter.com/, click on 'Create New App', fill the form and then click on 'Create your Twitter Application'."
   ]
  },
  {
   "cell_type": "code",
   "execution_count": 2,
   "metadata": {
    "collapsed": true
   },
   "outputs": [],
   "source": [
    "from TwitterAPI import TwitterAPI\n",
    "\n",
    "CONSUMER_KEY = \"HLnOFAqRgkrJaaqMoy41a0nxj\"\n",
    "CONSUMER_SECRET = \"tz4GKwFn9dsqYv6Mnl9mzctSqV5LeOVGhAuvr1KW0c2LpLuprZ\"\n",
    "OAUTH_TOKEN = \"763929928219766784-AjLCTTzhDWx87EJxHpfeC7IPvFnQB1t\"\n",
    "OAUTH_TOKEN_SECRET = \"MTJThLdK6SkVzqnHEGvja2yUhIDSCZ8XCfNzjDTUgiXAu\"\n",
    "\n",
    "# Authonticating with your application credentials\n",
    "api = TwitterAPI(CONSUMER_KEY,\n",
    "                 CONSUMER_SECRET,\n",
    "                 OAUTH_TOKEN,\n",
    "                 OAUTH_TOKEN_SECRET)"
   ]
  },
  {
   "cell_type": "markdown",
   "metadata": {},
   "source": [
    "Now we have access to API. For a complete reference on what the API offers look at the [Twitter API documentation](https://dev.twitter.com/overview/api). For example we can [search for tweets](https://dev.twitter.com/rest/reference/get/search/tweets) that contain a specific keyword or collect tweets from the Twitter stream. Twitter responses are in JSON format which we can easily parse into Python dictionary object.\n",
    "\n",
    "### <span style=\"color:#0b486b\">1.1 Search Tweets</span>\n",
    "\n",
    "You can query Twitter with a keyword:"
   ]
  },
  {
   "cell_type": "code",
   "execution_count": 3,
   "metadata": {
    "collapsed": true
   },
   "outputs": [],
   "source": [
    "resp = api.request('search/tweets', {'q':'pizza'})"
   ]
  },
  {
   "cell_type": "code",
   "execution_count": 4,
   "metadata": {},
   "outputs": [
    {
     "data": {
      "text/plain": [
       "<TwitterAPI.TwitterAPI.TwitterResponse at 0x10d62f0f0>"
      ]
     },
     "execution_count": 4,
     "metadata": {},
     "output_type": "execute_result"
    }
   ],
   "source": [
    "resp"
   ]
  },
  {
   "cell_type": "markdown",
   "metadata": {},
   "source": [
    "Iterate over the reponse to print the Twitter message:"
   ]
  },
  {
   "cell_type": "code",
   "execution_count": 5,
   "metadata": {
    "scrolled": true
   },
   "outputs": [
    {
     "name": "stdout",
     "output_type": "stream",
     "text": [
      "RT @imbeatriz26: “HBD” pala yung nakaform sa 3 pizza 😍\n",
      "\n",
      "#DJPAt23 https://t.co/7OJVdJvCIV\n",
      "if u put pizza rolls in ur pocket does this when it crowd and i forgot that time existed and go hide in a corner\n",
      "RT @jackieaina: this is why I only eat PIZZA smh https://t.co/bbKL5cXLam\n",
      "RT @misspipkelly: Girl on the train advising her friend who has had a crap day that she doesn’t have to choose between chicken kievs and pi…\n",
      "@pizza_ttnan むしろいつ空いてるのだ？\n",
      "Hoje fim de expediente vai rolar cerveja e pizza 😋\n",
      "RT @SeanLowe09: Catherine was gone tonight and I considered ordering a pizza without her. But then I didn’t because I don’t want my kids to…\n",
      "@pancakery don't make nero cry\n",
      "RT @DeletedWiki: Grand Unified Theory of Delivered Pizza\n",
      "What a great night at the Howlin' at the Moonn'  for the second heat of Tenerife Loves Karaoke 2018 sponsored by Ro… https://t.co/cwWCjF53do\n",
      "https://t.co/VS52sJDD6J\n",
      "RT @BiggieXXL69: Retweet to save a life.\n",
      "\n",
      "8-7000 Jollibee \n",
      "8-6236 Mcdo\n",
      "887-8888 KFC\n",
      "9-8888 Chowking\n",
      "533-3333 Wendy's\n",
      "911-1111 Pizza Hut\n",
      "77-…\n",
      "RT @Alitauqeeraslam: You know why there are 8 slices of pizza. \n",
      "\n",
      "Cuz I eat 8 slices of pizza.\n",
      "RT @pizzala_jp: 🥘 #サンキュービバパエリア 🥘\n",
      "\n",
      "#ビバ10周年 記念キャンペーン✨\n",
      "2,500円クーポンが抽選で\n",
      "100名様に当たる🎁\n",
      "\n",
      "応募方法は超簡単\n",
      "この投稿をリツイートするだけ🔃\n",
      "\n",
      "応募期限は5月13日まで‼️\n",
      "当選者にはDMでご連絡します🎵\n",
      "\n",
      "他に…\n",
      "For the past couple of days I don't know whether I've been coming or going. I had a pump failure Tuesday lunchtime… https://t.co/zy9hXnEqUw\n"
     ]
    }
   ],
   "source": [
    "for r in resp:\n",
    "    print(r['text'])"
   ]
  },
  {
   "cell_type": "markdown",
   "metadata": {},
   "source": [
    "**Exercise 1:**\n",
    "\n",
    "1. Select a keyword and crawl some tweets from Twitter containing that keyword and then print them.\n",
    "2. Crawl 100 tweets containing this keyword and print them. Maybe you want to check Twitter API documentation first."
   ]
  },
  {
   "cell_type": "code",
   "execution_count": 6,
   "metadata": {},
   "outputs": [
    {
     "name": "stdout",
     "output_type": "stream",
     "text": [
      "0 RT @Shark_Queen89: Bitches made of pizza to be precise. 🤤🤤 https://t.co/VM18bZJ7FM\n",
      "1 @SeaOfThieves Loving the game so far but I have noticed only 3-4 forts ever activate and as much as I love doing th… https://t.co/JP8oCXdeSx\n",
      "2 RT @iPGaur: @eyehinakhan This new look of Queen @eyehinakhan is everything 😍😍😍\n",
      "\n",
      "Chatpata. Chatakhedaar. Kurkura and Extremely delicious to…\n",
      "3 RT @imbeatriz26: “HBD” pala yung nakaform sa 3 pizza 😍\n",
      "\n",
      "#DJPAt23 https://t.co/7OJVdJvCIV\n",
      "4 if u put pizza rolls in ur pocket does this when it crowd and i forgot that time existed and go hide in a corner\n",
      "5 RT @jackieaina: this is why I only eat PIZZA smh https://t.co/bbKL5cXLam\n",
      "6 RT @misspipkelly: Girl on the train advising her friend who has had a crap day that she doesn’t have to choose between chicken kievs and pi…\n",
      "7 @pizza_ttnan むしろいつ空いてるのだ？\n",
      "8 Hoje fim de expediente vai rolar cerveja e pizza 😋\n",
      "9 RT @SeanLowe09: Catherine was gone tonight and I considered ordering a pizza without her. But then I didn’t because I don’t want my kids to…\n",
      "10 @pancakery don't make nero cry\n",
      "11 RT @DeletedWiki: Grand Unified Theory of Delivered Pizza\n",
      "12 What a great night at the Howlin' at the Moonn'  for the second heat of Tenerife Loves Karaoke 2018 sponsored by Ro… https://t.co/cwWCjF53do\n",
      "13 https://t.co/VS52sJDD6J\n",
      "14 RT @BiggieXXL69: Retweet to save a life.\n",
      "\n",
      "8-7000 Jollibee \n",
      "8-6236 Mcdo\n",
      "887-8888 KFC\n",
      "9-8888 Chowking\n",
      "533-3333 Wendy's\n",
      "911-1111 Pizza Hut\n",
      "77-…\n",
      "15 RT @Alitauqeeraslam: You know why there are 8 slices of pizza. \n",
      "\n",
      "Cuz I eat 8 slices of pizza.\n",
      "16 RT @pizzala_jp: 🥘 #サンキュービバパエリア 🥘\n",
      "\n",
      "#ビバ10周年 記念キャンペーン✨\n",
      "2,500円クーポンが抽選で\n",
      "100名様に当たる🎁\n",
      "\n",
      "応募方法は超簡単\n",
      "この投稿をリツイートするだけ🔃\n",
      "\n",
      "応募期限は5月13日まで‼️\n",
      "当選者にはDMでご連絡します🎵\n",
      "\n",
      "他に…\n",
      "17 For the past couple of days I don't know whether I've been coming or going. I had a pump failure Tuesday lunchtime… https://t.co/zy9hXnEqUw\n",
      "18 Ya bois never gonna be satisfied with pizza or pastrami again... #smh #cashonlysaysbyetonewyork2018\n",
      "19 Happy birthday to my roommate @Lanadadelrey! Pizza! Pizza! Haha. Jk. https://t.co/DlibvBt2gx\n",
      "20 @XOXO_XOXOXO_XO @Pizza_Villain 인톨도 밤울도 존나 좋은 앤오가 될 거야 좋은 관오인지는 모르겠어 하지만 적어도 나처럼 좋은 앤오도 관오도 관ㅋㅖ오너도 못되지는 않겠지... 두 사람의 관통을 기원하며 기ㅡ름 뿌리고 감 불지름\n",
      "21 RT @jackieaina: this is why I only eat PIZZA smh https://t.co/bbKL5cXLam\n",
      "22 RT @Signify_Tech: Don't forget to RSVP for tonight's #ScalaintheCity! Free pizza and beer along with talks on #Blockchain is definitely the…\n",
      "23 @pizza_ttnan @naritatukuyo @kyousya_hota 苺のモンスターを生贄にサイバードラゴン召喚！！\n",
      "24 #El motor de Activiti ha creado un pedido de pizza: jcyhgd pedidas 4 de margarita\n",
      "25 gusto ko ng\n",
      "\n",
      "fries\n",
      "pizza\n",
      "donuts\n",
      "milktea\n",
      "peach mango pie\n",
      "fries uli\n",
      "maraming\n",
      "milktea\n",
      "pizza pizza\n",
      "ice cream\n",
      "milktea\n",
      "shawarma\n",
      "ikaw\n",
      "26 再撐一下就週五了呦～～先來份pizza為假日暖身吧💕🍕🍕\n",
      "#蘇阿姨比薩🍕\n",
      "#Taiwan #taipei \n",
      "#每次看到人潮都會害怕 \n",
      "#炸雞🍗和薯片超好吃的😋😋 https://t.co/4yznmIEpUe\n",
      "27 #El motor de Activiti ha creado un pedido de pizza: saihfushdf pedidas 3 de margarita\n",
      "28 igoo新着イベント情報\n",
      "第2回 KING OF PIZZA IN MAEBASHI\n",
      "https://t.co/qHfEOBEAwx https://t.co/jPUEOpRb86\n",
      "29 like anal sex sisters best friend sex cartoon strip porn jen connelly nude pizza hut porn sexy bigass  https://t.co/Q4GztcgxOL\n",
      "30 RT @misspipkelly: Girl on the train advising her friend who has had a crap day that she doesn’t have to choose between chicken kievs and pi…\n",
      "31 RT @0408withusapril: 팬덤이 스밍/다운 하는 게 1억주고 아이디 1만개로 하는 사재기랑 같니..? 진짜ㅋㅋ 1번기사가 저 1억기사길래 다른 기사도 봤더니 참나 https://t.co/FIrqOCEBEG\n",
      "32 RT @chuckthomasuk: Netflix are filming Black Mirror in Croydon! They're building 1980s replicas of WH Smith, Wimpy, Pizza Hut and FADS. Who…\n",
      "33 Fucking around in ballpoint while I wait for my pizza https://t.co/apLcXM3Wv7\n",
      "34 List of things i want:1. a nice body2. pizzaList of things you apparently can’t have at the same time: 1. a nice body 2. pizza\n",
      "35 #El motor de Activiti ha creado un pedido de pizza: sahil pedidas 3 de margarita\n",
      "36 I think i might have one leftover slice of pizza from last night #thatsmybreakfast\n",
      "37 RT @OCPS_Elementary: Stunned silence as it’s announced we have the first ever 4 way tie for 2nd place!! North LC teams nervously gnawing on…\n",
      "38 RT @Wasim_Wazir: Imran Khan dips Pizza in Tea.\n",
      "\n",
      "Reham Khan revelations in her book\n",
      "39 RT @pizzala_jp: 🥘 #サンキュービバパエリア 🥘\n",
      "\n",
      "#ビバ10周年 記念キャンペーン✨\n",
      "2,500円クーポンが抽選で\n",
      "100名様に当たる🎁\n",
      "\n",
      "応募方法は超簡単\n",
      "この投稿をリツイートするだけ🔃\n",
      "\n",
      "応募期限は5月13日まで‼️\n",
      "当選者にはDMでご連絡します🎵\n",
      "\n",
      "他に…\n",
      "40 @my69cents And  he dunk his pizza in his coffee\n",
      "41 Dienstag 3×9er nuggets gegönnt und danach ne Pizza und mamo sagt ich ess so wenig was los\n",
      "42 Sunset + Pizza by the cliff 💕 https://t.co/FoFhynimcA\n",
      "43 RT @pizzala_jp: 🥘 #サンキュービバパエリア 🥘\n",
      "\n",
      "#ビバ10周年 記念キャンペーン✨\n",
      "2,500円クーポンが抽選で\n",
      "100名様に当たる🎁\n",
      "\n",
      "応募方法は超簡単\n",
      "この投稿をリツイートするだけ🔃\n",
      "\n",
      "応募期限は5月13日まで‼️\n",
      "当選者にはDMでご連絡します🎵\n",
      "\n",
      "他に…\n",
      "44 @_anajaneeee Iyak HAHAHAHA\n",
      "45 pizza 😋\n",
      "46 It's definately a pizza and chips night.\n",
      "47 RT @PeachBerry62: 🐰소중한 준면시🐰\n",
      "#준면아사랑해 \n",
      "@lucida_0522 @52242b @mmam_mma @Zzarabii @tkfrnala @pizza_522 @peach_myon @my_peach_boy @hyepaper @for…\n",
      "48 @ofdelicatewelsh — the pizza place, he ordered three large ones with different toppings; gaze absentmindedly people… https://t.co/ZXS1HefafS\n",
      "49 RT @BiggieXXL69: Retweet to save a life.\n",
      "\n",
      "8-7000 Jollibee \n",
      "8-6236 Mcdo\n",
      "887-8888 KFC\n",
      "9-8888 Chowking\n",
      "533-3333 Wendy's\n",
      "911-1111 Pizza Hut\n",
      "77-…\n",
      "50 I \n",
      " my \n",
      " bam \n",
      " puff \n",
      " pizza\n",
      "51 RT @DearZaria: Bro... stop saying “everyone is entitled to their opinion” as if advocating for ethnic cleansing and nazism is the same thin…\n",
      "52 La pizza https://t.co/xQJJPlBYod\n",
      "53 RT @alwaysJAE0915: เจ-ยยใจตรงกันเกือบหมด\n",
      "pizza-hamburger \n",
      "🦊🐤pizza \n",
      "candy-chocolate\n",
      "🦊🐤candy \n",
      "Spring - fall \n",
      "🦊🐤Spring\n",
      "ironman-spiderman \n",
      "🦊🐤ir…\n",
      "54 Pizza con piña, yogurt con pera y enterrar el cadaver del pavo, estas de acuerdo? — 1 de las 3 no es de mi agrado... https://t.co/WrbdSNFK1H\n",
      "55 RT @AllyBrooke: Hello I just ate an entire deep dish pizza!!! 😜 https://t.co/wmhazrJH3x\n",
      "56 To the person who left 2 slices of pizza in the ladies toilet 🍕🍕 not to worry it's safe🍕🛎 but only until noon, then its @LBarkerlars lunch 🍕\n",
      "57 RT @yuyacst: Quiero pizza y tacos.\n",
      "58 Sinigang/nilaga for ulam, pizza for fast food?, chocolate!!!\n",
      "\n",
      "#ALDUB145thWeeksary https://t.co/385eMuX0nq\n",
      "59 Don’t go around saying the world owes you a living. The world owes you nothing. It was here first. #quotes #quote\n",
      "60 RT @PINOYBAE: Eng sherep ng pizza 🍕 https://t.co/TJmCNG6Td2\n",
      "61 @justinnegacutan \n",
      "\n",
      "-photographer q ofc haha\n",
      "-Snapchat\n",
      "-jolo ❤️ hahah lab u ate cai\n",
      "-pizza\n",
      "-sleepover\n",
      "62 @Tsukimi_pizza わーーー楓ちゃん！！！ありがとうーー！！お言葉に甘えさせていただく…！\n",
      "63 RT @itsFoodporns: Easy Skillet Pizza Rolls. https://t.co/3yvdy9UyYr\n",
      "64 @fernandobnusc Sou magro, (70 k) 176 alt. meu colesterol está em 176, grilcose em 98 . como churrasco, pizza, camar… https://t.co/cZ7NxFTv17\n",
      "65 RT @misspipkelly: Girl on the train advising her friend who has had a crap day that she doesn’t have to choose between chicken kievs and pi…\n",
      "66 Pizza 😢\n",
      "67 RT @LIFEOFMSD: Gusto ko ng donut.\n",
      "Gusto ko ng milk tea.\n",
      "Gusto ko ng lasagna.\n",
      "Gusto ko ng ikaw.\n",
      "Gusto ko ng pizza.\n",
      "Gusto ko ng ikaw.\n",
      "Gusto k…\n",
      "68 Pros of staying up all night: I got a lot of work done. Cons: it’s 5am and I’m thinking about the cheese pizza in the fridge\n",
      "69 RT @Chris_1791: 6 tricks to make great pizza at home https://t.co/CJ85CjYZEj via @foxnews https://t.co/sKnkO2PkgZ\n",
      "70 Stop the questions about pineapple being on pizza, why would anyone have tuna on a pizza???\n",
      "71 i just devoured 2 slices of pizza at a time\n",
      "72 Thank you Auntie Elyn Zonio Dela Pena and Roxanne Zonio Dela Peña for visiting . ☺️😍😘♥️\n",
      "Enjoy the pizza and your va… https://t.co/ZZ8UFZo6hg\n",
      "73 RT @jestercepres: I'm badly craving for;\n",
      "\n",
      "Milk Tea                       Jollibee\n",
      "Fries                             McDo\n",
      "Pizza…\n",
      "74 Gak ada promo dii fb ada aje yg minta bikikn pizza!!\n",
      "Alhamdulillah,,berapapun yah mom's patut dii syukuri...\n",
      "Besok… https://t.co/53uLAjbaTS\n",
      "75 RT @ItsFoodPorn: Easy Skillet Pizza Rolls. https://t.co/1SneCtiTgk\n",
      "76 @ajaeprince @daeyoonism tas yung pizza yung cd yung mga toppings yung inclusions hahahaha wag naman sana\n",
      "77 I'm at Pizza Locale in Bornova, İzmir https://t.co/GcpsvMnkq8\n",
      "78 Just posted a photo @ The Pizza Shop https://t.co/bYhNAPjwqQ\n",
      "79 #homwork Week 15. Secret shame snack edition.  I discovered that I LOVE cold pizza for breakfast… https://t.co/zj1OTaD1bO\n",
      "80 RT @theipaper: Supermarket rivals from Aldi to Waitrose have formed an unlikely alliance in a bid to stamp out the scourge of plastic waste…\n",
      "81 Pizza Siciliana, PIZZA ENROLLADA.LOS RELLENOS MAS BUSCADOS SON DE TOMATE ,ALBAHACA PARMESANO,A ·-·▶ https://t.co/CQSa9Vfj49 * #Alimentos\n",
      "82 RT @ivyandgoldx: Do you reckon Jamie Oliver ever has a bad day and thinks fuck it, orders a 14 inch pizza &amp; cheesy chips under a false name…\n",
      "83 @trixychuu Free pizza just as good\n",
      "84 RT @itsdougthepug: When they don’t have pizza on set https://t.co/QRfTRfqALp\n",
      "85 Bitches made of pizza to be precise. 🤤🤤 https://t.co/VM18bZJ7FM\n",
      "86 RT @stephaniexxg: gusto ko ng milk tea \n",
      "gusto ko ng fries.\n",
      "gusto ko ng burger.\n",
      "gusto ko ng pizza.\n",
      "gusto ko ikaw.\n",
      "87 RT @jackieaina: this is why I only eat PIZZA smh https://t.co/bbKL5cXLam\n",
      "88 @naritatukuyo @Heytyoku @kyousya_hota ちんとのチームワーク舐めるなよ！\n",
      "\n",
      "あ、こら一族の結束に異物を混ぜるな！\n",
      "89 @XOXO_XOXOXO_XO @Pizza_Villain 둘이 서로 ㅇ치이면 ㄴ웃기겠다\n",
      "90 @iIIuminatxi Pizza and beer. You?\n",
      "91 RT @my69cents: \"Imran Khan eats pizza with a fork and a knife.\" \n",
      "\n",
      "Exclusive revelations from Reham Khan's book\n",
      "92 @PinkNews What are the toppings on an anti-gay pizza?? https://t.co/comaE3PQBk\n",
      "93 voy a celebrar mi cumpleaños comiendo pizza 🍕\n",
      "94 RT @lukas_403: Estou muito cheioooooo 😂 \n",
      "Comi uns 20 pedaços de pizza, muita batata, carne aiiiii \n",
      "Sdds disso\n",
      "95 Salamat sa pizza ate 😋\n",
      "96 E uma coxinha cm pizza 🤤 https://t.co/ufVfDwm1aM\n",
      "97 got my mac n cheese &amp; pizza today!! eee yayy ❤️❤️\n",
      "98 私の前に立ってる人のパーカーの背中に…pizza ofなんとかって書いてあった…\n",
      "99 Lyft coupon code gets you $50 rides credit Discount Promo Code: ZOOT    ~~ Guillermos(Italian, Pizza, Sandwiches) ~~~ Deal Cascade ~~~\n"
     ]
    }
   ],
   "source": [
    "# your code here\n",
    "resp2 = api.request('search/tweets', {'q':'pizza', 'count' :'100'})\n",
    "\n",
    "for i , tweet in enumerate(resp2):\n",
    "    print(i, tweet['text'])"
   ]
  },
  {
   "cell_type": "markdown",
   "metadata": {},
   "source": [
    "There are other parameters that you can set to restrict the response. For example the language of the tweets, or geographical location."
   ]
  },
  {
   "cell_type": "code",
   "execution_count": 7,
   "metadata": {},
   "outputs": [
    {
     "name": "stdout",
     "output_type": "stream",
     "text": [
      "Loved hearing about #Shell by Kristina Ohlsson publishing under @ScribnerUK this Autumn. A novel set during the bui… https://t.co/mJ5LwXUETx\n",
      "#ThrowbackThursday Bedford Gardens is the complete #refurbishment and #basement #extension between a Victorian town… https://t.co/IaR4WrzDzC\n",
      "RT @Ayishat_Akanbi: You say ‘angry black woman’ as if it’s black women who riot when their football team loses, who hurl abuse after failed…\n",
      "Site Manager, Luton: My client is a large manufacturer of high quality PVCu, Window and Door products. They have a… https://t.co/wmEjoVFnwb\n",
      "RT @KimmiJMoo: ************STOLEN************\n",
      "\n",
      "30 x 5ft round straw bales stolen from kings farm, bank house, Moulton Seas End. Lincs. \n",
      "\n",
      "If…\n",
      "@BasementSceneUK This is a 10 minute bus ride from my house but we're on tour :'(\n",
      "Any seat with YOU sitting in it is the best in the house Danny! 😘 https://t.co/E6s6iFDImv\n",
      "RT @ReutersUK: Facebook CTO Mike Schroepfer appears before the House of Commons committee https://t.co/wiZkVhQ793\n",
      "Da @Brexit \n",
      "May has suffered six defeats in the House of Lords in the last eight days on her flagship Brexit legisl… https://t.co/LhZhfeCQNy\n",
      "RT @sarramanning: This is a lovely piece from @rhodri I often think about dialing the number of our old house to see if there's some way th…\n",
      "RT @NannyBettyAB: Once I’ve moved into my new house later this year I will be offering week-long visits to the nursery. I will announce on…\n",
      "RT @BenRickell97: I added a video to a @YouTube playlist https://t.co/1DKNETgdAq Fallout 4 Sanctuary House Tour!\n",
      "RT @OxfordStays: With @mikegalsworthy  of @Scientists4EU -   @LibDems MEP @catherinemep  - House of Commons Brexit health advisor Dr Nick F…\n",
      "Not paying £10-£15 for one pair of tights in house of Fraser when I get ladders for fun on the central line. No thanks\n",
      "Ronny Jackson defended by White House as vetting questions raised https://t.co/29h3wBWPra @TheJimCornette did Jim H… https://t.co/DJYDnHfvHX\n",
      "@betsyvriend @twoodcock33 @jamieoliver @thismorning Can you  not read? She WORKED FULL TIME!! then she looked after… https://t.co/3I0Hpn9hvH\n",
      "Trio needed for Wedding\n",
      "Location: Dunkeld House Hotel, United Kingdom\n",
      "Date: Oct 2018\n",
      "Price guide: £900\n",
      "https://t.co/YjZQTlj9jY\n",
      "No appointments next week either now!! Going to start clearing the house so we are ready to move when the build is done 😁\n",
      "Removing Boris from office and making sure that he loses his safe as houses Tory seat would definitely reduce the a… https://t.co/LBba7ixmv8\n",
      "#JohnWoodcock supporting #AmberRudds explanation for lying to the House and the Committee...in Parliament Now..disg… https://t.co/1nJEAlBNiP\n",
      "RT @chrisinsilico: Whew! Just finished a 5 hour session with the US House Intelligence Committee. Very thorough questions from @RepAdamSchi…\n",
      "RT @Grado779: @BreitbartLondon Parliament is not going to get rid of House of Lords because it is used as a retirement home with benefits f…\n",
      "RT @CCCUStudents: Have you discovered what's in our archives in Augustine House Library yet? Make sure you see the display on show this wee…\n",
      "@quetiapina1 @Raw76Rebecca @MMMMMMeow @NoTERFS_Oxford Oxford Quaker Meeting House, last night at about 9. Bald whit… https://t.co/RkMy7W0JyU\n",
      "RT @damocrat: Macron played his US visit perfectly:\n",
      "\n",
      "Day 1: Be charming and pleasant to Trump at White House.\n",
      "Day 2: Kick the shit out of T…\n",
      "RT @chrisinsilico: Whew! Just finished a 5 hour session with the US House Intelligence Committee. Very thorough questions from @RepAdamSchi…\n",
      "RT @BreitbartLondon: Parliament to Consider Petition on Abolishing House of Lords After Anti-Brexit Vote  https://t.co/pneBlTkOK9\n",
      "RT @WomaninHavana: It’s clear from the House of Lords scrutiny, debates &amp; voting on #EUWithdrawalBill how badly we’ve been failed by so man…\n",
      "Initial Teacher Training Information Event.  Saturday 19th May 2018 from 10am to 12 noon at Dove House School Acade… https://t.co/AJUF5cuEYt\n",
      "RT @CCCUStudents: Have you discovered what's in our archives in Augustine House Library yet? Make sure you see the display on show this wee…\n",
      "Packed house @PensionAge conf. performance related fees for pension schemes; should fiduciary managers be generatin… https://t.co/iOJHkTIhb3\n",
      "I added a video to a @YouTube playlist https://t.co/083h88KsYz Feeling Happy 2018 - The Best Of Vocal Deep House Music Chill Out #80 -\n",
      "RT @WomaninHavana: It’s clear from the House of Lords scrutiny, debates &amp; voting on #EUWithdrawalBill how badly we’ve been failed by so man…\n",
      "RT @KimmiJMoo: ************STOLEN************\n",
      "\n",
      "30 x 5ft round straw bales stolen from kings farm, bank house, Moulton Seas End. Lincs. \n",
      "\n",
      "If…\n",
      "@parcelforce So no more deliveries to my house then? How was I meant to know? That's awful service! :(\n",
      "What number… https://t.co/DdAhHjM2BJ\n",
      "RT @V_and_A: “I love sharing my passion for the V&amp;A’s collections with students in our courses. As a musician, I love being able to immerse…\n",
      "RT @WomaninHavana: It’s clear from the House of Lords scrutiny, debates &amp; voting on #EUWithdrawalBill how badly we’ve been failed by so man…\n",
      "RT @KimmiJMoo: ************STOLEN************\n",
      "\n",
      "30 x 5ft round straw bales stolen from kings farm, bank house, Moulton Seas End. Lincs. \n",
      "\n",
      "If…\n",
      "RT @AmyYiannitsarou: This is so important - Trump's silence on Waffle House murders is deafening: https://t.co/MEk1SFbF7V\n",
      "RT @KimmiJMoo: ************STOLEN************\n",
      "\n",
      "30 x 5ft round straw bales stolen from kings farm, bank house, Moulton Seas End. Lincs. \n",
      "\n",
      "If…\n",
      "RT @AmandeepBhogal: \"Uncle Tom\"\n",
      "\"House coon for the Tory party\"\n",
      "\"Betraying my ethnicity\"\n",
      "Having an \"inferiority complex\"\n",
      "\n",
      "Under Corbyn this…\n",
      "Palpable anger in this and rightly so. https://t.co/nsMQ4603PC\n",
      "RT @MuseumCromwell: Oliver #Cromwell, born #OnThisDayInHistory in 1599 left #Huntingdon in 1631 and moved to #StIves where he is commemorat…\n",
      "RT @damocrat: Macron played his US visit perfectly:\n",
      "\n",
      "Day 1: Be charming and pleasant to Trump at White House.\n",
      "Day 2: Kick the shit out of T…\n",
      "Trump's White House doctor and cabinet nominee 'crashed government car while drunk', claim Democrats… https://t.co/xv3yVsLJTN\n",
      "@CheeseMcButt @honestdogger You come into MY house and compliment MY art!!!!\n",
      "RT @TravelWeasels: Stay in #Italy in this luxury home from Oct. 2 - Feb. 2, 2016 for FREE! Here is how: http://t.co/uAHjhlfiwO #ttot http:/…\n",
      "RT @chrisinsilico: Whew! Just finished a 5 hour session with the US House Intelligence Committee. Very thorough questions from @RepAdamSchi…\n",
      "Having a bit of a mix down. House all the way bb https://t.co/kleCjwDcAU\n",
      "RT @lostwholeworld: @dealchecker A5. I would live in California in a heartbeat! I've also been binge watching The Good Witch on Netflix and…\n",
      "Playing at the House of Lords over Easter. What an amazing place, full of history! #stringquartet https://t.co/fnzmMrA60Y\n",
      "RT @OTVDesk: It seems to me that there are very few in Parliament or oher governmental bodies that give a stuff about the electorate.  They…\n",
      "Can’t wait to come to Stephen’s House. We are ther for a short run, end of July - come and meet the dragon!! https://t.co/Lu12VYrUef\n",
      "If you are moving #home this year, contact our experienced and friendly team to help you with your #conveyancing ne… https://t.co/sLwznTy7Hv\n",
      "Petition: Give the electorate a referendum on the abolition of the House of Lords https://t.co/UTlW30asmS\n",
      "Came and see us on Sunday @warbrookhouse #wedding #showcase @ Warbrook House https://t.co/wNKb9ENxYM\n",
      "@rickygervais dont worry not forgot about the house, thinking of different tactics to approach with\n",
      "Noble Group founder Richard Elman clearly still carrying a bit of sway at the company as the ugly war of words with… https://t.co/YMPoFHCO73\n",
      "RT @damocrat: Macron played his US visit perfectly:\n",
      "\n",
      "Day 1: Be charming and pleasant to Trump at White House.\n",
      "Day 2: Kick the shit out of T…\n",
      "RT @ElContador2000: @dizzypamtex @RaychelTania Thanks Pam, he was abandoned under a motorway bridge when he was around a year old.  He's no…\n",
      "@coL_Merchant @Fran_el_loco Does he play a Blue Eyes deck? That shit bricks so hard you could build a house.\n",
      "RT @ReutersUK: Facebook CTO Mike Schroepfer appears before the House of Commons committee https://t.co/wiZkVhQ793\n",
      "RT @design_storey: Charlie Luxton on the pros and cons of double storey extensions  in Best Laid Plans. Some good footage of our arts &amp; cra…\n",
      "RT @safepassageuk: A safe &amp; legal route to family reunion for child refugees in Europe might be closing down. @AlfDubs tabled an amendment…\n",
      "RT @AmandeepBhogal: \"Uncle Tom\"\n",
      "\"House coon for the Tory party\"\n",
      "\"Betraying my ethnicity\"\n",
      "Having an \"inferiority complex\"\n",
      "\n",
      "Under Corbyn this…\n",
      "Said it before say it again, old women love me!! Don't even have to pay for my breakfast baps at work these days 😅 on the house 😘\n",
      "@dealchecker A5. I would live in California in a heartbeat! I've also been binge watching The Good Witch on Netflix… https://t.co/zIBPiF2tKP\n",
      "Struggling to maximise your trading potential? Let us show you the best times to trade the #EURJPY #forex #fx… https://t.co/wNoUJVQI7t\n",
      "RT @Jontwothreefour: Looking forward to watching @AmberRuddHR and @HackneyAbbott go head to head in the House this morning. They should cal…\n",
      "RT @MicrobioSoc: Today the House of Lords Science and Technology Committee published a report calling for the Government to clarify the ove…\n",
      "Slowly going #crazy in this house #cabinfever #lonelyhousewife https://t.co/HySU0sZrau\n",
      "[Through The Keyhole voice]\n",
      "\n",
      "Who the fuck would live in a house like this? https://t.co/VDjcNGuEZP\n",
      "You be sneaking around cheating on your and show up late to your side mans house late and he be complaining that yo… https://t.co/gDSL65g24s\n",
      "2673E - Temporary Butler/ House Manager - Northampton, UK\n",
      "VIP American Family seeking a professional and experience… https://t.co/VUMy119ExF\n",
      "RT @Ayishat_Akanbi: You say ‘angry black woman’ as if it’s black women who riot when their football team loses, who hurl abuse after failed…\n",
      "RT @_houseandgarden: The walls in the family dining room of this eighteenth-century house in Bath are painted in Farrow &amp; Ball’s ‘Smoked Tr…\n",
      "@JamesMelville @nursiedeb @JustNugentPhoto Ooh that's beautiful imagine owning that house... heaven o  earth....\n",
      "We're all set for the High House Krispy Kreme fundraising sale!  Freshly baked this morning!   #StSwithunsCharity… https://t.co/NhtkqWtyO5\n",
      "@HeartEyes4Brady House is pretty 🙄🤦🏻‍♂️\n",
      "Calling all Head teachers! Why not get your whole school singing and ‘Turn up the Volume’ to raise money for Haven… https://t.co/NQLH91BXM2\n",
      "Classic Ensuite rooms available from just £180 p/w 😮 Book now to secure a room!\n",
      "https://t.co/bgio3blNhg https://t.co/Gdc41VfrD3\n",
      "RT @KimmiJMoo: ************STOLEN************\n",
      "\n",
      "30 x 5ft round straw bales stolen from kings farm, bank house, Moulton Seas End. Lincs. \n",
      "\n",
      "If…\n",
      "Part 3: The final section of top tips for anyone fleeing the nest.\n",
      "\n",
      "Our work here is done! - We hope these are usef… https://t.co/duW97Fl5lh\n",
      "RT @Ayishat_Akanbi: You say ‘angry black woman’ as if it’s black women who riot when their football team loses, who hurl abuse after failed…\n",
      "For sale: A #modern and #spacious end of terrace 4 bedroom house in a popular #residential area just a short walk t… https://t.co/i8Rz2s5Qrf\n",
      "Consult with experts on key business concerns such as Fulfilment House Due Diligence Scheme and how to benchmark yo… https://t.co/VKcpcODQYA\n",
      "RT @davidrushe: from humble beginnings in her tree house to her final adventure. bittersweet that clem’s story will come to an end soon. i…\n",
      "Great start to the #CPRL April 2018 meeting. Full house here in Kents hill! @OU_police_res\n",
      "RT @AmandeepBhogal: \"Uncle Tom\"\n",
      "\"House coon for the Tory party\"\n",
      "\"Betraying my ethnicity\"\n",
      "Having an \"inferiority complex\"\n",
      "\n",
      "Under Corbyn this…\n",
      "Rose Avenue, #Hull\n",
      "\n",
      "https://t.co/VbtfQ5Dk36\n",
      "\n",
      "• Mid Terraced House\n",
      "• Two Double Bedrooms\n",
      "• Lounge/Dining Room\n",
      "• Fitt… https://t.co/5F579PGST5\n",
      "RT @stephenshouse: Outdoor theatre for ages 3+ comes to Stephens House &amp; Gardens this summer! The Reluctant Dragon is an enchanting tale of…\n",
      "Memory Lane: some while back, as house guests in Lombardy at a home like this, it took some getting used to. Yet, c… https://t.co/wXFKdFKJJo\n",
      "If you’re wondering why there’s so much noise at #CollegeHall this morning, we’re fighting to bring outsourced work… https://t.co/1pcgcrMnu3\n",
      "Would appreciate it if some kind person would drop me off some Robinson’s peach squash to my house, slowly losing the power to live 😷\n",
      "RT @WomaninHavana: It’s clear from the House of Lords scrutiny, debates &amp; voting on #EUWithdrawalBill how badly we’ve been failed by so man…\n",
      "Outdoor theatre for ages 3+ comes to Stephens House &amp; Gardens this summer! The Reluctant Dragon is an enchanting ta… https://t.co/U13Zchht8E\n",
      "#A&amp;aInsurance, #CheckFraudPrevention IRS tech modernization legislation passes the House https://t.co/w88Vkl9WhK https://t.co/gCs0SRLTHT\n",
      "#Iran \n",
      "Liar #Zarif in #NewYork in @CFR_org said: Iranian people are free in their homes to do everything they like!… https://t.co/8QUx40Wx4b\n",
      "RT @AmandeepBhogal: \"Uncle Tom\"\n",
      "\"House coon for the Tory party\"\n",
      "\"Betraying my ethnicity\"\n",
      "Having an \"inferiority complex\"\n",
      "\n",
      "Under Corbyn this…\n",
      "House prices: This football haven is the best UK area to INVEST says property expert https://t.co/qH5ku2oyow\n"
     ]
    }
   ],
   "source": [
    "# result_type: popular, recent, mixed\n",
    "# geocode: lat,long,radius\n",
    "\n",
    "# geo coordinations of the desired place\n",
    "my_lat = 51.5;\n",
    "my_long = 0.12;\n",
    "\n",
    "resp = api.request('search/tweets', {'q':'house', \n",
    "                                     'count':'100', \n",
    "                                     'lang':'en', \n",
    "                                     'result_type':'recent',\n",
    "                                     'geocode':'{},{},100mi'.format(my_lat, my_long)})\n",
    "for r in resp:\n",
    "    print(r['text'])"
   ]
  },
  {
   "cell_type": "markdown",
   "metadata": {},
   "source": [
    "**Exercise 2:**\n",
    "\n",
    "check out the API documentation and narrow down your search results for Exercise1 using parameters other that keyword."
   ]
  },
  {
   "cell_type": "code",
   "execution_count": 8,
   "metadata": {},
   "outputs": [
    {
     "name": "stdout",
     "output_type": "stream",
     "text": [
      "0 None\n",
      "1 None\n",
      "2 None\n",
      "3 None\n",
      "4 None\n",
      "5 None\n",
      "6 None\n",
      "7 None\n",
      "8 None\n",
      "9 {'id': '0079932b106eb4c9', 'url': 'https://api.twitter.com/1.1/geo/id/0079932b106eb4c9.json', 'place_type': 'admin', 'name': 'Ho Chi Minh', 'full_name': 'Ho Chi Minh, Vietnam', 'country_code': 'VN', 'country': 'Vietnam', 'contained_within': [], 'bounding_box': {'type': 'Polygon', 'coordinates': [[[106.356398, 10.365786], [107.012798, 10.365786], [107.012798, 11.160291], [106.356398, 11.160291]]]}, 'attributes': {}}\n",
      "10 None\n",
      "11 {'id': '0079932b106eb4c9', 'url': 'https://api.twitter.com/1.1/geo/id/0079932b106eb4c9.json', 'place_type': 'admin', 'name': 'Ho Chi Minh', 'full_name': 'Ho Chi Minh, Vietnam', 'country_code': 'VN', 'country': 'Vietnam', 'contained_within': [], 'bounding_box': {'type': 'Polygon', 'coordinates': [[[106.356398, 10.365786], [107.012798, 10.365786], [107.012798, 11.160291], [106.356398, 11.160291]]]}, 'attributes': {}}\n",
      "12 None\n",
      "13 None\n",
      "14 None\n",
      "15 None\n",
      "16 None\n",
      "17 None\n",
      "18 None\n",
      "19 None\n",
      "20 None\n",
      "21 None\n",
      "22 None\n",
      "23 None\n",
      "24 None\n",
      "25 None\n",
      "26 None\n",
      "27 None\n",
      "28 None\n",
      "29 None\n",
      "30 None\n",
      "31 None\n",
      "32 None\n",
      "33 None\n",
      "34 None\n",
      "35 None\n",
      "36 None\n",
      "37 None\n",
      "38 None\n",
      "39 None\n",
      "40 None\n",
      "41 None\n",
      "42 None\n",
      "43 None\n",
      "44 None\n",
      "45 None\n",
      "46 None\n",
      "47 None\n",
      "48 None\n",
      "49 None\n",
      "50 None\n",
      "51 None\n",
      "52 None\n",
      "53 None\n",
      "54 None\n",
      "55 None\n",
      "56 None\n",
      "57 None\n",
      "58 None\n",
      "59 None\n",
      "60 None\n",
      "61 None\n",
      "62 None\n",
      "63 None\n",
      "64 None\n",
      "65 None\n",
      "66 None\n",
      "67 None\n",
      "68 None\n",
      "69 None\n",
      "70 None\n",
      "71 None\n",
      "72 None\n",
      "73 None\n",
      "74 None\n",
      "75 None\n",
      "76 None\n",
      "77 None\n",
      "78 None\n",
      "79 None\n",
      "80 None\n",
      "81 None\n",
      "82 None\n",
      "83 None\n",
      "84 None\n",
      "85 None\n",
      "86 None\n",
      "87 None\n",
      "88 None\n",
      "89 None\n",
      "90 None\n",
      "91 None\n",
      "92 None\n",
      "93 None\n",
      "94 None\n",
      "95 None\n",
      "96 None\n",
      "97 None\n",
      "98 None\n",
      "99 None\n"
     ]
    }
   ],
   "source": [
    "# your code here\n",
    "resp3 = api.request('search/tweets', {'q':'sinh vien', 'count' :'100'})\n",
    "\n",
    "for i , tweet in enumerate(resp3):\n",
    "    print(i, tweet['place'])"
   ]
  },
  {
   "cell_type": "markdown",
   "metadata": {},
   "source": [
    "Apart from the tweet text, you can retrieve other metadata from the Twitter response. For example the user who sent the tweet, whether the tweet is in reply to another user or is a retweet, how many times it is retweeted and so on. Since the response is parsed into a dictionary, use `keys()` function to see the fields that are available:"
   ]
  },
  {
   "cell_type": "code",
   "execution_count": 9,
   "metadata": {
    "collapsed": true
   },
   "outputs": [],
   "source": [
    "response = resp.json()"
   ]
  },
  {
   "cell_type": "code",
   "execution_count": 10,
   "metadata": {},
   "outputs": [
    {
     "data": {
      "text/plain": [
       "{'contributors_enabled': False,\n",
       " 'created_at': 'Sun Apr 10 09:39:49 +0000 2011',\n",
       " 'default_profile': True,\n",
       " 'default_profile_image': False,\n",
       " 'description': 'Senior Publicity Manager at @simonschusterpr. Books and films mainly. All views my own etc',\n",
       " 'entities': {'description': {'urls': []}},\n",
       " 'favourites_count': 11112,\n",
       " 'follow_request_sent': False,\n",
       " 'followers_count': 1657,\n",
       " 'following': False,\n",
       " 'friends_count': 1330,\n",
       " 'geo_enabled': True,\n",
       " 'has_extended_profile': False,\n",
       " 'id': 279941195,\n",
       " 'id_str': '279941195',\n",
       " 'is_translation_enabled': False,\n",
       " 'is_translator': False,\n",
       " 'lang': 'en',\n",
       " 'listed_count': 49,\n",
       " 'location': 'London',\n",
       " 'name': 'Jess Barratt',\n",
       " 'notifications': False,\n",
       " 'profile_background_color': 'C0DEED',\n",
       " 'profile_background_image_url': 'http://abs.twimg.com/images/themes/theme1/bg.png',\n",
       " 'profile_background_image_url_https': 'https://abs.twimg.com/images/themes/theme1/bg.png',\n",
       " 'profile_background_tile': False,\n",
       " 'profile_banner_url': 'https://pbs.twimg.com/profile_banners/279941195/1406703045',\n",
       " 'profile_image_url': 'http://pbs.twimg.com/profile_images/843589167208710144/ERT1DN3u_normal.jpg',\n",
       " 'profile_image_url_https': 'https://pbs.twimg.com/profile_images/843589167208710144/ERT1DN3u_normal.jpg',\n",
       " 'profile_link_color': '1DA1F2',\n",
       " 'profile_sidebar_border_color': 'C0DEED',\n",
       " 'profile_sidebar_fill_color': 'DDEEF6',\n",
       " 'profile_text_color': '333333',\n",
       " 'profile_use_background_image': True,\n",
       " 'protected': False,\n",
       " 'screen_name': 'jessbarratt88',\n",
       " 'statuses_count': 10723,\n",
       " 'time_zone': 'Pacific Time (US & Canada)',\n",
       " 'translator_type': 'none',\n",
       " 'url': None,\n",
       " 'utc_offset': -25200,\n",
       " 'verified': False}"
      ]
     },
     "execution_count": 10,
     "metadata": {},
     "output_type": "execute_result"
    }
   ],
   "source": [
    "response['statuses'][0]['user']"
   ]
  },
  {
   "cell_type": "code",
   "execution_count": 11,
   "metadata": {},
   "outputs": [
    {
     "data": {
      "text/plain": [
       "dict_keys(['created_at', 'id', 'id_str', 'text', 'truncated', 'entities', 'metadata', 'source', 'in_reply_to_status_id', 'in_reply_to_status_id_str', 'in_reply_to_user_id', 'in_reply_to_user_id_str', 'in_reply_to_screen_name', 'user', 'geo', 'coordinates', 'place', 'contributors', 'is_quote_status', 'retweet_count', 'favorite_count', 'favorited', 'retweeted', 'lang'])"
      ]
     },
     "execution_count": 11,
     "metadata": {},
     "output_type": "execute_result"
    }
   ],
   "source": [
    "response['statuses'][0].keys()"
   ]
  },
  {
   "cell_type": "markdown",
   "metadata": {},
   "source": [
    "**Exercise 3:**\n",
    "\n",
    "print user, place, and geo locations of tweets you have collected."
   ]
  },
  {
   "cell_type": "code",
   "execution_count": 12,
   "metadata": {},
   "outputs": [
    {
     "name": "stdout",
     "output_type": "stream",
     "text": [
      "Place: place None\n",
      "Geo: geo None\n",
      "Place: place None\n",
      "Geo: geo None\n",
      "Place: place None\n",
      "Geo: geo None\n",
      "Place: place None\n",
      "Geo: geo None\n",
      "Place: place None\n",
      "Geo: geo None\n",
      "Place: place None\n",
      "Geo: geo None\n",
      "Place: place None\n",
      "Geo: geo None\n",
      "Place: place None\n",
      "Geo: geo None\n",
      "Place: place None\n",
      "Geo: geo None\n",
      "Place: place {'id': '0079932b106eb4c9', 'url': 'https://api.twitter.com/1.1/geo/id/0079932b106eb4c9.json', 'place_type': 'admin', 'name': 'Ho Chi Minh', 'full_name': 'Ho Chi Minh, Vietnam', 'country_code': 'VN', 'country': 'Vietnam', 'contained_within': [], 'bounding_box': {'type': 'Polygon', 'coordinates': [[[106.356398, 10.365786], [107.012798, 10.365786], [107.012798, 11.160291], [106.356398, 11.160291]]]}, 'attributes': {}}\n",
      "Geo: geo None\n",
      "Place: place None\n",
      "Geo: geo None\n",
      "Place: place {'id': '0079932b106eb4c9', 'url': 'https://api.twitter.com/1.1/geo/id/0079932b106eb4c9.json', 'place_type': 'admin', 'name': 'Ho Chi Minh', 'full_name': 'Ho Chi Minh, Vietnam', 'country_code': 'VN', 'country': 'Vietnam', 'contained_within': [], 'bounding_box': {'type': 'Polygon', 'coordinates': [[[106.356398, 10.365786], [107.012798, 10.365786], [107.012798, 11.160291], [106.356398, 11.160291]]]}, 'attributes': {}}\n",
      "Geo: geo None\n",
      "Place: place None\n",
      "Geo: geo None\n",
      "Place: place None\n",
      "Geo: geo None\n",
      "Place: place None\n",
      "Geo: geo None\n",
      "Place: place None\n",
      "Geo: geo None\n",
      "Place: place None\n",
      "Geo: geo None\n",
      "Place: place None\n",
      "Geo: geo None\n",
      "Place: place None\n",
      "Geo: geo None\n",
      "Place: place None\n",
      "Geo: geo None\n",
      "Place: place None\n",
      "Geo: geo None\n",
      "Place: place None\n",
      "Geo: geo None\n",
      "Place: place None\n",
      "Geo: geo None\n",
      "Place: place None\n",
      "Geo: geo None\n",
      "Place: place None\n",
      "Geo: geo None\n",
      "Place: place None\n",
      "Geo: geo None\n",
      "Place: place None\n",
      "Geo: geo None\n",
      "Place: place None\n",
      "Geo: geo None\n",
      "Place: place None\n",
      "Geo: geo None\n",
      "Place: place None\n",
      "Geo: geo None\n",
      "Place: place None\n",
      "Geo: geo None\n",
      "Place: place None\n",
      "Geo: geo None\n",
      "Place: place None\n",
      "Geo: geo None\n",
      "Place: place None\n",
      "Geo: geo None\n",
      "Place: place None\n",
      "Geo: geo None\n",
      "Place: place None\n",
      "Geo: geo None\n",
      "Place: place None\n",
      "Geo: geo None\n",
      "Place: place None\n",
      "Geo: geo None\n",
      "Place: place None\n",
      "Geo: geo None\n",
      "Place: place None\n",
      "Geo: geo None\n",
      "Place: place None\n",
      "Geo: geo None\n",
      "Place: place None\n",
      "Geo: geo None\n",
      "Place: place None\n",
      "Geo: geo None\n",
      "Place: place None\n",
      "Geo: geo None\n",
      "Place: place None\n",
      "Geo: geo None\n",
      "Place: place None\n",
      "Geo: geo None\n",
      "Place: place None\n",
      "Geo: geo None\n",
      "Place: place None\n",
      "Geo: geo None\n",
      "Place: place None\n",
      "Geo: geo None\n",
      "Place: place None\n",
      "Geo: geo None\n",
      "Place: place None\n",
      "Geo: geo None\n",
      "Place: place None\n",
      "Geo: geo None\n",
      "Place: place None\n",
      "Geo: geo None\n",
      "Place: place None\n",
      "Geo: geo None\n",
      "Place: place None\n",
      "Geo: geo None\n",
      "Place: place None\n",
      "Geo: geo None\n",
      "Place: place None\n",
      "Geo: geo None\n",
      "Place: place None\n",
      "Geo: geo None\n",
      "Place: place None\n",
      "Geo: geo None\n",
      "Place: place None\n",
      "Geo: geo None\n",
      "Place: place None\n",
      "Geo: geo None\n",
      "Place: place None\n",
      "Geo: geo None\n",
      "Place: place None\n",
      "Geo: geo None\n",
      "Place: place None\n",
      "Geo: geo None\n",
      "Place: place None\n",
      "Geo: geo None\n",
      "Place: place None\n",
      "Geo: geo None\n",
      "Place: place None\n",
      "Geo: geo None\n",
      "Place: place None\n",
      "Geo: geo None\n",
      "Place: place None\n",
      "Geo: geo None\n",
      "Place: place None\n",
      "Geo: geo None\n",
      "Place: place None\n",
      "Geo: geo None\n",
      "Place: place None\n",
      "Geo: geo None\n",
      "Place: place None\n",
      "Geo: geo None\n",
      "Place: place None\n",
      "Geo: geo None\n",
      "Place: place None\n",
      "Geo: geo None\n",
      "Place: place None\n",
      "Geo: geo None\n",
      "Place: place None\n",
      "Geo: geo None\n",
      "Place: place None\n",
      "Geo: geo None\n",
      "Place: place None\n",
      "Geo: geo None\n",
      "Place: place None\n",
      "Geo: geo None\n",
      "Place: place None\n",
      "Geo: geo None\n",
      "Place: place None\n",
      "Geo: geo None\n",
      "Place: place None\n",
      "Geo: geo None\n",
      "Place: place None\n",
      "Geo: geo None\n",
      "Place: place None\n",
      "Geo: geo None\n",
      "Place: place None\n",
      "Geo: geo None\n",
      "Place: place None\n",
      "Geo: geo None\n",
      "Place: place None\n",
      "Geo: geo None\n",
      "Place: place None\n",
      "Geo: geo None\n",
      "Place: place None\n",
      "Geo: geo None\n",
      "Place: place None\n",
      "Geo: geo None\n",
      "Place: place None\n",
      "Geo: geo None\n",
      "Place: place None\n",
      "Geo: geo None\n",
      "Place: place None\n",
      "Geo: geo None\n",
      "Place: place None\n",
      "Geo: geo None\n",
      "Place: place None\n",
      "Geo: geo None\n",
      "Place: place None\n",
      "Geo: geo None\n",
      "Place: place None\n",
      "Geo: geo None\n",
      "Place: place None\n",
      "Geo: geo None\n",
      "Place: place None\n",
      "Geo: geo None\n"
     ]
    }
   ],
   "source": [
    "\n",
    "\n",
    "for i , tweet in enumerate(resp3):\n",
    "    print('Place: ''place', tweet['place'])\n",
    "    print('Geo: ' 'geo', tweet['geo'])\n",
    "    \n",
    "    \n",
    "# Your code here"
   ]
  },
  {
   "cell_type": "markdown",
   "metadata": {},
   "source": [
    "---\n",
    "## <span style=\"color:#0b486b\">2. Distances</span>\n",
    "\n",
    "`Distance` is a numerical description of how far apart objects are. It is a concrete way of describing what it means for elements of some space to be close or far away from each other, for example the distance between two vectors in an 2-dimensional space.\n",
    "\n",
    "Now that you have know how to represent an n-dimensional vector in Python with NumPy arrays, we will write a function as a metric to measure the distance between two vectors. There are multiple ways to measure the distance between two vectors. We will discuss Euclidean distance and cosine distance."
   ]
  },
  {
   "cell_type": "markdown",
   "metadata": {
    "collapsed": true
   },
   "source": [
    "### <span style=\"color:#0b486b\">2.1 Euclidean Distance</span>\n",
    "\n",
    "Euclidean distance comes from Geometry. If we assume $\\mathbf{x}_{1}=\\left[x_{11},x_{12},\\ldots,x_{1n}\\right]$ and $\\mathbf{x}_{2}=\\left[x_{21},x_{22},\\ldots,x_{2n}\\right]$, then the Euclidean distance between $\\mathbf{x}_{1}$ and $\\mathbf{x}_{2}$ is defined as:\n",
    "\n",
    "$$d\\left(\\mathbf{x}_{1},\\mathbf{x}_{2}\\right)=\\sqrt{\\left(x_{11}-x_{21}\\right)^{2}+\\left(x_{12}-x_{22}\\right)^{2}+\\ldots+\\left(x_{1n}-x_{2n}\\right)^{2}}\n",
    "$$\n",
    "\n",
    "We can use array operators for this task."
   ]
  },
  {
   "cell_type": "code",
   "execution_count": 13,
   "metadata": {
    "collapsed": true
   },
   "outputs": [],
   "source": [
    "import numpy as np"
   ]
  },
  {
   "cell_type": "code",
   "execution_count": 14,
   "metadata": {},
   "outputs": [
    {
     "name": "stdout",
     "output_type": "stream",
     "text": [
      "[-1  0 -2 -2  2]\n",
      "[1 0 4 4 4]\n",
      "3.60555127546\n"
     ]
    }
   ],
   "source": [
    "x1 = np.array([2, 5, 4, 6, 8])\n",
    "x2 = np.array([3, 5, 6, 8, 6])\n",
    "\n",
    "print(x1 - x2)\n",
    "print((x1 - x2) ** 2)\n",
    "print(np.sqrt(np.sum((x1 - x2) ** 2)))\n",
    "\n"
   ]
  },
  {
   "cell_type": "code",
   "execution_count": 15,
   "metadata": {
    "collapsed": true
   },
   "outputs": [],
   "source": [
    "def euclidean_distance1(x1, x2):\n",
    "    d = x1 - x2\n",
    "    d = d ** 2\n",
    "    return np.sqrt(d.sum())"
   ]
  },
  {
   "cell_type": "code",
   "execution_count": 16,
   "metadata": {},
   "outputs": [
    {
     "name": "stdout",
     "output_type": "stream",
     "text": [
      "7.14142842854\n"
     ]
    }
   ],
   "source": [
    "x1 = np.array([-1, 2, 0, 5])\n",
    "x2 = np.array([4, 2, 1, 0])\n",
    "\n",
    "print(euclidean_distance1(x1, x2))"
   ]
  },
  {
   "cell_type": "markdown",
   "metadata": {},
   "source": [
    "Since two vectors passed to the function should be the same size, it is better to perform a sanity check before applying the subtraction. Otherwise it will raise an error. We can do this by using `if - elif` statement or as a better practice by using `try - except`."
   ]
  },
  {
   "cell_type": "code",
   "execution_count": 17,
   "metadata": {
    "collapsed": true
   },
   "outputs": [],
   "source": [
    "import sys\n",
    "\n",
    "def euclidean_distance2(x1, x2):\n",
    "    if x1.shape[0] != x2.shape[0]:\n",
    "        sys.exit('x1 and x2 are not the same size')\n",
    "    else:\n",
    "        d = x1 - x2\n",
    "        d = d ** 2\n",
    "        return np.sqrt(d.sum())"
   ]
  },
  {
   "cell_type": "markdown",
   "metadata": {},
   "source": [
    "**Exercise 4:** Run the cell below fix the code so that the two array are the same size."
   ]
  },
  {
   "cell_type": "code",
   "execution_count": 18,
   "metadata": {},
   "outputs": [
    {
     "data": {
      "text/plain": [
       "8.717797887081348"
      ]
     },
     "execution_count": 18,
     "metadata": {},
     "output_type": "execute_result"
    }
   ],
   "source": [
    "# After run this cell, fix it\n",
    "\n",
    "x1 = np.array([-1, 2, 0, 5, 9])\n",
    "x2 = np.array([4, 2, 1, 0, 4])\n",
    "euclidean_distance2(x1, x2)"
   ]
  },
  {
   "cell_type": "code",
   "execution_count": 19,
   "metadata": {
    "collapsed": true
   },
   "outputs": [],
   "source": [
    "def euclidean_distance3(x1, x2):\n",
    "    try:\n",
    "        d = x1 - x2\n",
    "        d = np.power(d, 2)\n",
    "        return np.sqrt(d.sum())\n",
    "    except ValueError as e:\n",
    "        print(\"Vectors passed to the function are not the same size\")\n",
    "        # you can return a default value\n",
    "        return None"
   ]
  },
  {
   "cell_type": "markdown",
   "metadata": {},
   "source": [
    "**Exercise 5:** Run the cell below and then fix it to prevent an exception."
   ]
  },
  {
   "cell_type": "code",
   "execution_count": 20,
   "metadata": {
    "collapsed": true
   },
   "outputs": [],
   "source": [
    "# fix this cell\n",
    "\n",
    "x1 = np.array([-1, 2, 0, 5, 9])\n",
    "x2 = np.array([4, 2, 1, 2, 8])\n",
    "a = euclidean_distance3(x1, x2)"
   ]
  },
  {
   "cell_type": "markdown",
   "metadata": {},
   "source": [
    "### <span style=\"color:#0b486b\">2.2 cosine similarity and distance</span>\n",
    "\n",
    "Cosine similarity is a measure of similarity between two vectors based on the angle between them. Cosine similarity is widely used in information retrieval and text mining as a measure of similarity between documents and is defined as:\n",
    "\n",
    "$$S_{c}\\left(\\mathbf{x}_{1},\\mathbf{x_{2}}\\right)=\\frac{\\mathbf{x}_{1}.\\mathbf{x_{2}}}{\\parallel\\mathbf{x}_{1}\\parallel^{2}+\\parallel\\mathbf{x}_{2}\\parallel^{2}-\\mathbf{x}_{1}.\\mathbf{x_{2}}}$$\n",
    "\n",
    "\n",
    "Cosine similarity is particularly used in positive space where the outcome is bounded in [0, 1]. The cosine distance is defined as the complement to cosine similarity in positive space that is $D_{c}\\left(x_{1},x_{2}\\right)=1-S_{c}\\left(x_1,x_2\\right)$ where $D_c$ is the cosine distance and $S_c$ is the cosine similarity."
   ]
  },
  {
   "cell_type": "code",
   "execution_count": 21,
   "metadata": {},
   "outputs": [
    {
     "data": {
      "text/plain": [
       "array([1, 4, 9])"
      ]
     },
     "execution_count": 21,
     "metadata": {},
     "output_type": "execute_result"
    }
   ],
   "source": [
    "x1 = np.array([1,2,3])\n",
    "x2 = np.array([3,4,6])\n",
    "\n",
    "x1 * x1"
   ]
  },
  {
   "cell_type": "code",
   "execution_count": 22,
   "metadata": {
    "collapsed": true
   },
   "outputs": [],
   "source": [
    "def cosine_distance(x1, x2):\n",
    "    try:\n",
    "        num = (x1*x2).sum()\n",
    "        denom = (x1*x1).sum() + (x2*x2).sum() - (x1*x2).sum()\n",
    "        num += 0.0    # or use np.astype(float) to make sure of float division\n",
    "        return 1 - num/denom\n",
    "    except ValueError as e:\n",
    "        print(\"Vectors passed to the function are not the same size\")\n",
    "        return None\n",
    "    "
   ]
  },
  {
   "cell_type": "code",
   "execution_count": 23,
   "metadata": {},
   "outputs": [
    {
     "data": {
      "text/plain": [
       "0.88983050847457623"
      ]
     },
     "execution_count": 23,
     "metadata": {},
     "output_type": "execute_result"
    }
   ],
   "source": [
    "x1 = np.array([2, 0, 5, 9])\n",
    "x2 = np.array([4, 2, 1, 0])\n",
    "cosine_distance(x1, x2)"
   ]
  },
  {
   "cell_type": "markdown",
   "metadata": {},
   "source": [
    "### <span style=\"color:#0b486b\">2.3 Term-by-Document matrix</span>\n",
    "\n",
    "A term-by-document matrix is a mathematical representation of a text corpus. It describes the frequency of terms that occur in the document collection. Each row corresponds to a document and each column correspond to a term. Thus the value that appears in row $j$ and column $i$ represents the frequency of appearing term $i$ in document $j$.\n",
    "\n",
    "We will represent two datasets with term-by-document matrix:\n",
    "\n",
    "* a collection of 100 Twitter messages about Geelong\n",
    "* a collection of 6 news articles (5 about Apple and 1 about politics)\n",
    "\n",
    "The data is already collected and stores in text files. Thus you will need to:\n",
    "\n",
    "* read the text files\n",
    "    * using file object\n",
    "* perform pre-processing\n",
    "    * using string methods\n",
    "    * using re package\n",
    "* construct the term-by-document matrix\n",
    "    * using numpy arrays and operations\n",
    "    "
   ]
  },
  {
   "cell_type": "markdown",
   "metadata": {},
   "source": [
    "### Twitter dataset\n",
    "First read the data:"
   ]
  },
  {
   "cell_type": "code",
   "execution_count": 24,
   "metadata": {},
   "outputs": [
    {
     "name": "stdout",
     "output_type": "stream",
     "text": [
      "GEELONG and beyond is the perfect FB page to keep you up to date on that area. Pop over and give them a LIKE too:\n",
      "\n",
      "https://t.co/hKvjPDsZKT\n",
      "\n",
      "CPSU members hungry for action at geelong trades hall http://t.co/gPAveTuSaV\n",
      "\n",
      "Club member Sharnee McIntosh and PT Anna Vines featured in this week's issue of the Geelong News.… https://t.co/ddIuHsOwJv\n",
      "\n",
      "RONE Melbourne, Geelong, Australia. http://t.co/zrXyw7pvZu\n",
      "\n",
      "RT @CPSUnion: Geelong to be hit by fed PS strike today. #cpsusafeguard http://t.co/bgWEDw9zCa http://t.co/FBMh8rKaKQ\n",
      "\n",
      "RT @Tradeshallglg: CPSU members meetingin geelong.  Standing room only http://t.co/SHUrGhixtJ\n",
      "\n",
      "RT @geelongaddy: Shire to test water over pool cost: http://t.co/mgYg1O4j2b http://t.co/bAsid1QEXl\n",
      "\n",
      "Hey pool champions of @surfcoastnotes did you not know when you ran for election? Disgraceful! #surfcoastpool http://t.co/UohzWEsWaP\n",
      "\n",
      "Geelong Social is out! http://t.co/vsHhsHezgR Stories via @MarkBeyerle @M_Wills_Avenue @Himekami64\n",
      "\n",
      "Disgraceful work @surfcoastnotes stop this, make a commitment to your community and get on with it! http://t.co/m1tWeZWQ76\n",
      "\n",
      "RT @Tradeshallglg: CPSU members meetingin geelong.  Standing room only http://t.co/SHUrGhixtJ\n",
      "\n",
      "RT @AustMarConsSoc: Outrageous. How many more dolphins is the Geelong Star allowed to kill before it's banned from fishing in Australia? ht…\n",
      "\n",
      "@angusbooker Hopefully Geelong. Imagine being short high speed boat ride from dingy Docklands to a sweet bayside workplace in Geelong.\n",
      "\n",
      "newtownblonde large pom poms have landed at urbanstalker_geelong and #celine approves! #pompoms… https://t.co/i9eOspkFzj\n",
      "\n",
      "#3Novices : ACCC eases GrainCorp, Emerald port rules http://t.co/cqc48x0siY Consumer watchdog reduces regulation on Melbourne, Geelong wh…\n",
      "\n",
      "RT @Tradeshallglg: CPSU members meetingin geelong.  Standing room only http://t.co/SHUrGhixtJ\n",
      "\n",
      "Last night was the second time I popped into the #BlueNote piano bar in downtown #Geelong - here is a… https://t.co/FI66suyUJz\n",
      "\n",
      "Tammy painting Kevin's face from City of Greater Geelong before information forum. http://t.co/Cr6lBd3aCC\n",
      "\n",
      "RT @Tradeshallglg: CPSU members meetingin geelong.  Standing room only http://t.co/SHUrGhixtJ\n",
      "\n",
      "RT @Tradeshallglg: CPSU members meetingin geelong.  Standing room only http://t.co/SHUrGhixtJ\n",
      "\n",
      "RT @geelongaddy: Shire to test water over pool cost: http://t.co/mgYg1O4j2b http://t.co/bAsid1QEXl\n",
      "\n",
      "RT @Dr_Mel_Thomson: Thinking of Women in leadership in Geelong, I think of @comm4geelong Pls come to our event,  Key note: @Vic_LeadSci htt…\n",
      "\n",
      "AFL Round 12 - Melbourne defeats Geelong by 24 points[QUOTE=\"Partridge, post: 39260902, mem... http://t.co/SHF73oZ7CL\n",
      "\n",
      "RT @geelongaddy: LIVE FROM 10AM: Geelong public workers go on strike http://t.co/O7LHyH29Af http://t.co/w5uFrnDKEY\n",
      "\n",
      "Factory trawler Geelong Star operators Seafish Tasmania in workshop on how to ...   http://t.co/zCC4TJvXDN\n",
      "\n",
      "@AFL@Hungryforsport swans trade restrictions 2015 are a joke yet Geelong and Hwks can trade in and out who they like despite their success\n",
      "\n",
      "CPSU members meetingin geelong.  Standing room only http://t.co/SHUrGhixtJ\n",
      "\n",
      "Bryon (left) &amp; Tammy (right) with attendees of Wadawurrung information forum Geelong. @AusLandcare http://t.co/cOWVvsJomT\n",
      "\n",
      "RT @cassiezervos: CSIRO protesters strike at Trades Hall Geelong, demanding for their rights @geelongaddy http://t.co/bs8JxOHHIS\n",
      "\n",
      "@CottonOn it went from Lara to Sunshine to come back to Geelong. @auspost is so efficient.... 😐\n",
      "\n",
      "RT @GeelongBTigers: Bookings are open for the Geelong Tigers bus for the game Richmond V's GWS Giants at the MCG on Saturday 4th of... http…\n",
      "\n",
      "Walk for the Dogs – Melbourne to Geelong 100kms | Sweet Shepherd Rescue Australia Inc http://t.co/DQpPanSSft\n",
      "\n",
      "RT @s_elliott79: @GreenestGreg @vline_geelong Regional Network Development Plan- book yourself into the Barwon South West session. http://t…\n",
      "\n",
      "RT @GreenestGreg: @s_elliott79 7:38 from Geelong was a 4 car N-set. 40% full at Lara, 95% full at Tarneit. 8min late @vline_geelong (grumbl…\n",
      "\n",
      "@JNorbs Disappointed to hear of you late arrivals. Expected better from #RRL @vline_geelong\n",
      "\n",
      "Rayban_Wholesale_52,Click_27 http://t.co/fjTChbmbY9 http://t.co/AtdZlXOalr @HOGGOLFBLOG @HOG_Geelong @HOLLYAMITCHELL @HOLLYCHICK1\n",
      "\n",
      "Trawler Geelong Star's practices under spotlight after dolphin deaths - via @abcnews http://t.co/u7zKmiglIp\n",
      "\n",
      "@vline_geelong you've been operating for four days and you've already managed to cancel trains 😑\n",
      "\n",
      "@GreenestGreg @vline_geelong Regional Network Development Plan- book yourself into the Barwon South West session. http://t.co/8WSFDP1UHu\n",
      "\n",
      "@vline_geelong 2/4 morning trains I've caught this week have been cancelled. Unacceptable. People have places to be. #regionalfaillink\n",
      "\n",
      "Attend the free seminar WOMEN IN LEADERSHIP at our Geelong Waterfront Campus 12.30pm Fri 10th July #women #leaders http://t.co/VxUr6XWknM …\n",
      "\n",
      "RT @GrowG21: #GROW will implement strategies to promote learning, engagement &amp; inclusion #GROWeducation #GROWrespect http://t.co/s34QSkk0RI\n",
      "\n",
      "Looking for a rewarding, flexible career move? We're expanding our service across greater Melbourne and Geelong!... http://t.co/EB6NTNBU9e\n",
      "\n",
      "RT @abcnewsAdelaide: Super trawler might breach SA fishing catch quota, Govt warns http://t.co/okMC4MwWfP #saparli #Adelaide http://t.co/D3…\n",
      "\n",
      "RT @Museontheloose: Geelong Social is out! http://t.co/RuSFxQSKdD Stories via @BellaGuria @LeButtery @Dulcerengel\n",
      "\n",
      "@s_elliott79 7:38 from Geelong was a 4 car N-set. 40% full at Lara, 95% full at Tarneit. 8min late @vline_geelong (grumble grumble)\n",
      "\n",
      "RT @TWRGeelong: In this week's edition catch up with the face of Brand Power, Sally Williams. http://t.co/SK7UW12YBP http://t.co/LBNiNXmeKQ\n",
      "\n",
      "RT @CPSUnion: Geelong to be hit by fed PS strike today. #cpsusafeguard http://t.co/bgWEDw9zCa http://t.co/FBMh8rKaKQ\n",
      "\n",
      "RT @CPSUnion: Geelong to be hit by fed PS strike today. #cpsusafeguard http://t.co/bgWEDw9zCa http://t.co/FBMh8rKaKQ\n",
      "\n",
      "Geelong day of action #cpsunion http://t.co/Ct7qlOx47m\n",
      "\n",
      "Trawler Geelong Star's practices under spotlight after dolphin deaths http://t.co/WkzqZE1vYS\n",
      "\n",
      "In this week's edition catch up with the face of Brand Power, Sally Williams. http://t.co/SK7UW12YBP http://t.co/LBNiNXmeKQ\n",
      "\n",
      "@vline_geelong RRL not working well,buses replacing trains #cantorganiseacrumbinabakery\n",
      "\n",
      "@LMBR_50 Trawler Geelong Star's practices under spotlight after dolphin deaths: The operators of the controversial fishing trawler Ge...\n",
      "\n",
      "Just in: Trawler Geelong Star's practices under spotlight after dolphin deaths http://t.co/NgwRgYfUvV #news\n",
      "\n",
      "RT @CPSUnion: Geelong to be hit by fed PS strike today. #cpsusafeguard http://t.co/bgWEDw9zCa http://t.co/FBMh8rKaKQ\n",
      "\n",
      "Lulay to play; could Lions QB be CFL’s most outstanding player? http://t.co/WencMWCXhE http://t.co/yGOjtZOGvV\n",
      "\n",
      "Trawler Geelong Star's practices under spotlight after dolphin deaths: The operators of the controversial fishing… http://t.co/V79Uuzzc40\n",
      "\n",
      "RT @geelongaddy: Rhys Stanley out for the season: http://t.co/Kh4S9m3wMK http://t.co/6vuUz2HaNv\n",
      "\n",
      "Rhys Stanley out for the season: http://t.co/Kh4S9m3wMK http://t.co/6vuUz2HaNv\n",
      "\n",
      "Trawler Geelong Star's practices under spotlight after dolphin deaths http://t.co/dMZdeaMtZJ\n",
      "\n",
      "Trawler Geelong Star's practices under spotlight after dolphin deaths http://t.co/CEfIFZjtj8\n",
      "\n",
      "RT @RichardMBaines: Trawler Geelong Star's practices under spotlight after dolphin deaths http://t.co/PfBFoQLNg0 via @ABCNews #politas #aus…\n",
      "\n",
      "@Luke5SOS COME TO TORQUAY OR MY SCHOOL GEELONG LUTHERAN COLLEGE TODAY!!! ITS 1 &amp; 1/2 AWAY FROM MELBOURNE!!!! PRETTY PRETTY PLEASE!?!?!?\n",
      "\n",
      "Top geelong cats articles from last 48 hrs http://t.co/WunvbbEpzV\n",
      "\n",
      "Bookings are open for the Geelong Tigers bus for the game Richmond V's GWS Giants at the MCG on Saturday 4th of... http://t.co/Z9rlWVP7i2\n",
      "\n",
      "RT @Comm4Geelong: Interesting piece on CfG member @LtCreatures #Geelong in @TWRGeelong http://t.co/C0hcj8cDIi #Beer #BuyLocal http://t.co/X…\n",
      "\n",
      "CSIRO protesters strike at Trades Hall Geelong, demanding for their rights @geelongaddy http://t.co/bs8JxOHHIS\n",
      "\n",
      "Trawler Geelong Star's practices under spotlight after dolphin deaths http://t.co/9znsrBYe4u\n",
      "\n",
      "Geelong Mission seeks to expand welcome to seafarers http://t.co/LwIpb6g2wR\n",
      "\n",
      "Interesting piece on CfG member @LtCreatures #Geelong in @TWRGeelong http://t.co/C0hcj8cDIi #Beer #BuyLocal http://t.co/XUL12OFrNA\n",
      "\n",
      "#AU Trawler Geelong Star's practices under spotlight after dolphin deaths http://t.co/ED8krZ4KNK #abcnews\n",
      "\n",
      "#AU Trawler Geelong Star's practices under spotlight after dolphin deaths http://t.co/Nplk1PeSGb #abcnews\n",
      "\n",
      "RT @geelongaddy: LIVE FROM 10AM: Geelong public workers go on strike http://t.co/O7LHyH29Af http://t.co/w5uFrnDKEY\n",
      "\n",
      "Commissions passage the sights but sounds pertinent to geelong, victoria: odAwed\n",
      "\n",
      "Trawler Geelong Star's practices under spotlight after dolphin deaths http://t.co/PfBFoQLNg0 via @ABCNews #politas #auspol\n",
      "\n",
      "Geelong Organic is out! http://t.co/rGIXOqtRTM Stories via @vicenvironment @gogreen_natural @MylenePillot\n",
      "\n",
      "LIVE FROM 10AM: Geelong public workers go on strike http://t.co/O7LHyH29Af http://t.co/w5uFrnDKEY\n",
      "\n",
      "Centrelink, Medicare and child support services affected as Geelong public sector strike today @geelongaddy http://t.co/LfaeCgHmV6\n",
      "\n",
      "#Melbourne, #Geelong public sector workers protesting govt cuts with #cpsusafeguard actions. Help tell the story -&gt; http://t.co/JHcnsCPi4Y\n",
      "\n",
      "Trawler Geelong Star's practices under spotlight after dolphin deaths http://t.co/WRmiIf9fdN\n",
      "\n",
      "Trawler Geelong Star's practices under spotlight after dolphin deaths http://t.co/a7FMTHdGtb #abcnews\n",
      "\n",
      "#ABCNewsAus: Trawler Geelong Star's practices under spotlight after dolphin deaths http://t.co/kLvzy4xyWS #News_Monsta\n",
      "\n",
      "RT @CPSUnion: Geelong to be hit by fed PS strike today. #cpsusafeguard http://t.co/bgWEDw9zCa http://t.co/FBMh8rKaKQ\n",
      "\n",
      "Geelong Star operators to take workshop on how to avoid killing sea mammals http://t.co/96gCD9kKjm #geelongstar http://t.co/n1GHVpawyP\n",
      "\n",
      "@LMBR_50 Trawler Geelong Star's practices under spotlight after dolphin deaths: The operators of the controversial fishing trawler Ge...\n",
      "\n",
      "#Geelong, Australia: The Scarf Festival 2015 is now on at the National Wool Museum. http://t.co/5jaTTaYKl8 http://t.co/GYHYJACMOZ\n",
      "\n",
      "ABC: The operators of the controversial fishing trawler Geelong Star are having their practices scrutinised in... http://t.co/4CBzwROHMO\n",
      "\n",
      "And yet another nothing story from the Geelong addy on Land 400 and Sarah Henderson MP . http://t.co/ONOo34Jrzx\n",
      "\n",
      "Repost: I look at the happenings with Little Creatures Geelong, including White Rabbit and Furphy http://t.co/HHjDPxLLAr\n",
      "\n",
      "Centrelink, Medicare and child support services affected as Geelong public sector workers strike today: http://t.co/O7LHyGKyIH\n",
      "\n",
      "@MattyHeraldSun Geelong not available too?\n",
      "\n",
      "#TodayInHistory 26 June1857 Australias 1st country railway #Melbourne #Geelong opened to great fanfare http://t.co/Q3olNd31wW #history #rail\n",
      "\n",
      "How desperate for a page filler is the Geelong Addy with this drivel . http://t.co/gaiiJCgVoF\n",
      "\n",
      "Do you practice #yoga? http://t.co/Zf67ZGtksV #SeaireYoga offer private classes to get you started #Geelong #nourish #mindbodysoul\n",
      "\n",
      "Chicken processor Turi Foods drops labour-hire company over exploited worker claims at Geelong processing plant http://t.co/N2xvupsE5M\n",
      "\n",
      "Flying circus cabaret all set for Lyons’ 50th bash ... http://t.co/YuKa0oftzc … http://t.co/1qpCfgaL3U\n",
      "\n",
      "RT @CLAN_AU: @manderson1944 Thanks heaps Margaret sent 20more #CLAN beanies #Geelong makes total160 woolenhats #Knitters http://t.co/xwz6P9…\n",
      "\n",
      "@nutwals Hi Peter, there was a track fault at Southern Cross and the train could not depart, and that formed the next train into Melbourne\n",
      "\n",
      "Geelong Star Factory Trawler Australian factory trawler kills nine dolphins - Echonetdaily: http://t.co/W2dDTf5wbW http://t.co/6heBQo1GjE\n"
     ]
    }
   ],
   "source": [
    "import os\n",
    "\n",
    "# get current working directory\n",
    "cwd = os.getcwd()   \n",
    "\n",
    "# join the subdirectory of the data and data file name\n",
    "file_path = os.path.join(cwd, \"data/prac06/tweets.txt\")\n",
    "\n",
    "# read the contents of the file and store it in a list\n",
    "i = 0\n",
    "tweets = []\n",
    "fp = open(file_path, encoding='utf8')\n",
    "tweets = fp.readlines()\n",
    "for tweet in tweets:\n",
    "    print(tweet)"
   ]
  },
  {
   "cell_type": "markdown",
   "metadata": {},
   "source": [
    "Mostly when dealing with data, we have to perform some sort of data pre-processing. Data collection is often loosely controlled, resulting in out of the range values, missing values, and etc. Thus quality of the data is first and formost before running an analysis. This step is specific to the nature of the data. For example for text data it may consist of cleaning, normalization, tokenization, and etc. \n",
    "\n",
    "In this case, our pre-processing consists of:\n",
    "\n",
    "* converting all the words into lower case to remove the effect of the letter case\n",
    "* replacing the URLs with a simple string such as 'url'. From the previous cell, you should be able to see that many of the tweets contain a URL. Since we are not using them now, we can remove them or replace them.\n",
    "* Removing the punctuations"
   ]
  },
  {
   "cell_type": "code",
   "execution_count": 25,
   "metadata": {
    "collapsed": true
   },
   "outputs": [],
   "source": [
    "import numpy as np\n",
    "import re\n",
    "import string\n",
    "from collections import Counter\n",
    "\n",
    "def pre_process(doc):\n",
    "    \"\"\"\n",
    "    pre-processes a doc\n",
    "      * Converts the tweet into lower case,\n",
    "      * removes the URLs,\n",
    "      * removes the punctuations\n",
    "      * tokenizes the tweet\n",
    "    \"\"\"\n",
    "    \n",
    "    doc = doc.lower()\n",
    "    # gettign rid of non ascii codes\n",
    "    try:\n",
    "        doc = doc.decode('ascii', 'ignore')\n",
    "    except:\n",
    "        'It is already decode'\n",
    "    \n",
    "    # repalcing URLs\n",
    "    url_pattern = \"http://[^\\s]+|https://[^\\s]+|www.[^\\s]+|[^\\s]+\\.com|bit.ly/[^\\s]+\"\n",
    "    doc = re.sub(url_pattern, 'url', doc) \n",
    "\n",
    "    punctuation = r\"\\(|\\)|#|\\'|\\\"|-|:|\\\\|\\/|!|_|,|=|;|>|<|\\.\"\n",
    "    doc = re.sub(punctuation, ' ', doc)\n",
    "    \n",
    "    return doc.split()"
   ]
  },
  {
   "cell_type": "code",
   "execution_count": 26,
   "metadata": {},
   "outputs": [
    {
     "name": "stdout",
     "output_type": "stream",
     "text": [
      "House prices: This football haven is the best UK area to INVEST says property expert https://t.co/qH5ku2oyow\n"
     ]
    },
    {
     "data": {
      "text/plain": [
       "['house',\n",
       " 'prices',\n",
       " 'this',\n",
       " 'football',\n",
       " 'haven',\n",
       " 'is',\n",
       " 'the',\n",
       " 'best',\n",
       " 'uk',\n",
       " 'area',\n",
       " 'to',\n",
       " 'invest',\n",
       " 'says',\n",
       " 'property',\n",
       " 'expert',\n",
       " 'url']"
      ]
     },
     "execution_count": 26,
     "metadata": {},
     "output_type": "execute_result"
    }
   ],
   "source": [
    "print(r['text'])\n",
    "pre_process(r['text'])"
   ]
  },
  {
   "cell_type": "markdown",
   "metadata": {},
   "source": [
    "**Exercise:**\n",
    "\n",
    "Use the function provided to pre-process one of the tweets."
   ]
  },
  {
   "cell_type": "code",
   "execution_count": 27,
   "metadata": {
    "collapsed": true
   },
   "outputs": [],
   "source": [
    "# code here"
   ]
  },
  {
   "cell_type": "code",
   "execution_count": 28,
   "metadata": {
    "collapsed": true
   },
   "outputs": [],
   "source": [
    "def termdoc(docs):\n",
    "    \"\"\"\n",
    "    returns the term-by-document matrix and the vocabulary of the passed corpus\n",
    "    \"\"\"\n",
    "    \n",
    "    vocab = set()   \n",
    "    termdoc_sparse = []\n",
    "\n",
    "    for doc in docs:\n",
    "        # pre-process the doc\n",
    "        doc_tokens = pre_process(doc)\n",
    "        # computes the frequencies for doc\n",
    "        doc_sparse = Counter(doc_tokens)    \n",
    "\n",
    "        termdoc_sparse.append(doc_sparse)\n",
    "\n",
    "        # update the vocab\n",
    "        vocab.update(doc_sparse.keys())  \n",
    "\n",
    "    vocab = list(vocab)\n",
    "    vocab.sort()\n",
    "\n",
    "    n_docs = len(docs)\n",
    "    n_vocab = len(vocab)\n",
    "    termdoc_dense = np.zeros((n_docs, n_vocab), dtype=int)\n",
    "\n",
    "    for j, doc_sparse in enumerate(termdoc_sparse):\n",
    "        for term, freq in doc_sparse.items():\n",
    "            termdoc_dense[j, vocab.index(term)] = freq\n",
    "            \n",
    "    return termdoc_dense, vocab"
   ]
  },
  {
   "cell_type": "code",
   "execution_count": 29,
   "metadata": {},
   "outputs": [
    {
     "data": {
      "text/plain": [
       "(101, 590)"
      ]
     },
     "execution_count": 29,
     "metadata": {},
     "output_type": "execute_result"
    }
   ],
   "source": [
    "tweets_termdoc, tweets_vocab = termdoc(tweets)\n",
    "tweets_termdoc.shape"
   ]
  },
  {
   "cell_type": "markdown",
   "metadata": {},
   "source": [
    "Lets look at the vocabulary:"
   ]
  },
  {
   "cell_type": "markdown",
   "metadata": {
    "collapsed": true
   },
   "source": [
    "Lets look at one of tweets:"
   ]
  },
  {
   "cell_type": "code",
   "execution_count": 30,
   "metadata": {},
   "outputs": [
    {
     "name": "stdout",
     "output_type": "stream",
     "text": [
      "GEELONG and beyond is the perfect FB page to keep you up to date on that area. Pop over and give them a LIKE too:\n",
      "\n",
      "[0 0 0 0 0 0 0 0 0 0 0 0 0 0 0 0 0 0 0 0 0 0 0 0 0 0 0 0 0 0 0 0 0 0 0 0 0\n",
      " 0 0 0 0 0 0 0 0 0 0 0 0 0 0 0 0 0 0 0 0 0 0 0 0 0 0 0 0 0 0 0 0 0 0 0 0 0\n",
      " 0 1 0 0 0 0 0 0 0 0 0 0 0 0 0 0 0 2 0 0 0 0 1 0 0 0 0 0 0 0 0 0 0 0 0 0 0\n",
      " 0 0 0 0 0 0 0 0 0 0 0 0 0 0 0 0 0 1 0 0 0 0 0 0 0 0 0 0 0 0 0 0 0 0 0 0 0\n",
      " 0 0 0 0 0 0 0 0 0 0 0 0 0 0 0 0 0 0 0 0 0 0 0 0 0 0 0 0 0 0 0 0 0 0 0 0 1\n",
      " 0 0 0 0 0 0 0 0 0 0 0 0 0 0 0 0 0 0 0 0 0 0 0 0 0 0 0 0 0 0 0 0 0 0 0 0 0\n",
      " 0 1 0 0 0 0 0 0 0 0 0 0 0 0 0 0 0 0 0 0 0 0 1 0 0 0 1 0 0 0 0 0 0 0 0 0 0\n",
      " 0 0 0 0 0 0 0 0 0 0 0 0 0 0 0 0 0 0 0 0 0 0 0 0 0 0 0 0 0 0 0 0 0 0 1 0 0\n",
      " 0 0 0 0 0 1 0 0 0 0 0 0 0 0 0 0 0 0 0 0 0 0 0 0 0 1 0 0 0 0 0 0 0 0 0 0 0\n",
      " 0 0 0 0 0 0 0 0 0 0 0 0 0 0 0 0 0 0 0 0 0 0 0 0 0 0 0 0 0 0 0 0 0 0 0 0 0\n",
      " 0 0 0 1 0 0 0 0 0 0 0 0 0 0 0 1 1 0 0 0 0 1 0 0 0 0 0 0 0 0 0 0 0 0 0 0 0\n",
      " 0 0 1 0 0 0 0 0 0 0 0 0 0 0 0 0 0 0 0 0 0 0 0 0 0 0 0 0 0 0 0 0 0 0 0 0 0\n",
      " 0 0 0 0 0 0 0 0 0 0 0 0 0 0 0 0 0 0 0 0 0 0 0 0 0 0 0 0 0 0 0 0 0 0 0 0 0\n",
      " 0 0 0 0 0 0 0 0 0 0 0 0 0 0 0 0 0 0 0 0 0 0 0 0 0 0 0 0 0 0 0 1 1 0 1 0 0\n",
      " 0 0 0 0 0 0 2 0 0 1 0 0 0 0 0 0 0 0 0 0 0 0 0 1 0 0 0 0 0 0 0 0 0 0 0 0 0\n",
      " 0 0 0 0 0 0 0 0 0 0 0 0 0 0 0 0 0 0 0 0 0 0 0 0 0 0 0 1 0 0 0 0 0 0 0]\n"
     ]
    }
   ],
   "source": [
    "j = 0\n",
    "print(tweets[j])\n",
    "print(tweets_termdoc[j])"
   ]
  },
  {
   "cell_type": "code",
   "execution_count": 31,
   "metadata": {},
   "outputs": [
    {
     "data": {
      "text/plain": [
       "128"
      ]
     },
     "execution_count": 31,
     "metadata": {},
     "output_type": "execute_result"
    }
   ],
   "source": [
    "tweets_vocab.index('beyond')"
   ]
  },
  {
   "cell_type": "code",
   "execution_count": 32,
   "metadata": {},
   "outputs": [
    {
     "data": {
      "text/plain": [
       "0"
      ]
     },
     "execution_count": 32,
     "metadata": {},
     "output_type": "execute_result"
    }
   ],
   "source": [
    "tweets_termdoc[j][127]"
   ]
  },
  {
   "cell_type": "markdown",
   "metadata": {},
   "source": [
    "So basically, now each tweet is represented by a vector of size `len(tweets_vocab)`."
   ]
  },
  {
   "cell_type": "markdown",
   "metadata": {},
   "source": [
    "### News dataset\n",
    "Similar to previous sections, the data is stored in text files names as'news1.txt', ..., 'news5.txt'. All we have to do is read the files, construct the corpus and send it to `termdoc()` function."
   ]
  },
  {
   "cell_type": "code",
   "execution_count": 33,
   "metadata": {
    "collapsed": true
   },
   "outputs": [],
   "source": [
    "n_docs = 6\n",
    "cwd = os.getcwd()   \n",
    "news = []\n",
    "\n",
    "for j in range(1, n_docs+1):\n",
    "    filename = \"news{}.txt\".format(j)\n",
    "    file_path = os.path.join(cwd, \"data/prac06/{}\".format(filename))\n",
    "    fp = open(file_path, encoding='utf8')\n",
    "    news.append(fp.read())\n",
    "\n",
    "news_termdoc, news_vocab = termdoc(news)"
   ]
  },
  {
   "cell_type": "markdown",
   "metadata": {},
   "source": [
    "So now each news article is represented with a large vector of size `len(news_vocab)`. We can do many things with this representation. For example measuring the distance between two documents. The first 5 news articles are tech news and about Apple, but the 6th one is about politics. We expect that tech news be more similar to each other rather than to the politics news. In other words the distance between two articles from tech news should be less than the distance between a tech news article and a news article about politics. This is shown below:"
   ]
  },
  {
   "cell_type": "code",
   "execution_count": 34,
   "metadata": {},
   "outputs": [
    {
     "name": "stdout",
     "output_type": "stream",
     "text": [
      "0.380914826498\n",
      "0.415450236967\n"
     ]
    }
   ],
   "source": [
    "print(cosine_distance(news_termdoc[1], news_termdoc[2]))   # both about Apple\n",
    "print(cosine_distance(news_termdoc[1], news_termdoc[4]))   # one from tech world, the other from politics"
   ]
  }
 ],
 "metadata": {
  "kernelspec": {
   "display_name": "Python 3",
   "language": "python",
   "name": "python3"
  },
  "language_info": {
   "codemirror_mode": {
    "name": "ipython",
    "version": 3
   },
   "file_extension": ".py",
   "mimetype": "text/x-python",
   "name": "python",
   "nbconvert_exporter": "python",
   "pygments_lexer": "ipython3",
   "version": "3.6.1"
  }
 },
 "nbformat": 4,
 "nbformat_minor": 1
}

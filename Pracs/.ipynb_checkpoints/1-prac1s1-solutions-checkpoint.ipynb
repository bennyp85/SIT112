{
 "cells": [
  {
   "cell_type": "markdown",
   "metadata": {
    "collapsed": true
   },
   "source": [
    "**Exercise:** Add some more comments to your my-program.py script."
   ]
  },
  {
   "cell_type": "code",
   "execution_count": 8,
   "metadata": {},
   "outputs": [
    {
     "name": "stdout",
     "output_type": "stream",
     "text": [
      "Hello World!!\n",
      "Welcome to SIT 112 Data Science Concepts\n"
     ]
    }
   ],
   "source": [
    "# This is a one-line comment\n",
    "\n",
    "'''\n",
    "This is a \n",
    "multi-line comment\n",
    "'''\n",
    "\n",
    "\"\"\"\n",
    "This is also a\n",
    "multi-line comment\n",
    "\"\"\"\n",
    "\n",
    "# This is my first Python script\n",
    "'''\n",
    "This script should be run as follow:\n",
    "python my-program.py\n",
    "'''\n",
    "print(\"Hello World!!\")\n",
    "print(\"Welcome to SIT 112 Data Science Concepts\")"
   ]
  },
  {
   "cell_type": "markdown",
   "metadata": {},
   "source": [
    "**Exercise:** Write a piece of code that declares a variable called `'my_var'` and assign the value 25 to it. Then print its value."
   ]
  },
  {
   "cell_type": "code",
   "execution_count": 9,
   "metadata": {},
   "outputs": [
    {
     "ename": "SyntaxError",
     "evalue": "Missing parentheses in call to 'print' (<ipython-input-9-e451b3b1a64c>, line 2)",
     "output_type": "error",
     "traceback": [
      "\u001b[1;36m  File \u001b[1;32m\"<ipython-input-9-e451b3b1a64c>\"\u001b[1;36m, line \u001b[1;32m2\u001b[0m\n\u001b[1;33m    print \"The value of my_var is\", my_var\u001b[0m\n\u001b[1;37m                                 ^\u001b[0m\n\u001b[1;31mSyntaxError\u001b[0m\u001b[1;31m:\u001b[0m Missing parentheses in call to 'print'\n"
     ]
    }
   ],
   "source": [
    "my_var = 25\n",
    "print(\"The value of my_var is\", my_var)"
   ]
  },
  {
   "cell_type": "markdown",
   "metadata": {},
   "source": [
    "**Exercise:** Write a piece of code that declares a variable called `'my_float'` and assign the value 25 to it. Then print its value and type. What is its type? What do you need to do to make it a float instead of int?"
   ]
  },
  {
   "cell_type": "code",
   "execution_count": null,
   "metadata": {},
   "outputs": [],
   "source": [
    "my_float = 25\n",
    "print(\"the type of my_float is\", type(my_float))\n",
    "\n",
    "\"\"\"\n",
    "As you have noticed the type is not float. Why? Because 25 is an integer.\n",
    "To make myfloat a float type you should pass the value as 25. or 25.0 \n",
    "\"\"\"\n",
    "\n",
    "my_float = 25.\n",
    "print(\"the type of my_float is\", type(my_float))"
   ]
  },
  {
   "cell_type": "markdown",
   "metadata": {},
   "source": [
    "* addition:         x + y\n",
    "* subtraction:      x - y\n",
    "* multiplication:   x*y\n",
    "* division:         x/y\n",
    "* floor division:   x//y  (round the answer to the near integer)\n",
    "* modulus:          x%y   (remainder of x divided by y)\n",
    "* exponent:         x**y  (raise x to the power of y)\n",
    "\n",
    "**Exercise**: Try at least one example for each operator. Write a comment before the example to explain which operator you are entering."
   ]
  },
  {
   "cell_type": "code",
   "execution_count": null,
   "metadata": {},
   "outputs": [],
   "source": [
    "# This is an example of solutions\n",
    "x = 10\n",
    "y = 3\n",
    "\n",
    "# example of addition\n",
    "print('x + y =', x + y)\n",
    "\n",
    "# example of substraction\n",
    "print('x - y =', x - y)\n",
    "\n",
    "# example of multiplication\n",
    "print('x * y =', x * y)\n",
    "\n",
    "# example of division\n",
    "print('x / y =', x / y)\n",
    "\n",
    "# example of floor division\n",
    "print('x // y =', x //y)\n",
    "\n",
    "# example of modulus\n",
    "print('x % y =', x % y)\n",
    "\n",
    "# example of exponent\n",
    "print('x ** y =', x ** y)"
   ]
  }
 ],
 "metadata": {
  "kernelspec": {
   "display_name": "Python 3",
   "language": "python",
   "name": "python3"
  },
  "language_info": {
   "codemirror_mode": {
    "name": "ipython",
    "version": 3
   },
   "file_extension": ".py",
   "mimetype": "text/x-python",
   "name": "python",
   "nbconvert_exporter": "python",
   "pygments_lexer": "ipython3",
   "version": "3.6.1"
  }
 },
 "nbformat": 4,
 "nbformat_minor": 1
}

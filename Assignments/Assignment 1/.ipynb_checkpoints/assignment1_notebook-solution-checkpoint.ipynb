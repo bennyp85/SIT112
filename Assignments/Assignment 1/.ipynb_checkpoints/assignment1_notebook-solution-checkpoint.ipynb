{
 "cells": [
  {
   "cell_type": "markdown",
   "metadata": {},
   "source": [
    "# <span style=\"color:#0b486b\">SIT 112 - Data Science Concepts - Assignment 1</span>\n",
    "\n",
    "---\n",
    "Lecturer: Truyen Tran | truyen.tran@deakin.edu.au<br />\n",
    "\n",
    "School of Information Technology, <br />\n",
    "Deakin University, VIC 3215, Australia.\n",
    "\n",
    "### <span style=\"color:#0b486b\">Due: 5pm, Friday 13th April 2018</span>\n",
    "\n",
    "---"
   ]
  },
  {
   "cell_type": "markdown",
   "metadata": {},
   "source": [
    "### <span style=\"color:#0b486b\">Instructions</span>\n",
    "\n",
    "This notebook has been prepared for you to complete Assignment 1. Some sections have been pre-filled  to help you get started. **The total mark for this programming task is 65**.\n",
    "\n",
    "1. Before you start, read the entire notebook carefully to understand what you need to do. You should also refer to the main instructions in *Assignment1_instructions.pdf*  to know what else you need to complete for this assignment.\n",
    "2. For each cell marked with *#INSERT YOUR CODE HERE*, you must write your own code in this cell.\n",
    "3. At the end, you must run the entire notebook and submit two files:\n",
    " 1. The source of your solution notebook: [YourID]_assignment1_solution.ipynb\n",
    " 2. And an exported version of your output: [YourID]_assignment1_output.html  \n",
    "       \n",
    "For example, if your student ID is 123456, then you need submit two files:\n",
    "\n",
    "1. **123456_assignment1_solution.ipynb**\n",
    "2. and **123456_assignment1_output.html**\n",
    "\n",
    "As you go through this notebook:\n",
    "\n",
    "* markdown cells marked with **Note** mean description sections.\n",
    "* markdown cells marked with **Instructions** mean the instructions given to you to complete the sections."
   ]
  },
  {
   "cell_type": "code",
   "execution_count": 1,
   "metadata": {
    "collapsed": true
   },
   "outputs": [],
   "source": [
    "\"\"\"\n",
    "Import packages needed for processing\n",
    "\"\"\"\n",
    "import numpy as np   # import the numpy package\n",
    "import csv           # this package needed for processing csv file\n",
    "from collections import Counter  # this is for dictionary construction with counting functionality\n",
    "import matplotlib.pyplot as plt  # this is for plotting and other descriptive statistics\n",
    "import datetime      # this package is for handling time\n",
    "\n",
    "\"\"\"\n",
    "If you need add any additional packages, then add them below this line\n",
    "\"\"\"\n",
    "\n",
    "%matplotlib inline"
   ]
  },
  {
   "cell_type": "markdown",
   "metadata": {},
   "source": [
    "**Note**: you must place your data file in the same folder with your python notebook."
   ]
  },
  {
   "cell_type": "code",
   "execution_count": 2,
   "metadata": {
    "collapsed": true
   },
   "outputs": [],
   "source": [
    "# Declare the path to the data file\n",
    "DATA_FILE = \"medicare-office-locations.csv\""
   ]
  },
  {
   "cell_type": "markdown",
   "metadata": {},
   "source": [
    "**Note**. The following segment of codes is to load the data from the .csv file using csv package. It has been provided for you to get started. Please **do not** change this piece of code as well the variable names as we will need these variables to complete subsequent tasks. "
   ]
  },
  {
   "cell_type": "code",
   "execution_count": 3,
   "metadata": {},
   "outputs": [
    {
     "name": "stdout",
     "output_type": "stream",
     "text": [
      "dict_keys(['No.', 'OFFICE TYPE', 'SITE NAME', 'ADDRESS', 'SUBURB', 'STATE', 'POSTCODE', 'LATITUDE', 'LONGITUDE', 'Open', 'Close', 'Closed for lunch'])\n"
     ]
    }
   ],
   "source": [
    "# Load CSV file using DictReader\n",
    "input_file = csv.DictReader(open(DATA_FILE))\n",
    "fieldnames = input_file.fieldnames\n",
    "data_dict = {fn: [] for fn in fieldnames}\n",
    "print(data_dict.keys())\n",
    "for line in input_file:\n",
    "    for k, v in line.items():\n",
    "        try:\n",
    "            data_dict[k].append(int(v))\n",
    "        except ValueError:\n",
    "            try:\n",
    "                data_dict[k].append(float(v))\n",
    "            except ValueError:\n",
    "                data_dict[k].append(v)\n",
    "                \n",
    "for k, v in data_dict.items():\n",
    "    data_dict[k] = np.array(v)"
   ]
  },
  {
   "cell_type": "markdown",
   "metadata": {},
   "source": [
    "---\n",
    "## **Instruction 1**\n",
    "We first examine the variables and the overall data size. The tasks:\n",
    "\n",
    "1. Write your code to print the type for the following variables (**4 marks**):\n",
    "    * input_file\n",
    "    * data_dict\n",
    "    * data_dict['SUBURB']\n",
    "    * data_dict['STATE']\n",
    "    \n",
    "2. Write your code to print out the number of data records. (**1 mark**)\n",
    "\n",
    "[**Total mark: 5**]"
   ]
  },
  {
   "cell_type": "code",
   "execution_count": 4,
   "metadata": {},
   "outputs": [
    {
     "name": "stdout",
     "output_type": "stream",
     "text": [
      "<class 'csv.DictReader'>\n",
      "<class 'dict'>\n",
      "<class 'numpy.ndarray'>\n",
      "<class 'numpy.ndarray'>\n"
     ]
    }
   ],
   "source": [
    "# INSERT YOUR CODE HERE\n",
    "'''\n",
    "Write you code to print the type for the following variables:\n",
    "    * input_file\n",
    "    * data_dict\n",
    "    * data_dict['SUBURB']\n",
    "    * data_dict['STATE']\n",
    "'''\n",
    "print(type(input_file))\n",
    "print(type(data_dict))\n",
    "print(type(data_dict['SUBURB']))\n",
    "print(type(data_dict['STATE']))"
   ]
  },
  {
   "cell_type": "code",
   "execution_count": 5,
   "metadata": {},
   "outputs": [
    {
     "name": "stdout",
     "output_type": "stream",
     "text": [
      "Number of data records: 239\n"
     ]
    }
   ],
   "source": [
    "# INSERT YOUR CODE HERE\n",
    "'''\n",
    "Write your code to print out the number of data records\n",
    "'''\n",
    "print('Number of data records:', len(data_dict['No.']))"
   ]
  },
  {
   "cell_type": "markdown",
   "metadata": {},
   "source": [
    "---\n",
    "## Instruction 2\n",
    "The following code segment is designed to calculate some basic statistics from the data. \n",
    "\n",
    "**Your task:**\n",
    "1. Write your code to find and print the minimum and the maximum values in the **LATITUDE** column. (**1 mark**)\n",
    "2. Write your code to find and print the minimum and maximum values of the **LONGITUDE** column. (**1 marks**)\n",
    "3. Write your code to find and print the central point of all the locations. This point is a pair of the average of latitudes *(the **LATITUDE** column)* and the average of longitudes *(the **LONGITUDE** column)*. (**3 marks**)\n",
    "\n",
    "**[Total mark: 5]**"
   ]
  },
  {
   "cell_type": "code",
   "execution_count": 6,
   "metadata": {},
   "outputs": [
    {
     "name": "stdout",
     "output_type": "stream",
     "text": [
      "Minimum value: -42.97638\n",
      "Maximum value: -12.37187\n"
     ]
    }
   ],
   "source": [
    "# INSERT YOUR CODE HERE\n",
    "\"\"\"\n",
    "Write your code to find and print the minimum and the maximum values in the **LATITUDE** column.\n",
    "\"\"\"\n",
    "print('Minimum value:', np.min(data_dict['LATITUDE']))\n",
    "print('Maximum value:', np.max(data_dict['LATITUDE']))"
   ]
  },
  {
   "cell_type": "code",
   "execution_count": 7,
   "metadata": {},
   "outputs": [
    {
     "name": "stdout",
     "output_type": "stream",
     "text": [
      "Minimum value: 114.61273\n",
      "Maximum value: 153.55671\n"
     ]
    }
   ],
   "source": [
    "# INSERT YOUR CODE HERE\n",
    "\"\"\"\n",
    "Write your code to find and print the minimum and maximum values of the **LONGITUDE** column.\n",
    "\"\"\"\n",
    "print('Minimum value:', np.min(data_dict['LONGITUDE']))\n",
    "print('Maximum value:', np.max(data_dict['LONGITUDE']))"
   ]
  },
  {
   "cell_type": "code",
   "execution_count": 8,
   "metadata": {},
   "outputs": [
    {
     "name": "stdout",
     "output_type": "stream",
     "text": [
      "The central point: -32.4765017992 145.580256151\n"
     ]
    }
   ],
   "source": [
    "# INSERT YOUR CODE HERE\n",
    "\"\"\"\n",
    "Write your code to find and print the central point of all the locations. \n",
    "This point is a pair of the average of latitudes *(the **LATITUDE** column)* \n",
    "    and the average of longitudes *(the **LONGITUDE** column)*\n",
    "\"\"\"\n",
    "print('The central point:', np.mean(data_dict['LATITUDE']), np.mean(data_dict['LONGITUDE']))"
   ]
  },
  {
   "cell_type": "markdown",
   "metadata": {},
   "source": [
    "---\n",
    "## **Instruction 3**\n",
    "The following code segment is designed to examine data from the **STATE** column. This column provides information about the states of medical centers.\n",
    "\n",
    "\n",
    "**Your tasks**:\n",
    "\n",
    "1. Write your code to find and print out the number of **unique** states. (**3 marks**)\n",
    "2. Write your code to find and print out the list of states that appears more than **ten** times in the dataset. (**3 marks**)\n",
    "3. Write your code to find and print out the state with highest frequency. Both the state name and frequency need to be printed out (**3 marks**)\n",
    "4. Write your code to construct a dictionary variable: ***state_popularity*** whose keys are unique states and values are the corresponding counts computed from the dataset. Print the dictionary. (**3 marks**)\n",
    "5. Plot a bar chart for ***state_popularity*** sorted in descending order of values. (**3 marks**)\n",
    "\n",
    "[**Total mark: 15**]"
   ]
  },
  {
   "cell_type": "code",
   "execution_count": 9,
   "metadata": {},
   "outputs": [
    {
     "name": "stdout",
     "output_type": "stream",
     "text": [
      "Number of unique states: 8\n"
     ]
    }
   ],
   "source": [
    "# INSERT YOUR CODE HERE \n",
    "\"\"\"\n",
    "Write your code to find and print out the number of **unique** states.\n",
    "Hint: you might want to use np.unique\n",
    "\"\"\"\n",
    "states = np.unique(data_dict['STATE'])\n",
    "print('Number of unique states:', len(states))"
   ]
  },
  {
   "cell_type": "code",
   "execution_count": 10,
   "metadata": {},
   "outputs": [
    {
     "name": "stdout",
     "output_type": "stream",
     "text": [
      "List of states that appear more than 10 times: ['NSW' 'QLD' 'SA' 'VIC' 'WA']\n"
     ]
    }
   ],
   "source": [
    "# INSERT YOUR CODE HERE \n",
    "\"\"\"\n",
    "Write your code to find and print out the list of states \n",
    "    that appears more than **ten** times in the dataset.\n",
    "\n",
    "Hint: read the documention for function numpy.unique carefully and examine what does it return.\n",
    "\"\"\"\n",
    "states, counts = np.unique(data_dict['STATE'], return_counts=True)\n",
    "indices = np.where(counts > 10)[0]\n",
    "print('List of states that appear more than 10 times:', states[indices])"
   ]
  },
  {
   "cell_type": "code",
   "execution_count": 11,
   "metadata": {},
   "outputs": [
    {
     "name": "stdout",
     "output_type": "stream",
     "text": [
      "The most frequent state: NSW with frequency: 87\n"
     ]
    }
   ],
   "source": [
    "# INSERT YOUR CODE HERE \n",
    "\"\"\"\n",
    "Write your code to find and print out the state with highest frequency. \n",
    "Both the state name and frequency need to be printed out\n",
    "\"\"\"\n",
    "max_index = np.argmax(counts)\n",
    "print('The most frequent state:', states[max_index], 'with frequency:', counts[max_index])"
   ]
  },
  {
   "cell_type": "code",
   "execution_count": 12,
   "metadata": {},
   "outputs": [
    {
     "name": "stdout",
     "output_type": "stream",
     "text": [
      "Counter({'NSW': 87, 'VIC': 54, 'QLD': 49, 'WA': 19, 'SA': 14, 'TAS': 7, 'ACT': 5, 'NT': 4})\n"
     ]
    }
   ],
   "source": [
    "# INSERT YOUR CODE HERE \n",
    "\"\"\"\n",
    "Write your code to construct a dictionary variable: ***state_popularity*** \n",
    "    whose keys are unique states and values are the corresponding counts computed from the dataset.\n",
    "Print the dictionary.\n",
    "\"\"\"\n",
    "state_popularity = Counter(data_dict['STATE'])\n",
    "print(state_popularity)"
   ]
  },
  {
   "cell_type": "code",
   "execution_count": 13,
   "metadata": {},
   "outputs": [
    {
     "data": {
      "text/plain": [
       "<matplotlib.text.Text at 0x7f4ea20>"
      ]
     },
     "execution_count": 13,
     "metadata": {},
     "output_type": "execute_result"
    },
    {
     "data": {
      "image/png": "[encoded data removed]",
      "text/plain": [
       "<matplotlib.figure.Figure at 0x7f3fa90>"
      ]
     },
     "metadata": {},
     "output_type": "display_data"
    }
   ],
   "source": [
    "# INSERT YOUR CODE HERE \n",
    "'''\n",
    "Plot a bar chart for state_popularity sorted in descending order of values.\n",
    "'''\n",
    "n_states = len(states)\n",
    "fig, ax = plt.subplots(figsize = (15, 8))\n",
    "idx = np.argsort(counts)[::-1]\n",
    "\n",
    "ax.bar(np.arange(n_states), counts[idx], align='center', alpha=0.4)\n",
    "ax.set_xticks(np.arange(n_states))\n",
    "ax.set_xticklabels(states[idx], horizontalalignment='right', fontsize='large')\n",
    "ax.set_xlabel('State', fontsize='15')\n",
    "ax.set_ylabel('Frequency', fontsize='15')"
   ]
  },
  {
   "cell_type": "markdown",
   "metadata": {},
   "source": [
    "---\n",
    "## **Instruction 4**\n",
    "We shall examine the opening hours of the medicare offices. Run the cell below to see the format of opening time and closing time.\n"
   ]
  },
  {
   "cell_type": "code",
   "execution_count": 14,
   "metadata": {},
   "outputs": [
    {
     "name": "stdout",
     "output_type": "stream",
     "text": [
      "8:30:00\n",
      "16:30:00\n"
     ]
    }
   ],
   "source": [
    "# print the opening time and closing time of the first medicare office.\n",
    "\n",
    "print(data_dict['Open'][0])\n",
    "print(data_dict['Close'][0])"
   ]
  },
  {
   "cell_type": "markdown",
   "metadata": {},
   "source": [
    "We shall define a function `compute_opening_duration` to calculate the duration of the opening time for each medicare office (corresponds to each data record). The function takes two strings: the opening time and the closing time as the inputs and return the opening duration in hours. The opening time and the closing time are strings in form **'Hour:Minute:Second'**\n",
    "\n",
    "If the opening time or the closing time are not in the correct form, the opening duration of the office is **invalid** and the function returns -1."
   ]
  },
  {
   "cell_type": "code",
   "execution_count": 15,
   "metadata": {
    "collapsed": true
   },
   "outputs": [],
   "source": [
    "def compute_opening_duration(opening_time, closing_time):\n",
    "    '''\n",
    "    Input: two string: opening_time and closing_time\n",
    "    Output: the opening duration in hours\n",
    "    '''\n",
    "    try:\n",
    "        o = datetime.datetime.strptime(opening_time, '%H:%M:%S')\n",
    "        c = datetime.datetime.strptime(closing_time, '%H:%M:%S')\n",
    "        delta = c - o\n",
    "        return delta.seconds / 3600.0\n",
    "    except:\n",
    "        return -1"
   ]
  },
  {
   "cell_type": "markdown",
   "metadata": {},
   "source": [
    "**Your tasks**:\n",
    "\n",
    "1. Write your code to calculate an array called **opening_duration_list** that stores the opening duration of all medicare offices. Store the array as a numpy array. Print the first 10 entries in the array. (**3 mark**)\n",
    "2. Construct a new array called **valid_opening_duration_list** to store only valid opening duration entries and then print out the number of elements in the array. (**5 marks**)\n",
    "3. Print the min, max, median and construct a box-plot for variable **valid_opening_duration_list**. (**7 marks**)\n",
    "\n",
    "[**Total mark: 15**]"
   ]
  },
  {
   "cell_type": "code",
   "execution_count": 16,
   "metadata": {},
   "outputs": [
    {
     "name": "stdout",
     "output_type": "stream",
     "text": [
      "The first 10 entries: [ 8.   8.5  6.5  7.5  6.5  6.5  8.5  6.5  7.5  6.5]\n"
     ]
    }
   ],
   "source": [
    "# INSERT YOUR CODE HERE\n",
    "\"\"\"\n",
    "Write your code to calculate an array called **opening_duration_list** \n",
    "    that stores the opening duration of all medicare offices.\n",
    "Store the array as a numpy array.\n",
    "Print the first 10 entries in the array. \n",
    "\"\"\"\n",
    "opening_duration_list = np.array([compute_opening_duration(opening_time, closing_time) \n",
    "                         for opening_time, closing_time in zip(data_dict['Open'], data_dict['Close'])])\n",
    "\n",
    "print('The first 10 entries:', opening_duration_list[:10])"
   ]
  },
  {
   "cell_type": "code",
   "execution_count": 17,
   "metadata": {},
   "outputs": [
    {
     "name": "stdout",
     "output_type": "stream",
     "text": [
      "Number of valid entries: 235\n"
     ]
    }
   ],
   "source": [
    "# INSERT YOUR CODE HERE \n",
    "\"\"\"\n",
    "Construct a new array called **valid_opening_duration_list** to store only valid opening duration entries and \n",
    "then print out the number of elements in the array.\n",
    "\"\"\"\n",
    "valid_ids = np.where(opening_duration_list != -1)[0]\n",
    "valid_opening_duration_list = opening_duration_list[valid_ids]\n",
    "\n",
    "print('Number of valid entries:', len(valid_opening_duration_list))"
   ]
  },
  {
   "cell_type": "code",
   "execution_count": 18,
   "metadata": {},
   "outputs": [
    {
     "name": "stdout",
     "output_type": "stream",
     "text": [
      "Min: 6.5\n",
      "Max: 9.0\n",
      "Median: 8.0\n"
     ]
    },
    {
     "data": {
      "text/plain": [
       "<matplotlib.text.Text at 0x86005c0>"
      ]
     },
     "execution_count": 18,
     "metadata": {},
     "output_type": "execute_result"
    },
    {
     "data": {
      "image/png": "[encoded data removed]",
      "text/plain": [
       "<matplotlib.figure.Figure at 0x8345a20>"
      ]
     },
     "metadata": {},
     "output_type": "display_data"
    }
   ],
   "source": [
    "# INSERT YOUR CODE HERE\n",
    "\"\"\"\n",
    "Print the min, max, median and construct a box-plot for variable **valid_opening_duration_list**\n",
    "\"\"\"\n",
    "print('Min:', np.min(valid_opening_duration_list))\n",
    "print('Max:', np.max(valid_opening_duration_list))\n",
    "print('Median:', np.median(valid_opening_duration_list))\n",
    "\n",
    "fig, ax = plt.subplots(figsize=(15, 5))\n",
    "\n",
    "ax.boxplot(valid_opening_duration_list, showmeans=True)\n",
    "ax.set_title(\"Box plot for valid_opening_duration\")\n",
    "ax.set_ylabel('Duration (hours)')"
   ]
  },
  {
   "cell_type": "markdown",
   "metadata": {},
   "source": [
    "---\n",
    "## **Instruction 5**\n",
    "Continue from the previous steps, **your tasks are:**\n",
    "\n",
    "1. Write your code to find and print all the invalid entry indices. An entry is invalid when its opening duration is invalid. (**5 marks**).\n",
    "2. Write your code to filter out all invalid entries and store your data into a new variable **data_dict_cleaned** and print out the number of data records after being cleaned. (**5 marks**)\n",
    "\n",
    "[**Total mark: 10**]"
   ]
  },
  {
   "cell_type": "code",
   "execution_count": 19,
   "metadata": {},
   "outputs": [
    {
     "name": "stdout",
     "output_type": "stream",
     "text": [
      "[ 15  35 127 220]\n"
     ]
    }
   ],
   "source": [
    "# INSERT YOUR CODE HERE\n",
    "\"\"\"\n",
    " Write your code to find and print all the invalid entry indices.\n",
    " You might want to use np.where function.\n",
    "\"\"\"\n",
    "invalid_indices = np.where(opening_duration_list == -1)[0]\n",
    "print(invalid_indices)"
   ]
  },
  {
   "cell_type": "code",
   "execution_count": 20,
   "metadata": {},
   "outputs": [
    {
     "name": "stdout",
     "output_type": "stream",
     "text": [
      "Number of data records after being cleaned: 235\n"
     ]
    }
   ],
   "source": [
    "# INSERT YOUR CODE HERE\n",
    "\"\"\"\n",
    "Write your code to filter out all invalid entries \n",
    "and store your data into a new variable data_dict_cleaned\n",
    "and print out the number of data records after being cleaned.\n",
    "\"\"\"\n",
    "valid_indices = np.where(opening_duration_list != -1)[0]\n",
    "data_dict_cleaned = {}\n",
    "for key in data_dict:\n",
    "    data_dict_cleaned[key] = data_dict[key][valid_indices]\n",
    "    \n",
    "print(\"Number of data records after being cleaned:\", len(data_dict_cleaned['No.']))"
   ]
  },
  {
   "cell_type": "markdown",
   "metadata": {
    "collapsed": true
   },
   "source": [
    "---\n",
    "## **Instruction 6**\n",
    "The following code segment is designed to examine data from **ADDRESS** column.\n",
    "\n",
    "We say that an address is **valid** if it contains the number and the name of the street, which are separated by spaces. The formats for a valid street name is **\"stNumber stName\"** or **\"stNumber1-stNumber2 stName\"**, where **stNumber**, **stNumber1** and **stNumber2** are positive numbers and **stName** is any non-empty string. For example, **20 St Kilda Road** and **100-104 Elliott Avenue** are valid addresses while **St Kilda Road** and **0 Elliott Avenue** are invalid addresses.\n",
    "\n",
    "**Your tasks**:\n",
    "\n",
    "1. Define a function called `valid_address` that takes a string `address` and returns `True` if `address` is valid and `False` otherwise. (**10 marks**)\n",
    "2. Write your code to **further** filter out all entries with invalid addresses, and store your cleaned data into the new variable named ***data_dict_cleaned2*** and print out the number of data records after being cleaned. (**5 marks**)\n",
    "\n",
    "**Note:** \n",
    "1. All street numbers if exist in an address are integers. There is at most a hyphen in an address to connect two street numbers.\n",
    "2. In reality, an address can be \"Shop 3, 10 St Kilda Road\". However, for simplicity, we only consider the valid address contains street numbers and a street name.\n",
    "\n",
    "[**Total mark: 15**]"
   ]
  },
  {
   "cell_type": "code",
   "execution_count": 21,
   "metadata": {
    "collapsed": true
   },
   "outputs": [],
   "source": [
    "# INSERT YOUR CODE HERE\n",
    "'''\n",
    "Define a function called valid_address that takes a string address and\n",
    "returns True if address is valid and False otherwise.\n",
    "'''\n",
    "def valid_address(address):\n",
    "    split_address = address.split()\n",
    "    \n",
    "    # the valid address has street numbers and a street name seperated by a space \n",
    "    # -> when split the address by spaces, the len of split_address is at least 2\n",
    "    if len(split_address) < 2: \n",
    "        return False\n",
    "    \n",
    "    split_numbers = split_address[0].split('-') # split the first element by a hyphen\n",
    "    \n",
    "    for str_number in split_numbers:\n",
    "        if str_number.isdigit(): # if the str_number is an integer number\n",
    "            number = int(str_number)\n",
    "            if number == 0: return False\n",
    "        else: return False\n",
    "    \n",
    "    return True"
   ]
  },
  {
   "cell_type": "code",
   "execution_count": 22,
   "metadata": {},
   "outputs": [
    {
     "name": "stdout",
     "output_type": "stream",
     "text": [
      "Number of data records after being cleaned: 196\n"
     ]
    }
   ],
   "source": [
    "# INSERT YOUR CODE HERE\n",
    "\"\"\"\n",
    "Write your code to further filter out all entries with invalid addresses, and store your cleaned data \n",
    "    into the new variable named data_dict_cleaned2 and print out the number of data records \n",
    "    after being cleaned.\n",
    "\"\"\"\n",
    "valid_indices = [idx for idx, address in enumerate(data_dict_cleaned['ADDRESS']) if valid_address(address)]\n",
    "\n",
    "data_dict_cleaned2 = {}\n",
    "for key in data_dict:\n",
    "    data_dict_cleaned2[key] = data_dict_cleaned[key][valid_indices]\n",
    "    \n",
    "print('Number of data records after being cleaned:', len(data_dict_cleaned2['ADDRESS']))"
   ]
  }
 ],
 "metadata": {
  "kernelspec": {
   "display_name": "Python 3",
   "language": "python",
   "name": "python3"
  },
  "language_info": {
   "codemirror_mode": {
    "name": "ipython",
    "version": 3
   },
   "file_extension": ".py",
   "mimetype": "text/x-python",
   "name": "python",
   "nbconvert_exporter": "python",
   "pygments_lexer": "ipython3",
   "version": "3.6.1"
  }
 },
 "nbformat": 4,
 "nbformat_minor": 1
}
